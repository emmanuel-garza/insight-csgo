{
 "nbformat": 4,
 "nbformat_minor": 2,
 "metadata": {
  "language_info": {
   "name": "python",
   "codemirror_mode": {
    "name": "ipython",
    "version": 3
   },
   "version": "3.7.3-final"
  },
  "orig_nbformat": 2,
  "file_extension": ".py",
  "mimetype": "text/x-python",
  "name": "python",
  "npconvert_exporter": "python",
  "pygments_lexer": "ipython3",
  "version": 3,
  "kernelspec": {
   "name": "python37364bitminiconda3virtualenvdc85e7b1c22e4672865285ebd0c72e5d",
   "display_name": "Python 3.7.3 64-bit ('miniconda3': virtualenv)"
  }
 },
 "cells": [
  {
   "cell_type": "code",
   "execution_count": 1,
   "metadata": {},
   "outputs": [],
   "source": [
    "# Modues to be used\n",
    "import pandas as pd\n",
    "import matplotlib.pyplot as plt\n",
    "import time\n",
    "import numpy as np\n",
    "import seaborn as sns\n",
    "\n",
    "# Global variables\n",
    "MASTER_CSV_PATH = '~/Desktop/csgo-csv/'"
   ]
  },
  {
   "cell_type": "code",
   "execution_count": 5,
   "metadata": {},
   "outputs": [],
   "source": [
    "## READ DATE FROM MASTER ##\n",
    "\n",
    "# Read the data from all years\n",
    "year_vec = ['2012','2013','2014','2015','2016','2017','2018','2019']\n",
    "\n",
    "# year_vec = ['2019']\n",
    "\n",
    "# Empty data frames\n",
    "df_player = pd.DataFrame( { } )\n",
    "df_team   = pd.DataFrame( { } )\n",
    "\n",
    "# Append the data from each year\n",
    "for year in year_vec:\n",
    "        \n",
    "    file_name = MASTER_CSV_PATH + year + '-player-lvl.csv'\n",
    "    df_player = df_player.append( pd.read_csv( file_name ), ignore_index=True, sort=False )\n",
    "    \n",
    "    file_name = MASTER_CSV_PATH + year + '-team-lvl.csv'\n",
    "    df_team   = df_team.append( pd.read_csv( file_name ), ignore_index=True, sort=False )"
   ]
  },
  {
   "cell_type": "code",
   "execution_count": 23,
   "metadata": {},
   "outputs": [
    {
     "data": {
      "text/html": "<div>\n<style scoped>\n    .dataframe tbody tr th:only-of-type {\n        vertical-align: middle;\n    }\n\n    .dataframe tbody tr th {\n        vertical-align: top;\n    }\n\n    .dataframe thead th {\n        text-align: right;\n    }\n</style>\n<table border=\"1\" class=\"dataframe\">\n  <thead>\n    <tr style=\"text-align: right;\">\n      <th></th>\n      <th>map_id</th>\n      <th>map</th>\n      <th>date_unix</th>\n      <th>date_human_utc</th>\n      <th>event_id</th>\n      <th>event_name</th>\n      <th>team_id</th>\n      <th>team_name</th>\n      <th>team_score</th>\n      <th>team_kills</th>\n      <th>team_deaths</th>\n      <th>team_assists</th>\n    </tr>\n  </thead>\n  <tbody>\n    <tr>\n      <th>147694</th>\n      <td>97594</td>\n      <td>inf</td>\n      <td>1578618000000</td>\n      <td>2020-01-10 01:00:00</td>\n      <td>5164</td>\n      <td>Aorus League 2019 #4 Northern Cone</td>\n      <td>10578</td>\n      <td>Infamous</td>\n      <td>12</td>\n      <td>93.0</td>\n      <td>100.0</td>\n      <td>17.0</td>\n    </tr>\n    <tr>\n      <th>132248</th>\n      <td>97594</td>\n      <td>inf</td>\n      <td>1578618000000</td>\n      <td>2020-01-10 01:00:00</td>\n      <td>5164</td>\n      <td>Aorus League 2019 #4 Northern Cone</td>\n      <td>10330</td>\n      <td>Supremacy</td>\n      <td>16</td>\n      <td>99.0</td>\n      <td>93.0</td>\n      <td>16.0</td>\n    </tr>\n    <tr>\n      <th>147692</th>\n      <td>97592</td>\n      <td>nuke</td>\n      <td>1578618000000</td>\n      <td>2020-01-10 01:00:00</td>\n      <td>5164</td>\n      <td>Aorus League 2019 #4 Northern Cone</td>\n      <td>10578</td>\n      <td>Infamous</td>\n      <td>8</td>\n      <td>69.0</td>\n      <td>98.0</td>\n      <td>13.0</td>\n    </tr>\n    <tr>\n      <th>132246</th>\n      <td>97592</td>\n      <td>nuke</td>\n      <td>1578618000000</td>\n      <td>2020-01-10 01:00:00</td>\n      <td>5164</td>\n      <td>Aorus League 2019 #4 Northern Cone</td>\n      <td>10330</td>\n      <td>Supremacy</td>\n      <td>16</td>\n      <td>98.0</td>\n      <td>69.0</td>\n      <td>17.0</td>\n    </tr>\n    <tr>\n      <th>147695</th>\n      <td>97595</td>\n      <td>inf</td>\n      <td>1578616500000</td>\n      <td>2020-01-10 00:35:00</td>\n      <td>5104</td>\n      <td>IEM Katowice 2020 North America Closed Qualifier</td>\n      <td>9215</td>\n      <td>MIBR</td>\n      <td>12</td>\n      <td>90.0</td>\n      <td>100.0</td>\n      <td>16.0</td>\n    </tr>\n  </tbody>\n</table>\n</div>",
      "text/plain": "        map_id   map      date_unix       date_human_utc  event_id  \\\n147694   97594   inf  1578618000000  2020-01-10 01:00:00      5164   \n132248   97594   inf  1578618000000  2020-01-10 01:00:00      5164   \n147692   97592  nuke  1578618000000  2020-01-10 01:00:00      5164   \n132246   97592  nuke  1578618000000  2020-01-10 01:00:00      5164   \n147695   97595   inf  1578616500000  2020-01-10 00:35:00      5104   \n\n                                              event_name  team_id  team_name  \\\n147694                Aorus League 2019 #4 Northern Cone    10578   Infamous   \n132248                Aorus League 2019 #4 Northern Cone    10330  Supremacy   \n147692                Aorus League 2019 #4 Northern Cone    10578   Infamous   \n132246                Aorus League 2019 #4 Northern Cone    10330  Supremacy   \n147695  IEM Katowice 2020 North America Closed Qualifier     9215       MIBR   \n\n        team_score  team_kills  team_deaths  team_assists  \n147694          12        93.0        100.0          17.0  \n132248          16        99.0         93.0          16.0  \n147692           8        69.0         98.0          13.0  \n132246          16        98.0         69.0          17.0  \n147695          12        90.0        100.0          16.0  "
     },
     "execution_count": 23,
     "metadata": {},
     "output_type": "execute_result"
    }
   ],
   "source": [
    "len( df_team.event_id.unique() )\n",
    "# df_team.event_id.unique()\n",
    "\n",
    "df_team_sorted = df_team.sort_values( by='date_unix', ascending=False)\n",
    "\n",
    "df_team_sorted.head()"
   ]
  },
  {
   "cell_type": "code",
   "execution_count": 25,
   "metadata": {},
   "outputs": [
    {
     "name": "stdout",
     "output_type": "stream",
     "text": "[5164 5104 5110 ...  973  966  965]\n"
    }
   ],
   "source": [
    "len( df_team.map_id.unique() )\n",
    "event_id_vec = df_team_sorted.event_id.unique()\n",
    "\n",
    "print(event_id_vec)\n",
    "\n",
    "np.savetxt('event_ids.txt',event_id_vec,fmt='%i')"
   ]
  }
 ]
}