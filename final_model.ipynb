{
 "nbformat": 4,
 "nbformat_minor": 2,
 "metadata": {
  "language_info": {
   "name": "python",
   "codemirror_mode": {
    "name": "ipython",
    "version": 3
   },
   "version": "3.7.4-final"
  },
  "orig_nbformat": 2,
  "file_extension": ".py",
  "mimetype": "text/x-python",
  "name": "python",
  "npconvert_exporter": "python",
  "pygments_lexer": "ipython3",
  "version": 3,
  "kernelspec": {
   "name": "python37464bitbasecondaeb9f0636332d422a9bbe6ab294d7e162",
   "display_name": "Python 3.7.4 64-bit ('base': conda)"
  }
 },
 "cells": [
  {
   "cell_type": "markdown",
   "execution_count": null,
   "metadata": {},
   "outputs": [],
   "source": [
    "# This notebook contains the final model used for the web app\n",
    "* The model uses a Random Forest Classifier"
   ]
  },
  {
   "cell_type": "code",
   "execution_count": 8,
   "metadata": {},
   "outputs": [],
   "source": [
    "# Modues to be used\n",
    "import pickle\n",
    "import json\n",
    "import csgo\n",
    "import numpy as np\n",
    "import pandas as pd\n",
    "from datetime import datetime"
   ]
  },
  {
   "cell_type": "code",
   "execution_count": 9,
   "metadata": {},
   "outputs": [],
   "source": [
    "# Load the original data\n",
    "dict_player, df_map, dict_map = csgo.load_data()"
   ]
  },
  {
   "cell_type": "code",
   "execution_count": 4,
   "metadata": {},
   "outputs": [
    {
     "data": {
      "text/html": "<div>\n<style scoped>\n    .dataframe tbody tr th:only-of-type {\n        vertical-align: middle;\n    }\n\n    .dataframe tbody tr th {\n        vertical-align: top;\n    }\n\n    .dataframe thead th {\n        text-align: right;\n    }\n</style>\n<table border=\"1\" class=\"dataframe\">\n  <thead>\n    <tr style=\"text-align: right;\">\n      <th></th>\n      <th>map_id</th>\n      <th>map</th>\n      <th>date</th>\n      <th>event_id</th>\n      <th>event_name</th>\n      <th>team_id_1</th>\n      <th>team_name_1</th>\n      <th>team_score_1</th>\n      <th>team_kills_1</th>\n      <th>team_deaths_1</th>\n      <th>team_assists_1</th>\n      <th>team_rank_1</th>\n      <th>team_id_2</th>\n      <th>team_name_2</th>\n      <th>team_score_2</th>\n      <th>team_kills_2</th>\n      <th>team_deaths_2</th>\n      <th>team_assists_2</th>\n      <th>team_rank_2</th>\n      <th>winner</th>\n    </tr>\n  </thead>\n  <tbody>\n    <tr>\n      <th>97594</th>\n      <td>97594</td>\n      <td>inf</td>\n      <td>2020-01-10 01:00:00</td>\n      <td>5164</td>\n      <td>Aorus League 2019 #4 Northern Cone</td>\n      <td>10330</td>\n      <td>Supremacy</td>\n      <td>16</td>\n      <td>99.0</td>\n      <td>93.0</td>\n      <td>16.0</td>\n      <td>420</td>\n      <td>10578</td>\n      <td>Infamous</td>\n      <td>12</td>\n      <td>93.0</td>\n      <td>100.0</td>\n      <td>17.0</td>\n      <td>420</td>\n      <td>1</td>\n    </tr>\n    <tr>\n      <th>97592</th>\n      <td>97592</td>\n      <td>nuke</td>\n      <td>2020-01-10 01:00:00</td>\n      <td>5164</td>\n      <td>Aorus League 2019 #4 Northern Cone</td>\n      <td>10330</td>\n      <td>Supremacy</td>\n      <td>16</td>\n      <td>98.0</td>\n      <td>69.0</td>\n      <td>17.0</td>\n      <td>420</td>\n      <td>10578</td>\n      <td>Infamous</td>\n      <td>8</td>\n      <td>69.0</td>\n      <td>98.0</td>\n      <td>13.0</td>\n      <td>420</td>\n      <td>1</td>\n    </tr>\n    <tr>\n      <th>97595</th>\n      <td>97595</td>\n      <td>inf</td>\n      <td>2020-01-10 00:35:00</td>\n      <td>5104</td>\n      <td>IEM Katowice 2020 North America Closed Qualifier</td>\n      <td>5752</td>\n      <td>Cloud9</td>\n      <td>16</td>\n      <td>100.0</td>\n      <td>91.0</td>\n      <td>14.0</td>\n      <td>18</td>\n      <td>9215</td>\n      <td>MIBR</td>\n      <td>12</td>\n      <td>90.0</td>\n      <td>100.0</td>\n      <td>16.0</td>\n      <td>14</td>\n      <td>1</td>\n    </tr>\n    <tr>\n      <th>97593</th>\n      <td>97593</td>\n      <td>ovp</td>\n      <td>2020-01-10 00:35:00</td>\n      <td>5104</td>\n      <td>IEM Katowice 2020 North America Closed Qualifier</td>\n      <td>5752</td>\n      <td>Cloud9</td>\n      <td>16</td>\n      <td>77.0</td>\n      <td>46.0</td>\n      <td>11.0</td>\n      <td>18</td>\n      <td>9215</td>\n      <td>MIBR</td>\n      <td>4</td>\n      <td>46.0</td>\n      <td>77.0</td>\n      <td>10.0</td>\n      <td>14</td>\n      <td>1</td>\n    </tr>\n    <tr>\n      <th>97591</th>\n      <td>97591</td>\n      <td>trn</td>\n      <td>2020-01-10 00:35:00</td>\n      <td>5104</td>\n      <td>IEM Katowice 2020 North America Closed Qualifier</td>\n      <td>5752</td>\n      <td>Cloud9</td>\n      <td>13</td>\n      <td>90.0</td>\n      <td>105.0</td>\n      <td>12.0</td>\n      <td>18</td>\n      <td>9215</td>\n      <td>MIBR</td>\n      <td>16</td>\n      <td>105.0</td>\n      <td>90.0</td>\n      <td>20.0</td>\n      <td>14</td>\n      <td>2</td>\n    </tr>\n  </tbody>\n</table>\n</div>",
      "text/plain": "       map_id   map                date  event_id  \\\n97594   97594   inf 2020-01-10 01:00:00      5164   \n97592   97592  nuke 2020-01-10 01:00:00      5164   \n97595   97595   inf 2020-01-10 00:35:00      5104   \n97593   97593   ovp 2020-01-10 00:35:00      5104   \n97591   97591   trn 2020-01-10 00:35:00      5104   \n\n                                             event_name  team_id_1  \\\n97594                Aorus League 2019 #4 Northern Cone      10330   \n97592                Aorus League 2019 #4 Northern Cone      10330   \n97595  IEM Katowice 2020 North America Closed Qualifier       5752   \n97593  IEM Katowice 2020 North America Closed Qualifier       5752   \n97591  IEM Katowice 2020 North America Closed Qualifier       5752   \n\n      team_name_1  team_score_1  team_kills_1  team_deaths_1  team_assists_1  \\\n97594   Supremacy            16          99.0           93.0            16.0   \n97592   Supremacy            16          98.0           69.0            17.0   \n97595      Cloud9            16         100.0           91.0            14.0   \n97593      Cloud9            16          77.0           46.0            11.0   \n97591      Cloud9            13          90.0          105.0            12.0   \n\n       team_rank_1  team_id_2 team_name_2  team_score_2  team_kills_2  \\\n97594          420      10578    Infamous            12          93.0   \n97592          420      10578    Infamous             8          69.0   \n97595           18       9215        MIBR            12          90.0   \n97593           18       9215        MIBR             4          46.0   \n97591           18       9215        MIBR            16         105.0   \n\n       team_deaths_2  team_assists_2  team_rank_2  winner  \n97594          100.0            17.0          420       1  \n97592           98.0            13.0          420       1  \n97595          100.0            16.0           14       1  \n97593           77.0            10.0           14       1  \n97591           90.0            20.0           14       2  "
     },
     "execution_count": 4,
     "metadata": {},
     "output_type": "execute_result"
    }
   ],
   "source": [
    "df_map.sort_values(['date'],ascending=False).head()"
   ]
  },
  {
   "cell_type": "code",
   "execution_count": 25,
   "metadata": {},
   "outputs": [
    {
     "name": "stdout",
     "output_type": "stream",
     "text": "Total number of matches = 29013\nConverting data to DataFrame\nTotal time to create training set = 0:00:11.221244\n"
    }
   ],
   "source": [
    "import importlib\n",
    "importlib.reload(csgo)\n",
    "\n",
    "N_MAPS = 50\n",
    "DAYS_WEIGHT = 90\n",
    "MAX_RANK = 150\n",
    "\n",
    "START_DATE = datetime(2016,6,6)\n",
    "df_ct_start = csgo.create_pre_train_set( dict_player, df_map, dict_map, DAYS_WEIGHT, MAX_RANK, START_DATE, N_MAPS )\n"
   ]
  },
  {
   "cell_type": "code",
   "execution_count": 764,
   "metadata": {},
   "outputs": [],
   "source": [
    "# filename = 'final_train_df.sav'\n",
    "# pickle.dump( df_ct_start, open(filename,'wb') )"
   ]
  },
  {
   "cell_type": "code",
   "execution_count": 385,
   "metadata": {},
   "outputs": [
    {
     "data": {
      "text/html": "<div>\n<style scoped>\n    .dataframe tbody tr th:only-of-type {\n        vertical-align: middle;\n    }\n\n    .dataframe tbody tr th {\n        vertical-align: top;\n    }\n\n    .dataframe thead th {\n        text-align: right;\n    }\n</style>\n<table border=\"1\" class=\"dataframe\">\n  <thead>\n    <tr style=\"text-align: right;\">\n      <th></th>\n      <th>t1_win</th>\n      <th>fav_win</th>\n      <th>fav_ind</th>\n      <th>map</th>\n      <th>score_dif</th>\n      <th>t1_rank</th>\n      <th>t2_rank</th>\n      <th>t_0_p_0_prize_rating</th>\n      <th>t_0_p_1_prize_rating</th>\n      <th>t_0_p_2_prize_rating</th>\n      <th>...</th>\n      <th>t_1_p_0_scaled_score_dif</th>\n      <th>t_1_p_1_scaled_score_dif</th>\n      <th>t_1_p_2_scaled_score_dif</th>\n      <th>t_1_p_3_scaled_score_dif</th>\n      <th>t_1_p_4_scaled_score_dif</th>\n      <th>t_1_p_0_scaled_kd</th>\n      <th>t_1_p_1_scaled_kd</th>\n      <th>t_1_p_2_scaled_kd</th>\n      <th>t_1_p_3_scaled_kd</th>\n      <th>t_1_p_4_scaled_kd</th>\n    </tr>\n  </thead>\n  <tbody>\n    <tr>\n      <th>92838</th>\n      <td>0</td>\n      <td>1</td>\n      <td>2</td>\n      <td>mrg</td>\n      <td>-6</td>\n      <td>19</td>\n      <td>8</td>\n      <td>0.854439</td>\n      <td>0.852957</td>\n      <td>0.834175</td>\n      <td>...</td>\n      <td>-0.104174</td>\n      <td>-0.104174</td>\n      <td>-0.104174</td>\n      <td>-0.104174</td>\n      <td>-0.104174</td>\n      <td>0.004472</td>\n      <td>0.001304</td>\n      <td>-0.002880</td>\n      <td>-0.007629</td>\n      <td>-0.010502</td>\n    </tr>\n    <tr>\n      <th>92845</th>\n      <td>0</td>\n      <td>0</td>\n      <td>1</td>\n      <td>nuke</td>\n      <td>-6</td>\n      <td>1</td>\n      <td>28</td>\n      <td>1.032929</td>\n      <td>1.032929</td>\n      <td>1.032929</td>\n      <td>...</td>\n      <td>0.026481</td>\n      <td>-0.162239</td>\n      <td>-0.162239</td>\n      <td>-0.162239</td>\n      <td>-0.162239</td>\n      <td>0.005567</td>\n      <td>0.001263</td>\n      <td>-0.005819</td>\n      <td>-0.005870</td>\n      <td>-0.016589</td>\n    </tr>\n    <tr>\n      <th>92846</th>\n      <td>1</td>\n      <td>1</td>\n      <td>1</td>\n      <td>nuke</td>\n      <td>3</td>\n      <td>8</td>\n      <td>19</td>\n      <td>0.930477</td>\n      <td>0.898823</td>\n      <td>0.898823</td>\n      <td>...</td>\n      <td>-0.573629</td>\n      <td>-0.586402</td>\n      <td>-0.608132</td>\n      <td>-0.608132</td>\n      <td>-0.608132</td>\n      <td>0.001080</td>\n      <td>-0.022336</td>\n      <td>-0.027359</td>\n      <td>-0.028091</td>\n      <td>-0.028422</td>\n    </tr>\n    <tr>\n      <th>92855</th>\n      <td>1</td>\n      <td>1</td>\n      <td>1</td>\n      <td>d2</td>\n      <td>10</td>\n      <td>25</td>\n      <td>35</td>\n      <td>0.810288</td>\n      <td>0.810288</td>\n      <td>0.810288</td>\n      <td>...</td>\n      <td>0.009982</td>\n      <td>0.009182</td>\n      <td>0.008159</td>\n      <td>0.008159</td>\n      <td>0.008159</td>\n      <td>0.002185</td>\n      <td>0.000116</td>\n      <td>-0.000172</td>\n      <td>-0.000673</td>\n      <td>-0.001232</td>\n    </tr>\n    <tr>\n      <th>92856</th>\n      <td>0</td>\n      <td>1</td>\n      <td>2</td>\n      <td>vertigo</td>\n      <td>-11</td>\n      <td>5</td>\n      <td>2</td>\n      <td>0.962391</td>\n      <td>0.960731</td>\n      <td>0.960731</td>\n      <td>...</td>\n      <td>0.236011</td>\n      <td>0.236011</td>\n      <td>0.236011</td>\n      <td>0.236011</td>\n      <td>0.236011</td>\n      <td>0.024258</td>\n      <td>0.014221</td>\n      <td>0.004867</td>\n      <td>-0.001036</td>\n      <td>-0.017150</td>\n    </tr>\n    <tr>\n      <th>92860</th>\n      <td>1</td>\n      <td>0</td>\n      <td>2</td>\n      <td>ovp</td>\n      <td>2</td>\n      <td>23</td>\n      <td>13</td>\n      <td>0.910906</td>\n      <td>0.910906</td>\n      <td>0.910906</td>\n      <td>...</td>\n      <td>0.226649</td>\n      <td>0.226649</td>\n      <td>0.226649</td>\n      <td>0.226649</td>\n      <td>-0.174910</td>\n      <td>0.017286</td>\n      <td>0.015257</td>\n      <td>0.001157</td>\n      <td>0.000660</td>\n      <td>-0.003709</td>\n    </tr>\n    <tr>\n      <th>92868</th>\n      <td>1</td>\n      <td>1</td>\n      <td>1</td>\n      <td>d2</td>\n      <td>2</td>\n      <td>2</td>\n      <td>5</td>\n      <td>1.063768</td>\n      <td>1.063768</td>\n      <td>1.063768</td>\n      <td>...</td>\n      <td>-0.160592</td>\n      <td>-0.747932</td>\n      <td>-0.747932</td>\n      <td>-0.747932</td>\n      <td>-0.747932</td>\n      <td>0.017874</td>\n      <td>0.011226</td>\n      <td>-0.021122</td>\n      <td>-0.045754</td>\n      <td>-0.049187</td>\n    </tr>\n    <tr>\n      <th>92873</th>\n      <td>0</td>\n      <td>0</td>\n      <td>1</td>\n      <td>trn</td>\n      <td>-2</td>\n      <td>30</td>\n      <td>49</td>\n      <td>0.894170</td>\n      <td>0.813129</td>\n      <td>0.774684</td>\n      <td>...</td>\n      <td>0.027949</td>\n      <td>0.027949</td>\n      <td>0.026007</td>\n      <td>0.026007</td>\n      <td>-0.040171</td>\n      <td>0.002331</td>\n      <td>0.000786</td>\n      <td>0.000098</td>\n      <td>-0.002182</td>\n      <td>-0.003897</td>\n    </tr>\n    <tr>\n      <th>92875</th>\n      <td>0</td>\n      <td>0</td>\n      <td>1</td>\n      <td>inf</td>\n      <td>-11</td>\n      <td>13</td>\n      <td>23</td>\n      <td>0.925763</td>\n      <td>0.924979</td>\n      <td>0.924979</td>\n      <td>...</td>\n      <td>0.062518</td>\n      <td>0.062518</td>\n      <td>0.062518</td>\n      <td>-0.057540</td>\n      <td>-0.287111</td>\n      <td>0.009369</td>\n      <td>0.007487</td>\n      <td>-0.002798</td>\n      <td>-0.003668</td>\n      <td>-0.021964</td>\n    </tr>\n    <tr>\n      <th>92878</th>\n      <td>0</td>\n      <td>1</td>\n      <td>2</td>\n      <td>ovp</td>\n      <td>-8</td>\n      <td>17</td>\n      <td>10</td>\n      <td>0.921959</td>\n      <td>0.921959</td>\n      <td>0.921959</td>\n      <td>...</td>\n      <td>-0.376298</td>\n      <td>-0.376298</td>\n      <td>-0.376298</td>\n      <td>-0.376298</td>\n      <td>-1.467185</td>\n      <td>0.015798</td>\n      <td>0.013924</td>\n      <td>0.002607</td>\n      <td>-0.004257</td>\n      <td>-0.041581</td>\n    </tr>\n    <tr>\n      <th>92880</th>\n      <td>0</td>\n      <td>1</td>\n      <td>2</td>\n      <td>inf</td>\n      <td>-6</td>\n      <td>49</td>\n      <td>30</td>\n      <td>0.965904</td>\n      <td>0.964151</td>\n      <td>0.793351</td>\n      <td>...</td>\n      <td>0.008224</td>\n      <td>-0.012128</td>\n      <td>-0.044622</td>\n      <td>-0.044818</td>\n      <td>-0.044818</td>\n      <td>0.002289</td>\n      <td>0.000578</td>\n      <td>0.000152</td>\n      <td>-0.001813</td>\n      <td>-0.003450</td>\n    </tr>\n    <tr>\n      <th>92881</th>\n      <td>0</td>\n      <td>1</td>\n      <td>2</td>\n      <td>d2</td>\n      <td>-14</td>\n      <td>28</td>\n      <td>8</td>\n      <td>0.810495</td>\n      <td>0.810495</td>\n      <td>0.810495</td>\n      <td>...</td>\n      <td>-0.110326</td>\n      <td>-0.110326</td>\n      <td>-0.110326</td>\n      <td>-0.110326</td>\n      <td>-0.110326</td>\n      <td>0.003818</td>\n      <td>0.000995</td>\n      <td>-0.002446</td>\n      <td>-0.007852</td>\n      <td>-0.009963</td>\n    </tr>\n    <tr>\n      <th>92883</th>\n      <td>1</td>\n      <td>1</td>\n      <td>1</td>\n      <td>inf</td>\n      <td>3</td>\n      <td>10</td>\n      <td>17</td>\n      <td>0.974488</td>\n      <td>0.973790</td>\n      <td>0.973790</td>\n      <td>...</td>\n      <td>0.254121</td>\n      <td>0.005015</td>\n      <td>-0.073845</td>\n      <td>-0.073845</td>\n      <td>-0.073845</td>\n      <td>0.012696</td>\n      <td>0.004571</td>\n      <td>0.001422</td>\n      <td>-0.000607</td>\n      <td>-0.006693</td>\n    </tr>\n    <tr>\n      <th>92884</th>\n      <td>0</td>\n      <td>0</td>\n      <td>1</td>\n      <td>trn</td>\n      <td>-2</td>\n      <td>24</td>\n      <td>35</td>\n      <td>0.811009</td>\n      <td>0.788964</td>\n      <td>0.788344</td>\n      <td>...</td>\n      <td>0.001799</td>\n      <td>0.001107</td>\n      <td>0.000282</td>\n      <td>0.000282</td>\n      <td>0.000282</td>\n      <td>0.002005</td>\n      <td>-0.000053</td>\n      <td>-0.000413</td>\n      <td>-0.000917</td>\n      <td>-0.001395</td>\n    </tr>\n    <tr>\n      <th>92885</th>\n      <td>0</td>\n      <td>0</td>\n      <td>1</td>\n      <td>d2</td>\n      <td>-4</td>\n      <td>30</td>\n      <td>49</td>\n      <td>0.894170</td>\n      <td>0.813129</td>\n      <td>0.774684</td>\n      <td>...</td>\n      <td>0.027949</td>\n      <td>0.027949</td>\n      <td>0.026007</td>\n      <td>0.026007</td>\n      <td>-0.040171</td>\n      <td>0.002331</td>\n      <td>0.000786</td>\n      <td>0.000098</td>\n      <td>-0.002182</td>\n      <td>-0.003897</td>\n    </tr>\n    <tr>\n      <th>92887</th>\n      <td>0</td>\n      <td>0</td>\n      <td>1</td>\n      <td>inf</td>\n      <td>-5</td>\n      <td>8</td>\n      <td>28</td>\n      <td>0.930477</td>\n      <td>0.898823</td>\n      <td>0.898823</td>\n      <td>...</td>\n      <td>0.099574</td>\n      <td>-0.098644</td>\n      <td>-0.098644</td>\n      <td>-0.098644</td>\n      <td>-0.098644</td>\n      <td>0.009913</td>\n      <td>0.004549</td>\n      <td>-0.000354</td>\n      <td>-0.008737</td>\n      <td>-0.016101</td>\n    </tr>\n    <tr>\n      <th>92888</th>\n      <td>0</td>\n      <td>0</td>\n      <td>1</td>\n      <td>d2</td>\n      <td>-2</td>\n      <td>19</td>\n      <td>21</td>\n      <td>0.920716</td>\n      <td>0.841084</td>\n      <td>0.831741</td>\n      <td>...</td>\n      <td>0.051476</td>\n      <td>0.005999</td>\n      <td>-0.002113</td>\n      <td>-0.070051</td>\n      <td>-0.070051</td>\n      <td>0.009136</td>\n      <td>0.001202</td>\n      <td>0.000671</td>\n      <td>-0.000732</td>\n      <td>-0.012684</td>\n    </tr>\n    <tr>\n      <th>92889</th>\n      <td>0</td>\n      <td>1</td>\n      <td>2</td>\n      <td>mrg</td>\n      <td>-11</td>\n      <td>28</td>\n      <td>8</td>\n      <td>0.810495</td>\n      <td>0.810495</td>\n      <td>0.810495</td>\n      <td>...</td>\n      <td>-0.110326</td>\n      <td>-0.110326</td>\n      <td>-0.110326</td>\n      <td>-0.110326</td>\n      <td>-0.110326</td>\n      <td>0.003818</td>\n      <td>0.000995</td>\n      <td>-0.002446</td>\n      <td>-0.007852</td>\n      <td>-0.009963</td>\n    </tr>\n    <tr>\n      <th>92892</th>\n      <td>0</td>\n      <td>0</td>\n      <td>1</td>\n      <td>mrg</td>\n      <td>-2</td>\n      <td>19</td>\n      <td>21</td>\n      <td>0.920716</td>\n      <td>0.841084</td>\n      <td>0.831741</td>\n      <td>...</td>\n      <td>0.051476</td>\n      <td>0.005999</td>\n      <td>-0.002113</td>\n      <td>-0.070051</td>\n      <td>-0.070051</td>\n      <td>0.009136</td>\n      <td>0.001202</td>\n      <td>0.000671</td>\n      <td>-0.000732</td>\n      <td>-0.012684</td>\n    </tr>\n    <tr>\n      <th>92899</th>\n      <td>0</td>\n      <td>0</td>\n      <td>1</td>\n      <td>trn</td>\n      <td>-4</td>\n      <td>26</td>\n      <td>37</td>\n      <td>0.751052</td>\n      <td>0.751052</td>\n      <td>0.751052</td>\n      <td>...</td>\n      <td>0.012881</td>\n      <td>0.012142</td>\n      <td>0.012142</td>\n      <td>-0.056612</td>\n      <td>-0.511936</td>\n      <td>0.003121</td>\n      <td>0.000714</td>\n      <td>0.000556</td>\n      <td>-0.000020</td>\n      <td>-0.016166</td>\n    </tr>\n  </tbody>\n</table>\n<p>20 rows × 197 columns</p>\n</div>",
      "text/plain": "       t1_win  fav_win  fav_ind      map  score_dif  t1_rank  t2_rank  \\\n92838       0        1        2      mrg         -6       19        8   \n92845       0        0        1     nuke         -6        1       28   \n92846       1        1        1     nuke          3        8       19   \n92855       1        1        1       d2         10       25       35   \n92856       0        1        2  vertigo        -11        5        2   \n92860       1        0        2      ovp          2       23       13   \n92868       1        1        1       d2          2        2        5   \n92873       0        0        1      trn         -2       30       49   \n92875       0        0        1      inf        -11       13       23   \n92878       0        1        2      ovp         -8       17       10   \n92880       0        1        2      inf         -6       49       30   \n92881       0        1        2       d2        -14       28        8   \n92883       1        1        1      inf          3       10       17   \n92884       0        0        1      trn         -2       24       35   \n92885       0        0        1       d2         -4       30       49   \n92887       0        0        1      inf         -5        8       28   \n92888       0        0        1       d2         -2       19       21   \n92889       0        1        2      mrg        -11       28        8   \n92892       0        0        1      mrg         -2       19       21   \n92899       0        0        1      trn         -4       26       37   \n\n       t_0_p_0_prize_rating  t_0_p_1_prize_rating  t_0_p_2_prize_rating  ...  \\\n92838              0.854439              0.852957              0.834175  ...   \n92845              1.032929              1.032929              1.032929  ...   \n92846              0.930477              0.898823              0.898823  ...   \n92855              0.810288              0.810288              0.810288  ...   \n92856              0.962391              0.960731              0.960731  ...   \n92860              0.910906              0.910906              0.910906  ...   \n92868              1.063768              1.063768              1.063768  ...   \n92873              0.894170              0.813129              0.774684  ...   \n92875              0.925763              0.924979              0.924979  ...   \n92878              0.921959              0.921959              0.921959  ...   \n92880              0.965904              0.964151              0.793351  ...   \n92881              0.810495              0.810495              0.810495  ...   \n92883              0.974488              0.973790              0.973790  ...   \n92884              0.811009              0.788964              0.788344  ...   \n92885              0.894170              0.813129              0.774684  ...   \n92887              0.930477              0.898823              0.898823  ...   \n92888              0.920716              0.841084              0.831741  ...   \n92889              0.810495              0.810495              0.810495  ...   \n92892              0.920716              0.841084              0.831741  ...   \n92899              0.751052              0.751052              0.751052  ...   \n\n       t_1_p_0_scaled_score_dif  t_1_p_1_scaled_score_dif  \\\n92838                 -0.104174                 -0.104174   \n92845                  0.026481                 -0.162239   \n92846                 -0.573629                 -0.586402   \n92855                  0.009982                  0.009182   \n92856                  0.236011                  0.236011   \n92860                  0.226649                  0.226649   \n92868                 -0.160592                 -0.747932   \n92873                  0.027949                  0.027949   \n92875                  0.062518                  0.062518   \n92878                 -0.376298                 -0.376298   \n92880                  0.008224                 -0.012128   \n92881                 -0.110326                 -0.110326   \n92883                  0.254121                  0.005015   \n92884                  0.001799                  0.001107   \n92885                  0.027949                  0.027949   \n92887                  0.099574                 -0.098644   \n92888                  0.051476                  0.005999   \n92889                 -0.110326                 -0.110326   \n92892                  0.051476                  0.005999   \n92899                  0.012881                  0.012142   \n\n       t_1_p_2_scaled_score_dif  t_1_p_3_scaled_score_dif  \\\n92838                 -0.104174                 -0.104174   \n92845                 -0.162239                 -0.162239   \n92846                 -0.608132                 -0.608132   \n92855                  0.008159                  0.008159   \n92856                  0.236011                  0.236011   \n92860                  0.226649                  0.226649   \n92868                 -0.747932                 -0.747932   \n92873                  0.026007                  0.026007   \n92875                  0.062518                 -0.057540   \n92878                 -0.376298                 -0.376298   \n92880                 -0.044622                 -0.044818   \n92881                 -0.110326                 -0.110326   \n92883                 -0.073845                 -0.073845   \n92884                  0.000282                  0.000282   \n92885                  0.026007                  0.026007   \n92887                 -0.098644                 -0.098644   \n92888                 -0.002113                 -0.070051   \n92889                 -0.110326                 -0.110326   \n92892                 -0.002113                 -0.070051   \n92899                  0.012142                 -0.056612   \n\n       t_1_p_4_scaled_score_dif  t_1_p_0_scaled_kd  t_1_p_1_scaled_kd  \\\n92838                 -0.104174           0.004472           0.001304   \n92845                 -0.162239           0.005567           0.001263   \n92846                 -0.608132           0.001080          -0.022336   \n92855                  0.008159           0.002185           0.000116   \n92856                  0.236011           0.024258           0.014221   \n92860                 -0.174910           0.017286           0.015257   \n92868                 -0.747932           0.017874           0.011226   \n92873                 -0.040171           0.002331           0.000786   \n92875                 -0.287111           0.009369           0.007487   \n92878                 -1.467185           0.015798           0.013924   \n92880                 -0.044818           0.002289           0.000578   \n92881                 -0.110326           0.003818           0.000995   \n92883                 -0.073845           0.012696           0.004571   \n92884                  0.000282           0.002005          -0.000053   \n92885                 -0.040171           0.002331           0.000786   \n92887                 -0.098644           0.009913           0.004549   \n92888                 -0.070051           0.009136           0.001202   \n92889                 -0.110326           0.003818           0.000995   \n92892                 -0.070051           0.009136           0.001202   \n92899                 -0.511936           0.003121           0.000714   \n\n       t_1_p_2_scaled_kd  t_1_p_3_scaled_kd  t_1_p_4_scaled_kd  \n92838          -0.002880          -0.007629          -0.010502  \n92845          -0.005819          -0.005870          -0.016589  \n92846          -0.027359          -0.028091          -0.028422  \n92855          -0.000172          -0.000673          -0.001232  \n92856           0.004867          -0.001036          -0.017150  \n92860           0.001157           0.000660          -0.003709  \n92868          -0.021122          -0.045754          -0.049187  \n92873           0.000098          -0.002182          -0.003897  \n92875          -0.002798          -0.003668          -0.021964  \n92878           0.002607          -0.004257          -0.041581  \n92880           0.000152          -0.001813          -0.003450  \n92881          -0.002446          -0.007852          -0.009963  \n92883           0.001422          -0.000607          -0.006693  \n92884          -0.000413          -0.000917          -0.001395  \n92885           0.000098          -0.002182          -0.003897  \n92887          -0.000354          -0.008737          -0.016101  \n92888           0.000671          -0.000732          -0.012684  \n92889          -0.002446          -0.007852          -0.009963  \n92892           0.000671          -0.000732          -0.012684  \n92899           0.000556          -0.000020          -0.016166  \n\n[20 rows x 197 columns]"
     },
     "execution_count": 385,
     "metadata": {},
     "output_type": "execute_result"
    }
   ],
   "source": [
    "df_all_feat = pd.DataFrame.from_dict(map_training_dict,orient='index')\n",
    "\n",
    "df_all_feat = df_all_feat.fillna(0)\n",
    "\n",
    "# filename = 'df_all_feat_40000.sav'\n",
    "# pickle.dump( df_all_feat, open(filename,'wb') )\n",
    "\n",
    "df_all_feat.head(n=20)"
   ]
  },
  {
   "cell_type": "code",
   "execution_count": 20,
   "metadata": {},
   "outputs": [
    {
     "ename": "SyntaxError",
     "evalue": "invalid syntax (<ipython-input-20-b550ef1f9b0f>, line 40)",
     "output_type": "error",
     "traceback": [
      "\u001b[0;36m  File \u001b[0;32m\"<ipython-input-20-b550ef1f9b0f>\"\u001b[0;36m, line \u001b[0;32m40\u001b[0m\n\u001b[0;31m    dict_normalization[feat]['mean'] = np.mean(datetime(2016,6,6vec_both)\u001b[0m\n\u001b[0m                                                                       ^\u001b[0m\n\u001b[0;31mSyntaxError\u001b[0m\u001b[0;31m:\u001b[0m invalid syntax\n"
     ]
    }
   ],
   "source": [
    "# Here we do some feature engineering\n",
    "df_all_feat = pd.DataFrame.from_dict(map_training_dict,orient='index')\n",
    "\n",
    "df_all_feat = df_all_feat.fillna(0)\n",
    "\n",
    "#df_train = pd.DataFrame()\n",
    "\n",
    "df_train = df_all_feat[['fav_win','t1_win','fav_ind']].copy()\n",
    "\n",
    "feat_names = ['prize_rating','rating','hs_perc','kills_per_rd','deaths_per_rd','adr',\n",
    "                'kast','assists_per_rd','flash_per_rd','first_kills_dif','team_rank','score_dif','win_rate',\n",
    "                'scaled_win','scaled_rating','scaled_score_dif','win_rate_map','kd_per_round','scaled_kd','momentum','map_rating']\n",
    "\n",
    "dict_normalization = {}\n",
    "for feat in feat_names:\n",
    "\n",
    "    \n",
    "    \n",
    "\n",
    "    avg_0 = 0.0*df_all_feat['t_1_p_0_rating']\n",
    "    avg_1 = 0.0*df_all_feat['t_1_p_1_rating']\n",
    "\n",
    "    vec_both = []\n",
    "\n",
    "    for ind in range(0,5):\n",
    "        # df_train[feat+'_p_'+str(ind)+'_dif'] = df_all_feat['t_0_p_'+str(ind)+'_'+feat] - df_all_feat['t_1_p_'+str(ind)+'_'+feat]\n",
    "\n",
    "        avg_0 = avg_0 + df_all_feat['t_0_p_'+str(ind)+'_'+feat]\n",
    "        avg_1 = avg_1 + df_all_feat['t_1_p_'+str(ind)+'_'+feat]\n",
    "\n",
    "        # Normalized\n",
    "        # avg_0 = avg_0 + (df_all_feat['t_0_p_'+str(ind)+'_'+feat]-df_all_feat['t_0_p_'+str(ind)+'_'+feat].mean())/df_all_feat['t_0_p_'+str(ind)+'_'+feat].std()\n",
    "        # avg_1 = avg_1 + (df_all_feat['t_1_p_'+str(ind)+'_'+feat]-df_all_feat['t_1_p_'+str(ind)+'_'+feat].mean())/df_all_feat['t_1_p_'+str(ind)+'_'+feat].std()\n",
    "\n",
    "        vec_both.append( df_all_feat['t_0_p_'+str(ind)+'_'+feat].values ) \n",
    "        vec_both.append( df_all_feat['t_1_p_'+str(ind)+'_'+feat].values ) \n",
    "   \n",
    "    # Normalize\n",
    "    dict_normalization[feat] = {}\n",
    "    dict_normalization[feat]['mean'] = np.mean(datetime(2016,6,6vec_both)\n",
    "    dict_normalization[feat]['std']  = np.std(vec_both)\n",
    "\n",
    "    avg_0 = (avg_0 - np.mean(vec_both)) / np.std(vec_both)\n",
    "    avg_1 = (avg_1 - np.mean(vec_both)) / np.std(vec_both)\n",
    "\n",
    "    df_train[feat+'_dif'] = ( avg_0 - avg_1 ) / 5l0\n",
    "\n",
    "    # Take the first and last\n",
    "    # ind = 0\n",
    "    # df_train[feat+'_p_'+str(ind)+'_dif'] = df_all_feat['t_0_p_'+str(ind)+'_'+feat] - df_all_feat['t_1_p_'+str(ind)+'_'+feat]\n",
    "\n",
    "    # ind = 4\n",
    "    # df_train[feat+'_p_'+str(ind)+'_dif'] = df_all_feat['t_0_p_'+str(ind)+'_'+feat] - df_all_feat['t_1_p_'+str(ind)+'_'+feat]\n",
    "    \n",
    "# df_train['prize_rating_dif'] = np.sqrt( abs( df_train['prize_rating_dif'] )) *np.sign(df_train['prize_rating_dif']) \n",
    "\n",
    "# Does it help if we normalize everything?\n",
    "# df_train['norm_dif'] = 0.0\n",
    "\n",
    "\n",
    "# for column in df_train:\n",
    "#     if (column != 'fav_win') & (column !='t1_win') & (column !='fav_ind') & (column != 'norm_dif'):\n",
    "        \n",
    "#         df_train[column] = (df_train[column]-df_train[column].mean())/df_train[column].std()\n",
    "\n",
    "        # Try using the norm of the difference\n",
    "        # df_train['norm_dif'] = df_train['norm_dif'] + df_train[column]\n",
    "\n",
    "        # Try using a sigmoid function to exagerate the feature difference for small changes\n",
    "        # df_train[column] = np.arctan( 0.50*df_train[column] )\n",
    "\n",
    "# df_train['norm_dif'] = df_train['norm_dif'] * np.sign( df_train['rating_dif'] ) / df_train['norm_dif'].max()\n",
    "# df_train['norm_dif'] = np.sign( df_train['rating_dif'] )* (df_train['rating_dif']**2 + df_train['prize_rating_dif']**2 )\n",
    "\n",
    "df_train['tier_1'] = np.ceil( df_all_feat['t1_rank'] / 20.0 )\n",
    "df_train['tier_2'] = np.ceil( df_all_feat['t2_rank'] / 20.0 )\n",
    "\n",
    "df_train = df_train.fillna(0)\n",
    "\n",
    "\n",
    "df_train['fav_ind'] = -1.0*(df_train['prize_rating_dif']>=0.0) + 1.0*(df_train['prize_rating_dif']<0.0)\n",
    "\n",
    "df_train['fav_ind_2'] = -1.0*(df_train['rating_dif']>=0.0) + 1.0*(df_train['rating_dif']<0.0)\n",
    "\n",
    "df_train['fav_ind_3'] = -1.0*(df_train['kills_per_rd_dif']>=0.0) + 1.0*(df_train['kills_per_rd_dif']<0.0)\n",
    "\n",
    "# df_train['prize_rating_dif'] = np.sign(df_train['prize_rating_dif'])*(np.abs(df_train['prize_rating_dif'])**0.1)\n",
    "\n",
    "# df_train['scaled_win_dif'] = np.sign(df_train['scaled_win_dif'])*(np.abs(df_train['scaled_win_dif'])**2)\n",
    "\n",
    "#print(df_train.keys())\n",
    "\n",
    "print(df_train['t1_win'].mean())\n",
    "\n",
    "df_train.tail(n=80)"
   ]
  },
  {
   "cell_type": "code",
   "execution_count": 855,
   "metadata": {},
   "outputs": [],
   "source": [
    "dict_normalization\n",
    "filename = 'dict_normalization.sav'\n",
    "pickle.dump( dict_normalization, open(filename,'wb') )"
   ]
  },
  {
   "cell_type": "code",
   "execution_count": 483,
   "metadata": {},
   "outputs": [
    {
     "data": {
      "text/html": "<div>\n<style scoped>\n    .dataframe tbody tr th:only-of-type {\n        vertical-align: middle;\n    }\n\n    .dataframe tbody tr th {\n        vertical-align: top;\n    }\n\n    .dataframe thead th {\n        text-align: right;\n    }\n</style>\n<table border=\"1\" class=\"dataframe\">\n  <thead>\n    <tr style=\"text-align: right;\">\n      <th></th>\n      <th>fav_win</th>\n      <th>t1_win</th>\n      <th>fav_ind</th>\n      <th>map_rating_dif</th>\n    </tr>\n  </thead>\n  <tbody>\n    <tr>\n      <th>92838</th>\n      <td>1</td>\n      <td>0</td>\n      <td>1.0</td>\n      <td>-0.810772</td>\n    </tr>\n    <tr>\n      <th>92845</th>\n      <td>0</td>\n      <td>0</td>\n      <td>-1.0</td>\n      <td>1.340639</td>\n    </tr>\n    <tr>\n      <th>92846</th>\n      <td>1</td>\n      <td>1</td>\n      <td>-1.0</td>\n      <td>-0.055113</td>\n    </tr>\n    <tr>\n      <th>92855</th>\n      <td>1</td>\n      <td>1</td>\n      <td>-1.0</td>\n      <td>0.047574</td>\n    </tr>\n    <tr>\n      <th>92856</th>\n      <td>1</td>\n      <td>0</td>\n      <td>1.0</td>\n      <td>0.462612</td>\n    </tr>\n    <tr>\n      <th>92860</th>\n      <td>0</td>\n      <td>1</td>\n      <td>1.0</td>\n      <td>-0.712879</td>\n    </tr>\n    <tr>\n      <th>92868</th>\n      <td>1</td>\n      <td>1</td>\n      <td>-1.0</td>\n      <td>0.634560</td>\n    </tr>\n    <tr>\n      <th>92873</th>\n      <td>0</td>\n      <td>0</td>\n      <td>1.0</td>\n      <td>-2.254641</td>\n    </tr>\n    <tr>\n      <th>92875</th>\n      <td>0</td>\n      <td>0</td>\n      <td>-1.0</td>\n      <td>2.075389</td>\n    </tr>\n    <tr>\n      <th>92878</th>\n      <td>1</td>\n      <td>0</td>\n      <td>1.0</td>\n      <td>0.613673</td>\n    </tr>\n    <tr>\n      <th>92880</th>\n      <td>1</td>\n      <td>0</td>\n      <td>-1.0</td>\n      <td>-0.471019</td>\n    </tr>\n    <tr>\n      <th>92881</th>\n      <td>1</td>\n      <td>0</td>\n      <td>1.0</td>\n      <td>-0.040758</td>\n    </tr>\n    <tr>\n      <th>92883</th>\n      <td>1</td>\n      <td>1</td>\n      <td>-1.0</td>\n      <td>1.133198</td>\n    </tr>\n    <tr>\n      <th>92884</th>\n      <td>0</td>\n      <td>0</td>\n      <td>-1.0</td>\n      <td>-0.376336</td>\n    </tr>\n    <tr>\n      <th>92885</th>\n      <td>0</td>\n      <td>0</td>\n      <td>1.0</td>\n      <td>0.985262</td>\n    </tr>\n    <tr>\n      <th>92887</th>\n      <td>0</td>\n      <td>0</td>\n      <td>-1.0</td>\n      <td>-0.529861</td>\n    </tr>\n    <tr>\n      <th>92888</th>\n      <td>0</td>\n      <td>0</td>\n      <td>-1.0</td>\n      <td>-1.585390</td>\n    </tr>\n    <tr>\n      <th>92889</th>\n      <td>1</td>\n      <td>0</td>\n      <td>1.0</td>\n      <td>1.738730</td>\n    </tr>\n    <tr>\n      <th>92892</th>\n      <td>0</td>\n      <td>0</td>\n      <td>-1.0</td>\n      <td>0.190331</td>\n    </tr>\n    <tr>\n      <th>92899</th>\n      <td>0</td>\n      <td>0</td>\n      <td>1.0</td>\n      <td>2.895303</td>\n    </tr>\n    <tr>\n      <th>92901</th>\n      <td>0</td>\n      <td>0</td>\n      <td>1.0</td>\n      <td>1.572040</td>\n    </tr>\n    <tr>\n      <th>92919</th>\n      <td>0</td>\n      <td>1</td>\n      <td>1.0</td>\n      <td>2.315261</td>\n    </tr>\n    <tr>\n      <th>92921</th>\n      <td>1</td>\n      <td>0</td>\n      <td>1.0</td>\n      <td>1.641090</td>\n    </tr>\n    <tr>\n      <th>92922</th>\n      <td>1</td>\n      <td>0</td>\n      <td>1.0</td>\n      <td>-0.055270</td>\n    </tr>\n    <tr>\n      <th>92926</th>\n      <td>0</td>\n      <td>0</td>\n      <td>-1.0</td>\n      <td>1.996390</td>\n    </tr>\n    <tr>\n      <th>92927</th>\n      <td>0</td>\n      <td>1</td>\n      <td>1.0</td>\n      <td>0.143308</td>\n    </tr>\n    <tr>\n      <th>92931</th>\n      <td>0</td>\n      <td>1</td>\n      <td>1.0</td>\n      <td>-1.193533</td>\n    </tr>\n    <tr>\n      <th>92933</th>\n      <td>1</td>\n      <td>1</td>\n      <td>-1.0</td>\n      <td>0.312082</td>\n    </tr>\n    <tr>\n      <th>92936</th>\n      <td>0</td>\n      <td>1</td>\n      <td>1.0</td>\n      <td>0.537423</td>\n    </tr>\n    <tr>\n      <th>92938</th>\n      <td>0</td>\n      <td>0</td>\n      <td>-1.0</td>\n      <td>-0.250564</td>\n    </tr>\n    <tr>\n      <th>...</th>\n      <td>...</td>\n      <td>...</td>\n      <td>...</td>\n      <td>...</td>\n    </tr>\n    <tr>\n      <th>93188</th>\n      <td>1</td>\n      <td>1</td>\n      <td>1.0</td>\n      <td>2.367379</td>\n    </tr>\n    <tr>\n      <th>93190</th>\n      <td>1</td>\n      <td>0</td>\n      <td>1.0</td>\n      <td>-0.680072</td>\n    </tr>\n    <tr>\n      <th>93192</th>\n      <td>1</td>\n      <td>1</td>\n      <td>1.0</td>\n      <td>0.472651</td>\n    </tr>\n    <tr>\n      <th>93194</th>\n      <td>1</td>\n      <td>0</td>\n      <td>-1.0</td>\n      <td>0.822891</td>\n    </tr>\n    <tr>\n      <th>93195</th>\n      <td>0</td>\n      <td>1</td>\n      <td>-1.0</td>\n      <td>-0.861858</td>\n    </tr>\n    <tr>\n      <th>93197</th>\n      <td>0</td>\n      <td>0</td>\n      <td>1.0</td>\n      <td>-3.343187</td>\n    </tr>\n    <tr>\n      <th>93199</th>\n      <td>1</td>\n      <td>0</td>\n      <td>-1.0</td>\n      <td>-0.783172</td>\n    </tr>\n    <tr>\n      <th>93202</th>\n      <td>0</td>\n      <td>0</td>\n      <td>-1.0</td>\n      <td>0.741423</td>\n    </tr>\n    <tr>\n      <th>93205</th>\n      <td>1</td>\n      <td>0</td>\n      <td>-1.0</td>\n      <td>-0.894713</td>\n    </tr>\n    <tr>\n      <th>93219</th>\n      <td>1</td>\n      <td>0</td>\n      <td>1.0</td>\n      <td>-1.907797</td>\n    </tr>\n    <tr>\n      <th>93221</th>\n      <td>0</td>\n      <td>1</td>\n      <td>-1.0</td>\n      <td>-0.815719</td>\n    </tr>\n    <tr>\n      <th>93222</th>\n      <td>0</td>\n      <td>0</td>\n      <td>-1.0</td>\n      <td>-0.549974</td>\n    </tr>\n    <tr>\n      <th>93223</th>\n      <td>1</td>\n      <td>1</td>\n      <td>-1.0</td>\n      <td>1.000610</td>\n    </tr>\n    <tr>\n      <th>93224</th>\n      <td>1</td>\n      <td>1</td>\n      <td>-1.0</td>\n      <td>-2.931727</td>\n    </tr>\n    <tr>\n      <th>93227</th>\n      <td>1</td>\n      <td>1</td>\n      <td>1.0</td>\n      <td>0.558413</td>\n    </tr>\n    <tr>\n      <th>93231</th>\n      <td>0</td>\n      <td>1</td>\n      <td>1.0</td>\n      <td>0.128152</td>\n    </tr>\n    <tr>\n      <th>93232</th>\n      <td>0</td>\n      <td>0</td>\n      <td>1.0</td>\n      <td>0.959282</td>\n    </tr>\n    <tr>\n      <th>93233</th>\n      <td>1</td>\n      <td>0</td>\n      <td>1.0</td>\n      <td>-0.403972</td>\n    </tr>\n    <tr>\n      <th>93234</th>\n      <td>1</td>\n      <td>0</td>\n      <td>1.0</td>\n      <td>1.064911</td>\n    </tr>\n    <tr>\n      <th>93236</th>\n      <td>0</td>\n      <td>0</td>\n      <td>-1.0</td>\n      <td>0.337628</td>\n    </tr>\n    <tr>\n      <th>93237</th>\n      <td>0</td>\n      <td>0</td>\n      <td>-1.0</td>\n      <td>-0.144763</td>\n    </tr>\n    <tr>\n      <th>93239</th>\n      <td>0</td>\n      <td>1</td>\n      <td>1.0</td>\n      <td>-1.508545</td>\n    </tr>\n    <tr>\n      <th>93240</th>\n      <td>0</td>\n      <td>0</td>\n      <td>-1.0</td>\n      <td>-0.153564</td>\n    </tr>\n    <tr>\n      <th>93241</th>\n      <td>0</td>\n      <td>0</td>\n      <td>-1.0</td>\n      <td>-0.249217</td>\n    </tr>\n    <tr>\n      <th>93242</th>\n      <td>1</td>\n      <td>0</td>\n      <td>1.0</td>\n      <td>-2.870814</td>\n    </tr>\n    <tr>\n      <th>93243</th>\n      <td>1</td>\n      <td>1</td>\n      <td>-1.0</td>\n      <td>2.378578</td>\n    </tr>\n    <tr>\n      <th>93246</th>\n      <td>0</td>\n      <td>1</td>\n      <td>1.0</td>\n      <td>1.573548</td>\n    </tr>\n    <tr>\n      <th>93247</th>\n      <td>1</td>\n      <td>0</td>\n      <td>1.0</td>\n      <td>-2.106820</td>\n    </tr>\n    <tr>\n      <th>93251</th>\n      <td>0</td>\n      <td>0</td>\n      <td>-1.0</td>\n      <td>-2.233881</td>\n    </tr>\n    <tr>\n      <th>93262</th>\n      <td>1</td>\n      <td>0</td>\n      <td>-1.0</td>\n      <td>-0.464523</td>\n    </tr>\n  </tbody>\n</table>\n<p>100 rows × 4 columns</p>\n</div>",
      "text/plain": "       fav_win  t1_win  fav_ind  map_rating_dif\n92838        1       0      1.0       -0.810772\n92845        0       0     -1.0        1.340639\n92846        1       1     -1.0       -0.055113\n92855        1       1     -1.0        0.047574\n92856        1       0      1.0        0.462612\n92860        0       1      1.0       -0.712879\n92868        1       1     -1.0        0.634560\n92873        0       0      1.0       -2.254641\n92875        0       0     -1.0        2.075389\n92878        1       0      1.0        0.613673\n92880        1       0     -1.0       -0.471019\n92881        1       0      1.0       -0.040758\n92883        1       1     -1.0        1.133198\n92884        0       0     -1.0       -0.376336\n92885        0       0      1.0        0.985262\n92887        0       0     -1.0       -0.529861\n92888        0       0     -1.0       -1.585390\n92889        1       0      1.0        1.738730\n92892        0       0     -1.0        0.190331\n92899        0       0      1.0        2.895303\n92901        0       0      1.0        1.572040\n92919        0       1      1.0        2.315261\n92921        1       0      1.0        1.641090\n92922        1       0      1.0       -0.055270\n92926        0       0     -1.0        1.996390\n92927        0       1      1.0        0.143308\n92931        0       1      1.0       -1.193533\n92933        1       1     -1.0        0.312082\n92936        0       1      1.0        0.537423\n92938        0       0     -1.0       -0.250564\n...        ...     ...      ...             ...\n93188        1       1      1.0        2.367379\n93190        1       0      1.0       -0.680072\n93192        1       1      1.0        0.472651\n93194        1       0     -1.0        0.822891\n93195        0       1     -1.0       -0.861858\n93197        0       0      1.0       -3.343187\n93199        1       0     -1.0       -0.783172\n93202        0       0     -1.0        0.741423\n93205        1       0     -1.0       -0.894713\n93219        1       0      1.0       -1.907797\n93221        0       1     -1.0       -0.815719\n93222        0       0     -1.0       -0.549974\n93223        1       1     -1.0        1.000610\n93224        1       1     -1.0       -2.931727\n93227        1       1      1.0        0.558413\n93231        0       1      1.0        0.128152\n93232        0       0      1.0        0.959282\n93233        1       0      1.0       -0.403972\n93234        1       0      1.0        1.064911\n93236        0       0     -1.0        0.337628\n93237        0       0     -1.0       -0.144763\n93239        0       1      1.0       -1.508545\n93240        0       0     -1.0       -0.153564\n93241        0       0     -1.0       -0.249217\n93242        1       0      1.0       -2.870814\n93243        1       1     -1.0        2.378578\n93246        0       1      1.0        1.573548\n93247        1       0      1.0       -2.106820\n93251        0       0     -1.0       -2.233881\n93262        1       0     -1.0       -0.464523\n\n[100 rows x 4 columns]"
     },
     "execution_count": 483,
     "metadata": {},
     "output_type": "execute_result"
    }
   ],
   "source": [
    "df_train[['fav_win', 't1_win', 'fav_ind', 'map_rating_dif']].head(n=100)"
   ]
  },
  {
   "cell_type": "code",
   "execution_count": 173,
   "metadata": {},
   "outputs": [
    {
     "data": {
      "text/html": "<div>\n<style scoped>\n    .dataframe tbody tr th:only-of-type {\n        vertical-align: middle;\n    }\n\n    .dataframe tbody tr th {\n        vertical-align: top;\n    }\n\n    .dataframe thead th {\n        text-align: right;\n    }\n</style>\n<table border=\"1\" class=\"dataframe\">\n  <thead>\n    <tr style=\"text-align: right;\">\n      <th></th>\n      <th>fav_win</th>\n      <th>t1_win</th>\n      <th>fav_ind</th>\n      <th>prize_rating_dif</th>\n      <th>rating_dif</th>\n      <th>hs_perc_dif</th>\n      <th>kills_per_rd_dif</th>\n      <th>deaths_per_rd_dif</th>\n      <th>adr_dif</th>\n      <th>kast_dif</th>\n      <th>assists_per_rd_dif</th>\n      <th>flash_per_rd_dif</th>\n      <th>first_kills_dif_dif</th>\n      <th>team_rank_dif</th>\n      <th>score_dif_dif</th>\n      <th>win_rate_dif</th>\n      <th>scaled_win_dif</th>\n      <th>scaled_rating_dif</th>\n      <th>scaled_score_dif_dif</th>\n    </tr>\n  </thead>\n  <tbody>\n    <tr>\n      <th>count</th>\n      <td>1000.000000</td>\n      <td>1000.000000</td>\n      <td>1000.000000</td>\n      <td>1.000000e+03</td>\n      <td>1.000000e+03</td>\n      <td>1.000000e+03</td>\n      <td>1.000000e+03</td>\n      <td>1.000000e+03</td>\n      <td>1.000000e+03</td>\n      <td>1.000000e+03</td>\n      <td>1.000000e+03</td>\n      <td>1.000000e+03</td>\n      <td>1.000000e+03</td>\n      <td>1.000000e+03</td>\n      <td>1.000000e+03</td>\n      <td>1.000000e+03</td>\n      <td>1.000000e+03</td>\n      <td>1.000000e+03</td>\n      <td>1.000000e+03</td>\n    </tr>\n    <tr>\n      <th>mean</th>\n      <td>0.605000</td>\n      <td>0.495000</td>\n      <td>1.506000</td>\n      <td>-5.329071e-18</td>\n      <td>3.552714e-18</td>\n      <td>1.776357e-18</td>\n      <td>1.065814e-17</td>\n      <td>3.552714e-18</td>\n      <td>7.105427e-18</td>\n      <td>-1.065814e-17</td>\n      <td>-4.440892e-18</td>\n      <td>1.332268e-17</td>\n      <td>1.065814e-17</td>\n      <td>-7.105427e-18</td>\n      <td>3.552714e-17</td>\n      <td>-3.197442e-17</td>\n      <td>3.552714e-18</td>\n      <td>-3.552714e-18</td>\n      <td>-2.309264e-17</td>\n    </tr>\n    <tr>\n      <th>std</th>\n      <td>0.489095</td>\n      <td>0.500225</td>\n      <td>0.500214</td>\n      <td>1.000000e+00</td>\n      <td>1.000000e+00</td>\n      <td>1.000000e+00</td>\n      <td>1.000000e+00</td>\n      <td>1.000000e+00</td>\n      <td>1.000000e+00</td>\n      <td>1.000000e+00</td>\n      <td>1.000000e+00</td>\n      <td>1.000000e+00</td>\n      <td>1.000000e+00</td>\n      <td>1.000000e+00</td>\n      <td>1.000000e+00</td>\n      <td>1.000000e+00</td>\n      <td>1.000000e+00</td>\n      <td>1.000000e+00</td>\n      <td>1.000000e+00</td>\n    </tr>\n    <tr>\n      <th>min</th>\n      <td>0.000000</td>\n      <td>0.000000</td>\n      <td>1.000000</td>\n      <td>-4.294535e+00</td>\n      <td>-7.087553e+00</td>\n      <td>-6.435974e+00</td>\n      <td>-7.735193e+00</td>\n      <td>-7.817805e+00</td>\n      <td>-8.118688e+00</td>\n      <td>-8.099462e+00</td>\n      <td>-5.048495e+00</td>\n      <td>-6.284287e+00</td>\n      <td>-4.760382e+00</td>\n      <td>-3.583056e+00</td>\n      <td>-4.217007e+00</td>\n      <td>-3.724805e+00</td>\n      <td>-1.128112e+01</td>\n      <td>-5.958851e+00</td>\n      <td>-7.928005e+00</td>\n    </tr>\n    <tr>\n      <th>25%</th>\n      <td>0.000000</td>\n      <td>0.000000</td>\n      <td>1.000000</td>\n      <td>-4.468085e-01</td>\n      <td>-3.924654e-01</td>\n      <td>-4.381664e-01</td>\n      <td>-3.243540e-01</td>\n      <td>-3.263356e-01</td>\n      <td>-2.815156e-01</td>\n      <td>-2.678898e-01</td>\n      <td>-5.383833e-01</td>\n      <td>-5.687058e-01</td>\n      <td>-5.859129e-01</td>\n      <td>-4.851744e-01</td>\n      <td>-5.956345e-01</td>\n      <td>-6.036420e-01</td>\n      <td>-1.568888e-01</td>\n      <td>-2.703883e-01</td>\n      <td>-1.762917e-01</td>\n    </tr>\n    <tr>\n      <th>50%</th>\n      <td>1.000000</td>\n      <td>0.000000</td>\n      <td>2.000000</td>\n      <td>1.314647e-03</td>\n      <td>3.299395e-02</td>\n      <td>2.559003e-02</td>\n      <td>4.188134e-02</td>\n      <td>4.807448e-02</td>\n      <td>3.512834e-02</td>\n      <td>6.239436e-02</td>\n      <td>1.682523e-02</td>\n      <td>1.543661e-02</td>\n      <td>-2.020498e-02</td>\n      <td>1.221722e-02</td>\n      <td>2.430884e-02</td>\n      <td>3.373862e-03</td>\n      <td>7.291137e-02</td>\n      <td>-1.931123e-03</td>\n      <td>1.044269e-01</td>\n    </tr>\n    <tr>\n      <th>75%</th>\n      <td>1.000000</td>\n      <td>1.000000</td>\n      <td>2.000000</td>\n      <td>4.447292e-01</td>\n      <td>4.738720e-01</td>\n      <td>5.452574e-01</td>\n      <td>4.213216e-01</td>\n      <td>4.289761e-01</td>\n      <td>3.676461e-01</td>\n      <td>3.678864e-01</td>\n      <td>5.776503e-01</td>\n      <td>5.976279e-01</td>\n      <td>6.196910e-01</td>\n      <td>4.602681e-01</td>\n      <td>5.966732e-01</td>\n      <td>6.204561e-01</td>\n      <td>2.741010e-01</td>\n      <td>2.377506e-01</td>\n      <td>3.057342e-01</td>\n    </tr>\n    <tr>\n      <th>max</th>\n      <td>1.000000</td>\n      <td>1.000000</td>\n      <td>2.000000</td>\n      <td>4.291147e+00</td>\n      <td>6.331305e+00</td>\n      <td>6.316330e+00</td>\n      <td>7.090528e+00</td>\n      <td>7.788433e+00</td>\n      <td>7.684703e+00</td>\n      <td>7.808019e+00</td>\n      <td>5.311427e+00</td>\n      <td>6.438761e+00</td>\n      <td>4.460250e+00</td>\n      <td>4.320149e+00</td>\n      <td>3.464001e+00</td>\n      <td>4.228936e+00</td>\n      <td>4.603757e+00</td>\n      <td>5.245539e+00</td>\n      <td>8.470654e+00</td>\n    </tr>\n  </tbody>\n</table>\n</div>",
      "text/plain": "           fav_win       t1_win      fav_ind  prize_rating_dif    rating_dif  \\\ncount  1000.000000  1000.000000  1000.000000      1.000000e+03  1.000000e+03   \nmean      0.605000     0.495000     1.506000     -5.329071e-18  3.552714e-18   \nstd       0.489095     0.500225     0.500214      1.000000e+00  1.000000e+00   \nmin       0.000000     0.000000     1.000000     -4.294535e+00 -7.087553e+00   \n25%       0.000000     0.000000     1.000000     -4.468085e-01 -3.924654e-01   \n50%       1.000000     0.000000     2.000000      1.314647e-03  3.299395e-02   \n75%       1.000000     1.000000     2.000000      4.447292e-01  4.738720e-01   \nmax       1.000000     1.000000     2.000000      4.291147e+00  6.331305e+00   \n\n        hs_perc_dif  kills_per_rd_dif  deaths_per_rd_dif       adr_dif  \\\ncount  1.000000e+03      1.000000e+03       1.000000e+03  1.000000e+03   \nmean   1.776357e-18      1.065814e-17       3.552714e-18  7.105427e-18   \nstd    1.000000e+00      1.000000e+00       1.000000e+00  1.000000e+00   \nmin   -6.435974e+00     -7.735193e+00      -7.817805e+00 -8.118688e+00   \n25%   -4.381664e-01     -3.243540e-01      -3.263356e-01 -2.815156e-01   \n50%    2.559003e-02      4.188134e-02       4.807448e-02  3.512834e-02   \n75%    5.452574e-01      4.213216e-01       4.289761e-01  3.676461e-01   \nmax    6.316330e+00      7.090528e+00       7.788433e+00  7.684703e+00   \n\n           kast_dif  assists_per_rd_dif  flash_per_rd_dif  \\\ncount  1.000000e+03        1.000000e+03      1.000000e+03   \nmean  -1.065814e-17       -4.440892e-18      1.332268e-17   \nstd    1.000000e+00        1.000000e+00      1.000000e+00   \nmin   -8.099462e+00       -5.048495e+00     -6.284287e+00   \n25%   -2.678898e-01       -5.383833e-01     -5.687058e-01   \n50%    6.239436e-02        1.682523e-02      1.543661e-02   \n75%    3.678864e-01        5.776503e-01      5.976279e-01   \nmax    7.808019e+00        5.311427e+00      6.438761e+00   \n\n       first_kills_dif_dif  team_rank_dif  score_dif_dif  win_rate_dif  \\\ncount         1.000000e+03   1.000000e+03   1.000000e+03  1.000000e+03   \nmean          1.065814e-17  -7.105427e-18   3.552714e-17 -3.197442e-17   \nstd           1.000000e+00   1.000000e+00   1.000000e+00  1.000000e+00   \nmin          -4.760382e+00  -3.583056e+00  -4.217007e+00 -3.724805e+00   \n25%          -5.859129e-01  -4.851744e-01  -5.956345e-01 -6.036420e-01   \n50%          -2.020498e-02   1.221722e-02   2.430884e-02  3.373862e-03   \n75%           6.196910e-01   4.602681e-01   5.966732e-01  6.204561e-01   \nmax           4.460250e+00   4.320149e+00   3.464001e+00  4.228936e+00   \n\n       scaled_win_dif  scaled_rating_dif  scaled_score_dif_dif  \ncount    1.000000e+03       1.000000e+03          1.000000e+03  \nmean     3.552714e-18      -3.552714e-18         -2.309264e-17  \nstd      1.000000e+00       1.000000e+00          1.000000e+00  \nmin     -1.128112e+01      -5.958851e+00         -7.928005e+00  \n25%     -1.568888e-01      -2.703883e-01         -1.762917e-01  \n50%      7.291137e-02      -1.931123e-03          1.044269e-01  \n75%      2.741010e-01       2.377506e-01          3.057342e-01  \nmax      4.603757e+00       5.245539e+00          8.470654e+00  "
     },
     "execution_count": 173,
     "metadata": {},
     "output_type": "execute_result"
    }
   ],
   "source": [
    "#pd.DataFrame.describe()\n",
    "df_train.describe()\n",
    "\n",
    "# %matplotlib qt\n",
    "\n",
    "# sns.set_style(\"whitegrid\")\n",
    "# sns.set(font_scale=3)\n",
    "\n",
    "# plt.figure(figsize=(30,20));\n",
    "# ax = plt.axes()\n",
    "\n",
    "# df_train.hist(ax=ax)"
   ]
  },
  {
   "cell_type": "code",
   "execution_count": 174,
   "metadata": {},
   "outputs": [
    {
     "data": {
      "text/html": "<div>\n<style scoped>\n    .dataframe tbody tr th:only-of-type {\n        vertical-align: middle;\n    }\n\n    .dataframe tbody tr th {\n        vertical-align: top;\n    }\n\n    .dataframe thead th {\n        text-align: right;\n    }\n</style>\n<table border=\"1\" class=\"dataframe\">\n  <thead>\n    <tr style=\"text-align: right;\">\n      <th></th>\n      <th>prize_rating_dif</th>\n      <th>scaled_win_dif</th>\n    </tr>\n  </thead>\n  <tbody>\n    <tr>\n      <th>count</th>\n      <td>495.000000</td>\n      <td>495.000000</td>\n    </tr>\n    <tr>\n      <th>mean</th>\n      <td>0.227814</td>\n      <td>0.156660</td>\n    </tr>\n    <tr>\n      <th>std</th>\n      <td>0.972410</td>\n      <td>0.921393</td>\n    </tr>\n    <tr>\n      <th>min</th>\n      <td>-4.294535</td>\n      <td>-6.860687</td>\n    </tr>\n    <tr>\n      <th>25%</th>\n      <td>-0.252996</td>\n      <td>-0.037509</td>\n    </tr>\n    <tr>\n      <th>50%</th>\n      <td>0.177084</td>\n      <td>0.134580</td>\n    </tr>\n    <tr>\n      <th>75%</th>\n      <td>0.584404</td>\n      <td>0.352129</td>\n    </tr>\n    <tr>\n      <th>max</th>\n      <td>4.114808</td>\n      <td>4.603757</td>\n    </tr>\n  </tbody>\n</table>\n</div>",
      "text/plain": "       prize_rating_dif  scaled_win_dif\ncount        495.000000      495.000000\nmean           0.227814        0.156660\nstd            0.972410        0.921393\nmin           -4.294535       -6.860687\n25%           -0.252996       -0.037509\n50%            0.177084        0.134580\n75%            0.584404        0.352129\nmax            4.114808        4.603757"
     },
     "execution_count": 174,
     "metadata": {},
     "output_type": "execute_result"
    }
   ],
   "source": [
    "df_train[df_train['t1_win']==1][['prize_rating_dif','scaled_win_dif']].describe()"
   ]
  },
  {
   "cell_type": "code",
   "execution_count": 175,
   "metadata": {},
   "outputs": [
    {
     "data": {
      "text/html": "<div>\n<style scoped>\n    .dataframe tbody tr th:only-of-type {\n        vertical-align: middle;\n    }\n\n    .dataframe tbody tr th {\n        vertical-align: top;\n    }\n\n    .dataframe thead th {\n        text-align: right;\n    }\n</style>\n<table border=\"1\" class=\"dataframe\">\n  <thead>\n    <tr style=\"text-align: right;\">\n      <th></th>\n      <th>prize_rating_dif</th>\n      <th>scaled_win_dif</th>\n    </tr>\n  </thead>\n  <tbody>\n    <tr>\n      <th>count</th>\n      <td>505.000000</td>\n      <td>505.000000</td>\n    </tr>\n    <tr>\n      <th>mean</th>\n      <td>-0.223303</td>\n      <td>-0.153558</td>\n    </tr>\n    <tr>\n      <th>std</th>\n      <td>0.976928</td>\n      <td>1.049901</td>\n    </tr>\n    <tr>\n      <th>min</th>\n      <td>-4.294535</td>\n      <td>-11.281118</td>\n    </tr>\n    <tr>\n      <th>25%</th>\n      <td>-0.638892</td>\n      <td>-0.259403</td>\n    </tr>\n    <tr>\n      <th>50%</th>\n      <td>-0.178711</td>\n      <td>0.002556</td>\n    </tr>\n    <tr>\n      <th>75%</th>\n      <td>0.245448</td>\n      <td>0.183122</td>\n    </tr>\n    <tr>\n      <th>max</th>\n      <td>4.291147</td>\n      <td>3.242652</td>\n    </tr>\n  </tbody>\n</table>\n</div>",
      "text/plain": "       prize_rating_dif  scaled_win_dif\ncount        505.000000      505.000000\nmean          -0.223303       -0.153558\nstd            0.976928        1.049901\nmin           -4.294535      -11.281118\n25%           -0.638892       -0.259403\n50%           -0.178711        0.002556\n75%            0.245448        0.183122\nmax            4.291147        3.242652"
     },
     "execution_count": 175,
     "metadata": {},
     "output_type": "execute_result"
    }
   ],
   "source": [
    "df_train[df_train['t1_win']==0][['prize_rating_dif','scaled_win_dif']].describe()"
   ]
  },
  {
   "cell_type": "code",
   "execution_count": 47,
   "metadata": {},
   "outputs": [
    {
     "data": {
      "text/plain": "<matplotlib.axes._subplots.AxesSubplot at 0x7ff1cb782f60>"
     },
     "execution_count": 47,
     "metadata": {},
     "output_type": "execute_result"
    }
   ],
   "source": [
    "correlations = df_train.drop(['fav_win'],axis=1).corr()\n",
    "\n",
    "%matplotlib qt\n",
    "\n",
    "sns.set_style(\"whitegrid\")\n",
    "sns.set(font_scale=1)\n",
    "plt.figure(figsize=(20,16));\n",
    "ax = plt.axes()\n",
    "\n",
    "sns.heatmap(correlations, vmax=1.0, center=0, fmt='.2f',\n",
    "                square=True, linewidths=.5, annot=True, cbar_kws={\"shrink\": .70}, ax=ax)"
   ]
  },
  {
   "cell_type": "code",
   "execution_count": 337,
   "metadata": {},
   "outputs": [
    {
     "data": {
      "text/html": "<div>\n<style scoped>\n    .dataframe tbody tr th:only-of-type {\n        vertical-align: middle;\n    }\n\n    .dataframe tbody tr th {\n        vertical-align: top;\n    }\n\n    .dataframe thead th {\n        text-align: right;\n    }\n</style>\n<table border=\"1\" class=\"dataframe\">\n  <thead>\n    <tr style=\"text-align: right;\">\n      <th></th>\n      <th>t1_win</th>\n      <th>fav_win</th>\n      <th>fav_ind</th>\n      <th>map</th>\n      <th>score_dif</th>\n      <th>t1_rank</th>\n      <th>t2_rank</th>\n      <th>t_0_p_0_prize_rating</th>\n      <th>t_0_p_1_prize_rating</th>\n      <th>t_0_p_2_prize_rating</th>\n      <th>...</th>\n      <th>t_1_p_0_scaled_rating</th>\n      <th>t_1_p_1_scaled_rating</th>\n      <th>t_1_p_2_scaled_rating</th>\n      <th>t_1_p_3_scaled_rating</th>\n      <th>t_1_p_4_scaled_rating</th>\n      <th>t_1_p_0_scaled_score_dif</th>\n      <th>t_1_p_1_scaled_score_dif</th>\n      <th>t_1_p_2_scaled_score_dif</th>\n      <th>t_1_p_3_scaled_score_dif</th>\n      <th>t_1_p_4_scaled_score_dif</th>\n    </tr>\n  </thead>\n  <tbody>\n    <tr>\n      <th>96641</th>\n      <td>0</td>\n      <td>1</td>\n      <td>2</td>\n      <td>trn</td>\n      <td>-10</td>\n      <td>97</td>\n      <td>41</td>\n      <td>0.663651</td>\n      <td>0.629862</td>\n      <td>0.569225</td>\n      <td>...</td>\n      <td>0.043875</td>\n      <td>0.039537</td>\n      <td>0.034187</td>\n      <td>0.032402</td>\n      <td>0.029116</td>\n      <td>-0.098653</td>\n      <td>-0.102610</td>\n      <td>-0.102610</td>\n      <td>-0.102906</td>\n      <td>-0.102906</td>\n    </tr>\n    <tr>\n      <th>96639</th>\n      <td>1</td>\n      <td>1</td>\n      <td>1</td>\n      <td>inf</td>\n      <td>8</td>\n      <td>41</td>\n      <td>97</td>\n      <td>0.721413</td>\n      <td>0.709766</td>\n      <td>0.709069</td>\n      <td>...</td>\n      <td>0.097023</td>\n      <td>0.008072</td>\n      <td>0.007778</td>\n      <td>0.007525</td>\n      <td>0.006096</td>\n      <td>-0.016848</td>\n      <td>-0.021450</td>\n      <td>-0.021450</td>\n      <td>-0.022641</td>\n      <td>-0.820086</td>\n    </tr>\n    <tr>\n      <th>96638</th>\n      <td>1</td>\n      <td>1</td>\n      <td>1</td>\n      <td>mrg</td>\n      <td>8</td>\n      <td>35</td>\n      <td>48</td>\n      <td>0.818040</td>\n      <td>0.799803</td>\n      <td>0.799803</td>\n      <td>...</td>\n      <td>0.026508</td>\n      <td>0.022743</td>\n      <td>0.022248</td>\n      <td>0.021855</td>\n      <td>0.019667</td>\n      <td>-0.024231</td>\n      <td>-0.024263</td>\n      <td>-0.024263</td>\n      <td>-0.025765</td>\n      <td>-0.033227</td>\n    </tr>\n    <tr>\n      <th>96634</th>\n      <td>0</td>\n      <td>1</td>\n      <td>2</td>\n      <td>trn</td>\n      <td>-2</td>\n      <td>48</td>\n      <td>35</td>\n      <td>0.726537</td>\n      <td>0.726537</td>\n      <td>0.720326</td>\n      <td>...</td>\n      <td>0.063923</td>\n      <td>0.055480</td>\n      <td>0.054788</td>\n      <td>0.052385</td>\n      <td>0.028128</td>\n      <td>-0.077340</td>\n      <td>-0.136681</td>\n      <td>-0.136681</td>\n      <td>-0.136681</td>\n      <td>-0.139161</td>\n    </tr>\n    <tr>\n      <th>96624</th>\n      <td>0</td>\n      <td>1</td>\n      <td>2</td>\n      <td>nuke</td>\n      <td>-3</td>\n      <td>84</td>\n      <td>35</td>\n      <td>0.699892</td>\n      <td>0.697520</td>\n      <td>0.697520</td>\n      <td>...</td>\n      <td>0.063923</td>\n      <td>0.055480</td>\n      <td>0.054788</td>\n      <td>0.052385</td>\n      <td>0.028128</td>\n      <td>-0.077340</td>\n      <td>-0.136681</td>\n      <td>-0.136681</td>\n      <td>-0.136681</td>\n      <td>-0.139161</td>\n    </tr>\n  </tbody>\n</table>\n<p>5 rows × 167 columns</p>\n</div>",
      "text/plain": "       t1_win  fav_win  fav_ind   map  score_dif  t1_rank  t2_rank  \\\n96641       0        1        2   trn        -10       97       41   \n96639       1        1        1   inf          8       41       97   \n96638       1        1        1   mrg          8       35       48   \n96634       0        1        2   trn         -2       48       35   \n96624       0        1        2  nuke         -3       84       35   \n\n       t_0_p_0_prize_rating  t_0_p_1_prize_rating  t_0_p_2_prize_rating  ...  \\\n96641              0.663651              0.629862              0.569225  ...   \n96639              0.721413              0.709766              0.709069  ...   \n96638              0.818040              0.799803              0.799803  ...   \n96634              0.726537              0.726537              0.720326  ...   \n96624              0.699892              0.697520              0.697520  ...   \n\n       t_1_p_0_scaled_rating  t_1_p_1_scaled_rating  t_1_p_2_scaled_rating  \\\n96641               0.043875               0.039537               0.034187   \n96639               0.097023               0.008072               0.007778   \n96638               0.026508               0.022743               0.022248   \n96634               0.063923               0.055480               0.054788   \n96624               0.063923               0.055480               0.054788   \n\n       t_1_p_3_scaled_rating  t_1_p_4_scaled_rating  t_1_p_0_scaled_score_dif  \\\n96641               0.032402               0.029116                 -0.098653   \n96639               0.007525               0.006096                 -0.016848   \n96638               0.021855               0.019667                 -0.024231   \n96634               0.052385               0.028128                 -0.077340   \n96624               0.052385               0.028128                 -0.077340   \n\n       t_1_p_1_scaled_score_dif  t_1_p_2_scaled_score_dif  \\\n96641                 -0.102610                 -0.102610   \n96639                 -0.021450                 -0.021450   \n96638                 -0.024263                 -0.024263   \n96634                 -0.136681                 -0.136681   \n96624                 -0.136681                 -0.136681   \n\n       t_1_p_3_scaled_score_dif  t_1_p_4_scaled_score_dif  \n96641                 -0.102906                 -0.102906  \n96639                 -0.022641                 -0.820086  \n96638                 -0.025765                 -0.033227  \n96634                 -0.136681                 -0.139161  \n96624                 -0.136681                 -0.139161  \n\n[5 rows x 167 columns]"
     },
     "execution_count": 337,
     "metadata": {},
     "output_type": "execute_result"
    }
   ],
   "source": [
    "df_ct_start = pd.DataFrame.from_dict( map_training_dict,orient='index')\n",
    "len( df_ct_start )\n",
    "\n",
    "# type(data['roundHistory'][0]['ctTeam'])\n",
    "df_ct_start.tail()"
   ]
  },
  {
   "cell_type": "code",
   "execution_count": 349,
   "metadata": {},
   "outputs": [
    {
     "name": "stdout",
     "output_type": "stream",
     "text": "0.49171270718232046\n0.574\n"
    }
   ],
   "source": [
    "df_ct_start.tail(n=20)\n",
    "print(df_ct_start[df_ct_start['map']=='inf']['t1_win'].mean())\n",
    "#df_ct_start['t1_rank'].max()\n",
    "print(df_ct_start['fav_win'].mean())"
   ]
  },
  {
   "cell_type": "code",
   "execution_count": 242,
   "metadata": {},
   "outputs": [
    {
     "data": {
      "text/html": "<div>\n<style scoped>\n    .dataframe tbody tr th:only-of-type {\n        vertical-align: middle;\n    }\n\n    .dataframe tbody tr th {\n        vertical-align: top;\n    }\n\n    .dataframe thead th {\n        text-align: right;\n    }\n</style>\n<table border=\"1\" class=\"dataframe\">\n  <thead>\n    <tr style=\"text-align: right;\">\n      <th></th>\n      <th>fav_win</th>\n      <th>tier_1</th>\n      <th>tier_2</th>\n      <th>team_rank_dif</th>\n    </tr>\n  </thead>\n  <tbody>\n    <tr>\n      <th>95444</th>\n      <td>1</td>\n      <td>6.0</td>\n      <td>7.0</td>\n      <td>-0.444945</td>\n    </tr>\n    <tr>\n      <th>95448</th>\n      <td>0</td>\n      <td>5.0</td>\n      <td>3.0</td>\n      <td>0.582442</td>\n    </tr>\n    <tr>\n      <th>95451</th>\n      <td>0</td>\n      <td>3.0</td>\n      <td>5.0</td>\n      <td>-0.336810</td>\n    </tr>\n    <tr>\n      <th>95454</th>\n      <td>1</td>\n      <td>9.0</td>\n      <td>12.0</td>\n      <td>0.041625</td>\n    </tr>\n    <tr>\n      <th>95455</th>\n      <td>1</td>\n      <td>12.0</td>\n      <td>9.0</td>\n      <td>0.209711</td>\n    </tr>\n    <tr>\n      <th>95457</th>\n      <td>0</td>\n      <td>6.0</td>\n      <td>3.0</td>\n      <td>0.158154</td>\n    </tr>\n    <tr>\n      <th>95458</th>\n      <td>0</td>\n      <td>10.0</td>\n      <td>9.0</td>\n      <td>0.949587</td>\n    </tr>\n    <tr>\n      <th>95463</th>\n      <td>0</td>\n      <td>6.0</td>\n      <td>3.0</td>\n      <td>-0.318071</td>\n    </tr>\n    <tr>\n      <th>95466</th>\n      <td>0</td>\n      <td>9.0</td>\n      <td>10.0</td>\n      <td>-0.996637</td>\n    </tr>\n    <tr>\n      <th>95488</th>\n      <td>0</td>\n      <td>6.0</td>\n      <td>8.0</td>\n      <td>-1.530299</td>\n    </tr>\n    <tr>\n      <th>95489</th>\n      <td>1</td>\n      <td>6.0</td>\n      <td>8.0</td>\n      <td>-0.785422</td>\n    </tr>\n    <tr>\n      <th>95490</th>\n      <td>1</td>\n      <td>8.0</td>\n      <td>6.0</td>\n      <td>1.384378</td>\n    </tr>\n    <tr>\n      <th>95491</th>\n      <td>1</td>\n      <td>5.0</td>\n      <td>8.0</td>\n      <td>-0.203632</td>\n    </tr>\n    <tr>\n      <th>95492</th>\n      <td>1</td>\n      <td>9.0</td>\n      <td>15.0</td>\n      <td>-1.184397</td>\n    </tr>\n    <tr>\n      <th>95493</th>\n      <td>1</td>\n      <td>3.0</td>\n      <td>2.0</td>\n      <td>-1.045390</td>\n    </tr>\n    <tr>\n      <th>95494</th>\n      <td>0</td>\n      <td>8.0</td>\n      <td>5.0</td>\n      <td>-0.277107</td>\n    </tr>\n    <tr>\n      <th>95495</th>\n      <td>0</td>\n      <td>9.0</td>\n      <td>15.0</td>\n      <td>-1.989885</td>\n    </tr>\n    <tr>\n      <th>95496</th>\n      <td>1</td>\n      <td>2.0</td>\n      <td>3.0</td>\n      <td>1.006644</td>\n    </tr>\n    <tr>\n      <th>95507</th>\n      <td>1</td>\n      <td>5.0</td>\n      <td>8.0</td>\n      <td>-0.333311</td>\n    </tr>\n    <tr>\n      <th>95509</th>\n      <td>0</td>\n      <td>15.0</td>\n      <td>9.0</td>\n      <td>0.569866</td>\n    </tr>\n    <tr>\n      <th>95512</th>\n      <td>1</td>\n      <td>6.0</td>\n      <td>5.0</td>\n      <td>-0.315236</td>\n    </tr>\n    <tr>\n      <th>95514</th>\n      <td>1</td>\n      <td>9.0</td>\n      <td>15.0</td>\n      <td>-1.777143</td>\n    </tr>\n    <tr>\n      <th>95516</th>\n      <td>0</td>\n      <td>5.0</td>\n      <td>6.0</td>\n      <td>0.433163</td>\n    </tr>\n    <tr>\n      <th>95520</th>\n      <td>0</td>\n      <td>9.0</td>\n      <td>15.0</td>\n      <td>-0.087839</td>\n    </tr>\n    <tr>\n      <th>95521</th>\n      <td>1</td>\n      <td>6.0</td>\n      <td>5.0</td>\n      <td>-0.261706</td>\n    </tr>\n    <tr>\n      <th>95525</th>\n      <td>0</td>\n      <td>5.0</td>\n      <td>3.0</td>\n      <td>0.152257</td>\n    </tr>\n    <tr>\n      <th>95529</th>\n      <td>1</td>\n      <td>3.0</td>\n      <td>5.0</td>\n      <td>0.086812</td>\n    </tr>\n    <tr>\n      <th>95531</th>\n      <td>1</td>\n      <td>5.0</td>\n      <td>3.0</td>\n      <td>0.122923</td>\n    </tr>\n    <tr>\n      <th>95534</th>\n      <td>1</td>\n      <td>2.0</td>\n      <td>1.0</td>\n      <td>0.053074</td>\n    </tr>\n    <tr>\n      <th>95535</th>\n      <td>0</td>\n      <td>1.0</td>\n      <td>2.0</td>\n      <td>0.037637</td>\n    </tr>\n  </tbody>\n</table>\n</div>",
      "text/plain": "       fav_win  tier_1  tier_2  team_rank_dif\n95444        1     6.0     7.0      -0.444945\n95448        0     5.0     3.0       0.582442\n95451        0     3.0     5.0      -0.336810\n95454        1     9.0    12.0       0.041625\n95455        1    12.0     9.0       0.209711\n95457        0     6.0     3.0       0.158154\n95458        0    10.0     9.0       0.949587\n95463        0     6.0     3.0      -0.318071\n95466        0     9.0    10.0      -0.996637\n95488        0     6.0     8.0      -1.530299\n95489        1     6.0     8.0      -0.785422\n95490        1     8.0     6.0       1.384378\n95491        1     5.0     8.0      -0.203632\n95492        1     9.0    15.0      -1.184397\n95493        1     3.0     2.0      -1.045390\n95494        0     8.0     5.0      -0.277107\n95495        0     9.0    15.0      -1.989885\n95496        1     2.0     3.0       1.006644\n95507        1     5.0     8.0      -0.333311\n95509        0    15.0     9.0       0.569866\n95512        1     6.0     5.0      -0.315236\n95514        1     9.0    15.0      -1.777143\n95516        0     5.0     6.0       0.433163\n95520        0     9.0    15.0      -0.087839\n95521        1     6.0     5.0      -0.261706\n95525        0     5.0     3.0       0.152257\n95529        1     3.0     5.0       0.086812\n95531        1     5.0     3.0       0.122923\n95534        1     2.0     1.0       0.053074\n95535        0     1.0     2.0       0.037637"
     },
     "execution_count": 242,
     "metadata": {},
     "output_type": "execute_result"
    }
   ],
   "source": [
    "df_train[['fav_win','tier_1','tier_2','team_rank_dif']].head(n=30)\n",
    "# X = df_train.iloc[:, 2:15]\n",
    "# np.shape(X)"
   ]
  },
  {
   "cell_type": "code",
   "execution_count": 549,
   "metadata": {},
   "outputs": [
    {
     "data": {
      "text/plain": "array(['fav_win', 't1_win', 'fav_ind', 'prize_rating_dif', 'rating_dif',\n       'hs_perc_dif', 'kills_per_rd_dif', 'deaths_per_rd_dif', 'adr_dif',\n       'kast_dif', 'assists_per_rd_dif', 'flash_per_rd_dif',\n       'first_kills_dif_dif', 'team_rank_dif', 'score_dif_dif',\n       'win_rate_dif', 'scaled_win_dif', 'scaled_rating_dif',\n       'scaled_score_dif_dif', 'win_rate_map_dif', 'kd_per_round_dif',\n       'scaled_kd_dif', 'momentum_dif', 'map_rating_dif', 'tier_1',\n       'tier_2', 'fav_ind_2', 'fav_ind_3'], dtype=object)"
     },
     "execution_count": 549,
     "metadata": {},
     "output_type": "execute_result"
    }
   ],
   "source": [
    "df_train.keys().values"
   ]
  },
  {
   "cell_type": "code",
   "execution_count": 904,
   "metadata": {},
   "outputs": [
    {
     "name": "stdout",
     "output_type": "stream",
     "text": "--------------------------------------------------------------\nXGBoost\n\nAccuracy (Train): 0.6373\nAUC Score (Train): 0.681221\n\n>              precision    recall  f1-score   support\n\n     T Start       0.61      0.62      0.62      6985\n    CT Start       0.62      0.61      0.61      7007\n\n   micro avg       0.62      0.62      0.62     13992\n   macro avg       0.62      0.62      0.62     13992\nweighted avg       0.62      0.62      0.62     13992\n\nAccuracy (Test): 0.6156\nAUC Score (Test): 0.615642\n--------------------------------------------------------------\nXGBoost\n\nAccuracy (Train): 0.6262\nAUC Score (Train): 0.674829\n\n>              precision    recall  f1-score   support\n\n     T Start       0.64      0.61      0.62      7028\n    CT Start       0.62      0.65      0.64      6964\n\n   micro avg       0.63      0.63      0.63     13992\n   macro avg       0.63      0.63      0.63     13992\nweighted avg       0.63      0.63      0.63     13992\n\nAccuracy (Test): 0.6306\nAUC Score (Test): 0.630680\n--------------------------------------------------------------\nAvg accuracy (Test) = 0.623106\n--------------------------------------------------------------\n"
    }
   ],
   "source": [
    "# Quick XGBoost\n",
    "from sklearn.model_selection import KFold\n",
    "from sklearn.preprocessing import MinMaxScaler\n",
    "import xgboost as xgb\n",
    "#from sklearn.metrics import cross_validation   #Additional scklearn functions\n",
    "#from sklearn.model_selection import GridSearchCV   #Perforing grid search\n",
    "\n",
    "from xgboost import XGBClassifier\n",
    "from sklearn.model_selection import train_test_split\n",
    "from sklearn.linear_model import LogisticRegression\n",
    "from sklearn.metrics import classification_report\n",
    "from sklearn.metrics import confusion_matrix\n",
    "from sklearn.metrics import accuracy_score\n",
    "from sklearn.metrics import roc_auc_score\n",
    "import seaborn as sns\n",
    "\n",
    "import matplotlib as mpl\n",
    "import matplotlib.pyplot as plt\n",
    "\n",
    "from sklearn.ensemble import RandomForestClassifier\n",
    "# from sklearn.metrics import plot_roc_curve\n",
    "from sklearn import metrics\n",
    "\n",
    "# model = XGBClassifier(\n",
    "#     learning_rate =0.1,\n",
    "#     n_estimators=600,\n",
    "#     max_depth=5,\n",
    "#     min_child_weight=5,\n",
    "#     gamma=1,\n",
    "#     subsample=0.8,\n",
    "#     colsample_bytree=0.8,\n",
    "#     objective= 'binary:logistic',\n",
    "#     nthread=4,\n",
    "#     scale_pos_weight=1,\n",
    "#     seed=0)\n",
    "\n",
    "\n",
    "\n",
    "all_keys = ['fav_ind','prize_rating_dif', 'rating_dif', 'hs_perc_dif',\n",
    "       'kills_per_rd_dif', 'deaths_per_rd_dif', 'adr_dif', 'kast_dif',\n",
    "       'assists_per_rd_dif', 'flash_per_rd_dif', 'first_kills_dif_dif',\n",
    "       'team_rank_dif', 'score_dif_dif', 'win_rate_dif',\n",
    "       'scaled_win_dif','scaled_rating_dif','scaled_score_dif']\n",
    "\n",
    "features = ['t1_win','tier_1','tier_2','fav_ind','fav_ind_2','fav_ind_3','prize_rating_dif', 'rating_dif', 'deaths_per_rd_dif', \n",
    "       'assists_per_rd_dif', 'flash_per_rd_dif', 'first_kills_dif_dif',\n",
    "       'score_dif_dif', 'win_rate_dif','scaled_win_dif',\n",
    "       'scaled_rating_dif','scaled_score_dif_dif','win_rate_map_dif']\n",
    "\n",
    "\n",
    "features = ['t1_win', 'fav_ind', 'prize_rating_dif', 'rating_dif',\n",
    "       'hs_perc_dif', 'kills_per_rd_dif', 'deaths_per_rd_dif', 'adr_dif',\n",
    "       'kast_dif', 'assists_per_rd_dif', 'flash_per_rd_dif',\n",
    "       'first_kills_dif_dif', 'team_rank_dif', 'score_dif_dif',\n",
    "       'win_rate_dif', 'scaled_win_dif', 'scaled_rating_dif',\n",
    "       'scaled_score_dif_dif', 'win_rate_map_dif', 'kd_per_round_dif',\n",
    "       'scaled_kd_dif', 'tier_1', 'tier_2', 'fav_ind_2', 'fav_ind_3','momentum_dif','map_rating_dif']\n",
    "\n",
    "# These features are giving 63%\n",
    "features = ['t1_win', 'prize_rating_dif',  'score_dif_dif', \n",
    "        'win_rate_dif', 'scaled_win_dif', 'scaled_rating_dif','win_rate_map_dif', 'kd_per_round_dif',\n",
    "        'momentum_dif']\n",
    "\n",
    "labels = ['Team 1 win', '$\\Delta$ Prize Rating', '$\\Delta$ Score', '$\\Delta$ Win %', '$\\Delta$ Scaled Win',\n",
    "        '$\\Delta$ Scaled Rating', '$\\Delta$ Win % Map', '$\\Delta$ KD per Round', '$\\Delta$ Momentum']\n",
    "\n",
    "\n",
    "\n",
    "# features = ['t1_win', 'fav_ind', 'prize_rating_dif', 'rating_dif',\n",
    "#        'hs_perc_dif', 'kills_per_rd_dif', 'deaths_per_rd_dif', 'adr_dif',\n",
    "#        'kast_dif', 'assists_per_rd_dif', 'flash_per_rd_dif',\n",
    "#        'first_kills_dif_dif', 'team_rank_dif', 'score_dif_dif',\n",
    "#        'win_rate_dif', 'scaled_win_dif', 'scaled_rating_dif',\n",
    "#        'scaled_score_dif_dif', 'win_rate_map_dif', 'kd_per_round_dif',\n",
    "#        'scaled_kd_dif', 'momentum_dif', 'map_rating_dif', 'tier_1',\n",
    "#        'tier_2', 'fav_ind_2', 'fav_ind_3']\n",
    "\n",
    "\n",
    "# features = ['t1_win','fav_ind','fav_ind_2']\n",
    "\n",
    "# features = ['t1_win','win_rate_dif','team_rank_dif']\n",
    "\n",
    "# df_tmp = df_train[ features ].head(n=10000).copy()\n",
    "\n",
    "df_tmp = df_train[ features ].copy()\n",
    "\n",
    "# Get rid of outliers\n",
    "# df_tmp = df_tmp[ np.abs(df_tmp['win_rate_map_dif'])<3.0  ]\n",
    "df_tmp = df_tmp[ np.abs(df_tmp['scaled_rating_dif'])<3.0  ]\n",
    "# df_tmp = df_tmp[ np.abs(df_tmp['adr_dif'])<3.0  ]\n",
    "# df_tmp = df_tmp[ np.abs(df_tmp['assists_per_rd_dif'])<3.0  ]\n",
    "# df_tmp = df_tmp[ np.abs(df_tmp['deaths_per_rd_dif'])<3.0  ]\n",
    "df_tmp = df_tmp[ np.abs(df_tmp['kd_per_round_dif'])<3.0  ]\n",
    "# df_tmp = df_tmp[ np.abs(df_tmp['map_rating_dif'])<3.0  ]\n",
    "df_tmp = df_tmp[ np.abs(df_tmp['scaled_win_dif'])<3.0  ]\n",
    "# df_tmp = df_tmp[ np.abs(df_tmp['scaled_score_dif_dif'])<3.0  ]\n",
    "\n",
    "\n",
    "# df_tmp = df_tmp[ np.abs(df_tmp['team_rank_dif'])<1.5]\n",
    "\n",
    "n = len(df_tmp.keys())\n",
    "X = df_tmp.iloc[:, 1:n].values\n",
    "y = df_tmp.iloc[:, 0].values\n",
    "\n",
    "# Scale all variables to [0,1]\n",
    "# scaler = MinMaxScaler(feature_range=(0, 1))\n",
    "# X = scaler.fit_transform(X)\n",
    "\n",
    "\n",
    "cv = KFold(n_splits=2, random_state=None, shuffle=True)\n",
    "\n",
    "\n",
    "model = XGBClassifier(\n",
    "        learning_rate=0.01,\n",
    "        n_estimators=500,\n",
    "        max_depth=3,\n",
    "        min_child_weight=1,\n",
    "        gamma=10,\n",
    "        subsample=0.8,\n",
    "        colsample_bytree=0.6,\n",
    "        objective= 'binary:logistic',\n",
    "        nthread=4,\n",
    "        scale_pos_weight=1 )\n",
    "\n",
    "clf = RandomForestClassifier(n_estimators=200,max_depth=3, random_state=1, bootstrap=False,n_jobs=6)\n",
    "\n",
    "\n",
    "accuracy_vec = []\n",
    "\n",
    "for train_index, test_index in cv.split(X):\n",
    "#for test_index, train_index in cv.split(X):\n",
    "    # print(\"Train Index: \", train_index, \"\\n\")\n",
    "    # print(\"Test Index: \", test_index)\n",
    "\n",
    "    X_train, X_test, y_train, y_test = X[train_index,:], X[test_index,:], y[train_index], y[test_index]\n",
    "    # best_svr.fit(X_train, y_train)\n",
    "    # scores.append(best_svr.score(X_test, y_test))\n",
    "    \n",
    "#     model.fit(X_train,y_train) \n",
    "#     y_pred = model.predict(X_test)\n",
    "#     y_train_pred = model.predict(X_train)\n",
    "#     y_train_proba = model.predict_proba(X_train)[:,1]\n",
    "\n",
    "    \n",
    "    clf.fit(X_train, y_train)\n",
    "    y_pred = clf.predict(X_test)\n",
    "    y_train_pred = clf.predict(X_train)\n",
    "    y_train_proba = clf.predict_proba(X_train)[:,1]\n",
    "\n",
    "    predictions = [round(value) for value in y_pred]\n",
    "    \n",
    "\n",
    "    print('--------------------------------------------------------------')\n",
    "    print('XGBoost')\n",
    "    print('')\n",
    "    print('Accuracy (Train): %.4g' % accuracy_score(y_train, y_train_pred) )\n",
    "    print('AUC Score (Train): %f' % roc_auc_score(y_train, y_train_proba) )\n",
    "    print('')\n",
    "    print('>'+classification_report(y_test,predictions,target_names=['T Start','CT Start']))\n",
    "\n",
    "    print('Accuracy (Test): %.4g' % accuracy_score(y_test, y_pred) )\n",
    "    print('AUC Score (Test): %f' % roc_auc_score(y_test, y_pred) )\n",
    "\n",
    "    accuracy_vec.append( accuracy_score(y_test, y_pred) )\n",
    "\n",
    "\n",
    "print('--------------------------------------------------------------')\n",
    "print('Avg accuracy (Test) = %f' % np.mean(accuracy_vec) )\n",
    "print('--------------------------------------------------------------')\n",
    "\n",
    "sns.set_style(\"whitegrid\")\n",
    "sns.set(font_scale=5)\n",
    "\n",
    "plt.figure(figsize=(20,18));\n",
    "\n",
    "\n",
    "\n",
    "mpl.rcParams.update({'text.color' : \"white\",\n",
    "                     'axes.labelcolor' : \"white\",\n",
    "                     'xtick.color' : \"white\",\n",
    "                     'ytick.color' : \"white\"})\n",
    "\n",
    "ax = plt.axes()\n",
    "\n",
    "fpr, tpr, thresholds = metrics.roc_curve(y_test, clf.predict_proba(X_test)[:,1] )  # doctest: +SKIP\n",
    "\n",
    "ax.plot( fpr, tpr, lw=10, color='g',\n",
    "        label='AUC = %.2f' % (roc_auc_score(y_test, y_pred)), alpha=.8 )\n",
    "ax.plot([0, 1], [0, 1], linestyle='--', lw=10, color='r',\n",
    "        label='Chance', alpha=.8 )\n",
    "\n",
    "plt.legend()\n",
    "plt.xlabel('False Positive Rate')\n",
    "plt.ylabel('True Positive Rate')\n",
    "\n",
    "plt.savefig('ROC_feb9.png', transparent=True, bbox_inches=\"tight\")\n",
    "plt.show()\n",
    "\n"
   ]
  },
  {
   "cell_type": "code",
   "execution_count": 905,
   "metadata": {},
   "outputs": [],
   "source": [
    "# filename = 'final_model_rand_forest_feb_9_2020.sav'\n",
    "# pickle.dump( clf, open(filename,'wb') )"
   ]
  },
  {
   "cell_type": "code",
   "execution_count": 864,
   "metadata": {},
   "outputs": [],
   "source": [
    "# std = np.std([tree.feature_importances_ for tree in clf.estimators_],\n",
    "#              axis=0)\n",
    "\n",
    "order = np.argsort( clf.feature_importances_ )[::-1][:n]\n",
    "feat_new = [labels[order[ind]+1] for ind in range(0,n-1)]\n",
    "\n",
    "# df = pd.DataFrame( {'importance':np.array(clf.feature_importances_[order]), \n",
    "#     'features':feat_new, 'std':std[order]} )\n",
    "\n",
    "\n",
    "dic_aux = {}\n",
    "dic_aux['Feature'] = []\n",
    "dic_aux['Importance'] = []\n",
    "count = -1\n",
    "for tree in clf.estimators_:\n",
    "    count = count+1\n",
    "    \n",
    "    for ind in range(0,n-1):\n",
    "        dic_aux['Feature'].append( labels[ind+1] )\n",
    "        dic_aux['Importance'].append( tree.feature_importances_[ind] )\n",
    "\n",
    "df = pd.DataFrame.from_dict(dic_aux,orient=\"columns\")\n",
    "\n",
    "sns.set_style(\"whitegrid\")\n",
    "sns.set(font_scale=4)\n",
    "\n",
    "\n",
    "mpl.rcParams.update({'text.color' : \"white\",\n",
    "                     'axes.labelcolor' : \"white\",\n",
    "                     'xtick.color' : \"white\",\n",
    "                     'ytick.color' : \"white\"})\n",
    "\n",
    "\n",
    "plt.figure(figsize=(12*1.5,8*1.5));\n",
    "ax = plt.axes()\n",
    "ax = sns.barplot(x=\"Importance\", y=\"Feature\", data=df, order=feat_new, capsize=0.2 )\n",
    "\n",
    "# plt.savefig('importance_feb9.png', transparent=True, bbox_inches=\"tight\")\n"
   ]
  },
  {
   "cell_type": "code",
   "execution_count": 898,
   "metadata": {},
   "outputs": [
    {
     "name": "stderr",
     "output_type": "stream",
     "text": "/home/emmanuel/miniconda3/lib/python3.7/site-packages/IPython/core/interactiveshell.py:3296: UserWarning: To output multiple subplots, the figure containing the passed axes is being cleared\n  exec(code_obj, self.user_global_ns, self.user_ns)\n-2.9953354787687565\n"
    }
   ],
   "source": [
    "%matplotlib qt\n",
    "sns.set_style(\"whitegrid\")\n",
    "sns.set(font_scale=2)\n",
    "\n",
    "plt.figure(figsize=(20,20))\n",
    "ax = plt.axes()\n",
    "df_tmp.hist(ax=ax,bins=40)\n",
    "plt.tight_layout()\n",
    "\n",
    "plt.show()\n",
    "print(df_tmp['win_rate_map_dif'].min())"
   ]
  },
  {
   "cell_type": "code",
   "execution_count": 6,
   "metadata": {},
   "outputs": [
    {
     "ename": "NameError",
     "evalue": "name 'df_tmp' is not defined",
     "output_type": "error",
     "traceback": [
      "\u001b[0;31m---------------------------------------------------------------------------\u001b[0m",
      "\u001b[0;31mNameError\u001b[0m                                 Traceback (most recent call last)",
      "\u001b[0;32m<ipython-input-6-46befd315618>\u001b[0m in \u001b[0;36m<module>\u001b[0;34m\u001b[0m\n\u001b[0;32m----> 1\u001b[0;31m \u001b[0mcorrelations\u001b[0m \u001b[0;34m=\u001b[0m \u001b[0mdf_tmp\u001b[0m\u001b[0;34m.\u001b[0m\u001b[0mdrop\u001b[0m\u001b[0;34m(\u001b[0m\u001b[0;34m[\u001b[0m\u001b[0;34m't1_win'\u001b[0m\u001b[0;34m]\u001b[0m\u001b[0;34m,\u001b[0m\u001b[0maxis\u001b[0m\u001b[0;34m=\u001b[0m\u001b[0;36m1\u001b[0m\u001b[0;34m)\u001b[0m\u001b[0;34m.\u001b[0m\u001b[0mcorr\u001b[0m\u001b[0;34m(\u001b[0m\u001b[0;34m)\u001b[0m\u001b[0;34m\u001b[0m\u001b[0;34m\u001b[0m\u001b[0m\n\u001b[0m\u001b[1;32m      2\u001b[0m \u001b[0;34m\u001b[0m\u001b[0m\n\u001b[1;32m      3\u001b[0m \u001b[0mget_ipython\u001b[0m\u001b[0;34m(\u001b[0m\u001b[0;34m)\u001b[0m\u001b[0;34m.\u001b[0m\u001b[0mrun_line_magic\u001b[0m\u001b[0;34m(\u001b[0m\u001b[0;34m'matplotlib'\u001b[0m\u001b[0;34m,\u001b[0m \u001b[0;34m'qt'\u001b[0m\u001b[0;34m)\u001b[0m\u001b[0;34m\u001b[0m\u001b[0;34m\u001b[0m\u001b[0m\n\u001b[1;32m      4\u001b[0m \u001b[0;34m\u001b[0m\u001b[0m\n\u001b[1;32m      5\u001b[0m \u001b[0msns\u001b[0m\u001b[0;34m.\u001b[0m\u001b[0mset_style\u001b[0m\u001b[0;34m(\u001b[0m\u001b[0;34m\"whitegrid\"\u001b[0m\u001b[0;34m)\u001b[0m\u001b[0;34m\u001b[0m\u001b[0;34m\u001b[0m\u001b[0m\n",
      "\u001b[0;31mNameError\u001b[0m: name 'df_tmp' is not defined"
     ]
    }
   ],
   "source": [
    "correlations = df_tmp.drop(['t1_win'],axis=1).corr()\n",
    "\n",
    "%matplotlib qt\n",
    "\n",
    "sns.set_style(\"whitegrid\")\n",
    "sns.set(font_scale=2.5)\n",
    "plt.figure(figsize=(15,15));\n",
    "\n",
    "mpl.rcParams.update({'text.color' : \"white\",\n",
    "                     'axes.labelcolor' : \"white\",\n",
    "                     'xtick.color' : \"white\",\n",
    "                     'ytick.color' : \"white\"})\n",
    "ax = plt.axes()\n",
    "\n",
    "sns.heatmap(correlations, vmax=1.0, center=0, fmt='.2f',\n",
    "                square=True, linewidths=.5, annot=True, cbar_kws={\"shrink\": .70}, ax=ax,\n",
    "                xticklabels=labels[1:n],\n",
    "                yticklabels=labels[1:n])\n",
    "plt.tight_layout()\n",
    "\n",
    "plt.show()\n",
    "\n",
    "# plt.savefig('correlations_feb9.png', transparent=True, bbox_inches=\"tight\")\n"
   ]
  }
 ]
}