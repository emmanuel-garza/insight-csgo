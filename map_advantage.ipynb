{
 "nbformat": 4,
 "nbformat_minor": 2,
 "metadata": {
  "language_info": {
   "name": "python",
   "codemirror_mode": {
    "name": "ipython",
    "version": 3
   },
   "version": "3.7.4-final"
  },
  "orig_nbformat": 2,
  "file_extension": ".py",
  "mimetype": "text/x-python",
  "name": "python",
  "npconvert_exporter": "python",
  "pygments_lexer": "ipython3",
  "version": 3,
  "kernelspec": {
   "name": "python37464bitbasecondaeb9f0636332d422a9bbe6ab294d7e162",
   "display_name": "Python 3.7.4 64-bit ('base': conda)"
  }
 },
 "cells": [
  {
   "cell_type": "code",
   "execution_count": 1,
   "metadata": {},
   "outputs": [],
   "source": [
    "# Modues to be used\n",
    "import pandas as pd\n",
    "import numpy as np\n",
    "import json\n",
    "\n",
    "# Global variables\n",
    "MASTER_CSV_PATH = '~/Desktop/csgo-csv/'"
   ]
  },
  {
   "cell_type": "code",
   "execution_count": 2,
   "metadata": {},
   "outputs": [],
   "source": [
    "## READ DATE FROM MASTER ##\n",
    "\n",
    "# Read the data from all years\n",
    "# year_vec = ['2012','2013','2014','2015','2016','2017','2018','2019']\n",
    "\n",
    "year_vec = ['2019']\n",
    "\n",
    "# Empty data frames\n",
    "df_team   = pd.DataFrame( { } )\n",
    "\n",
    "# Append the data from each year\n",
    "for year in year_vec:\n",
    "\n",
    "    file_name = MASTER_CSV_PATH + year + '-team-lvl.csv'\n",
    "    df_team   = df_team.append( pd.read_csv( file_name ), ignore_index=True, sort=False )"
   ]
  },
  {
   "cell_type": "code",
   "execution_count": 39,
   "metadata": {},
   "outputs": [],
   "source": [
    "\n",
    "\n",
    "path = '/home/emmanuel/Desktop/csgo-csv/2019-json/home/emmanuel/Desktop/csgo-data/data/matches-2019/maps/'\n",
    "\n",
    "\n",
    "# Create a dictionary that has all the map results\n",
    "dic = {}\n",
    "for map_name in df_team['map'].unique():\n",
    "    dic[map_name] = []\n",
    "\n",
    "\n",
    "for map_id in df_team['map_id'].unique()[:]:\n",
    "\n",
    "    file_name = path+'hltv_map_'+str(map_id)+'.json'\n",
    "\n",
    "    count_t_win  = 0\n",
    "    count_ct_win = 0\n",
    "\n",
    "    with open(file_name) as f:\n",
    "        try:\n",
    "            data = json.load(f)\n",
    "\n",
    "            map_name = data['map']\n",
    "            round_vec = data['roundHistory']\n",
    "\n",
    "            for round_res in round_vec:\n",
    "\n",
    "                outcome = round_res['outcome']\n",
    "\n",
    "                if (round_res['outcome']=='ct_win') or (round_res['outcome']=='bomb_defused'):\n",
    "                    count_ct_win = count_ct_win + 1\n",
    "                else:\n",
    "                    count_t_win = count_t_win + 1\n",
    "\n",
    "            percent_ct_win = float(count_ct_win)/float(count_ct_win+count_t_win)\n",
    "            dic[map_name].append( percent_ct_win )\n",
    "\n",
    "        except:\n",
    "            continue"
   ]
  },
  {
   "cell_type": "code",
   "execution_count": 40,
   "metadata": {},
   "outputs": [
    {
     "name": "stdout",
     "output_type": "stream",
     "text": "trn avg ct win percent = 0.5415320341892385\n1972\nvertigo avg ct win percent = 0.48241514199666435\n613\ncbl avg ct win percent = 0.6510869565217392\n2\ncch avg ct win percent = 0.4839819775702767\n421\nd2 avg ct win percent = 0.4710535063747762\n2316\nmrg avg ct win percent = 0.5125464383687959\n2939\novp avg ct win percent = 0.5217384724088683\n2086\nnuke avg ct win percent = 0.5397915646637577\n2048\ninf avg ct win percent = 0.48675450474298343\n3049\n"
    }
   ],
   "source": [
    "data['roundHistory']\n",
    "outcome_vec[0]\n",
    "for map_name in set(dic):\n",
    "    try:\n",
    "        print(map_name+' avg ct win percent = '+str(np.average(dic[map_name])))\n",
    "        print(len(dic[map_name]))\n",
    "    except:\n",
    "        continue\n"
   ]
  },
  {
   "cell_type": "code",
   "execution_count": null,
   "metadata": {},
   "outputs": [],
   "source": []
  }
 ]
}