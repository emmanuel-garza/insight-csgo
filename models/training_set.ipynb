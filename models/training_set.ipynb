{
 "nbformat": 4,
 "nbformat_minor": 2,
 "metadata": {
  "language_info": {
   "name": "python",
   "codemirror_mode": {
    "name": "ipython",
    "version": 3
   }
  },
  "orig_nbformat": 2,
  "file_extension": ".py",
  "mimetype": "text/x-python",
  "name": "python",
  "npconvert_exporter": "python",
  "pygments_lexer": "ipython3",
  "version": 3,
  "kernelspec": {
   "name": "python37464bitminiconda3virtualenv7f2e9c966dbc4598b4ce375409bf61d2",
   "display_name": "Python 3.7.4 64-bit ('miniconda3': virtualenv)"
  }
 },
 "cells": [
  {
   "cell_type": "markdown",
   "execution_count": null,
   "metadata": {},
   "outputs": [],
   "source": [
    "# This notebook is exclusively to create the training data set"
   ]
  },
  {
   "cell_type": "code",
   "execution_count": 40,
   "metadata": {},
   "outputs": [],
   "source": [
    "# Modues to be used\n",
    "import pickle\n",
    "import json\n",
    "import numpy as np\n",
    "import pandas as pd\n",
    "\n",
    "from datetime import datetime"
   ]
  },
  {
   "cell_type": "code",
   "execution_count": 2,
   "metadata": {},
   "outputs": [],
   "source": [
    "# Load the original data\n",
    "\n",
    "# -> Player dictionary with the dataFrames\n",
    "f = open('../data/dict_player.pickle', 'rb')\n",
    "dict_player = pickle.load(f)\n",
    "\n",
    "# -> Map dataFrames\n",
    "f = open('../data/df_map.pickle','rb')\n",
    "df_map = pickle.load(f)\n",
    "\n",
    "# -> Map dictionary\n",
    "f = open('../data/dict_map.pickle','rb')\n",
    "dict_map = pickle.load(f)"
   ]
  },
  {
   "cell_type": "code",
   "execution_count": 50,
   "metadata": {},
   "outputs": [
    {
     "data": {
      "text/plain": "36625"
     },
     "execution_count": 50,
     "metadata": {},
     "output_type": "execute_result"
    }
   ],
   "source": [
    "# Loop throughout all of the players and put it in the right map\n",
    "df_map_ranked = ( df_map[ (df_map['date']>datetime(2016,6,6)) & (df_map['team_rank_1']>0) &  (df_map['team_rank_2']>0) ] )\n"
   ]
  },
  {
   "cell_type": "code",
   "execution_count": 108,
   "metadata": {},
   "outputs": [],
   "source": [
    "\n",
    "metric_vec = ['KAST', 'ADR', 'first_kills_diff', 'rating',\n",
    "       'kills_per_round', 'deaths_per_round', 'impact', \n",
    "       'team_score',\n",
    "       'op_score', 'win', 'team_rank', 'prize']\n",
    "\n",
    "map_training_dict = {}\n",
    "\n",
    "for map_id in df_map_ranked['map_id'][:]:\n",
    "    \n",
    "    map_training_dict[map_id] = {}\n",
    "\n",
    "    # Keys for the dictionary\n",
    "    map_training_dict[map_id]['t1_win']    = 0\n",
    "    map_training_dict[map_id]['fav_win']   = 0\n",
    "    map_training_dict[map_id]['map']       = df_map_ranked.at[map_id,'map']\n",
    "    map_training_dict[map_id]['score_dif'] = 0\n",
    "    map_training_dict[map_id]['t1_rank']   = 0\n",
    "    map_training_dict[map_id]['t2_rank']   = 0\n",
    "\n",
    "    # Get who started CT\n",
    "    for t in range(0,2):\n",
    "        for p in range(0,5):\n",
    "            for metric in metric_vec:\n",
    "                map_training_dict[map_id][\n",
    "                    't_'+str(t)+'_p_'+str(p)+'_'+metric] = {}\n",
    "\n",
    "    with open('/home/emmanuel/Desktop/csgo-csv/json_maps/hltv_map_'+str(map_id)+'.json') as f:\n",
    "\n",
    "        data = json.load(f)\n",
    "        id_ct_start = data['roundHistory'][0]['ctTeam']\n",
    "\n",
    "    team_1  = df_map.at[map_id,'team_id_1']\n",
    "    rank_1  = df_map.at[map_id,'team_rank_1']\n",
    "    score_1 = df_map.at[map_id,'team_score_1']\n",
    "\n",
    "    team_2  = df_map.at[map_id,'team_id_2']\n",
    "    rank_2  = df_map.at[map_id,'team_rank_2']\n",
    "    score_2 = df_map.at[map_id,'team_score_2']\n",
    "\n",
    "    if team_1 == id_ct_start:\n",
    "        map_training_dict[map_id]['score_dif'] = score_1-score_2\n",
    "        map_training_dict[map_id]['t1_rank']   = rank_1\n",
    "        map_training_dict[map_id]['t2_rank']   = rank_2\n",
    "\n",
    "        if score_1 > score_2:\n",
    "            map_training_dict[map_id]['t1_win'] = 1\n",
    "        else:\n",
    "            map_training_dict[map_id]['t1_win'] = 0\n",
    "\n",
    "    else:\n",
    "        map_training_dict[map_id]['score_dif'] = score_2-score_1\n",
    "        map_training_dict[map_id]['t1_rank']   = rank_2\n",
    "        map_training_dict[map_id]['t2_rank']   = rank_1\n",
    "\n",
    "        if score_2 > score_1:\n",
    "            map_training_dict[map_id]['t1_win'] = 1\n",
    "        else:\n",
    "            map_training_dict[map_id]['t1_win'] = 0\n",
    "\n",
    "    if ( (map_training_dict[map_id]['score_dif'] > 0) & (map_training_dict[map_id]['t1_rank']<map_training_dict[map_id]['t2_rank']) )|( (map_training_dict[map_id]['score_dif'] < 0) & (map_training_dict[map_id]['t2_rank']<map_training_dict[map_id]['t1_rank']) ):\n",
    "        map_training_dict[map_id]['fav_win'] = 1\n",
    "    "
   ]
  },
  {
   "cell_type": "code",
   "execution_count": 84,
   "metadata": {},
   "outputs": [
    {
     "data": {
      "text/plain": "_prize': {},\n  't_1_p_4_KAST': {},\n  't_1_p_4_ADR': {},\n  't_1_p_4_first_kills_diff': {},\n  't_1_p_4_rating': {},\n  't_1_p_4_kills_per_round': {},\n  't_1_p_4_deaths_per_round': {},\n  't_1_p_4_impact': {},\n  't_1_p_4_team_score': {},\n  't_1_p_4_op_score': {},\n  't_1_p_4_win': {},\n  't_1_p_4_team_rank': {},\n  't_1_p_4_prize': {}},\n 31510: {'t1_win': 0,\n  'fav_win': 0,\n  'map': 'cch',\n  'score_dif': -8,\n  't1_rank': 136,\n  't2_rank': 36,\n  't_0_p_0_KAST': {},\n  't_0_p_0_ADR': {},\n  't_0_p_0_first_kills_diff': {},\n  't_0_p_0_rating': {},\n  't_0_p_0_kills_per_round': {},\n  't_0_p_0_deaths_per_round': {},\n  't_0_p_0_impact': {},\n  't_0_p_0_team_score': {},\n  't_0_p_0_op_score': {},\n  't_0_p_0_win': {},\n  't_0_p_0_team_rank': {},\n  't_0_p_0_prize': {},\n  't_0_p_1_KAST': {},\n  't_0_p_1_ADR': {},\n  't_0_p_1_first_kills_diff': {},\n  't_0_p_1_rating': {},\n  't_0_p_1_kills_per_round': {},\n  't_0_p_1_deaths_per_round': {},\n  't_0_p_1_impact': {},\n  't_0_p_1_team_score': {},\n  't_0_p_1_op_score': {},\n  't_0_p_1_win': {},\n  't_0_p_1_team_rank': {},\n  't_0_p_1_prize': {},\n  't_0_p_2_KAST': {},\n  't_0_p_2_ADR': {},\n  't_0_p_2_first_kills_diff': {},\n  't_0_p_2_rating': {},\n  't_0_p_2_kills_per_round': {},\n  't_0_p_2_deaths_per_round': {},\n  't_0_p_2_impact': {},\n  't_0_p_2_team_score': {},\n  't_0_p_2_op_score': {},\n  't_0_p_2_win': {},\n  't_0_p_2_team_rank': {},\n  't_0_p_2_prize': {},\n  't_0_p_3_KAST': {},\n  't_0_p_3_ADR': {},\n  't_0_p_3_first_kills_diff': {},\n  't_0_p_3_rating': {},\n  't_0_p_3_kills_per_round': {},\n  't_0_p_3_deaths_per_round': {},\n  't_0_p_3_impact': {},\n  't_0_p_3_team_score': {},\n  't_0_p_3_op_score': {},\n  't_0_p_3_win': {},\n  't_0_p_3_team_rank': {},\n  't_0_p_3_prize': {},\n  't_0_p_4_KAST': {},\n  't_0_p_4_ADR': {},\n  't_0_p_4_first_kills_diff': {},\n  't_0_p_4_rating': {},\n  't_0_p_4_kills_per_round': {},\n  't_0_p_4_deaths_per_round': {},\n  't_0_p_4_impact': {},\n  't_0_p_4_team_score': {},\n  't_0_p_4_op_score': {},\n  't_0_p_4_win': {},\n  't_0_p_4_team_rank': {},\n  't_0_p_4_prize': {},\n  't_1_p_0_KAST': {},\n  't_1_p_0_ADR': {},\n  't_1_p_0_first_kills_diff': {},\n  't_1_p_0_rating': {},\n  't_1_p_0_kills_per_round': {},\n  't_1_p_0_deaths_per_round': {},\n  't_1_p_0_impact': {},\n  't_1_p_0_team_score': {},\n  't_1_p_0_op_score': {},\n  't_1_p_0_win': {},\n  't_1_p_0_team_rank': {},\n  't_1_p_0_prize': {},\n  't_1_p_1_KAST': {},\n  't_1_p_1_ADR': {},\n  't_1_p_1_first_kills_diff': {},\n  't_1_p_1_rating': {},\n  't_1_p_1_kills_per_round': {},\n  't_1_p_1_deaths_per_round': {},\n  't_1_p_1_impact': {},\n  't_1_p_1_team_score': {},\n  't_1_p_1_op_score': {},\n  't_1_p_1_win': {},\n  't_1_p_1_team_rank': {},\n  't_1_p_1_prize': {},\n  't_1_p_2_KAST': {},\n  't_1_p_2_ADR': {},\n  't_1_p_2_first_kills_diff': {},\n  't_1_p_2_rating': {},\n  't_1_p_2_kills_per_round': {},\n  't_1_p_2_deaths_per_round': {},\n  't_1_p_2_impact': {},\n  't_1_p_2_team_score': {},\n  't_1_p_2_op_score': {},\n  't_1_p_2_win': {},\n  't_1_p_2_team_rank': {},\n  't_1_p_2_prize': {},\n  't_1_p_3_KAST': {},\n  't_1_p_3_ADR': {},\n  't_1_p_3_first_kills_diff': {},\n  't_1_p_3_rating': {},\n  't_1_p_3_kills_per_round': {},\n  't_1_p_3_deaths_per_round': {},\n  't_1_p_3_impact': {},\n  't_1_p_3_team_score': {},\n  't_1_p_3_op_score': {},\n  't_1_p_3_win': {},\n  't_1_p_3_team_rank': {},\n  't_1_p_3_prize': {},\n  't_1_p_4_KAST': {},\n  't_1_p_4_ADR': {},\n  't_1_p_4_first_kills_diff': {},\n  't_1_p_4_rating': {},\n  't_1_p_4_kills_per_round': {},\n  't_1_p_4_deaths_per_round': {},\n  't_1_p_4_impact': {},\n  't_1_p_4_team_score': {},\n  't_1_p_4_op_score': {},\n  't_1_p_4_win': {},\n  't_1_p_4_team_rank': {},\n  't_1_p_4_prize': {}},\n 31511: {'t1_win': 1,\n  'fav_win': 1,\n  'map': 'mrg',\n  'score_dif': 10,\n  't1_rank': 36,\n  't2_rank': 136,\n  't_0_p_0_KAST': {},\n  't_0_p_0_ADR': {},\n  't_0_p_0_first_kills_diff': {},\n  't_0_p_0_rating': {},\n  't_0_p_0_kills_per_round': {},\n  't_0_p_0_deaths_per_round': {},\n  't_0_p_0_impact': {},\n  't_0_p_0_team_score': {},\n  't_0_p_0_op_score': {},\n  't_0_p_0_win': {},\n  't_0_p_0_team_rank': {},\n  't_0_p_0_prize': {},\n  't_0_p_1_KAST': {},\n  't_0_p_1_ADR': {},\n  't_0_p_1_first_kills_diff': {},\n  't_0_p_1_rating': {},\n  't_0_p_1_kills_per_round': {},\n  't_0_p_1_deaths_per_round': {},\n  't_0_p_1_impact': {},\n  't_0_p_1_team_score': {},\n  't_0_p_1_op_score': {},\n  't_0_p_1_win': {},\n  't_0_p_1_team_rank': {},\n  't_0_p_1_prize': {},\n  't_0_p_2_KAST': {},\n  't_0_p_2_ADR': {},\n  't_0_p_2_first_kills_diff': {},\n  't_0_p_2_rating': {},\n  't_0_p_2_kills_per_round': {},\n  't_0_p_2_deaths_per_round': {},\n  't_0_p_2_impact': {},\n  't_0_p_2_team_score': {},\n  't_0_p_2_op_score': {},\n  't_0_p_2_win': {},\n  't_0_p_2_team_rank': {},\n  't_0_p_2_prize': {},\n  't_0_p_3_KAST': {},\n  't_0_p_3_ADR': {},\n  't_0_p_3_first_kills_diff': {},\n  't_0_p_3_rating': {},\n  't_0_p_3_kills_per_round': {},\n  't_0_p_3_deaths_per_round': {},\n  't_0_p_3_impact': {},\n  't_0_p_3_team_score': {},\n  't_0_p_3_op_score': {},\n  't_0_p_3_win': {},\n  't_0_p_3_team_rank': {},\n  't_0_p_3_prize': {},\n  't_0_p_4_KAST': {},\n  't_0_p_4_ADR': {},\n  't_0_p_4_first_kills_diff': {},\n  't_0_p_4_rating': {},\n  't_0_p_4_kills_per_round': {},\n  't_0_p_4_deaths_per_round': {},\n  't_0_p_4_impact': {},\n  't_0_p_4_team_score': {},\n  't_0_p_4_op_score': {},\n  't_0_p_4_win': {},\n  't_0_p_4_team_rank': {},\n  't_0_p_4_prize': {},\n  't_1_p_0_KAST': {},\n  't_1_p_0_ADR': {},\n  't_1_p_0_first_kills_diff': {},\n  't_1_p_0_rating': {},\n  't_1_p_0_kills_per_round': {},\n  't_1_p_0_deaths_per_round': {},\n  't_1_p_0_impact': {},\n  't_1_p_0_team_score': {},\n  't_1_p_0_op_score': {},\n  't_1_p_0_win': {},\n  't_1_p_0_team_rank': {},\n  't_1_p_0_prize': {},\n  't_1_p_1_KAST': {},\n  't_1_p_1_ADR': {},\n  't_1_p_1_first_kills_diff': {},\n  't_1_p_1_rating': {},\n  't_1_p_1_kills_per_round': {},\n  't_1_p_1_deaths_per_round': {},\n  't_1_p_1_impact': {},\n  't_1_p_1_team_score': {},\n  't_1_p_1_op_score': {},\n  't_1_p_1_win': {},\n  't_1_p_1_team_rank': {},\n  't_1_p_1_prize': {},\n  't_1_p_2_KAST': {},\n  't_1_p_2_ADR': {},\n  't_1_p_2_first_kills_diff': {},\n  't_1_p_2_rating': {},\n  't_1_p_2_kills_per_round': {},\n  't_1_p_2_deaths_per_round': {},\n  't_1_p_2_impact': {},\n  't_1_p_2_team_score': {},\n  't_1_p_2_op_score': {},\n  't_1_p_2_win': {},\n  't_1_p_2_team_rank': {},\n  't_1_p_2_prize': {},\n  't_1_p_3_KAST': {},\n  't_1_p_3_ADR': {},\n  't_1_p_3_first_kills_diff': {},\n  't_1_p_3_rating': {},\n  't_1_p_3_kills_per_round': {},\n  't_1_p_3_deaths_per_round': {},\n  't_1_p_3_impact': {},\n  't_1_p_3_team_score': {},\n  't_1_p_3_op_score': {},\n  't_1_p_3_win': {},\n  't_1_p_3_team_rank': {},\n  't_1_p_3_prize': {},\n  't_1_p_4_KAST': {},\n  't_1_p_4_ADR': {},\n  't_1_p_4_first_kills_diff': {},\n  't_1_p_4_rating': {},\n  't_1_p_4_kills_per_round': {},\n  't_1_p_4_deaths_per_round': {},\n  't_1_p_4_impact': {},\n  't_1_p_4_team_score': {},\n  't_1_p_4_op_score': {},\n  't_1_p_4_win': {},\n  't_1_p_4_team_rank': {},\n  't_1_p_4_prize': {}},\n 31524: {'t1_win': 0,\n  'fav_win': 0,\n  'map': 'cch',\n  'score_dif': -4,\n  't1_rank': 28,\n  't2_rank': 5,\n  't_0_p_0_KAST': {},\n  't_0_p_0_ADR': {},\n  't_0_p_0_first_kills_diff': {},\n  't_0_p_0_rating': {},\n  't_0_p_0_kills_per_round': {},\n  't_0_p_0_deaths_per_round': {},\n  't_0_p_0_impact': {},\n  't_0_p_0_team_score': {},\n  't_0_p_0_op_score': {},\n  't_0_p_0_win': {},\n  't_0_p_0_team_rank': {},\n  't_0_p_0_prize': {},\n  't_0_p_1_KAST': {},\n  't_0_p_1_ADR': {},\n  't_0_p_1_first_kills_diff': {},\n  't_0_p_1_rating': {},\n  't_0_p_1_kills_per_round': {},\n  't_0_p_1_deaths_per_round': {},\n  't_0_p_1_impact': {},\n  't_0_p_1_team_score': {},\n  't_0_p_1_op_score': {},\n  't_0_p_1_win': {},\n  't_0_p_1_team_rank': {},\n  't_0_p_1_prize': {},\n  't_0_p_2_KAST': {},\n  't_0_p_2_ADR': {},\n  't_0_p_2_first_kills_diff': {},\n  't_0_p_2_rating': {},\n  't_0_p_2_kills_per_round': {},\n  't_0_p_2_deaths_per_round': {},\n  't_0_p_2_impact': {},\n  't_0_p_2_team_score': {},\n  't_0_p_2_op_score': {},\n  't_0_p_2_win': {},\n  't_0_p_2_team_rank': {},\n  't_0_p_2_prize': {},\n  't_0_p_3_KAST': {},\n  't_0_p_3_ADR': {},\n  't_0_p_3_first_kills_diff': {},\n  't_0_p_3_rating': {},\n  't_0_p_3_kills_per_round': {},\n  't_0_p_3_deaths_per_round': {},\n  't_0_p_3_impact': {},\n  't_0_p_3_team_score': {},\n  't_0_p_3_op_score': {},\n  't_0_p_3_win': {},\n  't_0_p_3_team_rank': {},\n  't_0_p_3_prize': {},\n  't_0_p_4_KAST': {},\n  't_0_p_4_ADR': {},\n  't_0_p_4_first_kills_diff': {},\n  't_0_p_4_rating': {},\n  't_0_p_4_kills_per_round': {},\n  't_0_p_4_deaths_per_round': {},\n  't_0_p_4_impact': {},\n  't_0_p_4_team_score': {},\n  't_0_p_4_op_score': {},\n  't_0_p_4_win': {},\n  't_0_p_4_team_rank': {},\n  't_0_p_4_prize': {},\n  't_1_p_0_KAST': {},\n  't_1_p_0_ADR': {},\n  't_1_p_0_first_kills_diff': {},\n  't_1_p_0_rating': {},\n  't_1_p_0_kills_per_round': {},\n  't_1_p_0_deaths_per_round': {},\n  't_1_p_0_impact': {},\n  't_1_p_0_team_score': {},\n  't_1_p_0_op_score': {},\n  't_1_p_0_win': {},\n  't_1_p_0_team_rank': {},\n  't_1_p_0_prize': {},\n  't_1_p_1_KAST': {},\n  't_1_p_1_ADR': {},\n  't_1_p_1_first_kills_diff': {},\n  't_1_p_1_rating': {},\n  't_1_p_1_kills_per_round': {},\n  't_1_p_1_deaths_per_round': {},\n  't_1_p_1_impact': {},\n  't_1_p_1_team_score': {},\n  't_1_p_1_op_score': {},\n  't_1_p_1_win': {},\n  't_1_p_1_team_rank': {},\n  't_1_p_1_prize': {},\n  't_1_p_2_KAST': {},\n  't_1_p_2_ADR': {},\n  't_1_p_2_first_kills_diff': {},\n  't_1_p_2_rating': {},\n  't_1_p_2_kills_per_round': {},\n  't_1_p_2_deaths_per_round': {},\n  't_1_p_2_impact': {},\n  't_1_p_2_team_score': {},\n  't_1_p_2_op_score': {},\n  't_1_p_2_win': {},\n  't_1_p_2_team_rank': {},\n  't_1_p_2_prize': {},\n  't_1_p_3_KAST': {},\n  't_1_p_3_ADR': {},\n  't_1_p_3_first_kills_diff': {},\n  't_1_p_3_rating': {},\n  't_1_p_3_kills_per_round': {},\n  't_1_p_3_deaths_per_round': {},\n  't_1_p_3_impact': {},\n  't_1_p_3_team_score': {},\n  't_1_p_3_op_score': {},\n  't_1_p_3_win': {},\n  't_1_p_3_team_rank': {},\n  't_1_p_3_prize': {},\n  't_1_p_4_KAST': {},\n  't_1_p_4_ADR': {},\n  't_1_p_4_first_kills_diff': {},\n  't_1_p_4_rating': {},\n  't_1_p_4_kills_per_round': {},\n  't_1_p_4_deaths_per_round': {},\n  't_1_p_4_impact': {},\n  't_1_p_4_team_score': {},\n  't_1_p_4_op_score': {},\n  't_1_p_4_win': {},\n  't_1_p_4_team_rank': {},\n  't_1_p_4_prize': {}},\n 31528: {'t1_win': 0,\n  'fav_win': 0,\n  'map': 'trn',\n  'score_dif': -2,\n  't1_rank': 28,\n  't2_rank': 5,\n  't_0_p_0_KAST': {},\n  't_0_p_0_ADR': {},\n  't_0_p_0_first_kills_diff': {},\n  't_0_p_0_rating': {},\n  't_0_p_0_kills_per_round': {},\n  't_0_p_0_deaths_per_round': {},\n  't_0_p_0_impact': {},\n  't_0_p_0_team_score': {},\n  't_0_p_0_op_score': {},\n  't_0_p_0_win': {},\n  't_0_p_0_team_rank': {},\n  't_0_p_0_prize': {},\n  't_0_p_1_KAST': {},\n  't_0_p_1_ADR': {},\n  't_0_p_1_first_kills_diff': {},\n  't_0_p_1_rating': {},\n  't_0_p_1_kills_per_round': {},\n  't_0_p_1_deaths_per_round': {},\n  't_0_p_1_impact': {},\n  't_0_p_1_team_score': {},\n  't_0_p_1_op_score': {},\n  't_0_p_1_win': {},\n  't_0_p_1_team_rank': {},\n  't_0_p_1_prize': {},\n  't_0_p_2_KAST': {},\n  't_0_p_2_ADR': {},\n  't_0_p_2_first_kills_diff': {},\n  't_0_p_2_rating': {},\n  't_0_p_2_kills_per_round': {},\n  't_0_p_2_deaths_per_round': {},\n  't_0_p_2_impact': {},\n  't_0_p_2_team_score': {},\n  't_0_p_2_op_score': {},\n  't_0_p_2_win': {},\n  't_0_p_2_team_rank': {},\n  't_0_p_2_prize': {},\n  't_0_p_3_KAST': {},\n  't_0_p_3_ADR': {},\n  't_0_p_3_first_kills_diff': {},\n  't_0_p_3_rating': {},\n  't_0_p_3_kills_per_round': {},\n  't_0_p_3_deaths_per_round': {},\n  't_0_p_3_impact': {},\n  't_0_p_3_team_score': {},\n  't_0_p_3_op_score': {},\n  't_0_p_3_win': {},\n  't_0_p_3_team_rank': {},\n  't_0_p_3_prize': {},\n  't_0_p_4_KAST': {},\n  't_0_p_4_ADR': {},\n  't_0_p_4_first_kills_diff': {},\n  't_0_p_4_rating': {},\n  't_0_p_4_kills_per_round': {},\n  't_0_p_4_deaths_per_round': {},\n  't_0_p_4_impact': {},\n  't_0_p_4_team_score': {},\n  't_0_p_4_op_score': {},\n  't_0_p_4_win': {},\n  't_0_p_4_team_rank': {},\n  't_0_p_4_prize': {},\n  't_1_p_0_KAST': {},\n  't_1_p_0_ADR': {},\n  't_1_p_0_first_kills_diff': {},\n  't_1_p_0_rating': {},\n  't_1_p_0_kills_per_round': {},\n  't_1_p_0_deaths_per_round': {},\n  't_1_p_0_impact': {},\n  't_1_p_0_team_score': {},\n  't_1_p_0_op_score': {},\n  't_1_p_0_win': {},\n  't_1_p_0_team_rank': {},\n  't_1_p_0_prize': {},\n  't_1_p_1_KAST': {},\n  't_1_p_1_ADR': {},\n  't_1_p_1_first_kills_diff': {},\n  't_1_p_1_rating': {},\n  't_1_p_1_kills_per_round': {},\n  't_1_p_1_deaths_per_round': {},\n  't_1_p_1_impact': {},\n  't_1_p_1_team_score': {},\n  't_1_p_1_op_score': {},\n  't_1_p_1_win': {},\n  't_1_p_1_team_rank': {},\n  't_1_p_1_prize': {},\n  't_1_p_2_KAST': {},\n  't_1_p_2_ADR': {},\n  't_1_p_2_first_kills_diff': {},\n  't_1_p_2_rating': {},\n  't_1_p_2_kills_per_round': {},\n  't_1_p_2_deaths_per_round': {},\n  't_1_p_2_impact': {},\n  't_1_p_2_team_score': {},\n  't_1_p_2_op_score': {},\n  't_1_p_2_win': {},\n  't_1_p_2_team_rank': {},\n  't_1_p_2_prize': {},\n  't_1_p_3_KAST': {},\n  't_1_p_3_ADR': {},\n  't_1_p_3_first_kills_diff': {},\n  't_1_p_3_rating': {},\n  't_1_p_3_kills_per_round': {},\n  't_1_p_3_deaths_per_round': {},\n  't_1_p_3_impact': {},\n  't_1_p_3_team_score': {},\n  't_1_p_3_op_score': {},\n  't_1_p_3_win': {},\n  't_1_p_3_team_rank': {},\n  't_1_p_3_prize': {},\n  't_1_p_4_KAST': {},\n  't_1_p_4_ADR': {},\n  't_1_p_4_first_kills_diff': {},\n  't_1_p_4_rating': {},\n  't_1_p_4_kills_per_round': {},\n  't_1_p_4_deaths_per_round': {},\n  't_1_p_4_impact': {},\n  't_1_p_4_team_score': {},\n  't_1_p_4_op_score': {},\n  't_1_p_4_win': {},\n  't_1_p_4_team_rank': {},\n  't_1_p_4_prize': {}},\n 31529: {'t1_win': 0,\n  'fav_win': 0,\n  'map': 'nuke',\n  'score_dif': -13,\n  't1_rank': 19,\n  't2_rank': 20,\n  't_0_p_0_KAST': {},\n  't_0_p_0_ADR': {},\n  't_0_p_0_first_kills_diff': {},\n  't_0_p_0_rating': {},\n  't_0_p_0_kills_per_round': {},\n  't_0_p_0_deaths_per_round': {},\n  't_0_p_0_impact': {},\n  't_0_p_0_team_score': {},\n  't_0_p_0_op_score': {},\n  't_0_p_0_win': {},\n  't_0_p_0_team_rank': {},\n  't_0_p_0_prize': {},\n  't_0_p_1_KAST': {},\n  't_0_p_1_ADR': {},\n  't_0_p_1_first_kills_diff': {},\n  't_0_p_1_rating': {},\n  't_0_p_1_kills_per_round': {},\n  't_0_p_1_deaths_per_round': {},\n  't_0_p_1_impact': {},\n  't_0_p_1_team_score': {},\n  't_0_p_1_op_score': {},\n  't_0_p_1_win': {},\n  't_0_p_1_team_rank': {},\n  't_0_p_1_prize': {},\n  't_0_p_2_KAST': {},\n  't_0_p_2_ADR': {},\n  't_0_p_2_first_kills_diff': {},\n  't_0_p_2_rating': {},\n  't_0_p_2_kills_per_round': {},\n  't_0_p_2_deaths_per_round': {},\n  't_0_p_2_impact': {},\n  't_0_p_2_team_score': {},\n  't_0_p_2_op_score': {},\n  't_0_p_2_win': {},\n  't_0_p_2_team_rank': {},\n  't_0_p_2_prize': {},\n  't_0_p_3_KAST': {},\n  't_0_p_3_ADR': {},\n  't_0_p_3_first_kills_diff': {},\n  't_0_p_3_rating': {},\n  't_0_p_3_kills_per_round': {},\n  't_0_p_3_deaths_per_round': {},\n  't_0_p_3_impact': {},\n  't_0_p_3_team_score': {},\n  't_0_p_3_op_score': {},\n  't_0_p_3_win': {},\n  't_0_p_3_team_rank': {},\n  't_0_p_3_prize': {},\n  't_0_p_4_KAST': {},\n  't_0_p_4_ADR': {},\n  't_0_p_4_first_kills_diff': {},\n  't_0_p_4_rating': {},\n  't_0_p_4_kills_per_round': {},\n  't_0_p_4_deaths_per_round': {},\n  't_0_p_4_impact': {},\n  't_0_p_4_team_score': {},\n  't_0_p_4_op_score': {},\n  't_0_p_4_win': {},\n  't_0_p_4_team_rank': {},\n  't_0_p_4_prize': {},\n  't_1_p_0_KAST': {},\n  't_1_p_0_ADR': {},\n  't_1_p_0_first_kills_diff': {},\n  't_1_p_0_rating': {},\n  't_1_p_0_kills_per_round': {},\n  't_1_p_0_deaths_per_round': {},\n  't_1_p_0_impact': {},\n  't_1_p_0_team_score': {},\n  't_1_p_0_op_score': {},\n  't_1_p_0_win': {},\n  't_1_p_0_team_rank': {},\n  't_1_p_0_prize': {},\n  't_1_p_1_KAST': {},\n  't_1_p_1_ADR': {},\n  't_1_p_1_first_kills_diff': {},\n  't_1_p_1_rating': {},\n  't_1_p_1_kills_per_round': {},\n  't_1_p_1_deaths_per_round': {},\n  't_1_p_1_impact': {},\n  't_1_p_1_team_score': {},\n  't_1_p_1_op_score': {},\n  't_1_p_1_win': {},\n  't_1_p_1_team_rank': {},\n  't_1_p_1_prize': {},\n  't_1_p_2_KAST': {},\n  't_1_p_2_ADR': {},\n  't_1_p_2_first_kills_diff': {},\n  't_1_p_2_rating': {},\n  't_1_p_2_kills_per_round': {},\n  't_1_p_2_deaths_per_round': {},\n  't_1_p_2_impact': {},\n  't_1_p_2_team_score': {},\n  't_1_p_2_op_score': {},\n  't_1_p_2_win': {},\n  't_1_p_2_team_rank': {},\n  't_1_p_2_prize': {},\n  't_1_p_3_KAST': {},\n  't_1_p_3_ADR': {},\n  't_1_p_3_first_kills_diff': {},\n  't_1_p_3_rating': {},\n  't_1_p_3_kills_per_round': {},\n  't_1_p_3_deaths_per_round': {},\n  't_1_p_3_impact': {},\n  't_1_p_3_team_score': {},\n  't_1_p_3_op_score': {},\n  't_1_p_3_win': {},\n  't_1_p_3_team_rank': {},\n  't_1_p_3_prize': {},\n  't_1_p_4_KAST': {},\n  't_1_p_4_ADR': {},\n  't_1_p_4_first_kills_diff': {},\n  't_1_p_4_rating': {},\n  't_1_p_4_kills_per_round': {},\n  't_1_p_4_deaths_per_round': {},\n  't_1_p_4_impact': {},\n  't_1_p_4_team_score': {},\n  't_1_p_4_op_score': {},\n  't_1_p_4_win': {},\n  't_1_p_4_team_rank': {},\n  't_1_p_4_prize': {}},\n 31530: {'t1_win': 0,\n  'fav_win': 0,\n  'map': 'cbl',\n  'score_dif': -3,\n  't1_rank': 55,\n  't2_rank': 44,\n  't_0_p_0_KAST': {},\n  't_0_p_0_ADR': {},\n  't_0_p_0_first_kills_diff': {},\n  't_0_p_0_rating': {},\n  't_0_p_0_kills_per_round': {},\n  't_0_p_0_deaths_per_round': {},\n  't_0_p_0_impact': {},\n  't_0_p_0_team_score': {},\n  't_0_p_0_op_score': {},\n  't_0_p_0_win': {},\n  't_0_p_0_team_rank': {},\n  't_0_p_0_prize': {},\n  't_0_p_1_KAST': {},\n  't_0_p_1_ADR': {},\n  't_0_p_1_first_kills_diff': {},\n  't_0_p_1_rating': {},\n  't_0_p_1_kills_per_round': {},\n  't_0_p_1_deaths_per_round': {},\n  't_0_p_1_impact': {},\n  't_0_p_1_team_score': {},\n  't_0_p_1_op_score': {},\n  't_0_p_1_win': {},\n  't_0_p_1_team_rank': {},\n  't_0_p_1_prize': {},\n  't_0_p_2_KAST': {},\n  't_0_p_2_ADR': {},\n  't_0_p_2_first_kills_diff': {},\n  't_0_p_2_rating': {},\n  't_0_p_2_kills_per_round': {},\n  't_0_p_2_deaths_per_round': {},\n  't_0_p_2_impact': {},\n  't_0_p_2_team_score': {},\n  't_0_p_2_op_score': {},\n  't_0_p_2_win': {},\n  't_0_p_2_team_rank': {},\n  't_0_p_2_prize': {},\n  't_0_p_3_KAST': {},\n  't_0_p_3_ADR': {},\n  't_0_p_3_first_kills_diff': {},\n  't_0_p_3_rating': {},\n  't_0_p_3_kills_per_round': {},\n  't_0_p_3_deaths_per_round': {},\n  't_0_p_3_impact': {},\n  't_0_p_3_team_score': {},\n  't_0_p_3_op_score': {},\n  't_0_p_3_win': {},\n  't_0_p_3_team_rank': {},\n  't_0_p_3_prize': {},\n  't_0_p_4_KAST': {},\n  't_0_p_4_ADR': {},\n  't_0_p_4_first_kills_diff': {},\n  't_0_p_4_rating': {},\n  't_0_p_4_kills_per_round': {},\n  't_0_p_4_deaths_per_round': {},\n  't_0_p_4_impact': {},\n  't_0_p_4_team_score': {},\n  't_0_p_4_op_score': {},\n  't_0_p_4_win': {},\n  't_0_p_4_team_rank': {},\n  't_0_p_4_prize': {},\n  't_1_p_0_KAST': {},\n  't_1_p_0_ADR': {},\n  't_1_p_0_first_kills_diff': {},\n  't_1_p_0_rating': {},\n  't_1_p_0_kills_per_round': {},\n  't_1_p_0_deaths_per_round': {},\n  't_1_p_0_impact': {},\n  't_1_p_0_team_score': {},\n  't_1_p_0_op_score': {},\n  't_1_p_0_win': {},\n  't_1_p_0_team_rank': {},\n  't_1_p_0_prize': {},\n  't_1_p_1_KAST': {},\n  't_1_p_1_ADR': {},\n  't_1_p_1_first_kills_diff': {},\n  't_1_p_1_rating': {},\n  't_1_p_1_kills_per_round': {},\n  't_1_p_1_deaths_per_round': {},\n  't_1_p_1_impact': {},\n  't_1_p_1_team_score': {},\n  't_1_p_1_op_score': {},\n  't_1_p_1_win': {},\n  't_1_p_1_team_rank': {},\n  't_1_p_1_prize': {},\n  't_1_p_2_KAST': {},\n  't_1_p_2_ADR': {},\n  't_1_p_2_first_kills_diff': {},\n  't_1_p_2_rating': {},\n  't_1_p_2_kills_per_round': {},\n  't_1_p_2_deaths_per_round': {},\n  't_1_p_2_impact': {},\n  't_1_p_2_team_score': {},\n  't_1_p_2_op_score': {},\n  't_1_p_2_win': {},\n  't_1_p_2_team_rank': {},\n  't_1_p_2_prize': {},\n  't_1_p_3_KAST': {},\n  't_1_p_3_ADR': {},\n  't_1_p_3_first_kills_diff': {},\n  't_1_p_3_rating': {},\n  't_1_p_3_kills_per_round': {},\n  't_1_p_3_deaths_per_round': {},\n  't_1_p_3_impact': {},\n  't_1_p_3_team_score': {},\n  't_1_p_3_op_score': {},\n  't_1_p_3_win': {},\n  't_1_p_3_team_rank': {},\n  't_1_p_3_prize': {},\n  't_1_p_4_KAST': {},\n  't_1_p_4_ADR': {},\n  't_1_p_4_first_kills_diff': {},\n  't_1_p_4_rating': {},\n  't_1_p_4_kills_per_round': {},\n  't_1_p_4_deaths_per_round': {},\n  't_1_p_4_impact': {},\n  't_1_p_4_team_score': {},\n  't_1_p_4_op_score': {},\n  't_1_p_4_win': {},\n  't_1_p_4_team_rank': {},\n  't_1_p_4_prize': {}}}"
     },
     "execution_count": 84,
     "metadata": {},
     "output_type": "execute_result"
    }
   ],
   "source": [
    "map_training_dict\n",
    "#df_map.keys()"
   ]
  },
  {
   "cell_type": "code",
   "execution_count": 109,
   "metadata": {},
   "outputs": [
    {
     "data": {
      "text/plain": "36625"
     },
     "execution_count": 109,
     "metadata": {},
     "output_type": "execute_result"
    }
   ],
   "source": [
    "df_ct_start = pd.DataFrame.from_dict( map_training_dict,orient='index')\n",
    "len( df_ct_start )\n",
    "\n",
    "# type(data['roundHistory'][0]['ctTeam'])\n",
    "#df_map.loc[34200]"
   ]
  },
  {
   "cell_type": "code",
   "execution_count": 120,
   "metadata": {},
   "outputs": [
    {
     "name": "stdout",
     "output_type": "stream",
     "text": "0.5176948051948052\n"
    },
    {
     "data": {
      "text/plain": "395"
     },
     "execution_count": 120,
     "metadata": {},
     "output_type": "execute_result"
    }
   ],
   "source": [
    "df_ct_start.tail(n=20)\n",
    "print(df_ct_start[df_ct_start['map']=='inf']['t1_win'].mean())\n",
    "df_ct_start['t1_rank'].max()\n",
    "# print(df_ct_start['fav_win'].mean())"
   ]
  },
  {
   "cell_type": "code",
   "execution_count": 151,
   "metadata": {},
   "outputs": [
    {
     "name": "stdout",
     "output_type": "stream",
     "text": "1\n['Helsing']\n1\n['Xizt']\n1\n['f0rest']\n1\n['RpK']\n1\n['fox']\n1\n['TorPe']\n"
    }
   ],
   "source": [
    "\n",
    "count = 0\n",
    "\n",
    "#del df\n",
    "\n",
    "for player_id in dict_player:\n",
    "    \n",
    "    if count == 0:\n",
    "        df = dict_player[player_id].copy().reset_index()\n",
    "    else:\n",
    "        print(1)\n",
    "        print(dict_player[player_id]['player_name'].unique())\n",
    "        df = df.append(dict_player[player_id].reset_index(), ignore_index=True )\n",
    "    \n",
    "    if count > 5:\n",
    "        break\n",
    "\n",
    "    count = count+1"
   ]
  },
  {
   "cell_type": "code",
   "execution_count": 153,
   "metadata": {},
   "outputs": [
    {
     "data": {
      "text/plain": "6925"
     },
     "execution_count": 153,
     "metadata": {},
     "output_type": "execute_result"
    }
   ],
   "source": [
    "len(df.sort_values(['map_id']))"
   ]
  },
  {
   "cell_type": "code",
   "execution_count": 69,
   "metadata": {},
   "outputs": [
    {
     "data": {
      "text/plain": "14107: {4411: {'score': 16,\n   'players_id': array([  39,   29,  884, 7148, 7147]),\n   'win': 1},\n  4555: {'score': 10,\n   'players_id': array([334, 339, 737, 735, 302]),\n   'win': 0}},\n 14108: {4759: {'score': 6,\n   'players_id': array([ 373, 7181,  353,  349, 4382]),\n   'win': 0},\n  4472: {'score': 16,\n   'players_id': array([7387, 7188, 7186, 7184,  414]),\n   'win': 1}},\n 14109: {4759: {'score': 8,\n   'players_id': array([ 373,  353, 7181, 4382,  349]),\n   'win': 0},\n  4472: {'score': 16,\n   'players_id': array([7387, 7188, 7186,  414, 7184]),\n   'win': 1}},\n 14114: {4501: {'score': 15,\n   'players_id': array([7323, 7216, 7218, 7219, 7217]),\n   'win': 0},\n  4615: {'score': 15,\n   'players_id': array([1225,  146, 7581, 7391,  150]),\n   'win': 0}},\n 14115: {4494: {'score': 16,\n   'players_id': array([429, 128, 102,  92,  77]),\n   'win': 1},\n  4685: {'score': 9,\n   'players_id': array([3159, 7491, 7404, 7489, 2154]),\n   'win': 0}},\n 14116: {4494: {'score': 16,\n   'players_id': array([128,  77, 429,  92, 102]),\n   'win': 1},\n  4615: {'score': 12,\n   'players_id': array([1225,  245, 7581, 7391,  146]),\n   'win': 0}},\n 14117: {4609: {'score': 16,\n   'players_id': array([ 472, 1386, 7551, 7550, 7447]),\n   'win': 1},\n  4685: {'score': 13,\n   'players_id': array([2154, 3159, 7489, 7491, 7404]),\n   'win': 0}},\n 14118: {4684: {'score': 16,\n   'players_id': array([7579,  607, 2131,  608, 1866]),\n   'win': 1},\n  4685: {'score': 11,\n   'players_id': array([7489, 7404, 2154, 7491, 3159]),\n   'win': 0}},\n 14119: {4490: {'score': 16,\n   'players_id': array([7208, 7205, 2304, 7206, 7207]),\n   'win': 1},\n  4744: {'score': 10,\n   'players_id': array([7457, 3195, 7204, 6240, 7300]),\n   'win': 0}},\n 14120: {4805: {'score': 12,\n   'players_id': array([5392,   18, 7602, 7603, 4019]),\n   'win': 0},\n  4806: {'score': 16,\n   'players_id': array([  41, 5375, 3073, 7604, 4675]),\n   'win': 1}},\n 14121: {4805: {'score': 13,\n   'players_id': array([7603, 5392, 7602,   18, 4019]),\n   'win': 0},\n  4806: {'score': 16,\n   'players_id': array([  41, 3073, 7604, 4675, 5375]),\n   'win': 1}},\n 14122: {4804: {'score': 8,\n   'players_id': array([7241,  997,  775,   20, 3851]),\n   'win': 0},\n  4761: {'score': 16,\n   'players_id': array([1044, 5455, 3871, 5373, 4233]),\n   'win': 1}},\n 14123: {4804: {'score': 10,\n   'players_id': array([ 775, 7241, 3851,  997,   20]),\n   'win': 0},\n  4761: {'score': 16,\n   'players_id': array([3871, 1044, 4233, 5373, 5455]),\n   'win': 1}},\n 14124: {4761: {'score': 16,\n   'players_id': array([5455, 4233, 5373, 1044, 3871]),\n   'win': 1},\n  4806: {'score': 12,\n   'players_id': array([7604,   41, 4675, 5375, 3073]),\n   'win': 0}},\n 14125: {4761: {'score': 16,\n   'players_id': array([3871, 4233, 5373, 5455, 1044]),\n   'win': 1},\n  4806: {'score': 8,\n   'players_id': array([  41, 4675, 7604, 3073, 5375]),\n   'win': 0}},\n 14126: {4799: {'score': 8,\n   'players_id': array([3124, 7608, 7605, 7607, 7606]),\n   'win': 0},\n  4800: {'score': 16,\n   'players_id': array([1159, 7446, 6056, 7609, 6055]),\n   'win': 1}},\n 14127: {4799: {'score': 5,\n   'players_id': array([7607, 3124, 7605, 7606, 7608]),\n   'win': 0},\n  4800: {'score': 16,\n   'players_id': array([6055, 7446, 6056, 1159, 7609]),\n   'win': 1}},\n 14128: {4802: {'score': 12,\n   'players_id': array([2299, 1197,  641,  638, 5233]),\n   'win': 0},\n  4799: {'score': 16,\n   'players_id': array([7607, 7608, 7606, 3124, 7605]),\n   'win': 1}},\n 14129: {4802: {'score': 16,\n   'players_id': array([2299, 5233, 1197,  638,  641]),\n   'win': 1},\n  4799: {'score': 3,\n   'players_id': array([7607, 7606, 3124, 7605, 7608]),\n   'win': 0}},\n 14130: {4802: {'score': 17,\n   'players_id': array([5233, 2299,  641,  638, 1197]),\n   'win': 0},\n  4799: {'score': 19,\n   'players_id': array([7607, 7606, 7608, 7605, 3124]),\n   'win': 1}},\n 14132: {4800: {'score': 16,\n   'players_id': array([6055, 7446, 1159, 7609, 6056]),\n   'win': 1},\n  4469: {'score': 10,\n   'players_id': array([ 630, 7492,  629, 7183, 5873]),\n   'win': 0}},\n 14133: {4800: {'score': 13,\n   'players_id': array([7609, 6055, 7446, 6056, 1159]),\n   'win': 0},\n  4469: {'score': 16,\n   'players_id': array([7183, 5873, 7492,  630,  629]),\n   'win': 1}},\n 14134: {4800: {'score': 16,\n   'players_id': array([7609, 7446, 6055, 1159, 6056]),\n   'win': 1},\n  4469: {'score': 12,\n   'players_id': array([ 629, 7492, 5873, 7183,  630]),\n   'win': 0}},\n 14135: {4695: {'score': 12,\n   'players_id': array([5479,  691, 5480, 7529, 5562]),\n   'win': 0},\n  4803: {'score': 16,\n   'players_id': array([1007, 3741, 2482, 3291, 2476]),\n   'win': 1}},\n 14136: {4803: {'score': 11,\n   'players_id': array([3741, 3291, 2482, 2476, 1007]),\n   'win': 0},\n  4763: {'score': 16,\n   'players_id': array([5045, 1045, 7527, 2398, 2922]),\n   'win': 1}},\n 14137: {4803: {'score': 5,\n   'players_id': array([3741, 1007, 2482, 2476, 3291]),\n   'win': 0},\n  4763: {'score': 16,\n   'players_id': array([2398, 7527, 2922, 1045, 5045]),\n   'win': 1}},\n 14139: {4490: {'score': 16,\n   'players_id': array([7208, 7205, 2304, 7206, 7207]),\n   'win': 1},\n  4501: {'score': 14,\n   'players_id': array([7216, 7218, 7219, 7323, 7217]),\n   'win': 0}},\n 14140: {4501: {'score': 16,\n   'players_id': array([7219, 7216, 7218, 7323, 7217]),\n   'win': 1},\n  4694: {'score': 3,\n   'players_id': array([7224, 7225, 7302, 7228, 7227]),\n   'win': 0}},\n 14141: {4623: {'score': 16,\n   'players_id': array([   7,   58, 4954,  545, 5772]),\n   'win': 1},\n  4683: {'score': 8,\n   'players_id': array([ 798, 7476, 7450, 2757, 3142]),\n   'win': 0}},\n 14142: {4687: {'score': 16,\n   'players_id': array([7497, 4870, 7495, 7498, 7496]),\n   'win': 1},\n  4501: {'score': 14,\n   'players_id': array([7217, 7218, 7219, 7216, 7323]),\n   'win': 0}},\n 14143: {4689: {'score': 16,\n   'players_id': array([7511, 7571, 7512, 7508, 7509]),\n   'win': 1},\n  4743: {'score': 11,\n   'players_id': array([7546, 7549, 7572, 7548, 7547]),\n   'win': 0}},\n 14177: {4496: {'score': 16,\n   'players_id': array([ 822, 5796, 1104, 3252, 1064]),\n   'win': 1},\n  4743: {'score': 7,\n   'players_id': array([7549, 7546, 7548, 7593, 7547]),\n   'win': 0}},\n 14178: {4687: {'score': 16,\n   'players_id': array([7497, 4870, 7495, 7498, 7496]),\n   'win': 1},\n  4744: {'score': 10,\n   'players_id': array([7300, 7457, 3195, 7204, 6240]),\n   'win': 0}},\n 14179: {4494: {'score': 16,\n   'players_id': array([ 77, 429, 128,  92, 102]),\n   'win': 1},\n  4743: {'score': 2,\n   'players_id': array([7547, 7593, 7548, 7549, 7546]),\n   'win': 0}},\n 14180: {4694: {'score': 16,\n   'players_id': array([7227, 7302, 7228, 7224, 7225]),\n   'win': 1},\n  4496: {'score': 3,\n   'players_id': array([1064, 3252,  822, 5796, 1104]),\n   'win': 0}},\n 14181: {4689: {'score': 16,\n   'players_id': array([7509, 7511, 7508, 7571, 7512]),\n   'win': 1},\n  4492: {'score': 8,\n   'players_id': array([4922, 7524, 3197, 7525, 5292]),\n   'win': 0}},\n 14182: {4501: {'score': 16,\n   'players_id': array([7217, 7216, 7323, 7219, 7218]),\n   'win': 1},\n  4496: {'score': 10,\n   'players_id': array([5796, 1064,  822, 3252, 1104]),\n   'win': 0}},\n 14183: {4490: {'score': 16,\n   'players_id': array([2304, 7208, 7205, 7206, 7207]),\n   'win': 1},\n  4687: {'score': 1,\n   'players_id': array([4870, 7495, 7498, 7497, 7496]),\n   'win': 0}},\n 14184: {4411: {'score': 16,\n   'players_id': array([  29,   39,  884, 7148, 7147]),\n   'win': 1},\n  4552: {'score': 3,\n   'players_id': array([7463, 5287, 7239, 7152, 7411]),\n   'win': 0}},\n 14185: {4411: {'score': 16,\n   'players_id': array([  29, 7148,   39,  884, 7147]),\n   'win': 1},\n  4552: {'score': 12,\n   'players_id': array([7463, 7411, 5287, 7152, 7239]),\n   'win': 0}},\n 14186: {4532: {'score': 16,\n   'players_id': array([317, 161, 165, 163, 162]),\n   'win': 1},\n  4490: {'score': 5,\n   'players_id': array([2304, 7205, 7208, 7206, 7207]),\n   'win': 0}},\n 14187: {4532: {'score': 16,\n   'players_id': array([161, 317, 163, 162, 165]),\n   'win': 1},\n  4490: {'score': 5,\n   'players_id': array([7205, 7207, 2304, 7208, 7206]),\n   'win': 0}},\n 14188: {4775: {'score': 16,\n   'players_id': array([7412, 7413, 7156, 7154, 6796]),\n   'win': 1},\n  4826: {'score': 7,\n   'players_id': array([7613, 5042, 1672, 1429, 3964]),\n   'win': 0}},\n 14189: {4775: {'score': 16,\n   'players_id': array([7413, 7154, 6796, 7156, 7412]),\n   'win': 1},\n  4826: {'score': 9,\n   'players_id': array([5042, 1672, 7613, 1429, 3964]),\n   'win': 0}},\n 14190: {4624: {'score': 19,\n   'players_id': array([7436, 7438, 7440, 7596, 7595]),\n   'win': 1},\n  4822: {'score': 15,\n   'players_id': array([7162, 7612, 7293, 7163, 7296]),\n   'win': 0}},\n 14192: {4624: {'score': 16,\n   'players_id': array([7440, 7595, 7438, 7596, 7436]),\n   'win': 1},\n  4822: {'score': 4,\n   'players_id': array([7293, 7296, 7162, 7163, 7612]),\n   'win': 0}},\n 14193: {4679: {'score': 16,\n   'players_id': array([2123, 7277, 1040, 7165, 7279]),\n   'win': 1},\n  4579: {'score': 8,\n   'players_id': array([7381, 7552, 2730, 2712, 1140]),\n   'win': 0}},\n 14194: {4679: {'score': 16,\n   'players_id': array([7279, 7277, 1040, 2123, 7165]),\n   'win': 1},\n  4579: {'score': 9,\n   'players_id': array([2730, 7552, 1140, 2712, 7381]),\n   'win': 0}},\n 14195: {4647: {'score': 16,\n   'players_id': array([1915, 7347, 7348, 2644, 7437]),\n   'win': 1},\n  4445: {'score': 7,\n   'players_id': array([7161, 7401, 7611, 7160, 7414]),\n   'win': 0}},\n 14196: {4647: {'score': 16,\n   'players_id': array([2644, 1915, 7437, 7348, 7347]),\n   'win': 1},\n  4445: {'score': 7,\n   'players_id': array([7611, 7161, 7401, 7160, 7414]),\n   'win': 0}},\n 14197: {4835: {'score': 16,\n   'players_id': array([7464, 7487, 1889,  922,  921]),\n   'win': 1},\n  4742: {'score': 13,\n   'players_id': array([ 478,  499, 2621, 7594,  736]),\n   'win': 0}},\n 14198: {4835: {'score': 16,\n   'players_id': array([1889, 7464,  922, 7487,  921]),\n   'win': 1},\n  4742: {'score': 9,\n   'players_id': array([ 499, 2621, 7594,  478,  736]),\n   'win': 0}},\n 14199: {4555: {'score': 16,\n   'players_id': array([334, 339, 302, 735, 737]),\n   'win': 1},\n  4761: {'score': 11,\n   'players_id': array([5373, 4233, 1044, 3871, 5455]),\n   'win': 0}},\n 14200: {4555: {'score': 16,\n   'players_id': array([302, 339, 735, 737, 334]),\n   'win': 1},\n  4761: {'score': 6,\n   'players_id': array([5455, 1044, 5373, 3871, 4233]),\n   'win': 0}},\n 14201: {4631: {'score': 16,\n   'players_id': array([ 713,  971,  695, 3894,  970]),\n   'win': 1},\n  4716: {'score': 14,\n   'players_id': array([7151, 7408, 7150, 7149, 7153]),\n   'win': 0}},\n 14202: {4631: {'score': 16,\n   'players_id': array([ 695,  971,  713, 3894,  970]),\n   'win': 1},\n  4716: {'score': 6,\n   'players_id': array([7408, 7149, 7150, 7151, 7153]),\n   'win': 0}},\n 14203: {4467: {'score': 16,\n   'players_id': array([7170, 7166, 7167, 7168, 7390]),\n   'win': 1},\n  4413: {'score': 4,\n   'players_id': array([7445, 7443, 7441, 7422, 7444]),\n   'win': 0}},\n 14204: {4467: {'score': 11,\n   'players_id': array([7390, 7170, 7168, 7166, 7167]),\n   'win': 0},\n  4413: {'score': 16,\n   'players_id': array([7444, 7445, 7443, 7441, 7422]),\n   'win': 1}},\n 14205: {4467: {'score': 16,\n   'players_id': array([7170, 7167, 7390, 7168, 7166]),\n   'win': 1},\n  4413: {'score': 10,\n   'players_id': array([7445, 7444, 7441, 7443, 7422]),\n   'win': 0}},\n 14206: {4611: {'score': 8,\n   'players_id': array([3631, 7288,  972, 7396, 7289]),\n   'win': 0},\n  4501: {'score': 16,\n   'players_id': array([7216, 7219, 7218, 7217, 7323]),\n   'win': 1}},\n 14207: {4611: {'score': 16,\n   'players_id': array([7288, 3631,  972, 7396, 7289]),\n   'win': 1},\n  4501: {'score': 4,\n   'players_id': array([7218, 7217, 7219, 7216, 7323]),\n   'win': 0}},\n 14208: {4611: {'score': 16,\n   'players_id': array([ 972, 7288, 7396, 3631, 7289]),\n   'win': 1},\n  4501: {'score': 11,\n   'players_id': array([7219, 7218, 7216, 7217, 7323]),\n   'win': 0}},\n 14209: {4548: {'score': 16,\n   'players_id': array([2469, 7584, 7398, 7582, 7583]),\n   'win': 1},\n  4831: {'score': 4,\n   'players_id': array([7157, 5926, 5913, 7415, 6124]),\n   'win': 0}},\n 14210: {4548: {'score': 16,\n   'players_id': array([7584, 7583, 2469, 7582, 7398]),\n   'win': 1},\n  4831: {'score': 9,\n   'players_id': array([6124, 5926, 7157, 7415, 5913]),\n   'win': 0}},\n 14211: {4608: {'score': 16,\n   'players_id': array([338, 484, 483, 301, 303]),\n   'win': 1},\n  4606: {'score': 6,\n   'players_id': array([1480, 7397, 7259,   15,  645]),\n   'win': 0}},\n 14212: {4608: {'score': 16,\n   'players_id': array([303, 483, 301, 484, 338]),\n   'win': 1},\n  4606: {'score': 8,\n   'players_id': array([ 645, 7259, 1480, 7397,   15]),\n   'win': 0}},\n 14213: {4494: {'score': 14,\n   'players_id': array([128, 429,  77, 102,  92]),\n   'win': 0},\n  4828: {'score': 16,\n   'players_id': array([ 515, 2468, 1832, 2155, 2367]),\n   'win': 1}},\n 14214: {4494: {'score': 16,\n   'players_id': array([ 77, 128, 429,  92, 102]),\n   'win': 1},\n  4828: {'score': 9,\n   'players_id': array([1832, 2155,  515, 2468, 2367]),\n   'win': 0}},\n 14215: {4494: {'score': 16,\n   'players_id': array([429,  77, 102,  92, 128]),\n   'win': 1},\n  4828: {'score': 13,\n   'players_id': array([2155,  515, 1832, 2367, 2468]),\n   'win': 0}},\n 14216: {4683: {'score': 16,\n   'players_id': array([2757, 7476, 3142,  798, 7450]),\n   'win': 1},\n  4844: {'score': 13,\n   'players_id': array([3843, 1910, 7623, 5046, 7622]),\n   'win': 0}},\n 14217: {4683: {'score': 16,\n   'players_id': array([2757,  798, 7476, 3142, 7450]),\n   'win': 1},\n  4844: {'score': 14,\n   'players_id': array([3843, 7623, 5046, 1910, 7622]),\n   'win': 0}},\n 14218: {4623: {'score': 16,\n   'players_id': array([   7, 5772,  545,   58, 4954]),\n   'win': 1},\n  4688: {'score': 14,\n   'players_id': array([3055, 3849, 3847, 7442, 7378]),\n   'win': 0}},\n 14219: {4623: {'score': 12,\n   'players_id': array([ 545,   58, 5772,    7, 4954]),\n   'win': 0},\n  4688: {'score': 16,\n   'players_id': array([3849, 3055, 7378, 3847, 7442]),\n   'win': 1}},\n 14220: {4623: {'score': 16,\n   'players_id': array([ 545, 4954,    7,   58, 5772]),\n   'win': 1},\n  4688: {'score': 13,\n   'players_id': array([3849, 3055, 3847, 7378, 7442]),\n   'win': 0}},\n 14221: {4411: {'score': 16,\n   'players_id': array([  39, 7148, 7147,  884,   29]),\n   'win': 1},\n  4716: {'score': 1,\n   'players_id': array([7150, 7151, 7408, 7149, 7153]),\n   'win': 0}},\n 14222: {4411: {'score': 16,\n   'players_id': array([  29, 7147,   39,  884, 7148]),\n   'win': 1},\n  4716: {'score': 5,\n   'players_id': array([7149, 7150, 7151, 7408, 7153]),\n   'win': 0}},\n 14223: {4467: {'score': 16,\n   'players_id': array([7167, 7166, 7390, 7168, 7170]),\n   'win': 1},\n  4844: {'score': 1,\n   'players_id': array([7622, 7623, 1910, 3843, 5046]),\n   'win': 0}},\n 14224: {4467: {'score': 16,\n   'players_id': array([7167, 7170, 7168, 7390, 7166]),\n   'win': 1},\n  4844: {'score': 1,\n   'players_id': array([7622, 3843, 7623, 5046, 1910]),\n   'win': 0}},\n 14225: {4828: {'score': 16,\n   'players_id': array([ 515, 2468, 2155, 1832, 2367]),\n   'win': 1},\n  4490: {'score': 1,\n   'players_id': array([7208, 2304, 7207, 7206, 7205]),\n   'win': 0}},\n 14226: {4828: {'score': 16,\n   'players_id': array([2155, 1832, 2367, 2468,  515]),\n   'win': 1},\n  4490: {'score': 9,\n   'players_id': array([2304, 7208, 7206, 7205, 7207]),\n   'win': 0}},\n 14227: {4624: {'score': 16,\n   'players_id': array([7438, 7440, 7595, 7596, 7436]),\n   'win': 1},\n  4579: {'score': 9,\n   'players_id': array([2730, 1140, 7552, 2712, 7381]),\n   'win': 0}},\n 14228: {4624: {'score': 16,\n   'players_id': array([7440, 7596, 7438, 7595, 7436]),\n   'win': 1},\n  4579: {'score': 14,\n   'players_id': array([7552, 1140, 2712, 2730, 7381]),\n   'win': 0}},\n 14229: {4775: {'score': 16,\n   'players_id': array([7412, 7156, 7413, 7154, 6796]),\n   'win': 1},\n  4831: {'score': 8,\n   'players_id': array([5926, 7157, 7415, 5913, 6124]),\n   'win': 0}},\n 14231: {4413: {'score': 16,\n   'players_id': array([7441, 7422, 7443, 7444, 7445]),\n   'win': 1},\n  4683: {'score': 5,\n   'players_id': array([2757,  798, 7450, 7476, 3142]),\n   'win': 0}},\n 14232: {4413: {'score': 16,\n   'players_id': array([7443, 7445, 7444, 7422, 7441]),\n   'win': 1},\n  4683: {'score': 12,\n   'players_id': array([2757,  798, 3142, 7450, 7476]),\n   'win': 0}},\n 14233: {4775: {'score': 16,\n   'players_id': array([7412, 7156, 7413, 6796, 7154]),\n   'win': 1},\n  4831: {'score': 13,\n   'players_id': array([5926, 6124, 5913, 7157, 7415]),\n   'win': 0}},\n 14234: {4555: {'score': 16,\n   'players_id': array([339, 737, 735, 302, 334]),\n   'win': 1},\n  4835: {'score': 2,\n   'players_id': array([ 922, 7464,  921, 7487, 1889]),\n   'win': 0}},\n 14235: {4555: {'score': 16,\n   'players_id': array([735, 334, 302, 339, 737]),\n   'win': 1},\n  4835: {'score': 11,\n   'players_id': array([7464, 7487, 1889,  922,  921]),\n   'win': 0}},\n 14236: {4494: {'score': 16,\n   'players_id': array([ 77, 429, 128,  92, 102]),\n   'win': 1},\n  4532: {'score': 3,\n   'players_id': array([317, 165, 161, 162, 163]),\n   'win': 0}},\n 14237: {4494: {'score': 16,\n   'players_id': array([128, 429,  92,  77, 102]),\n   'win': 1},\n  4532: {'score': 11,\n   'players_id': array([165, 317, 162, 161, 163]),\n   'win': 0}},\n 14238: {4631: {'score': 19,\n   'players_id': array([ 695, 3894,  971,  970,  713]),\n   'win': 1},\n  4552: {'score': 16,\n   'players_id': array([7411, 7152, 7239, 7463, 5287]),\n   'win': 0}},\n 14240: {4631: {'score': 16,\n   'players_id': array([ 971,  713, 3894,  695,  970]),\n   'win': 1},\n  4552: {'score': 8,\n   'players_id': array([7463, 5287, 7239, 7152, 7411]),\n   'win': 0}},\n 14241: {4679: {'score': 16,\n   'players_id': array([7279, 2123, 1040, 7165, 7277]),\n   'win': 1},\n  4822: {'score': 6,\n   'players_id': array([7162, 7296, 7163, 7612, 7293]),\n   'win': 0}},\n 14242: {4679: {'score': 16,\n   'players_id': array([7277, 1040, 7165, 2123, 7279]),\n   'win': 1},\n  4822: {'score': 14,\n   'players_id': array([7612, 7293, 7162, 7163, 7296]),\n   'win': 0}},\n 14243: {4623: {'score': 16,\n   'players_id': array([4954,  545, 5772,    7,   58]),\n   'win': 1},\n  4606: {'score': 0,\n   'players_id': array([  15, 1480,  645, 7259, 7397]),\n   'win': 0}},\n 14244: {4623: {'score': 16,\n   'players_id': array([ 545, 4954,    7, 5772,   58]),\n   'win': 1},\n  4606: {'score': 9,\n   'players_id': array([  15, 7259,  645, 7397, 1480]),\n   'win': 0}},\n 14245: {4548: {'score': 16,\n   'players_id': array([7398, 7582, 2469, 7583, 7584]),\n   'win': 1},\n  4826: {'score': 13,\n   'players_id': array([3964, 1429, 1672, 7613, 5042]),\n   'win': 0}},\n 14246: {4548: {'score': 16,\n   'players_id': array([7584, 2469, 7582, 7583, 7398]),\n   'win': 1},\n  4826: {'score': 12,\n   'players_id': array([3964, 5042, 7613, 1672, 1429]),\n   'win': 0}},\n 14247: {4761: {'score': 16,\n   'players_id': array([5455, 4233, 5373, 1044, 3871]),\n   'win': 1},\n  4742: {'score': 6,\n   'players_id': array([7594, 2621,  499,  736,  478]),\n   'win': 0}},\n 14248: {4647: {'score': 19,\n   'players_id': array([7347, 2644, 1915, 7348, 7437]),\n   'win': 1},\n  4501: {'score': 17,\n   'players_id': array([7218, 7216, 7219, 7217, 7323]),\n   'win': 0}},\n 14250: {4647: {'score': 14,\n   'players_id': array([1915, 2644, 7437, 7347, 7348]),\n   'win': 0},\n  4501: {'score': 16,\n   'players_id': array([7216, 7323, 7218, 7219, 7217]),\n   'win': 1}},\n 14251: {4647: {'score': 16,\n   'players_id': array([2644, 7437, 1915, 7347, 7348]),\n   'win': 1},\n  4501: {'score': 7,\n   'players_id': array([7217, 7218, 7323, 7216, 7219]),\n   'win': 0}},\n 14252: {4608: {'score': 13,\n   'players_id': array([483, 303, 338, 301, 484]),\n   'win': 0},\n  4688: {'score': 16,\n   'players_id': array([3849, 3055, 7378, 3847, 7442]),\n   'win': 1}},\n 14253: {4608: {'score': 16,\n   'players_id': array([338, 484, 483, 301, 303]),\n   'win': 1},\n  4688: {'score': 12,\n   'players_id': array([3849, 3055, 3847, 7378, 7442]),\n   'win': 0}},\n 14254: {4608: {'score': 13,\n   'players_id': array([303, 484, 338, 483, 301]),\n   'win': 0},\n  4688: {'score': 16,\n   'players_id': array([3849, 7378, 3055, 3847, 7442]),\n   'win': 1}},\n ...}"
     },
     "execution_count": 69,
     "metadata": {},
     "output_type": "execute_result"
    }
   ],
   "source": [
    "dict_map\n",
    "\n",
    "#dict_player[30].keys()"
   ]
  },
  {
   "cell_type": "code",
   "execution_count": null,
   "metadata": {},
   "outputs": [],
   "source": []
  }
 ]
}