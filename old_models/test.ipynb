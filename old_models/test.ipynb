{
 "nbformat": 4,
 "nbformat_minor": 2,
 "metadata": {
  "language_info": {
   "name": "python",
   "codemirror_mode": {
    "name": "ipython",
    "version": 3
   },
   "version": "3.7.3-final"
  },
  "orig_nbformat": 2,
  "file_extension": ".py",
  "mimetype": "text/x-python",
  "name": "python",
  "npconvert_exporter": "python",
  "pygments_lexer": "ipython3",
  "version": 3,
  "kernelspec": {
   "name": "python37364bitbaseconda3da214ea25fa43d9bad19d4aa933781a",
   "display_name": "Python 3.7.3 64-bit ('base': conda)"
  }
 },
 "cells": [
  {
   "cell_type": "code",
   "execution_count": 1,
   "metadata": {},
   "outputs": [],
   "source": [
    "# Modues to be used\n",
    "import pandas as pd\n",
    "import matplotlib.pyplot as plt\n",
    "import time\n",
    "import numpy as np\n",
    "import json\n",
    "# import csgostats\n",
    "\n",
    "import pickle\n",
    "\n",
    "# Global variables\n",
    "# MASTER_CSV_PATH = '~/Dropbox/csgo-csv/'\n",
    "MASTER_CSV_PATH = '~/Desktop/csgo-csv/'"
   ]
  },
  {
   "cell_type": "code",
   "execution_count": 7,
   "metadata": {},
   "outputs": [],
   "source": [
    "# with open('dict_player.pickle','rb') as f:\n",
    "#    dict_player = pickle.load(f)\n",
    "f = open('dict_player.pickle', 'rb')\n",
    "\n",
    "dict_player = pickle.load(f)"
   ]
  },
  {
   "cell_type": "code",
   "execution_count": 10,
   "metadata": {},
   "outputs": [
    {
     "data": {
      "text/html": "<div>\n<style scoped>\n    .dataframe tbody tr th:only-of-type {\n        vertical-align: middle;\n    }\n\n    .dataframe tbody tr th {\n        vertical-align: top;\n    }\n\n    .dataframe thead th {\n        text-align: right;\n    }\n</style>\n<table border=\"1\" class=\"dataframe\">\n  <thead>\n    <tr style=\"text-align: right;\">\n      <th></th>\n      <th>map</th>\n      <th>date</th>\n      <th>team_id</th>\n      <th>team_name</th>\n      <th>player_id</th>\n      <th>player_name</th>\n      <th>kills</th>\n      <th>hs_kills</th>\n      <th>assists</th>\n      <th>flash_assists</th>\n      <th>...</th>\n      <th>first_kills_diff</th>\n      <th>rating</th>\n      <th>kills_per_round</th>\n      <th>deaths_per_round</th>\n      <th>impact</th>\n      <th>team_score</th>\n      <th>op_score</th>\n      <th>win</th>\n      <th>team_rank</th>\n      <th>prize</th>\n    </tr>\n    <tr>\n      <th>map_id</th>\n      <th></th>\n      <th></th>\n      <th></th>\n      <th></th>\n      <th></th>\n      <th></th>\n      <th></th>\n      <th></th>\n      <th></th>\n      <th></th>\n      <th></th>\n      <th></th>\n      <th></th>\n      <th></th>\n      <th></th>\n      <th></th>\n      <th></th>\n      <th></th>\n      <th></th>\n      <th></th>\n      <th></th>\n    </tr>\n  </thead>\n  <tbody>\n    <tr>\n      <th>59738</th>\n      <td>cch</td>\n      <td>2018-01-12 23:25:00</td>\n      <td>5752</td>\n      <td>Cloud9</td>\n      <td>8797</td>\n      <td>Stewie2K</td>\n      <td>20</td>\n      <td>9</td>\n      <td>6</td>\n      <td>2</td>\n      <td>...</td>\n      <td>2</td>\n      <td>1.22</td>\n      <td>0.74</td>\n      <td>0.48</td>\n      <td>0.95</td>\n      <td>16</td>\n      <td>11</td>\n      <td>1</td>\n      <td>5</td>\n      <td>0.000000</td>\n    </tr>\n    <tr>\n      <th>59786</th>\n      <td>inf</td>\n      <td>2018-01-13 20:00:00</td>\n      <td>5752</td>\n      <td>Cloud9</td>\n      <td>8797</td>\n      <td>Stewie2K</td>\n      <td>23</td>\n      <td>14</td>\n      <td>4</td>\n      <td>2</td>\n      <td>...</td>\n      <td>3</td>\n      <td>1.79</td>\n      <td>1.10</td>\n      <td>0.43</td>\n      <td>2.16</td>\n      <td>16</td>\n      <td>5</td>\n      <td>1</td>\n      <td>5</td>\n      <td>0.000000</td>\n    </tr>\n    <tr>\n      <th>59819</th>\n      <td>trn</td>\n      <td>2018-01-14 22:35:00</td>\n      <td>5752</td>\n      <td>Cloud9</td>\n      <td>8797</td>\n      <td>Stewie2K</td>\n      <td>17</td>\n      <td>7</td>\n      <td>5</td>\n      <td>2</td>\n      <td>...</td>\n      <td>-1</td>\n      <td>1.20</td>\n      <td>0.81</td>\n      <td>0.67</td>\n      <td>0.78</td>\n      <td>16</td>\n      <td>5</td>\n      <td>1</td>\n      <td>5</td>\n      <td>0.000000</td>\n    </tr>\n    <tr>\n      <th>59934</th>\n      <td>cch</td>\n      <td>2018-01-19 20:15:00</td>\n      <td>5752</td>\n      <td>Cloud9</td>\n      <td>8797</td>\n      <td>Stewie2K</td>\n      <td>13</td>\n      <td>7</td>\n      <td>5</td>\n      <td>1</td>\n      <td>...</td>\n      <td>-3</td>\n      <td>0.86</td>\n      <td>0.54</td>\n      <td>0.75</td>\n      <td>0.91</td>\n      <td>8</td>\n      <td>16</td>\n      <td>0</td>\n      <td>6</td>\n      <td>0.000000</td>\n    </tr>\n    <tr>\n      <th>59964</th>\n      <td>cbl</td>\n      <td>2018-01-20 15:50:00</td>\n      <td>5752</td>\n      <td>Cloud9</td>\n      <td>8797</td>\n      <td>Stewie2K</td>\n      <td>12</td>\n      <td>4</td>\n      <td>5</td>\n      <td>0</td>\n      <td>...</td>\n      <td>-5</td>\n      <td>0.67</td>\n      <td>0.41</td>\n      <td>0.83</td>\n      <td>0.66</td>\n      <td>13</td>\n      <td>16</td>\n      <td>0</td>\n      <td>6</td>\n      <td>0.000000</td>\n    </tr>\n    <tr>\n      <th>60001</th>\n      <td>mrg</td>\n      <td>2018-01-21 21:35:00</td>\n      <td>5752</td>\n      <td>Cloud9</td>\n      <td>8797</td>\n      <td>Stewie2K</td>\n      <td>26</td>\n      <td>10</td>\n      <td>2</td>\n      <td>0</td>\n      <td>...</td>\n      <td>2</td>\n      <td>1.63</td>\n      <td>1.13</td>\n      <td>0.61</td>\n      <td>1.69</td>\n      <td>16</td>\n      <td>7</td>\n      <td>1</td>\n      <td>6</td>\n      <td>0.000000</td>\n    </tr>\n    <tr>\n      <th>60017</th>\n      <td>trn</td>\n      <td>2018-01-22 16:40:00</td>\n      <td>5752</td>\n      <td>Cloud9</td>\n      <td>8797</td>\n      <td>Stewie2K</td>\n      <td>19</td>\n      <td>10</td>\n      <td>2</td>\n      <td>0</td>\n      <td>...</td>\n      <td>0</td>\n      <td>1.26</td>\n      <td>0.86</td>\n      <td>0.59</td>\n      <td>1.48</td>\n      <td>16</td>\n      <td>6</td>\n      <td>1</td>\n      <td>6</td>\n      <td>0.000000</td>\n    </tr>\n    <tr>\n      <th>60031</th>\n      <td>mrg</td>\n      <td>2018-01-22 23:15:00</td>\n      <td>5752</td>\n      <td>Cloud9</td>\n      <td>8797</td>\n      <td>Stewie2K</td>\n      <td>22</td>\n      <td>9</td>\n      <td>1</td>\n      <td>0</td>\n      <td>...</td>\n      <td>4</td>\n      <td>1.75</td>\n      <td>1.10</td>\n      <td>0.50</td>\n      <td>2.05</td>\n      <td>16</td>\n      <td>4</td>\n      <td>1</td>\n      <td>6</td>\n      <td>0.000000</td>\n    </tr>\n    <tr>\n      <th>60173</th>\n      <td>mrg</td>\n      <td>2018-01-26 20:55:00</td>\n      <td>5752</td>\n      <td>Cloud9</td>\n      <td>8797</td>\n      <td>Stewie2K</td>\n      <td>18</td>\n      <td>12</td>\n      <td>5</td>\n      <td>1</td>\n      <td>...</td>\n      <td>2</td>\n      <td>1.37</td>\n      <td>0.75</td>\n      <td>0.71</td>\n      <td>1.19</td>\n      <td>16</td>\n      <td>8</td>\n      <td>1</td>\n      <td>6</td>\n      <td>0.000000</td>\n    </tr>\n    <tr>\n      <th>60174</th>\n      <td>ovp</td>\n      <td>2018-01-26 20:55:00</td>\n      <td>5752</td>\n      <td>Cloud9</td>\n      <td>8797</td>\n      <td>Stewie2K</td>\n      <td>20</td>\n      <td>8</td>\n      <td>4</td>\n      <td>0</td>\n      <td>...</td>\n      <td>1</td>\n      <td>1.20</td>\n      <td>0.87</td>\n      <td>0.70</td>\n      <td>1.40</td>\n      <td>16</td>\n      <td>7</td>\n      <td>1</td>\n      <td>6</td>\n      <td>0.000000</td>\n    </tr>\n    <tr>\n      <th>60198</th>\n      <td>inf</td>\n      <td>2018-01-27 22:25:00</td>\n      <td>5752</td>\n      <td>Cloud9</td>\n      <td>8797</td>\n      <td>Stewie2K</td>\n      <td>16</td>\n      <td>4</td>\n      <td>1</td>\n      <td>0</td>\n      <td>...</td>\n      <td>-3</td>\n      <td>1.09</td>\n      <td>0.64</td>\n      <td>0.48</td>\n      <td>1.03</td>\n      <td>16</td>\n      <td>9</td>\n      <td>1</td>\n      <td>6</td>\n      <td>0.000000</td>\n    </tr>\n    <tr>\n      <th>60197</th>\n      <td>cbl</td>\n      <td>2018-01-27 22:25:00</td>\n      <td>5752</td>\n      <td>Cloud9</td>\n      <td>8797</td>\n      <td>Stewie2K</td>\n      <td>19</td>\n      <td>10</td>\n      <td>3</td>\n      <td>1</td>\n      <td>...</td>\n      <td>3</td>\n      <td>1.16</td>\n      <td>0.79</td>\n      <td>0.75</td>\n      <td>0.96</td>\n      <td>8</td>\n      <td>16</td>\n      <td>0</td>\n      <td>6</td>\n      <td>0.000000</td>\n    </tr>\n    <tr>\n      <th>60196</th>\n      <td>mrg</td>\n      <td>2018-01-27 22:25:00</td>\n      <td>5752</td>\n      <td>Cloud9</td>\n      <td>8797</td>\n      <td>Stewie2K</td>\n      <td>14</td>\n      <td>3</td>\n      <td>3</td>\n      <td>0</td>\n      <td>...</td>\n      <td>0</td>\n      <td>1.18</td>\n      <td>0.74</td>\n      <td>0.74</td>\n      <td>1.09</td>\n      <td>16</td>\n      <td>3</td>\n      <td>1</td>\n      <td>6</td>\n      <td>0.000000</td>\n    </tr>\n    <tr>\n      <th>60219</th>\n      <td>inf</td>\n      <td>2018-01-28 18:15:00</td>\n      <td>5752</td>\n      <td>Cloud9</td>\n      <td>8797</td>\n      <td>Stewie2K</td>\n      <td>32</td>\n      <td>15</td>\n      <td>6</td>\n      <td>2</td>\n      <td>...</td>\n      <td>-1</td>\n      <td>1.18</td>\n      <td>0.78</td>\n      <td>0.71</td>\n      <td>1.12</td>\n      <td>22</td>\n      <td>19</td>\n      <td>1</td>\n      <td>6</td>\n      <td>83333.333333</td>\n    </tr>\n    <tr>\n      <th>60217</th>\n      <td>mrg</td>\n      <td>2018-01-28 18:15:00</td>\n      <td>5752</td>\n      <td>Cloud9</td>\n      <td>8797</td>\n      <td>Stewie2K</td>\n      <td>12</td>\n      <td>11</td>\n      <td>4</td>\n      <td>1</td>\n      <td>...</td>\n      <td>-1</td>\n      <td>0.71</td>\n      <td>0.40</td>\n      <td>0.70</td>\n      <td>0.68</td>\n      <td>14</td>\n      <td>16</td>\n      <td>0</td>\n      <td>6</td>\n      <td>0.000000</td>\n    </tr>\n    <tr>\n      <th>60218</th>\n      <td>ovp</td>\n      <td>2018-01-28 18:15:00</td>\n      <td>5752</td>\n      <td>Cloud9</td>\n      <td>8797</td>\n      <td>Stewie2K</td>\n      <td>21</td>\n      <td>8</td>\n      <td>4</td>\n      <td>0</td>\n      <td>...</td>\n      <td>1</td>\n      <td>1.26</td>\n      <td>0.81</td>\n      <td>0.65</td>\n      <td>1.49</td>\n      <td>16</td>\n      <td>10</td>\n      <td>1</td>\n      <td>6</td>\n      <td>0.000000</td>\n    </tr>\n    <tr>\n      <th>60389</th>\n      <td>inf</td>\n      <td>2018-02-01 20:45:00</td>\n      <td>5752</td>\n      <td>Cloud9</td>\n      <td>8797</td>\n      <td>Stewie2K</td>\n      <td>23</td>\n      <td>13</td>\n      <td>4</td>\n      <td>0</td>\n      <td>...</td>\n      <td>4</td>\n      <td>1.97</td>\n      <td>1.28</td>\n      <td>0.56</td>\n      <td>2.49</td>\n      <td>16</td>\n      <td>2</td>\n      <td>1</td>\n      <td>3</td>\n      <td>0.000000</td>\n    </tr>\n    <tr>\n      <th>60398</th>\n      <td>mrg</td>\n      <td>2018-02-01 23:00:00</td>\n      <td>5752</td>\n      <td>Cloud9</td>\n      <td>8797</td>\n      <td>Stewie2K</td>\n      <td>17</td>\n      <td>7</td>\n      <td>9</td>\n      <td>2</td>\n      <td>...</td>\n      <td>4</td>\n      <td>1.37</td>\n      <td>0.74</td>\n      <td>0.61</td>\n      <td>1.23</td>\n      <td>16</td>\n      <td>7</td>\n      <td>1</td>\n      <td>3</td>\n      <td>0.000000</td>\n    </tr>\n    <tr>\n      <th>60402</th>\n      <td>inf</td>\n      <td>2018-02-02 00:15:00</td>\n      <td>5752</td>\n      <td>Cloud9</td>\n      <td>8797</td>\n      <td>Stewie2K</td>\n      <td>13</td>\n      <td>7</td>\n      <td>8</td>\n      <td>1</td>\n      <td>...</td>\n      <td>3</td>\n      <td>1.41</td>\n      <td>0.68</td>\n      <td>0.74</td>\n      <td>1.51</td>\n      <td>16</td>\n      <td>3</td>\n      <td>1</td>\n      <td>3</td>\n      <td>0.000000</td>\n    </tr>\n    <tr>\n      <th>60455</th>\n      <td>trn</td>\n      <td>2018-02-02 19:20:00</td>\n      <td>5752</td>\n      <td>Cloud9</td>\n      <td>8797</td>\n      <td>Stewie2K</td>\n      <td>21</td>\n      <td>11</td>\n      <td>1</td>\n      <td>0</td>\n      <td>...</td>\n      <td>-4</td>\n      <td>0.94</td>\n      <td>0.75</td>\n      <td>0.79</td>\n      <td>0.98</td>\n      <td>16</td>\n      <td>12</td>\n      <td>1</td>\n      <td>3</td>\n      <td>0.000000</td>\n    </tr>\n    <tr>\n      <th>60475</th>\n      <td>mrg</td>\n      <td>2018-02-02 23:05:00</td>\n      <td>5752</td>\n      <td>Cloud9</td>\n      <td>8797</td>\n      <td>Stewie2K</td>\n      <td>27</td>\n      <td>22</td>\n      <td>5</td>\n      <td>2</td>\n      <td>...</td>\n      <td>1</td>\n      <td>1.70</td>\n      <td>1.12</td>\n      <td>0.62</td>\n      <td>1.76</td>\n      <td>16</td>\n      <td>8</td>\n      <td>1</td>\n      <td>3</td>\n      <td>0.000000</td>\n    </tr>\n    <tr>\n      <th>60593</th>\n      <td>mrg</td>\n      <td>2018-02-03 23:30:00</td>\n      <td>5752</td>\n      <td>Cloud9</td>\n      <td>8797</td>\n      <td>Stewie2K</td>\n      <td>22</td>\n      <td>13</td>\n      <td>3</td>\n      <td>2</td>\n      <td>...</td>\n      <td>0</td>\n      <td>1.47</td>\n      <td>1.05</td>\n      <td>0.62</td>\n      <td>1.26</td>\n      <td>16</td>\n      <td>5</td>\n      <td>1</td>\n      <td>3</td>\n      <td>0.000000</td>\n    </tr>\n    <tr>\n      <th>60591</th>\n      <td>cch</td>\n      <td>2018-02-03 23:30:00</td>\n      <td>5752</td>\n      <td>Cloud9</td>\n      <td>8797</td>\n      <td>Stewie2K</td>\n      <td>14</td>\n      <td>6</td>\n      <td>6</td>\n      <td>1</td>\n      <td>...</td>\n      <td>-2</td>\n      <td>0.80</td>\n      <td>0.50</td>\n      <td>0.75</td>\n      <td>0.57</td>\n      <td>16</td>\n      <td>12</td>\n      <td>1</td>\n      <td>3</td>\n      <td>0.000000</td>\n    </tr>\n    <tr>\n      <th>60703</th>\n      <td>trn</td>\n      <td>2018-02-05 01:00:00</td>\n      <td>5752</td>\n      <td>Cloud9</td>\n      <td>8797</td>\n      <td>Stewie2K</td>\n      <td>17</td>\n      <td>11</td>\n      <td>4</td>\n      <td>2</td>\n      <td>...</td>\n      <td>-5</td>\n      <td>0.95</td>\n      <td>0.68</td>\n      <td>0.80</td>\n      <td>1.02</td>\n      <td>9</td>\n      <td>16</td>\n      <td>0</td>\n      <td>3</td>\n      <td>0.000000</td>\n    </tr>\n    <tr>\n      <th>60706</th>\n      <td>inf</td>\n      <td>2018-02-05 01:00:00</td>\n      <td>5752</td>\n      <td>Cloud9</td>\n      <td>8797</td>\n      <td>Stewie2K</td>\n      <td>11</td>\n      <td>8</td>\n      <td>3</td>\n      <td>0</td>\n      <td>...</td>\n      <td>-1</td>\n      <td>0.93</td>\n      <td>0.50</td>\n      <td>0.73</td>\n      <td>0.68</td>\n      <td>6</td>\n      <td>16</td>\n      <td>0</td>\n      <td>3</td>\n      <td>1666.666667</td>\n    </tr>\n    <tr>\n      <th>60705</th>\n      <td>ovp</td>\n      <td>2018-02-05 01:00:00</td>\n      <td>5752</td>\n      <td>Cloud9</td>\n      <td>8797</td>\n      <td>Stewie2K</td>\n      <td>17</td>\n      <td>5</td>\n      <td>3</td>\n      <td>1</td>\n      <td>...</td>\n      <td>2</td>\n      <td>1.11</td>\n      <td>0.65</td>\n      <td>0.62</td>\n      <td>1.01</td>\n      <td>16</td>\n      <td>10</td>\n      <td>1</td>\n      <td>3</td>\n      <td>0.000000</td>\n    </tr>\n    <tr>\n      <th>60932</th>\n      <td>mrg</td>\n      <td>2018-02-08 23:40:00</td>\n      <td>5752</td>\n      <td>Cloud9</td>\n      <td>8797</td>\n      <td>Stewie2K</td>\n      <td>20</td>\n      <td>8</td>\n      <td>4</td>\n      <td>0</td>\n      <td>...</td>\n      <td>-2</td>\n      <td>1.24</td>\n      <td>0.77</td>\n      <td>0.73</td>\n      <td>1.29</td>\n      <td>16</td>\n      <td>10</td>\n      <td>1</td>\n      <td>3</td>\n      <td>0.000000</td>\n    </tr>\n    <tr>\n      <th>60931</th>\n      <td>inf</td>\n      <td>2018-02-08 23:40:00</td>\n      <td>5752</td>\n      <td>Cloud9</td>\n      <td>8797</td>\n      <td>Stewie2K</td>\n      <td>17</td>\n      <td>10</td>\n      <td>9</td>\n      <td>5</td>\n      <td>...</td>\n      <td>3</td>\n      <td>1.55</td>\n      <td>0.85</td>\n      <td>0.50</td>\n      <td>1.75</td>\n      <td>16</td>\n      <td>4</td>\n      <td>1</td>\n      <td>3</td>\n      <td>0.000000</td>\n    </tr>\n    <tr>\n      <th>60966</th>\n      <td>mrg</td>\n      <td>2018-02-09 19:40:00</td>\n      <td>5752</td>\n      <td>Cloud9</td>\n      <td>8797</td>\n      <td>Stewie2K</td>\n      <td>20</td>\n      <td>12</td>\n      <td>6</td>\n      <td>3</td>\n      <td>...</td>\n      <td>-1</td>\n      <td>1.22</td>\n      <td>0.74</td>\n      <td>0.67</td>\n      <td>1.32</td>\n      <td>16</td>\n      <td>11</td>\n      <td>1</td>\n      <td>3</td>\n      <td>0.000000</td>\n    </tr>\n    <tr>\n      <th>60963</th>\n      <td>cbl</td>\n      <td>2018-02-09 19:40:00</td>\n      <td>5752</td>\n      <td>Cloud9</td>\n      <td>8797</td>\n      <td>Stewie2K</td>\n      <td>11</td>\n      <td>7</td>\n      <td>8</td>\n      <td>7</td>\n      <td>...</td>\n      <td>2</td>\n      <td>1.09</td>\n      <td>0.55</td>\n      <td>0.55</td>\n      <td>0.80</td>\n      <td>16</td>\n      <td>4</td>\n      <td>1</td>\n      <td>3</td>\n      <td>0.000000</td>\n    </tr>\n    <tr>\n      <th>...</th>\n      <td>...</td>\n      <td>...</td>\n      <td>...</td>\n      <td>...</td>\n      <td>...</td>\n      <td>...</td>\n      <td>...</td>\n      <td>...</td>\n      <td>...</td>\n      <td>...</td>\n      <td>...</td>\n      <td>...</td>\n      <td>...</td>\n      <td>...</td>\n      <td>...</td>\n      <td>...</td>\n      <td>...</td>\n      <td>...</td>\n      <td>...</td>\n      <td>...</td>\n      <td>...</td>\n    </tr>\n    <tr>\n      <th>96019</th>\n      <td>vertigo</td>\n      <td>2019-12-01 20:00:00</td>\n      <td>5973</td>\n      <td>Liquid</td>\n      <td>8797</td>\n      <td>Stewie2K</td>\n      <td>21</td>\n      <td>9</td>\n      <td>9</td>\n      <td>1</td>\n      <td>...</td>\n      <td>3</td>\n      <td>1.06</td>\n      <td>0.62</td>\n      <td>0.71</td>\n      <td>1.38</td>\n      <td>19</td>\n      <td>15</td>\n      <td>1</td>\n      <td>4</td>\n      <td>0.000000</td>\n    </tr>\n    <tr>\n      <th>96021</th>\n      <td>nuke</td>\n      <td>2019-12-01 20:00:00</td>\n      <td>5973</td>\n      <td>Liquid</td>\n      <td>8797</td>\n      <td>Stewie2K</td>\n      <td>18</td>\n      <td>11</td>\n      <td>2</td>\n      <td>0</td>\n      <td>...</td>\n      <td>3</td>\n      <td>0.99</td>\n      <td>0.67</td>\n      <td>0.70</td>\n      <td>1.11</td>\n      <td>11</td>\n      <td>16</td>\n      <td>0</td>\n      <td>4</td>\n      <td>0.000000</td>\n    </tr>\n    <tr>\n      <th>96086</th>\n      <td>vertigo</td>\n      <td>2019-12-03 16:15:00</td>\n      <td>5973</td>\n      <td>Liquid</td>\n      <td>8797</td>\n      <td>Stewie2K</td>\n      <td>18</td>\n      <td>7</td>\n      <td>3</td>\n      <td>0</td>\n      <td>...</td>\n      <td>-2</td>\n      <td>1.07</td>\n      <td>0.64</td>\n      <td>0.68</td>\n      <td>1.15</td>\n      <td>16</td>\n      <td>12</td>\n      <td>1</td>\n      <td>3</td>\n      <td>0.000000</td>\n    </tr>\n    <tr>\n      <th>96146</th>\n      <td>d2</td>\n      <td>2019-12-04 16:50:00</td>\n      <td>5973</td>\n      <td>Liquid</td>\n      <td>8797</td>\n      <td>Stewie2K</td>\n      <td>20</td>\n      <td>6</td>\n      <td>9</td>\n      <td>2</td>\n      <td>...</td>\n      <td>0</td>\n      <td>1.09</td>\n      <td>0.67</td>\n      <td>0.67</td>\n      <td>1.02</td>\n      <td>16</td>\n      <td>14</td>\n      <td>1</td>\n      <td>3</td>\n      <td>0.000000</td>\n    </tr>\n    <tr>\n      <th>96131</th>\n      <td>nuke</td>\n      <td>2019-12-04 16:50:00</td>\n      <td>5973</td>\n      <td>Liquid</td>\n      <td>8797</td>\n      <td>Stewie2K</td>\n      <td>10</td>\n      <td>4</td>\n      <td>2</td>\n      <td>1</td>\n      <td>...</td>\n      <td>-2</td>\n      <td>0.85</td>\n      <td>0.48</td>\n      <td>0.52</td>\n      <td>0.43</td>\n      <td>16</td>\n      <td>5</td>\n      <td>1</td>\n      <td>3</td>\n      <td>0.000000</td>\n    </tr>\n    <tr>\n      <th>96139</th>\n      <td>vertigo</td>\n      <td>2019-12-04 16:50:00</td>\n      <td>5973</td>\n      <td>Liquid</td>\n      <td>8797</td>\n      <td>Stewie2K</td>\n      <td>19</td>\n      <td>12</td>\n      <td>3</td>\n      <td>2</td>\n      <td>...</td>\n      <td>1</td>\n      <td>0.99</td>\n      <td>0.68</td>\n      <td>0.68</td>\n      <td>1.08</td>\n      <td>12</td>\n      <td>16</td>\n      <td>0</td>\n      <td>3</td>\n      <td>0.000000</td>\n    </tr>\n    <tr>\n      <th>96177</th>\n      <td>inf</td>\n      <td>2019-12-05 15:55:00</td>\n      <td>5973</td>\n      <td>Liquid</td>\n      <td>8797</td>\n      <td>Stewie2K</td>\n      <td>25</td>\n      <td>12</td>\n      <td>6</td>\n      <td>0</td>\n      <td>...</td>\n      <td>0</td>\n      <td>1.21</td>\n      <td>0.83</td>\n      <td>0.83</td>\n      <td>1.67</td>\n      <td>16</td>\n      <td>14</td>\n      <td>1</td>\n      <td>3</td>\n      <td>0.000000</td>\n    </tr>\n    <tr>\n      <th>96184</th>\n      <td>d2</td>\n      <td>2019-12-05 15:55:00</td>\n      <td>5973</td>\n      <td>Liquid</td>\n      <td>8797</td>\n      <td>Stewie2K</td>\n      <td>12</td>\n      <td>6</td>\n      <td>6</td>\n      <td>2</td>\n      <td>...</td>\n      <td>0</td>\n      <td>0.71</td>\n      <td>0.41</td>\n      <td>0.72</td>\n      <td>0.54</td>\n      <td>13</td>\n      <td>16</td>\n      <td>0</td>\n      <td>3</td>\n      <td>0.000000</td>\n    </tr>\n    <tr>\n      <th>96181</th>\n      <td>nuke</td>\n      <td>2019-12-05 15:55:00</td>\n      <td>5973</td>\n      <td>Liquid</td>\n      <td>8797</td>\n      <td>Stewie2K</td>\n      <td>6</td>\n      <td>1</td>\n      <td>3</td>\n      <td>0</td>\n      <td>...</td>\n      <td>-2</td>\n      <td>0.43</td>\n      <td>0.26</td>\n      <td>0.83</td>\n      <td>0.38</td>\n      <td>7</td>\n      <td>16</td>\n      <td>0</td>\n      <td>3</td>\n      <td>0.000000</td>\n    </tr>\n    <tr>\n      <th>96218</th>\n      <td>ovp</td>\n      <td>2019-12-06 14:00:00</td>\n      <td>5973</td>\n      <td>Liquid</td>\n      <td>8797</td>\n      <td>Stewie2K</td>\n      <td>15</td>\n      <td>6</td>\n      <td>7</td>\n      <td>2</td>\n      <td>...</td>\n      <td>2</td>\n      <td>1.01</td>\n      <td>0.56</td>\n      <td>0.74</td>\n      <td>1.07</td>\n      <td>11</td>\n      <td>16</td>\n      <td>0</td>\n      <td>3</td>\n      <td>0.000000</td>\n    </tr>\n    <tr>\n      <th>96222</th>\n      <td>inf</td>\n      <td>2019-12-06 14:00:00</td>\n      <td>5973</td>\n      <td>Liquid</td>\n      <td>8797</td>\n      <td>Stewie2K</td>\n      <td>12</td>\n      <td>2</td>\n      <td>5</td>\n      <td>1</td>\n      <td>...</td>\n      <td>-4</td>\n      <td>0.70</td>\n      <td>0.50</td>\n      <td>0.79</td>\n      <td>0.84</td>\n      <td>8</td>\n      <td>16</td>\n      <td>0</td>\n      <td>3</td>\n      <td>3333.333333</td>\n    </tr>\n    <tr>\n      <th>96685</th>\n      <td>nuke</td>\n      <td>2019-12-12 15:00:00</td>\n      <td>5973</td>\n      <td>Liquid</td>\n      <td>8797</td>\n      <td>Stewie2K</td>\n      <td>14</td>\n      <td>7</td>\n      <td>6</td>\n      <td>0</td>\n      <td>...</td>\n      <td>2</td>\n      <td>0.82</td>\n      <td>0.50</td>\n      <td>0.79</td>\n      <td>0.86</td>\n      <td>12</td>\n      <td>16</td>\n      <td>0</td>\n      <td>4</td>\n      <td>0.000000</td>\n    </tr>\n    <tr>\n      <th>96692</th>\n      <td>inf</td>\n      <td>2019-12-12 15:00:00</td>\n      <td>5973</td>\n      <td>Liquid</td>\n      <td>8797</td>\n      <td>Stewie2K</td>\n      <td>16</td>\n      <td>7</td>\n      <td>3</td>\n      <td>0</td>\n      <td>...</td>\n      <td>-1</td>\n      <td>0.89</td>\n      <td>0.55</td>\n      <td>0.79</td>\n      <td>0.71</td>\n      <td>13</td>\n      <td>16</td>\n      <td>0</td>\n      <td>4</td>\n      <td>0.000000</td>\n    </tr>\n    <tr>\n      <th>96756</th>\n      <td>mrg</td>\n      <td>2019-12-13 15:00:00</td>\n      <td>5973</td>\n      <td>Liquid</td>\n      <td>8797</td>\n      <td>Stewie2K</td>\n      <td>15</td>\n      <td>6</td>\n      <td>5</td>\n      <td>0</td>\n      <td>...</td>\n      <td>-1</td>\n      <td>0.83</td>\n      <td>0.52</td>\n      <td>0.72</td>\n      <td>0.61</td>\n      <td>16</td>\n      <td>13</td>\n      <td>1</td>\n      <td>4</td>\n      <td>0.000000</td>\n    </tr>\n    <tr>\n      <th>96765</th>\n      <td>nuke</td>\n      <td>2019-12-13 15:00:00</td>\n      <td>5973</td>\n      <td>Liquid</td>\n      <td>8797</td>\n      <td>Stewie2K</td>\n      <td>13</td>\n      <td>8</td>\n      <td>0</td>\n      <td>0</td>\n      <td>...</td>\n      <td>-5</td>\n      <td>0.74</td>\n      <td>0.50</td>\n      <td>0.69</td>\n      <td>0.38</td>\n      <td>16</td>\n      <td>10</td>\n      <td>1</td>\n      <td>4</td>\n      <td>0.000000</td>\n    </tr>\n    <tr>\n      <th>96761</th>\n      <td>d2</td>\n      <td>2019-12-13 15:00:00</td>\n      <td>5973</td>\n      <td>Liquid</td>\n      <td>8797</td>\n      <td>Stewie2K</td>\n      <td>18</td>\n      <td>7</td>\n      <td>7</td>\n      <td>5</td>\n      <td>...</td>\n      <td>-3</td>\n      <td>0.90</td>\n      <td>0.64</td>\n      <td>0.71</td>\n      <td>0.51</td>\n      <td>12</td>\n      <td>16</td>\n      <td>0</td>\n      <td>4</td>\n      <td>0.000000</td>\n    </tr>\n    <tr>\n      <th>96815</th>\n      <td>mrg</td>\n      <td>2019-12-14 11:00:00</td>\n      <td>5973</td>\n      <td>Liquid</td>\n      <td>8797</td>\n      <td>Stewie2K</td>\n      <td>22</td>\n      <td>7</td>\n      <td>0</td>\n      <td>0</td>\n      <td>...</td>\n      <td>3</td>\n      <td>1.15</td>\n      <td>0.73</td>\n      <td>0.63</td>\n      <td>1.17</td>\n      <td>16</td>\n      <td>14</td>\n      <td>1</td>\n      <td>4</td>\n      <td>0.000000</td>\n    </tr>\n    <tr>\n      <th>96810</th>\n      <td>ovp</td>\n      <td>2019-12-14 11:00:00</td>\n      <td>5973</td>\n      <td>Liquid</td>\n      <td>8797</td>\n      <td>Stewie2K</td>\n      <td>20</td>\n      <td>12</td>\n      <td>4</td>\n      <td>1</td>\n      <td>...</td>\n      <td>2</td>\n      <td>1.27</td>\n      <td>0.77</td>\n      <td>0.65</td>\n      <td>1.65</td>\n      <td>16</td>\n      <td>10</td>\n      <td>1</td>\n      <td>4</td>\n      <td>0.000000</td>\n    </tr>\n    <tr>\n      <th>96858</th>\n      <td>nuke</td>\n      <td>2019-12-14 16:00:00</td>\n      <td>5973</td>\n      <td>Liquid</td>\n      <td>8797</td>\n      <td>Stewie2K</td>\n      <td>17</td>\n      <td>10</td>\n      <td>6</td>\n      <td>0</td>\n      <td>...</td>\n      <td>-1</td>\n      <td>1.00</td>\n      <td>0.61</td>\n      <td>0.71</td>\n      <td>0.99</td>\n      <td>12</td>\n      <td>16</td>\n      <td>0</td>\n      <td>4</td>\n      <td>13333.333333</td>\n    </tr>\n    <tr>\n      <th>96842</th>\n      <td>inf</td>\n      <td>2019-12-14 16:00:00</td>\n      <td>5973</td>\n      <td>Liquid</td>\n      <td>8797</td>\n      <td>Stewie2K</td>\n      <td>11</td>\n      <td>5</td>\n      <td>5</td>\n      <td>0</td>\n      <td>...</td>\n      <td>-4</td>\n      <td>0.68</td>\n      <td>0.41</td>\n      <td>0.74</td>\n      <td>0.82</td>\n      <td>11</td>\n      <td>16</td>\n      <td>0</td>\n      <td>4</td>\n      <td>0.000000</td>\n    </tr>\n    <tr>\n      <th>97430</th>\n      <td>inf</td>\n      <td>2020-01-04 21:15:00</td>\n      <td>10531</td>\n      <td>Just For Fun</td>\n      <td>8797</td>\n      <td>Stewie2K</td>\n      <td>26</td>\n      <td>17</td>\n      <td>8</td>\n      <td>3</td>\n      <td>...</td>\n      <td>3</td>\n      <td>1.45</td>\n      <td>0.93</td>\n      <td>0.64</td>\n      <td>1.78</td>\n      <td>16</td>\n      <td>12</td>\n      <td>1</td>\n      <td>0</td>\n      <td>0.000000</td>\n    </tr>\n    <tr>\n      <th>97432</th>\n      <td>mrg</td>\n      <td>2020-01-04 21:15:00</td>\n      <td>10531</td>\n      <td>Just For Fun</td>\n      <td>8797</td>\n      <td>Stewie2K</td>\n      <td>17</td>\n      <td>8</td>\n      <td>6</td>\n      <td>0</td>\n      <td>...</td>\n      <td>0</td>\n      <td>1.44</td>\n      <td>0.81</td>\n      <td>0.48</td>\n      <td>1.38</td>\n      <td>16</td>\n      <td>5</td>\n      <td>1</td>\n      <td>0</td>\n      <td>0.000000</td>\n    </tr>\n    <tr>\n      <th>97437</th>\n      <td>inf</td>\n      <td>2020-01-04 23:15:00</td>\n      <td>10531</td>\n      <td>Just For Fun</td>\n      <td>8797</td>\n      <td>Stewie2K</td>\n      <td>13</td>\n      <td>7</td>\n      <td>8</td>\n      <td>1</td>\n      <td>...</td>\n      <td>1</td>\n      <td>0.91</td>\n      <td>0.50</td>\n      <td>0.65</td>\n      <td>0.81</td>\n      <td>10</td>\n      <td>16</td>\n      <td>0</td>\n      <td>0</td>\n      <td>0.000000</td>\n    </tr>\n    <tr>\n      <th>97440</th>\n      <td>ovp</td>\n      <td>2020-01-04 23:15:00</td>\n      <td>10531</td>\n      <td>Just For Fun</td>\n      <td>8797</td>\n      <td>Stewie2K</td>\n      <td>23</td>\n      <td>13</td>\n      <td>13</td>\n      <td>6</td>\n      <td>...</td>\n      <td>0</td>\n      <td>1.31</td>\n      <td>0.96</td>\n      <td>0.62</td>\n      <td>1.12</td>\n      <td>16</td>\n      <td>8</td>\n      <td>1</td>\n      <td>0</td>\n      <td>0.000000</td>\n    </tr>\n    <tr>\n      <th>97441</th>\n      <td>mrg</td>\n      <td>2020-01-04 23:15:00</td>\n      <td>10531</td>\n      <td>Just For Fun</td>\n      <td>8797</td>\n      <td>Stewie2K</td>\n      <td>17</td>\n      <td>8</td>\n      <td>2</td>\n      <td>1</td>\n      <td>...</td>\n      <td>3</td>\n      <td>1.16</td>\n      <td>0.68</td>\n      <td>0.60</td>\n      <td>1.10</td>\n      <td>16</td>\n      <td>9</td>\n      <td>1</td>\n      <td>0</td>\n      <td>0.000000</td>\n    </tr>\n    <tr>\n      <th>97456</th>\n      <td>mrg</td>\n      <td>2020-01-05 21:20:00</td>\n      <td>10531</td>\n      <td>Just For Fun</td>\n      <td>8797</td>\n      <td>Stewie2K</td>\n      <td>15</td>\n      <td>9</td>\n      <td>3</td>\n      <td>0</td>\n      <td>...</td>\n      <td>-1</td>\n      <td>0.97</td>\n      <td>0.58</td>\n      <td>0.69</td>\n      <td>0.83</td>\n      <td>16</td>\n      <td>10</td>\n      <td>1</td>\n      <td>0</td>\n      <td>0.000000</td>\n    </tr>\n    <tr>\n      <th>97455</th>\n      <td>nuke</td>\n      <td>2020-01-05 21:20:00</td>\n      <td>10531</td>\n      <td>Just For Fun</td>\n      <td>8797</td>\n      <td>Stewie2K</td>\n      <td>12</td>\n      <td>7</td>\n      <td>3</td>\n      <td>2</td>\n      <td>...</td>\n      <td>-1</td>\n      <td>0.74</td>\n      <td>0.44</td>\n      <td>0.74</td>\n      <td>0.81</td>\n      <td>11</td>\n      <td>16</td>\n      <td>0</td>\n      <td>0</td>\n      <td>0.000000</td>\n    </tr>\n    <tr>\n      <th>97459</th>\n      <td>d2</td>\n      <td>2020-01-05 21:20:00</td>\n      <td>10531</td>\n      <td>Just For Fun</td>\n      <td>8797</td>\n      <td>Stewie2K</td>\n      <td>21</td>\n      <td>11</td>\n      <td>7</td>\n      <td>2</td>\n      <td>...</td>\n      <td>1</td>\n      <td>1.38</td>\n      <td>0.84</td>\n      <td>0.60</td>\n      <td>1.74</td>\n      <td>16</td>\n      <td>9</td>\n      <td>1</td>\n      <td>0</td>\n      <td>0.000000</td>\n    </tr>\n    <tr>\n      <th>97462</th>\n      <td>trn</td>\n      <td>2020-01-06 00:25:00</td>\n      <td>10531</td>\n      <td>Just For Fun</td>\n      <td>8797</td>\n      <td>Stewie2K</td>\n      <td>30</td>\n      <td>13</td>\n      <td>3</td>\n      <td>2</td>\n      <td>...</td>\n      <td>-1</td>\n      <td>1.18</td>\n      <td>0.86</td>\n      <td>0.66</td>\n      <td>1.08</td>\n      <td>19</td>\n      <td>16</td>\n      <td>1</td>\n      <td>0</td>\n      <td>0.000000</td>\n    </tr>\n    <tr>\n      <th>97461</th>\n      <td>mrg</td>\n      <td>2020-01-06 00:25:00</td>\n      <td>10531</td>\n      <td>Just For Fun</td>\n      <td>8797</td>\n      <td>Stewie2K</td>\n      <td>25</td>\n      <td>15</td>\n      <td>3</td>\n      <td>1</td>\n      <td>...</td>\n      <td>5</td>\n      <td>1.95</td>\n      <td>1.19</td>\n      <td>0.57</td>\n      <td>2.38</td>\n      <td>16</td>\n      <td>5</td>\n      <td>1</td>\n      <td>0</td>\n      <td>500.000000</td>\n    </tr>\n  </tbody>\n</table>\n<p>521 rows × 24 columns</p>\n</div>",
      "text/plain": "            map                date  team_id     team_name  player_id  \\\nmap_id                                                                  \n59738       cch 2018-01-12 23:25:00     5752        Cloud9       8797   \n59786       inf 2018-01-13 20:00:00     5752        Cloud9       8797   \n59819       trn 2018-01-14 22:35:00     5752        Cloud9       8797   \n59934       cch 2018-01-19 20:15:00     5752        Cloud9       8797   \n59964       cbl 2018-01-20 15:50:00     5752        Cloud9       8797   \n60001       mrg 2018-01-21 21:35:00     5752        Cloud9       8797   \n60017       trn 2018-01-22 16:40:00     5752        Cloud9       8797   \n60031       mrg 2018-01-22 23:15:00     5752        Cloud9       8797   \n60173       mrg 2018-01-26 20:55:00     5752        Cloud9       8797   \n60174       ovp 2018-01-26 20:55:00     5752        Cloud9       8797   \n60198       inf 2018-01-27 22:25:00     5752        Cloud9       8797   \n60197       cbl 2018-01-27 22:25:00     5752        Cloud9       8797   \n60196       mrg 2018-01-27 22:25:00     5752        Cloud9       8797   \n60219       inf 2018-01-28 18:15:00     5752        Cloud9       8797   \n60217       mrg 2018-01-28 18:15:00     5752        Cloud9       8797   \n60218       ovp 2018-01-28 18:15:00     5752        Cloud9       8797   \n60389       inf 2018-02-01 20:45:00     5752        Cloud9       8797   \n60398       mrg 2018-02-01 23:00:00     5752        Cloud9       8797   \n60402       inf 2018-02-02 00:15:00     5752        Cloud9       8797   \n60455       trn 2018-02-02 19:20:00     5752        Cloud9       8797   \n60475       mrg 2018-02-02 23:05:00     5752        Cloud9       8797   \n60593       mrg 2018-02-03 23:30:00     5752        Cloud9       8797   \n60591       cch 2018-02-03 23:30:00     5752        Cloud9       8797   \n60703       trn 2018-02-05 01:00:00     5752        Cloud9       8797   \n60706       inf 2018-02-05 01:00:00     5752        Cloud9       8797   \n60705       ovp 2018-02-05 01:00:00     5752        Cloud9       8797   \n60932       mrg 2018-02-08 23:40:00     5752        Cloud9       8797   \n60931       inf 2018-02-08 23:40:00     5752        Cloud9       8797   \n60966       mrg 2018-02-09 19:40:00     5752        Cloud9       8797   \n60963       cbl 2018-02-09 19:40:00     5752        Cloud9       8797   \n...         ...                 ...      ...           ...        ...   \n96019   vertigo 2019-12-01 20:00:00     5973        Liquid       8797   \n96021      nuke 2019-12-01 20:00:00     5973        Liquid       8797   \n96086   vertigo 2019-12-03 16:15:00     5973        Liquid       8797   \n96146        d2 2019-12-04 16:50:00     5973        Liquid       8797   \n96131      nuke 2019-12-04 16:50:00     5973        Liquid       8797   \n96139   vertigo 2019-12-04 16:50:00     5973        Liquid       8797   \n96177       inf 2019-12-05 15:55:00     5973        Liquid       8797   \n96184        d2 2019-12-05 15:55:00     5973        Liquid       8797   \n96181      nuke 2019-12-05 15:55:00     5973        Liquid       8797   \n96218       ovp 2019-12-06 14:00:00     5973        Liquid       8797   \n96222       inf 2019-12-06 14:00:00     5973        Liquid       8797   \n96685      nuke 2019-12-12 15:00:00     5973        Liquid       8797   \n96692       inf 2019-12-12 15:00:00     5973        Liquid       8797   \n96756       mrg 2019-12-13 15:00:00     5973        Liquid       8797   \n96765      nuke 2019-12-13 15:00:00     5973        Liquid       8797   \n96761        d2 2019-12-13 15:00:00     5973        Liquid       8797   \n96815       mrg 2019-12-14 11:00:00     5973        Liquid       8797   \n96810       ovp 2019-12-14 11:00:00     5973        Liquid       8797   \n96858      nuke 2019-12-14 16:00:00     5973        Liquid       8797   \n96842       inf 2019-12-14 16:00:00     5973        Liquid       8797   \n97430       inf 2020-01-04 21:15:00    10531  Just For Fun       8797   \n97432       mrg 2020-01-04 21:15:00    10531  Just For Fun       8797   \n97437       inf 2020-01-04 23:15:00    10531  Just For Fun       8797   \n97440       ovp 2020-01-04 23:15:00    10531  Just For Fun       8797   \n97441       mrg 2020-01-04 23:15:00    10531  Just For Fun       8797   \n97456       mrg 2020-01-05 21:20:00    10531  Just For Fun       8797   \n97455      nuke 2020-01-05 21:20:00    10531  Just For Fun       8797   \n97459        d2 2020-01-05 21:20:00    10531  Just For Fun       8797   \n97462       trn 2020-01-06 00:25:00    10531  Just For Fun       8797   \n97461       mrg 2020-01-06 00:25:00    10531  Just For Fun       8797   \n\n       player_name  kills  hs_kills  assists  flash_assists  ...  \\\nmap_id                                                       ...   \n59738     Stewie2K     20         9        6              2  ...   \n59786     Stewie2K     23        14        4              2  ...   \n59819     Stewie2K     17         7        5              2  ...   \n59934     Stewie2K     13         7        5              1  ...   \n59964     Stewie2K     12         4        5              0  ...   \n60001     Stewie2K     26        10        2              0  ...   \n60017     Stewie2K     19        10        2              0  ...   \n60031     Stewie2K     22         9        1              0  ...   \n60173     Stewie2K     18        12        5              1  ...   \n60174     Stewie2K     20         8        4              0  ...   \n60198     Stewie2K     16         4        1              0  ...   \n60197     Stewie2K     19        10        3              1  ...   \n60196     Stewie2K     14         3        3              0  ...   \n60219     Stewie2K     32        15        6              2  ...   \n60217     Stewie2K     12        11        4              1  ...   \n60218     Stewie2K     21         8        4              0  ...   \n60389     Stewie2K     23        13        4              0  ...   \n60398     Stewie2K     17         7        9              2  ...   \n60402     Stewie2K     13         7        8              1  ...   \n60455     Stewie2K     21        11        1              0  ...   \n60475     Stewie2K     27        22        5              2  ...   \n60593     Stewie2K     22        13        3              2  ...   \n60591     Stewie2K     14         6        6              1  ...   \n60703     Stewie2K     17        11        4              2  ...   \n60706     Stewie2K     11         8        3              0  ...   \n60705     Stewie2K     17         5        3              1  ...   \n60932     Stewie2K     20         8        4              0  ...   \n60931     Stewie2K     17        10        9              5  ...   \n60966     Stewie2K     20        12        6              3  ...   \n60963     Stewie2K     11         7        8              7  ...   \n...            ...    ...       ...      ...            ...  ...   \n96019     Stewie2K     21         9        9              1  ...   \n96021     Stewie2K     18        11        2              0  ...   \n96086     Stewie2K     18         7        3              0  ...   \n96146     Stewie2K     20         6        9              2  ...   \n96131     Stewie2K     10         4        2              1  ...   \n96139     Stewie2K     19        12        3              2  ...   \n96177     Stewie2K     25        12        6              0  ...   \n96184     Stewie2K     12         6        6              2  ...   \n96181     Stewie2K      6         1        3              0  ...   \n96218     Stewie2K     15         6        7              2  ...   \n96222     Stewie2K     12         2        5              1  ...   \n96685     Stewie2K     14         7        6              0  ...   \n96692     Stewie2K     16         7        3              0  ...   \n96756     Stewie2K     15         6        5              0  ...   \n96765     Stewie2K     13         8        0              0  ...   \n96761     Stewie2K     18         7        7              5  ...   \n96815     Stewie2K     22         7        0              0  ...   \n96810     Stewie2K     20        12        4              1  ...   \n96858     Stewie2K     17        10        6              0  ...   \n96842     Stewie2K     11         5        5              0  ...   \n97430     Stewie2K     26        17        8              3  ...   \n97432     Stewie2K     17         8        6              0  ...   \n97437     Stewie2K     13         7        8              1  ...   \n97440     Stewie2K     23        13       13              6  ...   \n97441     Stewie2K     17         8        2              1  ...   \n97456     Stewie2K     15         9        3              0  ...   \n97455     Stewie2K     12         7        3              2  ...   \n97459     Stewie2K     21        11        7              2  ...   \n97462     Stewie2K     30        13        3              2  ...   \n97461     Stewie2K     25        15        3              1  ...   \n\n        first_kills_diff  rating  kills_per_round  deaths_per_round  impact  \\\nmap_id                                                                        \n59738                  2    1.22             0.74              0.48    0.95   \n59786                  3    1.79             1.10              0.43    2.16   \n59819                 -1    1.20             0.81              0.67    0.78   \n59934                 -3    0.86             0.54              0.75    0.91   \n59964                 -5    0.67             0.41              0.83    0.66   \n60001                  2    1.63             1.13              0.61    1.69   \n60017                  0    1.26             0.86              0.59    1.48   \n60031                  4    1.75             1.10              0.50    2.05   \n60173                  2    1.37             0.75              0.71    1.19   \n60174                  1    1.20             0.87              0.70    1.40   \n60198                 -3    1.09             0.64              0.48    1.03   \n60197                  3    1.16             0.79              0.75    0.96   \n60196                  0    1.18             0.74              0.74    1.09   \n60219                 -1    1.18             0.78              0.71    1.12   \n60217                 -1    0.71             0.40              0.70    0.68   \n60218                  1    1.26             0.81              0.65    1.49   \n60389                  4    1.97             1.28              0.56    2.49   \n60398                  4    1.37             0.74              0.61    1.23   \n60402                  3    1.41             0.68              0.74    1.51   \n60455                 -4    0.94             0.75              0.79    0.98   \n60475                  1    1.70             1.12              0.62    1.76   \n60593                  0    1.47             1.05              0.62    1.26   \n60591                 -2    0.80             0.50              0.75    0.57   \n60703                 -5    0.95             0.68              0.80    1.02   \n60706                 -1    0.93             0.50              0.73    0.68   \n60705                  2    1.11             0.65              0.62    1.01   \n60932                 -2    1.24             0.77              0.73    1.29   \n60931                  3    1.55             0.85              0.50    1.75   \n60966                 -1    1.22             0.74              0.67    1.32   \n60963                  2    1.09             0.55              0.55    0.80   \n...                  ...     ...              ...               ...     ...   \n96019                  3    1.06             0.62              0.71    1.38   \n96021                  3    0.99             0.67              0.70    1.11   \n96086                 -2    1.07             0.64              0.68    1.15   \n96146                  0    1.09             0.67              0.67    1.02   \n96131                 -2    0.85             0.48              0.52    0.43   \n96139                  1    0.99             0.68              0.68    1.08   \n96177                  0    1.21             0.83              0.83    1.67   \n96184                  0    0.71             0.41              0.72    0.54   \n96181                 -2    0.43             0.26              0.83    0.38   \n96218                  2    1.01             0.56              0.74    1.07   \n96222                 -4    0.70             0.50              0.79    0.84   \n96685                  2    0.82             0.50              0.79    0.86   \n96692                 -1    0.89             0.55              0.79    0.71   \n96756                 -1    0.83             0.52              0.72    0.61   \n96765                 -5    0.74             0.50              0.69    0.38   \n96761                 -3    0.90             0.64              0.71    0.51   \n96815                  3    1.15             0.73              0.63    1.17   \n96810                  2    1.27             0.77              0.65    1.65   \n96858                 -1    1.00             0.61              0.71    0.99   \n96842                 -4    0.68             0.41              0.74    0.82   \n97430                  3    1.45             0.93              0.64    1.78   \n97432                  0    1.44             0.81              0.48    1.38   \n97437                  1    0.91             0.50              0.65    0.81   \n97440                  0    1.31             0.96              0.62    1.12   \n97441                  3    1.16             0.68              0.60    1.10   \n97456                 -1    0.97             0.58              0.69    0.83   \n97455                 -1    0.74             0.44              0.74    0.81   \n97459                  1    1.38             0.84              0.60    1.74   \n97462                 -1    1.18             0.86              0.66    1.08   \n97461                  5    1.95             1.19              0.57    2.38   \n\n        team_score  op_score  win  team_rank         prize  \nmap_id                                                      \n59738           16        11    1          5      0.000000  \n59786           16         5    1          5      0.000000  \n59819           16         5    1          5      0.000000  \n59934            8        16    0          6      0.000000  \n59964           13        16    0          6      0.000000  \n60001           16         7    1          6      0.000000  \n60017           16         6    1          6      0.000000  \n60031           16         4    1          6      0.000000  \n60173           16         8    1          6      0.000000  \n60174           16         7    1          6      0.000000  \n60198           16         9    1          6      0.000000  \n60197            8        16    0          6      0.000000  \n60196           16         3    1          6      0.000000  \n60219           22        19    1          6  83333.333333  \n60217           14        16    0          6      0.000000  \n60218           16        10    1          6      0.000000  \n60389           16         2    1          3      0.000000  \n60398           16         7    1          3      0.000000  \n60402           16         3    1          3      0.000000  \n60455           16        12    1          3      0.000000  \n60475           16         8    1          3      0.000000  \n60593           16         5    1          3      0.000000  \n60591           16        12    1          3      0.000000  \n60703            9        16    0          3      0.000000  \n60706            6        16    0          3   1666.666667  \n60705           16        10    1          3      0.000000  \n60932           16        10    1          3      0.000000  \n60931           16         4    1          3      0.000000  \n60966           16        11    1          3      0.000000  \n60963           16         4    1          3      0.000000  \n...            ...       ...  ...        ...           ...  \n96019           19        15    1          4      0.000000  \n96021           11        16    0          4      0.000000  \n96086           16        12    1          3      0.000000  \n96146           16        14    1          3      0.000000  \n96131           16         5    1          3      0.000000  \n96139           12        16    0          3      0.000000  \n96177           16        14    1          3      0.000000  \n96184           13        16    0          3      0.000000  \n96181            7        16    0          3      0.000000  \n96218           11        16    0          3      0.000000  \n96222            8        16    0          3   3333.333333  \n96685           12        16    0          4      0.000000  \n96692           13        16    0          4      0.000000  \n96756           16        13    1          4      0.000000  \n96765           16        10    1          4      0.000000  \n96761           12        16    0          4      0.000000  \n96815           16        14    1          4      0.000000  \n96810           16        10    1          4      0.000000  \n96858           12        16    0          4  13333.333333  \n96842           11        16    0          4      0.000000  \n97430           16        12    1          0      0.000000  \n97432           16         5    1          0      0.000000  \n97437           10        16    0          0      0.000000  \n97440           16         8    1          0      0.000000  \n97441           16         9    1          0      0.000000  \n97456           16        10    1          0      0.000000  \n97455           11        16    0          0      0.000000  \n97459           16         9    1          0      0.000000  \n97462           19        16    1          0      0.000000  \n97461           16         5    1          0    500.000000  \n\n[521 rows x 24 columns]"
     },
     "execution_count": 10,
     "metadata": {},
     "output_type": "execute_result"
    }
   ],
   "source": [
    "dict_player[8797]"
   ]
  },
  {
   "cell_type": "code",
   "execution_count": 51,
   "metadata": {},
   "outputs": [],
   "source": [
    "## READ DATE FROM MASTER ##\n",
    "\n",
    "# Read the data from all years\n",
    "#year_vec = ['2012','2013','2014','2015','2016','2017','2018','2019']\n",
    "\n",
    "year_vec = ['2019']\n",
    "\n",
    "# Empty data frames\n",
    "df_player = pd.DataFrame( { } )\n",
    "df_team   = pd.DataFrame( { } )\n",
    "\n",
    "# Append the data from each year\n",
    "for year in year_vec:\n",
    "        \n",
    "    file_name = MASTER_CSV_PATH + year + '-player-lvl.csv'\n",
    "    df_player = df_player.append( pd.read_csv( file_name ), ignore_index=True, sort=False )\n",
    "    \n",
    "    file_name = MASTER_CSV_PATH + year + '-team-lvl.csv'\n",
    "    df_team   = df_team.append( pd.read_csv( file_name ), ignore_index=True, sort=False )"
   ]
  },
  {
   "cell_type": "code",
   "execution_count": 21,
   "metadata": {},
   "outputs": [],
   "source": [
    "#df_new = pd.DataFrame( data=df_team['team_name'].unique(), columns=['Team Name'], index=None )\n",
    "\n",
    "#df_new.to_csv('team_names.csv')\n"
   ]
  },
  {
   "cell_type": "code",
   "execution_count": 22,
   "metadata": {},
   "outputs": [],
   "source": [
    "#df_new = pd.DataFrame( data=df_player['player_name'].unique(), columns=['Player Name'], index=None )\n",
    "\n",
    "#df_new.to_csv('player_names.csv')\n"
   ]
  },
  {
   "cell_type": "code",
   "execution_count": 89,
   "metadata": {},
   "outputs": [],
   "source": [
    "team_id_vec = [\n",
    "    6665,4494,5973,4991,10399,9565,8474,4608,6667,5995,\n",
    "    4411,4869,8135,9215,8297,7175,5752,8362,5378    # Missing c0ntact since we have no data\n",
    "    \n",
    "    ]\n",
    "team_name_vec = []\n",
    "\n",
    "dic_team = {}\n",
    "dic_team_players = {}\n",
    "\n",
    "df_player = df_player.sort_values(by='date',ascending=False)\n",
    "\n",
    "dic_players={}\n",
    "\n",
    "for ind in range(0,len(team_id_vec)):\n",
    "    dic_team[team_id_vec[ind]] = {}\n",
    "    dic_team[team_id_vec[ind]]['team_name'] = df_team[df_team['team_id']==team_id_vec[ind]].team_name.unique()[0]\n",
    "    \n",
    "    dic_team_players[team_id_vec[ind]] = {}\n",
    "    #dic_team_players[team_id_vec[ind]]['player_id'] = {}\n",
    "    #dic_team_players[team_id_vec[ind]]['player_name'] = {}\n",
    "    for ind2 in range(0,5):        \n",
    "        player_id = str(df_player[df_player['team_id']==team_id_vec[ind]].player_id.unique()[ind2])\n",
    "        dic_team_players[team_id_vec[ind]][player_id] = {}\n",
    "        dic_team_players[team_id_vec[ind]][player_id]['name'] = {}\n",
    "        dic_team_players[team_id_vec[ind]][player_id]['name'] = str(df_player[df_player['team_id']==team_id_vec[ind]].player_name.unique()[ind2])\n",
    "\n",
    "        dic_players[player_id] = {}\n",
    "        dic_players[player_id]['name'] = str(df_player[df_player['team_id']==team_id_vec[ind]].player_name.unique()[ind2])\n",
    "        \n",
    "        # dic_team_players[team_id_vec[ind]]['player_id'][ind2]   = str(df_player[df_player['team_id']==team_id_vec[ind]].player_id.unique()[ind2])\n",
    "        # dic_team_players[team_id_vec[ind]]['player_name'][ind2] = str(df_player[df_player['team_id']==team_id_vec[ind]].player_name.unique()[ind2])\n",
    "\n",
    "team_name_vec\n",
    "#df = pd.Dataframe(  )\n",
    "dic_team\n",
    "\n",
    "\n",
    "df_player.head()\n",
    "\n",
    "#df_player[df_player['team_id']==team_id_vec[0]].player_id.unique()\n",
    "#df_player[df_player['team_id']==team_id_vec[0]]\n",
    "#len(df_player)\n",
    "dic_team_players\n",
    "\n",
    "json_tmp = json.dumps(dic_team)\n",
    "f = open(\"dict_team.json\",\"w\")\n",
    "f.write(json_tmp)\n",
    "f.close()\n",
    "\n",
    "json_tmp = json.dumps(dic_team_players)\n",
    "f = open(\"dict_team_players.json\",\"w\")\n",
    "f.write(json_tmp)\n",
    "f.close()\n",
    "\n",
    "json_tmp = json.dumps(dic_players)\n",
    "f = open(\"dict_players.json\",\"w\")\n",
    "f.write(json_tmp)\n",
    "f.close()"
   ]
  },
  {
   "cell_type": "code",
   "execution_count": 93,
   "metadata": {},
   "outputs": [
    {
     "data": {
      "text/plain": "{'4954': {'name': 'Xyp9x'},\n '7412': {'name': 'gla1ve'},\n '7398': {'name': 'dupreeh'},\n '9032': {'name': 'Magisk'},\n '7592': {'name': 'device'},\n '429': {'name': 'karrigan'},\n '9960': {'name': 'frozen'},\n '8574': {'name': 'woxic'},\n '11816': {'name': 'ropz'},\n '2730': {'name': 'chrisJ'},\n '10394': {'name': 'Twistzz'},\n '8797': {'name': 'Stewie2K'},\n '8738': {'name': 'EliGE'},\n '8520': {'name': 'NAF'},\n '7687': {'name': 'nitr0'},\n '3849': {'name': 'JW'},\n '13666': {'name': 'Brollan'},\n '3055': {'name': 'flusha'},\n '11110': {'name': 'Golden'},\n '7528': {'name': 'KRIMZ'},\n '11219': {'name': 'CeRq'},\n '10671': {'name': 'Ethan'},\n '8523': {'name': 'tarik'},\n '9136': {'name': 'Brehze'},\n '8507': {'name': 'stanislaw'},\n '1225': {'name': 'shox'},\n '7169': {'name': 'RpK'},\n '8184': {'name': 'ALEX'},\n '11893': {'name': 'ZywOo'},\n '7322': {'name': 'apEX'},\n '8082': {'name': 'AZR'},\n '10588': {'name': 'Liazz'},\n '8248': {'name': 'jkaem'},\n '9686': {'name': 'Gratisfaction'},\n '4679': {'name': 'jks'},\n '11840': {'name': 'Boombl4'},\n '7998': {'name': 's1mple'},\n '8918': {'name': 'electronic'},\n '2757': {'name': 'GuardiaN'},\n '7594': {'name': 'flamie'},\n '18053': {'name': 'broky'},\n '885': {'name': 'olofmeister'},\n '3741': {'name': 'NiKo'},\n '8183': {'name': 'rain'},\n '9216': {'name': 'coldzera'},\n '7167': {'name': 'kennyS'},\n '3972': {'name': 'huNter-'},\n '9616': {'name': 'AmaNEk'},\n '9618': {'name': 'nexa'},\n '284': {'name': 'JaCkz'},\n '9278': {'name': 'REZ'},\n '7443': {'name': 'twist'},\n '14218': {'name': 'Plopski'},\n '29': {'name': 'f0rest'},\n '9261': {'name': 'Lekr0'},\n '7248': {'name': 'xseveN'},\n '4076': {'name': 'Aerial'},\n '695': {'name': 'allu'},\n '11916': {'name': 'sergej'},\n '5479': {'name': 'suNny'},\n '11654': {'name': 'almazer'},\n '12733': {'name': 'xsepower'},\n '13157': {'name': 'Jerry'},\n '12732': {'name': 'FL1T'},\n '8726': {'name': 'facecrack'},\n '5736': {'name': 'kNgV-'},\n '2023': {'name': 'FalleN'},\n '9217': {'name': 'TACO'},\n '8564': {'name': 'fer'},\n '14737': {'name': 'meyern'},\n '12822': {'name': 'VINI'},\n '12521': {'name': 'arT'},\n '15631': {'name': 'KSCERATO'},\n '12553': {'name': 'yuurih'},\n '8566': {'name': 'LUCAS1'},\n '8611': {'name': 'es3tag'},\n '922': {'name': 'Snappi'},\n '9896': {'name': 'b0RUP'},\n '10994': {'name': 'stavn'},\n '7964': {'name': 'cadiaN'},\n '11630': {'name': 'JT'},\n '13230': {'name': 'motm'},\n '13249': {'name': 'oSee'},\n '12713': {'name': 'floppy'},\n '8711': {'name': 'Sonic'},\n '14148': {'name': 'sjuush'},\n '9612': {'name': 'Bubzkji'},\n '7415': {'name': 'HUNDEN'},\n '14419': {'name': 'roeJ'},\n '10330': {'name': 'acoR'},\n '334': {'name': 'AdreN'},\n '11942': {'name': 'buster'},\n '13776': {'name': 'Jame'},\n '13239': {'name': 'qikert'},\n '11716': {'name': 'SANJI'}}"
     },
     "execution_count": 93,
     "metadata": {},
     "output_type": "execute_result"
    }
   ],
   "source": [
    "dic_team\n",
    "dic_team_players\n",
    "dic_players"
   ]
  },
  {
   "cell_type": "code",
   "execution_count": 19,
   "metadata": {},
   "outputs": [
    {
     "data": {
      "text/html": "<div>\n<style scoped>\n    .dataframe tbody tr th:only-of-type {\n        vertical-align: middle;\n    }\n\n    .dataframe tbody tr th {\n        vertical-align: top;\n    }\n\n    .dataframe thead th {\n        text-align: right;\n    }\n</style>\n<table border=\"1\" class=\"dataframe\">\n  <thead>\n    <tr style=\"text-align: right;\">\n      <th></th>\n      <th>map_id</th>\n      <th>map</th>\n      <th>date</th>\n      <th>team_id</th>\n      <th>team_name</th>\n      <th>player_id</th>\n      <th>player_name</th>\n      <th>kills</th>\n      <th>hs_kills</th>\n      <th>assists</th>\n      <th>flash_assists</th>\n      <th>deaths</th>\n      <th>KAST</th>\n      <th>kill_death_diff</th>\n      <th>ADR</th>\n      <th>first_kills_diff</th>\n      <th>rating</th>\n      <th>kills_per_round</th>\n      <th>deaths_per_round</th>\n      <th>impact</th>\n    </tr>\n  </thead>\n  <tbody>\n    <tr>\n      <th>0</th>\n      <td>12838</td>\n      <td>NaN</td>\n      <td>1347562800000</td>\n      <td>4411</td>\n      <td>NiP</td>\n      <td>39</td>\n      <td>GeT_RiGhT</td>\n      <td>27</td>\n      <td>0</td>\n      <td>0</td>\n      <td>0</td>\n      <td>10</td>\n      <td>NaN</td>\n      <td>17</td>\n      <td>NaN</td>\n      <td>2</td>\n      <td>2.12</td>\n      <td>NaN</td>\n      <td>NaN</td>\n      <td>NaN</td>\n    </tr>\n    <tr>\n      <th>1</th>\n      <td>12839</td>\n      <td>NaN</td>\n      <td>1347562800000</td>\n      <td>4411</td>\n      <td>NiP</td>\n      <td>39</td>\n      <td>GeT_RiGhT</td>\n      <td>18</td>\n      <td>0</td>\n      <td>0</td>\n      <td>0</td>\n      <td>4</td>\n      <td>NaN</td>\n      <td>14</td>\n      <td>NaN</td>\n      <td>1</td>\n      <td>1.92</td>\n      <td>NaN</td>\n      <td>NaN</td>\n      <td>NaN</td>\n    </tr>\n    <tr>\n      <th>2</th>\n      <td>12840</td>\n      <td>NaN</td>\n      <td>1347562800000</td>\n      <td>4444</td>\n      <td>Blight</td>\n      <td>7158</td>\n      <td>Helsing</td>\n      <td>18</td>\n      <td>0</td>\n      <td>0</td>\n      <td>0</td>\n      <td>4</td>\n      <td>NaN</td>\n      <td>14</td>\n      <td>NaN</td>\n      <td>-1</td>\n      <td>1.91</td>\n      <td>NaN</td>\n      <td>NaN</td>\n      <td>NaN</td>\n    </tr>\n    <tr>\n      <th>3</th>\n      <td>12841</td>\n      <td>NaN</td>\n      <td>1347562800000</td>\n      <td>4444</td>\n      <td>Blight</td>\n      <td>7158</td>\n      <td>Helsing</td>\n      <td>25</td>\n      <td>0</td>\n      <td>0</td>\n      <td>0</td>\n      <td>11</td>\n      <td>NaN</td>\n      <td>14</td>\n      <td>NaN</td>\n      <td>3</td>\n      <td>1.64</td>\n      <td>NaN</td>\n      <td>NaN</td>\n      <td>NaN</td>\n    </tr>\n    <tr>\n      <th>4</th>\n      <td>12848</td>\n      <td>NaN</td>\n      <td>1348401600000</td>\n      <td>4411</td>\n      <td>NiP</td>\n      <td>884</td>\n      <td>Xizt</td>\n      <td>30</td>\n      <td>16</td>\n      <td>0</td>\n      <td>0</td>\n      <td>21</td>\n      <td>NaN</td>\n      <td>9</td>\n      <td>NaN</td>\n      <td>3</td>\n      <td>1.32</td>\n      <td>NaN</td>\n      <td>NaN</td>\n      <td>NaN</td>\n    </tr>\n  </tbody>\n</table>\n</div>",
      "text/plain": "   map_id  map           date  team_id team_name  player_id player_name  \\\n0   12838  NaN  1347562800000     4411       NiP         39   GeT_RiGhT   \n1   12839  NaN  1347562800000     4411       NiP         39   GeT_RiGhT   \n2   12840  NaN  1347562800000     4444    Blight       7158     Helsing   \n3   12841  NaN  1347562800000     4444    Blight       7158     Helsing   \n4   12848  NaN  1348401600000     4411       NiP        884        Xizt   \n\n   kills  hs_kills  assists  flash_assists  deaths  KAST  kill_death_diff  \\\n0     27         0        0              0      10   NaN               17   \n1     18         0        0              0       4   NaN               14   \n2     18         0        0              0       4   NaN               14   \n3     25         0        0              0      11   NaN               14   \n4     30        16        0              0      21   NaN                9   \n\n   ADR  first_kills_diff  rating  kills_per_round  deaths_per_round  impact  \n0  NaN                 2    2.12              NaN               NaN     NaN  \n1  NaN                 1    1.92              NaN               NaN     NaN  \n2  NaN                -1    1.91              NaN               NaN     NaN  \n3  NaN                 3    1.64              NaN               NaN     NaN  \n4  NaN                 3    1.32              NaN               NaN     NaN  "
     },
     "execution_count": 19,
     "metadata": {},
     "output_type": "execute_result"
    }
   ],
   "source": [
    "df_player.head()"
   ]
  },
  {
   "cell_type": "code",
   "execution_count": 18,
   "metadata": {},
   "outputs": [
    {
     "name": "stdout",
     "output_type": "stream",
     "text": "Number of unique players     =  13512\nNumber of unique teams       =  4713\nNumber of unique maps played =  73848\nNumber of unique events      =  3553\n"
    }
   ],
   "source": [
    "print( 'Number of unique players     = ', len(df_player.player_id.unique()) )\n",
    "print( 'Number of unique teams       = ', len(df_player.team_id.unique()) )\n",
    "print( 'Number of unique maps played = ', len(df_team.map_id.unique()) )\n",
    "print( 'Number of unique events      = ', len(df_team.event_id.unique()) )"
   ]
  },
  {
   "cell_type": "code",
   "execution_count": 113,
   "metadata": {},
   "outputs": [
    {
     "data": {
      "text/html": "<div>\n<style scoped>\n    .dataframe tbody tr th:only-of-type {\n        vertical-align: middle;\n    }\n\n    .dataframe tbody tr th {\n        vertical-align: top;\n    }\n\n    .dataframe thead th {\n        text-align: right;\n    }\n</style>\n<table border=\"1\" class=\"dataframe\">\n  <thead>\n    <tr style=\"text-align: right;\">\n      <th></th>\n      <th>map_id</th>\n      <th>map</th>\n      <th>date</th>\n      <th>team_id</th>\n      <th>team_name</th>\n      <th>player_id</th>\n      <th>player_name</th>\n      <th>kills</th>\n      <th>hs_kills</th>\n      <th>assists</th>\n      <th>flash_assists</th>\n      <th>deaths</th>\n      <th>KAST</th>\n      <th>kill_death_diff</th>\n      <th>ADR</th>\n      <th>first_kills_diff</th>\n      <th>rating</th>\n      <th>kills_per_round</th>\n      <th>deaths_per_round</th>\n      <th>impact</th>\n    </tr>\n  </thead>\n  <tbody>\n    <tr>\n      <th>723015</th>\n      <td>97592</td>\n      <td>nuke</td>\n      <td>1578618000000</td>\n      <td>10330</td>\n      <td>Supremacy</td>\n      <td>14557</td>\n      <td>Guepard</td>\n      <td>10</td>\n      <td>7</td>\n      <td>6</td>\n      <td>2</td>\n      <td>14</td>\n      <td>75.0</td>\n      <td>-4</td>\n      <td>64.3</td>\n      <td>-2</td>\n      <td>0.93</td>\n      <td>0.42</td>\n      <td>0.58</td>\n      <td>0.59</td>\n    </tr>\n    <tr>\n      <th>645787</th>\n      <td>97594</td>\n      <td>inf</td>\n      <td>1578618000000</td>\n      <td>10578</td>\n      <td>Infamous</td>\n      <td>19889</td>\n      <td>Knight</td>\n      <td>20</td>\n      <td>14</td>\n      <td>5</td>\n      <td>2</td>\n      <td>19</td>\n      <td>78.6</td>\n      <td>1</td>\n      <td>89.6</td>\n      <td>0</td>\n      <td>1.16</td>\n      <td>0.71</td>\n      <td>0.68</td>\n      <td>0.86</td>\n    </tr>\n    <tr>\n      <th>614893</th>\n      <td>97592</td>\n      <td>nuke</td>\n      <td>1578618000000</td>\n      <td>10578</td>\n      <td>Infamous</td>\n      <td>9197</td>\n      <td>gianco</td>\n      <td>16</td>\n      <td>4</td>\n      <td>3</td>\n      <td>0</td>\n      <td>18</td>\n      <td>66.7</td>\n      <td>-2</td>\n      <td>75.0</td>\n      <td>-4</td>\n      <td>0.86</td>\n      <td>0.67</td>\n      <td>0.75</td>\n      <td>0.63</td>\n    </tr>\n    <tr>\n      <th>707571</th>\n      <td>97594</td>\n      <td>inf</td>\n      <td>1578618000000</td>\n      <td>10578</td>\n      <td>Infamous</td>\n      <td>19137</td>\n      <td>LKN</td>\n      <td>15</td>\n      <td>10</td>\n      <td>4</td>\n      <td>0</td>\n      <td>20</td>\n      <td>57.1</td>\n      <td>-5</td>\n      <td>67.6</td>\n      <td>-4</td>\n      <td>0.80</td>\n      <td>0.54</td>\n      <td>0.71</td>\n      <td>0.82</td>\n    </tr>\n    <tr>\n      <th>707569</th>\n      <td>97592</td>\n      <td>nuke</td>\n      <td>1578618000000</td>\n      <td>10578</td>\n      <td>Infamous</td>\n      <td>12336</td>\n      <td>kevz</td>\n      <td>10</td>\n      <td>2</td>\n      <td>6</td>\n      <td>1</td>\n      <td>19</td>\n      <td>50.0</td>\n      <td>-9</td>\n      <td>54.8</td>\n      <td>2</td>\n      <td>0.65</td>\n      <td>0.42</td>\n      <td>0.79</td>\n      <td>0.88</td>\n    </tr>\n  </tbody>\n</table>\n</div>",
      "text/plain": "        map_id   map           date  team_id  team_name  player_id  \\\n723015   97592  nuke  1578618000000    10330  Supremacy      14557   \n645787   97594   inf  1578618000000    10578   Infamous      19889   \n614893   97592  nuke  1578618000000    10578   Infamous       9197   \n707571   97594   inf  1578618000000    10578   Infamous      19137   \n707569   97592  nuke  1578618000000    10578   Infamous      12336   \n\n       player_name  kills  hs_kills  assists  flash_assists  deaths  KAST  \\\n723015     Guepard     10         7        6              2      14  75.0   \n645787      Knight     20        14        5              2      19  78.6   \n614893      gianco     16         4        3              0      18  66.7   \n707571         LKN     15        10        4              0      20  57.1   \n707569        kevz     10         2        6              1      19  50.0   \n\n        kill_death_diff   ADR  first_kills_diff  rating  kills_per_round  \\\n723015               -4  64.3                -2    0.93             0.42   \n645787                1  89.6                 0    1.16             0.71   \n614893               -2  75.0                -4    0.86             0.67   \n707571               -5  67.6                -4    0.80             0.54   \n707569               -9  54.8                 2    0.65             0.42   \n\n        deaths_per_round  impact  \n723015              0.58    0.59  \n645787              0.68    0.86  \n614893              0.75    0.63  \n707571              0.71    0.82  \n707569              0.79    0.88  "
     },
     "execution_count": 113,
     "metadata": {},
     "output_type": "execute_result"
    }
   ],
   "source": [
    "df_player.sort_values(by='date',ascending=False).head()"
   ]
  },
  {
   "cell_type": "code",
   "execution_count": 114,
   "metadata": {},
   "outputs": [
    {
     "data": {
      "text/html": "<div>\n<style scoped>\n    .dataframe tbody tr th:only-of-type {\n        vertical-align: middle;\n    }\n\n    .dataframe tbody tr th {\n        vertical-align: top;\n    }\n\n    .dataframe thead th {\n        text-align: right;\n    }\n</style>\n<table border=\"1\" class=\"dataframe\">\n  <thead>\n    <tr style=\"text-align: right;\">\n      <th></th>\n      <th>map_id</th>\n      <th>map</th>\n      <th>date_unix</th>\n      <th>date_human_utc</th>\n      <th>event_id</th>\n      <th>event_name</th>\n      <th>team_id</th>\n      <th>team_name</th>\n      <th>team_score</th>\n      <th>team_kills</th>\n      <th>team_deaths</th>\n      <th>team_assists</th>\n    </tr>\n  </thead>\n  <tbody>\n    <tr>\n      <th>147694</th>\n      <td>97594</td>\n      <td>inf</td>\n      <td>1578618000000</td>\n      <td>2020-01-10 01:00:00</td>\n      <td>5164</td>\n      <td>Aorus League 2019 #4 Northern Cone</td>\n      <td>10578</td>\n      <td>Infamous</td>\n      <td>12</td>\n      <td>93.0</td>\n      <td>100.0</td>\n      <td>17.0</td>\n    </tr>\n    <tr>\n      <th>132248</th>\n      <td>97594</td>\n      <td>inf</td>\n      <td>1578618000000</td>\n      <td>2020-01-10 01:00:00</td>\n      <td>5164</td>\n      <td>Aorus League 2019 #4 Northern Cone</td>\n      <td>10330</td>\n      <td>Supremacy</td>\n      <td>16</td>\n      <td>99.0</td>\n      <td>93.0</td>\n      <td>16.0</td>\n    </tr>\n    <tr>\n      <th>147692</th>\n      <td>97592</td>\n      <td>nuke</td>\n      <td>1578618000000</td>\n      <td>2020-01-10 01:00:00</td>\n      <td>5164</td>\n      <td>Aorus League 2019 #4 Northern Cone</td>\n      <td>10578</td>\n      <td>Infamous</td>\n      <td>8</td>\n      <td>69.0</td>\n      <td>98.0</td>\n      <td>13.0</td>\n    </tr>\n    <tr>\n      <th>132246</th>\n      <td>97592</td>\n      <td>nuke</td>\n      <td>1578618000000</td>\n      <td>2020-01-10 01:00:00</td>\n      <td>5164</td>\n      <td>Aorus League 2019 #4 Northern Cone</td>\n      <td>10330</td>\n      <td>Supremacy</td>\n      <td>16</td>\n      <td>98.0</td>\n      <td>69.0</td>\n      <td>17.0</td>\n    </tr>\n    <tr>\n      <th>147695</th>\n      <td>97595</td>\n      <td>inf</td>\n      <td>1578616500000</td>\n      <td>2020-01-10 00:35:00</td>\n      <td>5104</td>\n      <td>IEM Katowice 2020 North America Closed Qualifier</td>\n      <td>9215</td>\n      <td>MIBR</td>\n      <td>12</td>\n      <td>90.0</td>\n      <td>100.0</td>\n      <td>16.0</td>\n    </tr>\n  </tbody>\n</table>\n</div>",
      "text/plain": "        map_id   map      date_unix       date_human_utc  event_id  \\\n147694   97594   inf  1578618000000  2020-01-10 01:00:00      5164   \n132248   97594   inf  1578618000000  2020-01-10 01:00:00      5164   \n147692   97592  nuke  1578618000000  2020-01-10 01:00:00      5164   \n132246   97592  nuke  1578618000000  2020-01-10 01:00:00      5164   \n147695   97595   inf  1578616500000  2020-01-10 00:35:00      5104   \n\n                                              event_name  team_id  team_name  \\\n147694                Aorus League 2019 #4 Northern Cone    10578   Infamous   \n132248                Aorus League 2019 #4 Northern Cone    10330  Supremacy   \n147692                Aorus League 2019 #4 Northern Cone    10578   Infamous   \n132246                Aorus League 2019 #4 Northern Cone    10330  Supremacy   \n147695  IEM Katowice 2020 North America Closed Qualifier     9215       MIBR   \n\n        team_score  team_kills  team_deaths  team_assists  \n147694          12        93.0        100.0          17.0  \n132248          16        99.0         93.0          16.0  \n147692           8        69.0         98.0          13.0  \n132246          16        98.0         69.0          17.0  \n147695          12        90.0        100.0          16.0  "
     },
     "execution_count": 114,
     "metadata": {},
     "output_type": "execute_result"
    }
   ],
   "source": [
    "df_team.sort_values(by='date_unix',ascending=False).head()"
   ]
  },
  {
   "cell_type": "code",
   "execution_count": 70,
   "metadata": {},
   "outputs": [
    {
     "name": "stdout",
     "output_type": "stream",
     "text": "[1400526900000]\n['GeT_RiGhT' 'Xizt' 'friberg' 'f0rest' 'Fifflaren']\n[1400526900000]\n['Xizt' 'karrigan' 'Fifflaren' 'friberg' 'GeT_RiGhT']\n[1402954200000]\n['Fifflaren' 'GeT_RiGhT' 'Xizt' 'friberg' 'f0rest']\n[1403442000000]\n['f0rest' 'Fifflaren' 'GeT_RiGhT' 'Xizt' 'pita']\n[1406736000000]\n['GeT_RiGhT' 'f0rest' 'Xizt' 'friberg' 'Fifflaren']\n[1406745300000]\n['tonyblack' 'Edward' 'f0rest' 'Xizt' 'Fifflaren']\n[1406745300000]\n['starix' 'GeT_RiGhT' 'f0rest' 'Xizt' 'friberg']\n[1409589900000]\n['f0rest' 'friberg' 'GeT_RiGhT' 'Xizt' 'Fifflaren']\n[1409780400000]\n['GeT_RiGhT' 'Xizt' 'f0rest' 'Fifflaren' 'pyth']\n[1412280600000]\n['GeT_RiGhT' 'Fifflaren' 'Xizt' 'f0rest' 'friberg']\n[1412622000000]\n['wantz' 'friberg' 'Xizt' 'f0rest' 'GeT_RiGhT']\n[1414769400000]\n['f0rest' 'GeT_RiGhT' 'Xizt' 'Fifflaren' 'friberg']\n[1423332000000]\n['GeT_RiGhT' 'Xizt' 'f0rest' 'friberg' 'Maikelele']\n[1424199000000]\n['friberg' 'Delpan' 'Xizt' 'GeT_RiGhT' 'f0rest']\n[1432227600000]\n['f0rest' 'allu' 'Xizt' 'GeT_RiGhT' 'friberg']\n[1432407600000]\n['Next' 'f0rest' 'GeT_RiGhT' 'Xizt' 'friberg']\n[1447264800000]\n['GeT_RiGhT' 'f0rest' 'allu' 'Xizt' 'friberg']\n[1447441800000]\n['Delpan' 'friberg' 'allu' 'GeT_RiGhT' 'Xizt']\n[1447448400000]\n['f0rest' 'friberg' 'Xizt' 'allu' 'GeT_RiGhT']\n[1447610400000]\n['Delpan' 'GeT_RiGhT' 'f0rest' 'friberg' 'allu']\n[1449423510000]\n['GeT_RiGhT' 'f0rest' 'friberg' 'Xizt' 'allu']\n[1458765000000]\n['GeT_RiGhT' 'friberg' 'f0rest' 'Xizt' 'pyth']\n[1459512000000]\n['f0rest' 'Xizt' 'GeT_RiGhT' 'friberg' 'THREAT']\n[1469232000000]\n['GeT_RiGhT' 'pyth' 'Xizt' 'f0rest' 'friberg']\n[1472150700000]\n['GeT_RiGhT' 'Xizt' 'f0rest' 'friberg' 'disco doplan']\n[1478373900000]\n['Xizt' 'f0rest' 'friberg' 'Maikelele' 'GeT_RiGhT']\n[1480078800000]\n['GeT_RiGhT' 'f0rest' 'pyth' 'Xizt' 'friberg']\n[1480089600000]\n['f0rest' 'GeT_RiGhT' 'Xizt' 'freddieb' 'pyth']\n[1489091400000]\n['GeT_RiGhT' 'f0rest' 'Xizt' 'pyth' 'friberg']\n[1495980000000]\n['draken' 'Xizt' 'GeT_RiGhT' 'friberg' 'f0rest']\n[1496858400000]\n['s1mple' 'GeT_RiGhT' 'draken' 'Xizt' 'flamie']\n[1518221700000]\n['GeT_RiGhT' 'REZ' 'f0rest' 'draken' 'Xizt']\n[1527948000000]\n['f0rest' 'REZ' 'dennis' 'GeT_RiGhT' 'draken']\n[1551461700000]\n['REZ' 'f0rest' 'Lekr0' 'dennis' 'GeT_RiGhT']\n[1554456900000]\n['draken' 'REZ' 'f0rest' 'Lekr0' 'GeT_RiGhT']\n[1558455600000]\n['Lekr0' 'dennis' 'GeT_RiGhT' 'f0rest' 'REZ']\n[1559154000000]\n['f0rest' 'REZ' 'pita' 'GeT_RiGhT' 'Lekr0']\n[1559890800000]\n['GeT_RiGhT' 'dennis' 'f0rest' 'REZ' 'Lekr0']\n[1566127800000]\n['Plopski' 'f0rest' 'GeT_RiGhT' 'REZ' 'Lekr0']\n[1567179000000]\n['Lekr0' 'REZ' 'GeT_RiGhT' 'Golden' 'f0rest']\n[1569061200000]\n['f0rest' 'Lekr0' 'Plopski' 'GeT_RiGhT' 'REZ']\n--- 2.6731276512145996 seconds ---\n"
    },
    {
     "data": {
      "text/html": "<div>\n<style scoped>\n    .dataframe tbody tr th:only-of-type {\n        vertical-align: middle;\n    }\n\n    .dataframe tbody tr th {\n        vertical-align: top;\n    }\n\n    .dataframe thead th {\n        text-align: right;\n    }\n</style>\n<table border=\"1\" class=\"dataframe\">\n  <thead>\n    <tr style=\"text-align: right;\">\n      <th></th>\n      <th>map_id</th>\n      <th>map</th>\n      <th>date_unix</th>\n      <th>date_human_utc</th>\n      <th>event_id</th>\n      <th>event_name</th>\n      <th>team_id</th>\n      <th>team_name</th>\n      <th>team_score</th>\n      <th>team_kills</th>\n      <th>team_deaths</th>\n      <th>team_assists</th>\n    </tr>\n  </thead>\n  <tbody>\n    <tr>\n      <th>0</th>\n      <td>12838</td>\n      <td>NaN</td>\n      <td>1347562800000</td>\n      <td>2012-09-13 19:00:00</td>\n      <td>965</td>\n      <td>Go4CS:GO Cup #6</td>\n      <td>4411</td>\n      <td>NiP</td>\n      <td>16</td>\n      <td>91.0</td>\n      <td>46.0</td>\n      <td>0.0</td>\n    </tr>\n    <tr>\n      <th>1</th>\n      <td>12839</td>\n      <td>NaN</td>\n      <td>1347562800000</td>\n      <td>2012-09-13 19:00:00</td>\n      <td>965</td>\n      <td>Go4CS:GO Cup #6</td>\n      <td>4411</td>\n      <td>NiP</td>\n      <td>16</td>\n      <td>83.0</td>\n      <td>34.0</td>\n      <td>0.0</td>\n    </tr>\n    <tr>\n      <th>21</th>\n      <td>12868</td>\n      <td>NaN</td>\n      <td>1348254000000</td>\n      <td>2012-09-21 19:00:00</td>\n      <td>973</td>\n      <td>DreamHack Valencia 2012</td>\n      <td>4411</td>\n      <td>NiP</td>\n      <td>16</td>\n      <td>83.0</td>\n      <td>29.0</td>\n      <td>0.0</td>\n    </tr>\n    <tr>\n      <th>13</th>\n      <td>12860</td>\n      <td>NaN</td>\n      <td>1348335900000</td>\n      <td>2012-09-22 17:45:00</td>\n      <td>973</td>\n      <td>DreamHack Valencia 2012</td>\n      <td>4411</td>\n      <td>NiP</td>\n      <td>16</td>\n      <td>83.0</td>\n      <td>25.0</td>\n      <td>0.0</td>\n    </tr>\n    <tr>\n      <th>14</th>\n      <td>12861</td>\n      <td>NaN</td>\n      <td>1348341300000</td>\n      <td>2012-09-22 19:15:00</td>\n      <td>973</td>\n      <td>DreamHack Valencia 2012</td>\n      <td>4411</td>\n      <td>NiP</td>\n      <td>16</td>\n      <td>100.0</td>\n      <td>71.0</td>\n      <td>0.0</td>\n    </tr>\n  </tbody>\n</table>\n</div>",
      "text/plain": "    map_id  map      date_unix       date_human_utc  event_id  \\\n0    12838  NaN  1347562800000  2012-09-13 19:00:00       965   \n1    12839  NaN  1347562800000  2012-09-13 19:00:00       965   \n21   12868  NaN  1348254000000  2012-09-21 19:00:00       973   \n13   12860  NaN  1348335900000  2012-09-22 17:45:00       973   \n14   12861  NaN  1348341300000  2012-09-22 19:15:00       973   \n\n                 event_name  team_id team_name  team_score  team_kills  \\\n0           Go4CS:GO Cup #6     4411       NiP          16        91.0   \n1           Go4CS:GO Cup #6     4411       NiP          16        83.0   \n21  DreamHack Valencia 2012     4411       NiP          16        83.0   \n13  DreamHack Valencia 2012     4411       NiP          16        83.0   \n14  DreamHack Valencia 2012     4411       NiP          16       100.0   \n\n    team_deaths  team_assists  \n0          46.0           0.0  \n1          34.0           0.0  \n21         29.0           0.0  \n13         25.0           0.0  \n14         71.0           0.0  "
     },
     "execution_count": 70,
     "metadata": {},
     "output_type": "execute_result"
    }
   ],
   "source": [
    "team_id_nip = 4411\n",
    "df_nip = df_team[ df_team['team_id']==team_id_nip ]\n",
    "\n",
    "df_nip = df_nip.sort_values(by='date_unix',ascending=True)\n",
    "\n",
    "init_flag = False\n",
    "\n",
    "start_time = time.time()\n",
    "\n",
    "df_player_nip = df_player[ (df_player['team_id']==team_id_nip) ]\n",
    "\n",
    "date_vec =  []\n",
    "date_vec.append( df_nip['date_unix'][0] )\n",
    "\n",
    "for map_id in df_nip['map_id']:\n",
    "    \n",
    "    if init_flag:\n",
    "        df_prev = df_tmp\n",
    "\n",
    "    # df_tmp = df_player[ (df_player['map_id']==map_id) & (df_player['team_id']==team_id_nip) ]\n",
    "\n",
    "    df_tmp = df_player_nip[ df_player_nip['map_id']==map_id ]\n",
    "\n",
    "    if init_flag and (set(df_tmp.player_id) != set(df_prev.player_id)):\n",
    "        print( df_prev.date.unique() )\n",
    "        print( df_prev.player_name.unique())\n",
    "\n",
    "        # Store the date where the changes where made\n",
    "        date_vec.append( df_prev.date.unique()[0] )\n",
    "        \n",
    "    init_flag = True\n",
    "    \n",
    "print(\"--- %s seconds ---\" % (time.time() - start_time))\n",
    "\n",
    "df_nip.head()"
   ]
  },
  {
   "cell_type": "code",
   "execution_count": 106,
   "metadata": {},
   "outputs": [
    {
     "data": {
      "text/html": "<div>\n<style scoped>\n    .dataframe tbody tr th:only-of-type {\n        vertical-align: middle;\n    }\n\n    .dataframe tbody tr th {\n        vertical-align: top;\n    }\n\n    .dataframe thead th {\n        text-align: right;\n    }\n</style>\n<table border=\"1\" class=\"dataframe\">\n  <thead>\n    <tr style=\"text-align: right;\">\n      <th></th>\n      <th>map_id</th>\n      <th>map</th>\n      <th>date_unix</th>\n      <th>date_human_utc</th>\n      <th>event_id</th>\n      <th>event_name</th>\n      <th>team_id</th>\n      <th>team_name</th>\n      <th>team_score</th>\n      <th>team_kills</th>\n      <th>team_deaths</th>\n      <th>team_assists</th>\n    </tr>\n  </thead>\n  <tbody>\n    <tr>\n      <th>126291</th>\n      <td>90808</td>\n      <td>trn</td>\n      <td>1567179000000</td>\n      <td>2019-08-30 15:30:00</td>\n      <td>4443</td>\n      <td>StarLadder Major 2019</td>\n      <td>4411</td>\n      <td>NiP</td>\n      <td>8</td>\n      <td>63.0</td>\n      <td>88.0</td>\n      <td>5.0</td>\n    </tr>\n    <tr>\n      <th>126294</th>\n      <td>90816</td>\n      <td>d2</td>\n      <td>1567179000000</td>\n      <td>2019-08-30 15:30:00</td>\n      <td>4443</td>\n      <td>StarLadder Major 2019</td>\n      <td>4411</td>\n      <td>NiP</td>\n      <td>4</td>\n      <td>39.0</td>\n      <td>90.0</td>\n      <td>2.0</td>\n    </tr>\n    <tr>\n      <th>126849</th>\n      <td>91446</td>\n      <td>ovp</td>\n      <td>1568389500000</td>\n      <td>2019-09-13 15:45:00</td>\n      <td>4686</td>\n      <td>BLAST Pro Series Moscow 2019</td>\n      <td>4411</td>\n      <td>NiP</td>\n      <td>16</td>\n      <td>99.0</td>\n      <td>96.0</td>\n      <td>15.0</td>\n    </tr>\n    <tr>\n      <th>126853</th>\n      <td>91450</td>\n      <td>trn</td>\n      <td>1568395200000</td>\n      <td>2019-09-13 17:20:00</td>\n      <td>4686</td>\n      <td>BLAST Pro Series Moscow 2019</td>\n      <td>4411</td>\n      <td>NiP</td>\n      <td>15</td>\n      <td>90.0</td>\n      <td>97.0</td>\n      <td>15.0</td>\n    </tr>\n    <tr>\n      <th>126913</th>\n      <td>91517</td>\n      <td>d2</td>\n      <td>1568455500000</td>\n      <td>2019-09-14 10:05:00</td>\n      <td>4686</td>\n      <td>BLAST Pro Series Moscow 2019</td>\n      <td>4411</td>\n      <td>NiP</td>\n      <td>8</td>\n      <td>63.0</td>\n      <td>87.0</td>\n      <td>10.0</td>\n    </tr>\n  </tbody>\n</table>\n</div>",
      "text/plain": "        map_id  map      date_unix       date_human_utc  event_id  \\\n126291   90808  trn  1567179000000  2019-08-30 15:30:00      4443   \n126294   90816   d2  1567179000000  2019-08-30 15:30:00      4443   \n126849   91446  ovp  1568389500000  2019-09-13 15:45:00      4686   \n126853   91450  trn  1568395200000  2019-09-13 17:20:00      4686   \n126913   91517   d2  1568455500000  2019-09-14 10:05:00      4686   \n\n                          event_name  team_id team_name  team_score  \\\n126291         StarLadder Major 2019     4411       NiP           8   \n126294         StarLadder Major 2019     4411       NiP           4   \n126849  BLAST Pro Series Moscow 2019     4411       NiP          16   \n126853  BLAST Pro Series Moscow 2019     4411       NiP          15   \n126913  BLAST Pro Series Moscow 2019     4411       NiP           8   \n\n        team_kills  team_deaths  team_assists  \n126291        63.0         88.0           5.0  \n126294        39.0         90.0           2.0  \n126849        99.0         96.0          15.0  \n126853        90.0         97.0          15.0  \n126913        63.0         87.0          10.0  "
     },
     "execution_count": 106,
     "metadata": {},
     "output_type": "execute_result"
    }
   ],
   "source": [
    "# Get the win/loss rate between the dates\n",
    "size_date = len(date_vec)\n",
    "\n",
    "win_count  = []\n",
    "tie_count  = []\n",
    "loss_count = []\n",
    "\n",
    "for ind in range(0,size_date-1):\n",
    "    df_tmp = df_team[ (df_team['team_id']==team_id_nip) & (df_team['date_unix'] >= date_vec[ind]) & (df_team['date_unix'] < date_vec[ind+1] ) ]\n",
    "\n",
    "    win_count.append( 0 )\n",
    "    tie_count.append( 0 )\n",
    "    loss_count.append( 0 )\n",
    "\n",
    "    for map_id in df_tmp['map_id']:\n",
    "        score_op  = df_team[ (df_team['team_id']!=team_id_nip) & (df_team['map_id']==map_id) ]['team_score'].values[0]\n",
    "        score_nip = df_tmp[ (df_tmp['map_id']==map_id) ]['team_score'].values[0]\n",
    "        \n",
    "        if score_nip > score_op:\n",
    "            win_count[ind] = win_count[ind]+1\n",
    "        elif score_nip < score_op:\n",
    "            loss_count[ind] = loss_count[ind]+1\n",
    "        else:\n",
    "            tie_count[ind] = tie_count[ind]+1\n",
    "\n",
    "\n",
    "       # print([score_op,score_nip]) \n",
    "\n",
    "total_count = win_count + tie_count + loss_count\n",
    "\n",
    "df_tmp.head()"
   ]
  },
  {
   "cell_type": "code",
   "execution_count": 107,
   "metadata": {},
   "outputs": [
    {
     "name": "stdout",
     "output_type": "stream",
     "text": "[310, 0, 12, 2, 9, 2, 0, 17, 2, 16, 1, 5, 28, 2, 59, 0, 79, 0, 1, 1, 9, 18, 4, 47, 6, 31, 16, 0, 9, 25, 1, 74, 45, 73, 14, 16, 1, 0, 9, 2, 4]\n[69, 0, 5, 0, 7, 1, 0, 12, 3, 16, 0, 10, 15, 3, 40, 1, 50, 1, 0, 0, 5, 10, 2, 30, 5, 15, 7, 3, 20, 27, 1, 54, 35, 71, 14, 14, 4, 3, 12, 3, 5]\n[2, 0, 0, 0, 0, 0, 0, 0, 0, 1, 0, 0, 1, 0, 0, 0, 0, 0, 0, 0, 0, 0, 0, 0, 0, 0, 0, 0, 0, 0, 0, 1, 0, 3, 0, 0, 0, 0, 0, 0, 2]\n[310, 0, 12, 2, 9, 2, 0, 17, 2, 16, 1, 5, 28, 2, 59, 0, 79, 0, 1, 1, 9, 18, 4, 47, 6, 31, 16, 0, 9, 25, 1, 74, 45, 73, 14, 16, 1, 0, 9, 2, 4, 2, 0, 0, 0, 0, 0, 0, 0, 0]\n"
    }
   ],
   "source": [
    "print( win_count[:50] )\n",
    "print( loss_count[:50] )\n",
    "print( tie_count[:50] )\n",
    "print( total_count[:50] )\n",
    "\n",
    "\n"
   ]
  },
  {
   "cell_type": "code",
   "execution_count": 79,
   "metadata": {},
   "outputs": [
    {
     "data": {
      "text/html": "<div>\n<style scoped>\n    .dataframe tbody tr th:only-of-type {\n        vertical-align: middle;\n    }\n\n    .dataframe tbody tr th {\n        vertical-align: top;\n    }\n\n    .dataframe thead th {\n        text-align: right;\n    }\n</style>\n<table border=\"1\" class=\"dataframe\">\n  <thead>\n    <tr style=\"text-align: right;\">\n      <th></th>\n      <th>map_id</th>\n      <th>map</th>\n      <th>date_unix</th>\n      <th>date_human_utc</th>\n      <th>event_id</th>\n      <th>event_name</th>\n      <th>team_id</th>\n      <th>team_name</th>\n      <th>team_score</th>\n      <th>team_kills</th>\n      <th>team_deaths</th>\n      <th>team_assists</th>\n    </tr>\n  </thead>\n  <tbody>\n    <tr>\n      <th>0</th>\n      <td>12838</td>\n      <td>NaN</td>\n      <td>1347562800000</td>\n      <td>2012-09-13 19:00:00</td>\n      <td>965</td>\n      <td>Go4CS:GO Cup #6</td>\n      <td>4411</td>\n      <td>NiP</td>\n      <td>16</td>\n      <td>91.0</td>\n      <td>46.0</td>\n      <td>0.0</td>\n    </tr>\n    <tr>\n      <th>1</th>\n      <td>12839</td>\n      <td>NaN</td>\n      <td>1347562800000</td>\n      <td>2012-09-13 19:00:00</td>\n      <td>965</td>\n      <td>Go4CS:GO Cup #6</td>\n      <td>4411</td>\n      <td>NiP</td>\n      <td>16</td>\n      <td>83.0</td>\n      <td>34.0</td>\n      <td>0.0</td>\n    </tr>\n    <tr>\n      <th>2</th>\n      <td>12840</td>\n      <td>NaN</td>\n      <td>1347562800000</td>\n      <td>2012-09-13 19:00:00</td>\n      <td>966</td>\n      <td>CyberGamer Qualifier Cup #1 by Tt eSPORTS</td>\n      <td>4444</td>\n      <td>Blight</td>\n      <td>16</td>\n      <td>81.0</td>\n      <td>37.0</td>\n      <td>0.0</td>\n    </tr>\n    <tr>\n      <th>3</th>\n      <td>12841</td>\n      <td>NaN</td>\n      <td>1347562800000</td>\n      <td>2012-09-13 19:00:00</td>\n      <td>966</td>\n      <td>CyberGamer Qualifier Cup #1 by Tt eSPORTS</td>\n      <td>4444</td>\n      <td>Blight</td>\n      <td>16</td>\n      <td>97.0</td>\n      <td>58.0</td>\n      <td>0.0</td>\n    </tr>\n    <tr>\n      <th>4</th>\n      <td>12848</td>\n      <td>NaN</td>\n      <td>1348401600000</td>\n      <td>2012-09-23 12:00:00</td>\n      <td>973</td>\n      <td>DreamHack Valencia 2012</td>\n      <td>4411</td>\n      <td>NiP</td>\n      <td>16</td>\n      <td>102.0</td>\n      <td>86.0</td>\n      <td>0.0</td>\n    </tr>\n  </tbody>\n</table>\n</div>",
      "text/plain": "   map_id  map      date_unix       date_human_utc  event_id  \\\n0   12838  NaN  1347562800000  2012-09-13 19:00:00       965   \n1   12839  NaN  1347562800000  2012-09-13 19:00:00       965   \n2   12840  NaN  1347562800000  2012-09-13 19:00:00       966   \n3   12841  NaN  1347562800000  2012-09-13 19:00:00       966   \n4   12848  NaN  1348401600000  2012-09-23 12:00:00       973   \n\n                                  event_name  team_id team_name  team_score  \\\n0                            Go4CS:GO Cup #6     4411       NiP          16   \n1                            Go4CS:GO Cup #6     4411       NiP          16   \n2  CyberGamer Qualifier Cup #1 by Tt eSPORTS     4444    Blight          16   \n3  CyberGamer Qualifier Cup #1 by Tt eSPORTS     4444    Blight          16   \n4                    DreamHack Valencia 2012     4411       NiP          16   \n\n   team_kills  team_deaths  team_assists  \n0        91.0         46.0           0.0  \n1        83.0         34.0           0.0  \n2        81.0         37.0           0.0  \n3        97.0         58.0           0.0  \n4       102.0         86.0           0.0  "
     },
     "execution_count": 79,
     "metadata": {},
     "output_type": "execute_result"
    }
   ],
   "source": [
    "df_team.head()"
   ]
  },
  {
   "cell_type": "code",
   "execution_count": 85,
   "metadata": {},
   "outputs": [
    {
     "data": {
      "text/plain": "4411"
     },
     "execution_count": 85,
     "metadata": {},
     "output_type": "execute_result"
    }
   ],
   "source": [
    "df_nip.head()\n",
    "df_nip['team_id'].values[0]"
   ]
  },
  {
   "cell_type": "code",
   "execution_count": 104,
   "metadata": {},
   "outputs": [
    {
     "data": {
      "text/plain": "42"
     },
     "execution_count": 104,
     "metadata": {},
     "output_type": "execute_result"
    }
   ],
   "source": [
    "len(date_vec)"
   ]
  },
  {
   "cell_type": "code",
   "execution_count": 105,
   "metadata": {},
   "outputs": [
    {
     "data": {
      "text/plain": "1597"
     },
     "execution_count": 105,
     "metadata": {},
     "output_type": "execute_result"
    }
   ],
   "source": [
    "len(df_nip)"
   ]
  },
  {
   "cell_type": "code",
   "execution_count": null,
   "metadata": {},
   "outputs": [],
   "source": []
  }
 ]
}