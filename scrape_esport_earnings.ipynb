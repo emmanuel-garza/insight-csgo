{
 "nbformat": 4,
 "nbformat_minor": 2,
 "metadata": {
  "language_info": {
   "name": "python",
   "codemirror_mode": {
    "name": "ipython",
    "version": 3
   },
   "version": "3.7.4-final"
  },
  "orig_nbformat": 2,
  "file_extension": ".py",
  "mimetype": "text/x-python",
  "name": "python",
  "npconvert_exporter": "python",
  "pygments_lexer": "ipython3",
  "version": 3,
  "kernelspec": {
   "name": "python37464bitbasecondaeb9f0636332d422a9bbe6ab294d7e162",
   "display_name": "Python 3.7.4 64-bit ('base': conda)"
  }
 },
 "cells": [
  {
   "cell_type": "code",
   "execution_count": 170,
   "metadata": {},
   "outputs": [],
   "source": [
    "import requests\n",
    "from bs4 import BeautifulSoup\n",
    "from re import sub\n",
    "import pandas as pd\n"
   ]
  },
  {
   "cell_type": "code",
   "execution_count": 5,
   "metadata": {},
   "outputs": [],
   "source": [
    "r = requests.get('https://www.esportsearnings.com/games/245-counter-strike-global-offensive/top-players')"
   ]
  },
  {
   "cell_type": "code",
   "execution_count": 68,
   "metadata": {},
   "outputs": [
    {
     "name": "stdout",
     "output_type": "stream",
     "text": "layerSize:[[728, 90]]}}, bids: [{bidder: 'criteo', params: { zoneId: '1365425' }},{bidder: 'oftmedia', params:{ placementId: '11660801' }}] }]);</script><script type='text/javascript' data-ezscrex=\"false\">var ezorbf = []; </script><script data-ezscrex=\"false\" data-cfasync=\"false\" data-pagespeed-no-defer type='text/javascript'>window.isEZABL=false;window.ezmadspc=300;window.ezoViewCheck = false;</script><script data-ezscrex=\"false\" data-cfasync=\"false\" data-pagespeed-no-defer type='text/javascript'>window.ezDisableInitialLoad=false;</script><script data-ezscrex=\"false\" data-cfasync=\"false\" data-pagespeed-no-defer type='text/javascript'>\nwindow.googletag = window.googletag || {};\ngoogletag.cmd = googletag.cmd || [];\n(function() {\nvar gads = document.createElement('script');\ngads.async = true;\ngads.type = 'text/javascript';\nvar useSSL = 'https:' == document.location.protocol;\ngads.src = (useSSL ? 'https:' : 'http:') +\n'//securepubads.g.doubleclick.net/tag/js/gpt.js';\nvar node = document.getElementsByTagName('script')[0];\nnode.parentNode.insertBefore(gads, node);\n})();\n</script>\n<script data-ezscrex=\"false\" data-cfasync=\"false\" data-pagespeed-no-defer type='text/javascript'>\ngoogletag.cmd.push(function() {googletag.destroySlots();if(typeof window.isEZABL == 'undefined' || window.isEZABL != true) {ezslot_3 = googletag.defineSlot('/1254144/esportsearnings_com-box-1',[300,250],'div-gpt-ad-esportsearnings_com-box-1-0').addService(googletag.pubads()).setTargeting('iid16','1533150').setTargeting('t','134').setTargeting('d','140690').setTargeting('t1','134').setTargeting('pvc','0').setTargeting('ap','1103').setTargeting('sap','1103').setTargeting('a','|6|').setTargeting('as','revenue').setTargeting('plat','1').setTargeting('bra','mod35').setTargeting('ic','1').setTargeting('at','mbf').setTargeting('adr','399').setTargeting('ezosn','3').setTargeting('reft','tf').setTargeting('refs','30').setTargeting('ga','2497208').setTargeting('gala','').setTargeting('rid','99998').setTargeting('pt','0').setTargeting('al','1000').setTargeting('compid','1').setTargeting('tap','esportsearnings_com-box-1-1533150').setTargeting('eb_br','2620dac3b050a8e36c132f49cccab5a1').setTargeting('eba','1').setTargeting('bv','15').setTargeting('acptad','1').setCollapseEmptyDiv(false).setTargeting('br1','2200').setTargeting('br2','0').setTargeting('ezoic','1').setTargeting('nmau','2').setTargeting('stl','34').setTargeting('deal1',[22,23,24,25,26,27,28]);ezslot_3.set('adsense_background_color','FFFFFF').set('adsense_border_color','FFFFFF').set('adsense_channel_ids','7588763487').set('adsense_link_color','858585').set('adsense_text_color','000000').set('adsense_url_color','F0F0F0');ezrpos[3]=\"3\";ezslot_4 = googletag.defineSlot('/1254144/esportsearnings_com-box-2',[728,90],'div-gpt-ad-esportsearnings_com-box-2-0').addService(googletag.pubads()).setTargeting('iid16','1510299').setTargeting('t','134').setTargeting('d','140690').setTargeting('t1','134').setTargeting('pvc','0').setTargeting('ap','1101').setTargeting('sap','1101').setTargeting('a','|251|').setTargeting('as','revenue').setTargeting('plat','1').setTargeting('bra','mod35').setTargeting('ic','1').setTargeting('at','mbf').setTargeting('adr','399').setTargeting('ezosn','4').setTargeting('reft','tf').setTargeting('refs','30').setTargeting('ga','2497208').setTargeting('gala','').setTargeting('rid','99998').setTargeting('pt','1').setTargeting('al','1001').setTargeting('compid','0').setTargeting('tap','esportsearnings_com-box-2-1510299').setTargeting('eb_br','3530fcb6bcc13dc3c1712eaef7d92700').setTargeting('eba','1').setTargeting('bv','2').setTargeting('acptad','1').setCollapseEmptyDiv(false).setTargeting('br1','160').setTargeting('br2','0').setTargeting('ezoic','1').setTargeting('nmau','0').setTargeting('stl','37').setTargeting('deal1',[20,21,22,23,24,25,26,27,8,9,10,11,12,13,14,15,16]);ezslot_4.set('adsense_background_color','FFFFFF').set('adsense_border_color','FFFFFF').set('adsense_channel_ids','7588763487').set('adsense_link_color','0C9C11').set('adsense_text_color','000000').set('adsense_url_color','0C9C11');ezrpos[4]=\"4\";ezslot_1 = googletag.defineSlot('/1254144/esportsearnings_com-banner-2',[300,250],'div-gpt-ad-esportsearnings_com-banner-2-0').addService(googletag.pubads()).setTargeting('iid16','1529300').setTargeting('t','134').setTargeting('d','140690').setTargeting('t1','134').setTargeting('pvc','0').setTargeting('ap','1104').setTargeting('sap','1104').setTargeting('a','|2|').setTargeting('as','revenue').setTargeting('plat','1').setTargeting('bra','mod35').setTargeting('ic','1').setTargeting('at','mbf').setTargeting('adr','399').setTargeting('ezosn','1').setTargeting('reft','n').setTargeting('refs','30').setTargeting('ga','2497208').setTargeting('gala','').setTargeting('rid','99998').setTargeting('pt','31').setTargeting('al','1031').setTargeting('compid','0').setTargeting('tap','esportsearnings_com-banner-2-1529300').setTargeting('eb_br','3530fcb6bcc13dc3c1712eaef7d92700').setTargeting('eba','1').setTargeting('bv','15').setCollapseEmptyDiv(false).setTargeting('br1','160').setTargeting('br2','0').setTargeting('ezoic','1').setTargeting('nmau','2').setTargeting('stl','64').setTargeting('deal1',[20,21,22,23,24,25,26,27,28,8,9,10,11,12,13,14,15,16]);ezslot_1.set('adsense_background_color','FFFFFF').set('adsense_border_color','FFFFFF').set('adsense_channel_ids','7588763487').set('adsense_link_color','37a5d7').set('adsense_text_color','000000').set('adsense_url_color','F0F0F0');ezrpos[1]=\"1\";ezslot_2 = googletag.defineSlot('/1254144/esportsearnings_com-banner-2',[300,250],'div-gpt-ad-esportsearnings_com-banner-2-0_1').addService(googletag.pubads()).setTargeting('iid16','1529300').setTargeting('t','134').setTargeting('d','140690').setTargeting('t1','134').setTargeting('pvc','0').setTargeting('ap','1104').setTargeting('sap','1104').setTargeting('a','|124|').setTargeting('as','revenue').setTargeting('plat','1').setTargeting('bra','mod35').setTargeting('ic','1').setTargeting('at','mbf').setTargeting('adr','399').setTargeting('ezosn','2').setTargeting('reft','n').setTargeting('refs','30').setTargeting('ga','2497208').setTargeting('gala','').setTargeting('rid','99998').setTargeting('pt','31').setTargeting('al','1031').setTargeting('compid','0').setTargeting('tap','esportsearnings_com-banner-2-1529300').setTargeting('eb_br','3530fcb6bcc13dc3c1712eaef7d92700').setTargeting('eba','1').setTargeting('bv','15').setCollapseEmptyDiv(false).setTargeting('br1','160').setTargeting('br2','0').setTargeting('ezoic','1').setTargeting('nmau','2').setTargeting('stl','116').setTargeting('deal1',[20,21,22,23,24,25,26,27,28,8,9,10,11,12,13,14,15,16]);ezslot_2.set('adsense_background_color','FFFFFF').set('adsense_border_color','FFFFFF').set('adsense_channel_ids','7588763487').set('adsense_link_color','FF0000').set('adsense_text_color','000000').set('adsense_url_color','FF0000');ezrpos[2]=\"2\";ezslot_5 = googletag.defineSlot('/1254144/esportsearnings_com-medrectangle-1',[728,90],'div-gpt-ad-esportsearnings_com-medrectangle-1-0').addService(googletag.pubads()).setTargeting('iid16','1559600').setTargeting('t','134').setTargeting('d','140690').setTargeting('t1','134').setTargeting('pvc','0').setTargeting('ap','1102').setTargeting('sap','1102').setTargeting('a','|251|').setTargeting('as','revenue').setTargeting('plat','1').setTargeting('bra','mod35').setTargeting('ic','1').setTargeting('at','mbf').setTargeting('adr','399').setTargeting('ezosn','5').setTargeting('reft','n').setTargeting('refs','120').setTargeting('ga','2497208').setTargeting('gala','').setTargeting('rid','99998').setTargeting('pt','4').setTargeting('al','1004').setTargeting('compid','0').setTargeting('tap','esportsearnings_com-medrectangle-1-1559600').setTargeting('eb_br','c50a963ecc62061b386b119512894997').setTargeting('eba','1').setTargeting('bv','2').setTargeting('acptad','1').setCollapseEmptyDiv(false).setTargeting('br1','29000').setTargeting('br2','0').setTargeting('ezoic','1').setTargeting('nmau','0').setTargeting('stl','25');ezslot_5.set('adsense_background_color','FFFFFF').set('adsense_border_color','FFFFFF').set('adsense_channel_ids','7588763487').set('adsense_link_color','0C9C11').set('adsense_text_color','000000').set('adsense_url_color','0C9C11');ezrpos[5]=\"5\";ezslot_0 = googletag.defineSlot('/1254144/esportsearnings_com-medrectangle-2',[728,90],'div-gpt-ad-esportsearnings_com-medrectangle-2-0').addService(googletag.pubads()).setTargeting('iid16','1582750').setTargeting('t','134').setTargeting('d','140690').setTargeting('t1','134').setTargeting('pvc','0').setTargeting('ap','1100').setTargeting('sap','1100').setTargeting('a','|3|').setTargeting('as','revenue').setTargeting('plat','1').setTargeting('bra','mod35').setTargeting('ic','1').setTargeting('at','mbf').setTargeting('adr','399').setTargeting('ezosn','0').setTargeting('reft','tf').setTargeting('refs','120').setTargeting('ga','2497208').setTargeting('gala','').setTargeting('rid','99998').setTargeting('pt','5').setTargeting('al','1005').setTargeting('compid','0').setTargeting('tap','esportsearnings_com-medrectangle-2-1582750').setTargeting('eb_br','9ae587f95e95c876b7b76fd4c72a3838').setTargeting('eba','1').setTargeting('bv','2').setCollapseEmptyDiv(false).setTargeting('br1','180').setTargeting('br2','0').setTargeting('ezoic','1').setTargeting('nmau','0').setTargeting('stl','77').setTargeting('deal1',[20,21,22,23,24,25,26,27,28,29,30,8,9,10,11,12,13,14,15,16]);ezslot_0.set('adsense_background_color','FFFFFF').set('adsense_border_color','FFFFFF').set('adsense_channel_ids','7588763487').set('adsense_link_color','0000FF').set('adsense_text_color','000000').set('adsense_url_color','828282');ezrpos[0]=\"0\";}else{window.ezHideLocations=[];ezslot_3 = googletag.defineSlot('/1254144/esportsearnings_com-box-1',[300,250],'div-gpt-ad-esportsearnings_com-box-1-0').addService(googletag.pubads()).setTargeting('iid16','1533150').setTargeting('t','134').setTargeting('d','140690').setTargeting('t1','134').setTargeting('pvc','0').setTargeting('ap','1103').setTargeting('sap','1103').setTargeting('a','|6|').setTargeting('as','revenue').setTargeting('plat','1').setTargeting('bra','mod35').setTargeting('ic','1').setTargeting('at','mbf').setTargeting('adr','399').setTargeting('ezosn','3').setTargeting('reft','tf').setTargeting('refs','30').setTargeting('ga','2497208').setTargeting('gala','').setTargeting('rid','99998').setTargeting('pt','0').setTargeting('al','1000').setTargeting('compid','1').setTargeting('tap','esportsearnings_com-box-1-1533150').setTargeting('eb_br','2620dac3b050a8e36c132f49cccab5a1').setTargeting('eba','1').setTargeting('bv','15').setTargeting('acptad','1').setCollapseEmptyDiv(false).setTargeting('br1','2200').setTargeting('br2','0').setTargeting('ezoic','1').setTargeting('nmau','2').setTargeting('stl','34').setTargeting('deal1',[22,23,24,25,26,27,28]);ezslot_3.set('adsense_background_color','FFFFFF').set('adsense_border_color','FFFFFF').set('adsense_channel_ids','7588763487').set('adsense_link_color','858585').set('adsense_text_color','000000').set('adsense_url_color','F0F0F0');ezrpos[3]=\"3\";ezslot_4 = googletag.defineSlot('/1254144/esportsearnings_com-box-2',[728,90],'div-gpt-ad-esportsearnings_com-box-2-0').addService(googletag.pubads()).setTargeting('iid16','1510299').setTargeting('t','134').setTargeting('d','140690').setTargeting('t1','134').setTargeting('pvc','0').setTargeting('ap','1101').setTargeting('sap','1101').setTargeting('a','|251|').setTargeting('as','revenue').setTargeting('plat','1').setTargeting('bra','mod35').setTargeting('ic','1').setTargeting('at','mbf').setTargeting('adr','399').setTargeting('ezosn','4').setTargeting('reft','tf').setTargeting('refs','30').setTargeting('ga','2497208').setTargeting('gala','').setTargeting('rid','99998').setTargeting('pt','1').setTargeting('al','1001').setTargeting('compid','0').setTargeting('tap','esportsearnings_com-box-2-1510299').setTargeting('eb_br','3530fcb6bcc13dc3c1712eaef7d92700').setTargeting('eba','1').setTargeting('bv','2').setTargeting('acptad','1').setCollapseEmptyDiv(false).setTargeting('br1','160').setTargeting('br2','0').setTargeting('ezoic','1').setTargeting('nmau','0').setTargeting('stl','37').setTargeting('deal1',[20,21,22,23,24,25,26,27,8,9,10,11,12,13,14,15,16]);ezslot_4.set('adsense_background_color','FFFFFF').set('adsense_border_color','FFFFFF').set('adsense_channel_ids','7588763487').set('adsense_link_color','0C9C11').set('adsense_text_color','000000').set('adsense_url_color','0C9C11');ezrpos[4]=\"4\";window.ezHideLocations.push('div-gpt-ad-esportsearnings_com-banner-2-0');window.ezHideLocations.push('div-gpt-ad-esportsearnings_com-banner-2-0_1');ezslot_5 = googletag.defineSlot('/1254144/esportsearnings_com-medrectangle-1',[728,90],'div-gpt-ad-esportsearnings_com-medrectangle-1-0').addService(googletag.pubads()).setTargeting('iid16','1559600').setTargeting('t','134').setTargeting('d','140690').setTargeting('t1','134').setTargeting('pvc','0').setTargeting('ap','1102').setTargeting('sap','1102').setTargeting('a','|251|').setTargeting('as','revenue').setTargeting('plat','1').setTargeting('bra','mod35').setTargeting('ic','1').setTargeting('at','mbf').setTargeting('adr','399').setTargeting('ezosn','5').setTargeting('reft','n').setTargeting('refs','120').setTargeting('ga','2497208').setTargeting('gala','').setTargeting('rid','99998').setTargeting('pt','4').setTargeting('al','1004').setTargeting('compid','0').setTargeting('tap','esportsearnings_com-medrectangle-1-1559600').setTargeting('eb_br','c50a963ecc62061b386b119512894997').setTargeting('eba','1').setTargeting('bv','2').setTargeting('acptad','1').setCollapseEmptyDiv(false).setTargeting('br1','29000').setTargeting('br2','0').setTargeting('ezoic','1').setTargeting('nmau','0').setTargeting('stl','25');ezslot_5.set('adsense_background_color','FFFFFF').set('adsense_border_color','FFFFFF').set('adsense_channel_ids','7588763487').set('adsense_link_color','0C9C11').set('adsense_text_color','000000').set('adsense_url_color','0C9C11');ezrpos[5]=\"5\";window.ezHideLocations.push('div-gpt-ad-esportsearnings_com-medrectangle-2-0');}googletag.pubads().addEventListener('slotRenderEnded', function(event) { __ez.queue.addFunc(\"ezbanger\", \"ezbanger\", event, false, ['banger.js'], true, true, false, true); });googletag.pubads().addEventListener('impressionViewable', function(event) { __ez.queue.addFunc(\"ezvb\", \"ezvb\", event, false, ['banger.js'], true, true, false, true); });googletag.pubads().addEventListener('slotResponseReceived', function(event) { __ez.queue.addFunc(\"ezsr\", \"ezsr\", event, false, ['banger.js'], true, true, false, true); });googletag.pubads().addEventListener('slotRequested', function(e) { window.ezsrqt[e.slot.getSlotElementId()] = Date.now();});googletag.pubads().enableLazyLoad({fetchMarginPercent: 400,renderMarginPercent: 250,mobileScaling: 2.0});googletag.enableServices();});window.ezoll = false;window.ezoadxnc = '1254144';window.ezorefgsl = function(slot) {slot.setTargeting('reqt', Date.now());if(typeof slot.DFPSlot != 'undefined') {googletag.pubads().refresh([slot.DFPSlot]);} else {googletag.pubads().refresh([slot]);}};var ezoibfh = Array();ezoibfh[0] = 'zero';ezoibfh[1000000] = 'off';ezoibfh[23000] = '552e8e97b01f90c98fb547b2a5981bd0';\nezoibfh[21000] = 'e2cb818af42582fdeb5b2404292a4fdc';\nezoibfh[14000] = 'bbd63bbbf7aa5d55b64d29b4f3919d02';\nezoibfh[1100] = '39abb99448d54704c4afa42efe76e15d';\nezoibfh[650] = '5bac35e1a3b6adc56da706000a645484';\nezoibfh[260] = '57914c3716312cb7e954090f0717ea25';\nezoibfh[0] = '60474211daf1dfd4d90000ea01f56c30';\nezoibfh[25000] = 'ede18341593c9244092e13352cd25399';\nezoibfh[2700] = '401612ca672af30f67eaf5e0989ce385';\nezoibfh[1600] = '6dbaa2f5e27e83e2fcd15988d9095988';\nezoibfh[950] = 'c410f2a2b0c2123f4b6651cda6c5cf53';\nezoibfh[800] = 'dc3573d5dc41abdf97751be02f53537f';\nezoibfh[20000] = '1c275170760cdb315e09a0caab859d82';\nezoibfh[80] = 'dfa60cee6e1053fc0c9e607c8047bd28';\nezoibfh[10] = '291d27313eb66c50243129b23df8a579';\nezoibfh[12000] = 'e66f3eb6142bbf8f4ebbbd31c5540a1a';\nezoibfh[4000] = 'e95a0029a1c0d52e1f82ee010826e7d9';\nezoibfh[1800] = '72c13a89ac876aaffdde39253459460b';\nezoibfh[100] = 'a495ce7dbb4cefcd3e0a722048894f41';\nezoibfh[24000] = '848e945a6d42b7cae5b508d9d9c916fd';\nezoibfh[17000] = '3da233249b44074269c3efb64036ffd5';\nezoibfh[8000] = 'e41b3739f340bda9dcfb30f79c9db1c9';\nezoibfh[4600] = 'd297138284357206d38c781a2291b99a';\nezoibfh[2000] = '12a3b3570adcf20fd41a00445219acaa';\nezoibfh[850] = '5297de5240aa45da173a0792747e0d26';\nezoibfh[240] = '8de2c8ca79e8623e3cb37120a35ebaa2';\nezoibfh[60] = 'c352ba581bd3ffd8cea608cf2d55f519';\nezoibfh[11000] = 'b6b0d056da189d64dad3536d1704244e';\nezoibfh[9500] = '6fd3046d2172040882079eb07d0038c9';\nezoibfh[6000] = '49d60519eec4f00cfb2d91dec1e48d41';\nezoibfh[2100] = 'b2ac58e6c0c84fc65f344f47dd85768b';\nezoibfh[1200] = '736e09a0771285737509ab8954c475a7';\nezoibfh[200] = '86802a923a1f32517e4c5d3b6d550271';\nezoibfh[5500] = 'b069a06daabd6e3043166f0e7a2edef4';\nezoibfh[3200] = '41ad5c6ea7dab736638507e437e60604';\nezoibfh[2200] = '2620dac3b050a8e36c132f49cccab5a1';\nezoibfh[1900] = '65b2c11be72ed8610e2ac0304f3023a9';\nezoibfh[400] = '76163170a8636ae5b88417f095893e08';\nezoibfh[700] = '8b07bae800b215e481d05a271b3e723b';\nezoibfh[600] = '45a351e981f435b4c20fafca8a5d741c';\nezoibfh[140] = 'af063c244089b52ec5a0423a258f1f8e';\nezoibfh[16000] = '0be7d3ca3d2b552da080ad176e959a53';\nezoibfh[9000] = 'e4c87a0c427c95c548a2ad50bc2fc99d';\nezoibfh[7500] = '0de5c793b95df3adacbee8e14c308afc';\nezoibfh[7000] = '4552fb4beab2a055aec0d6113a8d9e42';\nezoibfh[900] = 'eeb0e32289ff31f9ddef18331038e5e9';\nezoibfh[120] = '58ef7bddb438af5e257c4377f32c243a';\nezoibfh[70] = '527e52c10635ac8136a4c84094ee49a8';\nezoibfh[40] = 'ee685f77592ce296910ee91457d66ba3';\nezoibfh[26000] = '3353de688cbba074dc3d34ad3502a0ff';\nezoibfh[18000] = 'f889e5f2be62dc0efa8535a9ac72a5ae';\nezoibfh[450] = '6e85b37de1b1ffc2593baa5d6e4b02fc';\nezoibfh[220] = '43aa1607a0c08c74b14a9039e7b909b4';\nezoibfh[180] = '9ae587f95e95c876b7b76fd4c72a3838';\nezoibfh[1500] = 'd81e229576f8cb8a43ff5c6a8e596727';\nezoibfh[10000] = 'f1e225445ec024e41bfd8ce2ba4aa91b';\nezoibfh[8500] = 'd5abc50791c030d76efa2ded02dcc115';\nezoibfh[5000] = '116f73d8738ced0c5546d5313109581e';\nezoibfh[3800] = '58e03b675175bbbec8566d319041c5ee';\nezoibfh[1700] = 'ff69c327c284033fca821ae81630bfa9';\nezoibfh[10500] = '42a903505d4ae4416a53434b5cb0a4d9';\nezoibfh[4800] = 'f0459c7057d45e6fbbed62c0762b551e';\nezoibfh[4200] = 'e9b52ed700c176b9b3f036aa176f3f3e';\nezoibfh[2400] = '6240c545bce1855c4e5a6ca430f526b1';\nezoibfh[90] = 'b355e9227b551c119a30a68852723b62';\nezoibfh[28000] = '6e7360126718801a2c512a507353f6ba';\nezoibfh[13000] = 'ca9543a8ad10743f5aa794997ac1abc5';\nezoibfh[4400] = 'a2de9c8773c426848d7815dff1d2d44f';\nezoibfh[3000] = '92831edb305b955e915a7cc2288d5df6';\nezoibfh[350] = '9e0a1ce5b2455cb9b48d5df4c6bf4053';\nezoibfh[11500] = '8eb8a64575469eb8117112aafe0739a6';\nezoibfh[1000] = 'c5429b6ddd929d0bc40a832a87789a7c';\nezoibfh[500] = '5f2b94bb26a5aa9b1a00e66d30cfd5ec';\nezoibfh[300] = '90c3c48d0172916d27c102ea4aa9d49c';\nezoibfh[29000] = 'c50a963ecc62061b386b119512894997';\nezoibfh[2900] = 'ef3231a19d034bff92faf99318a47a5f';\nezoibfh[2300] = 'a835e008e248a793da87524a4919f755';\nezoibfh[750] = '6ac330e431a70c7d8ce9fb95aee95c72';\nezoibfh[550] = '26dfa00588543c52511429ade391f561';\nezoibfh[15000] = '12f5d1db0577f9224a03666dcf42dc53';\nezoibfh[6500] = 'b6ac10cddc8471927cec0144110502e9';\nezoibfh[3400] = '2c0082dd1efc5e4dfdd4f50677fea822';\nezoibfh[30] = '54d0fa6d5f6aabe7623cb24faa42a441';\nezoibfh[20] = '7432360301409ae695ba255f16fbcf06';\nezoibfh[2600] = 'cc65d2d1fcda72df55233f97cf215dad';\nezoibfh[2500] = '78e9436ba8e29037bc31f94589331e0b';\nezoibfh[1400] = '04b5efc3207e2390972f099a6a3c4757';\nezoibfh[27000] = '8462e0f3d6ab7810a949e580cef2530d';\nezoibfh[22000] = '186f90c3cb2b602e78597d6478cc05e6';\nezoibfh[19000] = '9df342ed088a8ed25a61eedd7f755215';\nezoibfh[3600] = '81f896ad12450b2f0257b1df6d3f1edc';\nezoibfh[2800] = 'a9ec56005762ef40746ec1b6d554f472';\nezoibfh[1300] = 'bfa042bdb158\n"
    }
   ],
   "source": [
    "print(r.text[:30000])"
   ]
  },
  {
   "cell_type": "code",
   "execution_count": 91,
   "metadata": {},
   "outputs": [],
   "source": [
    "soup = BeautifulSoup(r.text,'html')"
   ]
  },
  {
   "cell_type": "code",
   "execution_count": 107,
   "metadata": {},
   "outputs": [],
   "source": [
    "table = soup.find_all('table',attrs={'class':'detail_list_table'})"
   ]
  },
  {
   "cell_type": "code",
   "execution_count": 143,
   "metadata": {},
   "outputs": [
    {
     "data": {
      "text/plain": "['Xyp9x']"
     },
     "execution_count": 143,
     "metadata": {},
     "output_type": "execute_result"
    }
   ],
   "source": [
    "t1 = table[0].find_all('td',attrs={'class':'format_cell detail_list_player'})\n",
    "\n",
    "player_name_vec = []\n",
    "\n",
    "for each in t1:\n",
    "    try:\n",
    "        player_name_vec.append(each.find_all('a')[1].contents[0])\n",
    "    except:\n",
    "        a=1\n",
    "\n",
    "\n"
   ]
  },
  {
   "cell_type": "code",
   "execution_count": 173,
   "metadata": {},
   "outputs": [
    {
     "name": "stdout",
     "output_type": "stream",
     "text": "{'Xyp9x': 1744921.9, 'dupreeh': 1741722.74, 'dev1ce': 1706223.21, 'gla1ve': 1575884.08, 'Magisk': 1335181.97, 'Stewie2k': 1028190.0, 'TACO': 985239.89, 'FalleN': 981320.54, 'fer': 975420.54, 'coldzera': 970581.46, 'NAF': 924565.66, 'karrigan': 901935.39, 'nitr0': 881851.73, 'ELiGE': 872496.42, 'olofmeister': 856161.52, 'JW': 833510.68, 'flusha': 813418.95, 'KRiMZ': 803573.34, 'GuardiaN': 798520.8, 'Twistzz': 777176.43, 'NBK': 711981.33, 'rain': 711479.57, 'apEX': 705985.72, 'tarik': 700539.21, 'NiKo': 699832.56, 'Zeus': 689568.7, 'kennyS': 644797.32, 'snax': 643207.99, 'flamie': 618553.4, 'Edward': 613854.6, 'neo': 605856.74, 'Kjaerbye': 589167.17, 'TaZ': 587466.99, 'pashaBiceps': 577291.84, 'byali': 570740.96, 's1mple': 562288.64, 'shox': 552773.88, 'f0rest': 539705.97, 'chrisJ': 534048.79, 'GeT_RiGhT': 513388.39, 'Xizt': 509305.74, 'Happy': 485910.46, 'Rush': 465216.0, 'Lekr0': 443849.26, 'ropz': 443310.74, 'Skadoodle': 437479.98, 'autimatic': 418416.23, 'electroNic': 417175.32, 'cajunb': 406382.53, 'stanislaw': 404987.38, 'AdreN': 404955.65, 'friberg': 400162.41, 'allu': 399702.59, 'RpK': 391020.95, 'fnx': 385332.42, 'Golden': 384392.48, 'KIOSHIMA': 368732.91, 'boltz': 356940.82, 'dennis': 356165.94, 'MSL': 338974.0, 'seized': 337060.34, 'oskar': 327726.77, 'aizy': 322088.34, 'Brehze': 313998.94, 'felps': 313346.57, 'nahtE': 313180.38, 'Dosia': 307601.25, 'suNny': 307290.0, 'bodyy': 302279.8, 'CeRq': 296065.04, 'k0nfig': 281605.81, 'STYKO': 279805.12, 'SmithZz': 269446.78, 'mou': 266319.49, 'SIXER': 255809.7, 'woxic': 255784.33, 'REZ': 253861.96, 'ScreaM': 249663.46, 'mixwell': 247538.65, 'n0thing': 239506.42, 'ALEX': 238408.72, 'HObbit': 232369.17, 'Furlan': 231642.01, 'Valde': 230273.04, 'twist': 229737.76, 'daps': 229414.3, 'pronax': 225871.85, 'ZywOo': 225844.48, 'MICHU': 223084.72, 'shroud': 218480.69, 'somebody': 217288.4, 'Xseven': 215193.76, 'Lucas': 208182.49, 'XANTARES': 208004.16, 'sergej': 205371.27, 'rallen': 202487.05, 'szpero': 201692.89, 'frozen': 201431.4, 'bubble': 196994.29, 'FugLy': 195005.97}\n"
    }
   ],
   "source": [
    "t1 = table[0].find_all('td',attrs={'class':'format_cell detail_list_prize border_right'})\n",
    "player_earnings_vec = []\n",
    "\n",
    "dic = {}\n",
    "\n",
    "for ind in range(0,len(t1)):\n",
    "    each = t1[ind]\n",
    "    dic[player_name_vec[ind]] = float(sub(r'[^\\d.]', '', each.contents[0]))\n",
    "        #player_earnings_vec.append(each.contents[0])\n",
    "        #player_earnings_vec.append(float(sub(r'[^\\d.]', '', each.contents[0])))\n",
    "    \n",
    "\n",
    "print(dic)"
   ]
  },
  {
   "cell_type": "code",
   "execution_count": 178,
   "metadata": {},
   "outputs": [
    {
     "data": {
      "text/html": "<div>\n<style scoped>\n    .dataframe tbody tr th:only-of-type {\n        vertical-align: middle;\n    }\n\n    .dataframe tbody tr th {\n        vertical-align: top;\n    }\n\n    .dataframe thead th {\n        text-align: right;\n    }\n</style>\n<table border=\"1\" class=\"dataframe\">\n  <thead>\n    <tr style=\"text-align: right;\">\n      <th></th>\n      <th>0</th>\n    </tr>\n  </thead>\n  <tbody>\n    <tr>\n      <th>Xyp9x</th>\n      <td>1744921.90</td>\n    </tr>\n    <tr>\n      <th>dupreeh</th>\n      <td>1741722.74</td>\n    </tr>\n    <tr>\n      <th>dev1ce</th>\n      <td>1706223.21</td>\n    </tr>\n    <tr>\n      <th>gla1ve</th>\n      <td>1575884.08</td>\n    </tr>\n    <tr>\n      <th>Magisk</th>\n      <td>1335181.97</td>\n    </tr>\n    <tr>\n      <th>...</th>\n      <td>...</td>\n    </tr>\n    <tr>\n      <th>rallen</th>\n      <td>202487.05</td>\n    </tr>\n    <tr>\n      <th>szpero</th>\n      <td>201692.89</td>\n    </tr>\n    <tr>\n      <th>frozen</th>\n      <td>201431.40</td>\n    </tr>\n    <tr>\n      <th>bubble</th>\n      <td>196994.29</td>\n    </tr>\n    <tr>\n      <th>FugLy</th>\n      <td>195005.97</td>\n    </tr>\n  </tbody>\n</table>\n<p>100 rows × 1 columns</p>\n</div>",
      "text/plain": "                  0\nXyp9x    1744921.90\ndupreeh  1741722.74\ndev1ce   1706223.21\ngla1ve   1575884.08\nMagisk   1335181.97\n...             ...\nrallen    202487.05\nszpero    201692.89\nfrozen    201431.40\nbubble    196994.29\nFugLy     195005.97\n\n[100 rows x 1 columns]"
     },
     "execution_count": 178,
     "metadata": {},
     "output_type": "execute_result"
    }
   ],
   "source": [
    "df = pd.DataFrame.from_dict(dic,orient='index')\n",
    "df[:100]"
   ]
  },
  {
   "cell_type": "code",
   "execution_count": null,
   "metadata": {},
   "outputs": [],
   "source": []
  }
 ]
}