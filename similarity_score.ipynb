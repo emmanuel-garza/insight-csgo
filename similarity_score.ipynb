{
 "nbformat": 4,
 "nbformat_minor": 2,
 "metadata": {
  "language_info": {
   "name": "python",
   "codemirror_mode": {
    "name": "ipython",
    "version": 3
   },
   "version": "3.7.6-final"
  },
  "orig_nbformat": 2,
  "file_extension": ".py",
  "mimetype": "text/x-python",
  "name": "python",
  "npconvert_exporter": "python",
  "pygments_lexer": "ipython3",
  "version": 3,
  "kernelspec": {
   "name": "python37664bittfconda04cc3002c149454bb73c3f879bac7c68",
   "display_name": "Python 3.7.6 64-bit ('tf': conda)"
  }
 },
 "cells": [
  {
   "cell_type": "code",
   "execution_count": 27,
   "metadata": {},
   "outputs": [],
   "source": [
    "# Modues to be used\n",
    "import pickle\n",
    "import numpy as np\n",
    "import pandas as pd\n",
    "import seaborn as sns\n",
    "import matplotlib.pyplot as plt\n",
    "\n",
    "from sklearn.metrics.pairwise import cosine_similarity\n",
    "\n",
    "\n",
    "from datetime import datetime"
   ]
  },
  {
   "cell_type": "code",
   "execution_count": 2,
   "metadata": {},
   "outputs": [],
   "source": [
    "# Load data from pickle files\n",
    "\n",
    "# -> Player dictionary with the dataFrames\n",
    "f = open('data/dict_player.pickle', 'rb')\n",
    "dict_player = pickle.load(f)\n",
    "\n",
    "# -> Map dataFrames\n",
    "f = open('data/df_map.pickle','rb')\n",
    "df_map = pickle.load(f)\n",
    "\n",
    "# -> Map dictionary\n",
    "f = open('data/dict_map.pickle','rb')\n",
    "dict_map = pickle.load(f)"
   ]
  },
  {
   "cell_type": "code",
   "execution_count": 118,
   "metadata": {},
   "outputs": [
    {
     "data": {
      "text/plain": "Index(['map', 'date', 'team_id', 'team_name', 'player_id', 'player_name',\n       'kills', 'hs_kills', 'assists', 'flash_assists', 'deaths', 'KAST',\n       'kill_death_diff', 'ADR', 'first_kills_diff', 'rating',\n       'kills_per_round', 'deaths_per_round', 'impact', 'team_score',\n       'op_score', 'win', 'team_rank', 'prize'],\n      dtype='object')"
     },
     "execution_count": 118,
     "metadata": {},
     "output_type": "execute_result"
    }
   ],
   "source": [
    "dict_player[player_id].head().keys()"
   ]
  },
  {
   "cell_type": "code",
   "execution_count": 119,
   "metadata": {},
   "outputs": [],
   "source": [
    "# First we take all the players in ranked teams from 2019\n",
    "\n",
    "\n",
    "player_aux = {}\n",
    "\n",
    "\n",
    "for player_id in dict_player:\n",
    "    df_aux = dict_player[player_id][ dict_player[player_id]['date']>datetime(2019,1,1) ]\n",
    "\n",
    "    if any( df_aux['team_rank']>0 ):\n",
    "        player_aux[player_id] = {}\n",
    "\n",
    "        prize = sum( df_aux['prize'] )\n",
    "        if prize > 0.0:\n",
    "            player_aux[player_id]['prize'] = np.log( prize ) / 12.0\n",
    "        else:\n",
    "            player_aux[player_id]['prize'] = 0.0\n",
    "\n",
    "        player_aux[player_id]['rating'] = df_aux['rating'].mean()\n",
    "\n",
    "        player_aux[player_id]['hs_perc'] = (df_aux['hs_kills']/df_aux['kills']).mean()\n",
    "\n",
    "        player_aux[player_id]['kills_per_round']  = df_aux['kills_per_round'].mean()\n",
    "        player_aux[player_id]['deaths_per_round'] = df_aux['deaths_per_round'].mean()\n",
    "        player_aux[player_id]['ADR'] = df_aux['ADR'].mean()\n",
    "\n",
    "        # print( df_aux['player_name'].unique() )\n"
   ]
  },
  {
   "cell_type": "code",
   "execution_count": 134,
   "metadata": {},
   "outputs": [
    {
     "name": "stdout",
     "output_type": "stream",
     "text": "['ScreaM']\n['grux']\n['chelo']\n['EspiranTo']\n['Grusarn']\n['neuz']\n['JUST']\n['Geniuss']\n['Excali']\n['raalz']\n['SANJI']\n['b0RUP']\n['L1NK']\n['NK4Y']\n['Flarich']\n['bogeymanh']\n['STYKO']\n['Twistzz']\n['icem4N']\n['tconnors']\n['isla']\n['cromen']\n['tge']\n['kr4sylya']\n['Fessor']\n['kAzoo']\n['mini']\n['Xg']\n['havoK']\n['Drone']\n['Jabbi']\n['supra']\n['chopper']\n['JaCkz']\n['dOMM']\n['xms']\n['kinqie']\n['B1t']\n['magixx']\n['Senpai']\n['Ping']\n['sutecas']\n['oitaN']\n['ISSAA']\n['Drea3er']\n['TeSeS']\n['Calyx']\n['takej']\n['Franke19']\n['BONA']\n"
    },
    {
     "data": {
      "text/html": "<div>\n<style scoped>\n    .dataframe tbody tr th:only-of-type {\n        vertical-align: middle;\n    }\n\n    .dataframe tbody tr th {\n        vertical-align: top;\n    }\n\n    .dataframe thead th {\n        text-align: right;\n    }\n</style>\n<table border=\"1\" class=\"dataframe\">\n  <thead>\n    <tr style=\"text-align: right;\">\n      <th></th>\n      <th>prize</th>\n      <th>rating</th>\n      <th>hs_perc</th>\n      <th>kills_per_round</th>\n      <th>deaths_per_round</th>\n      <th>ADR</th>\n      <th>dist</th>\n    </tr>\n  </thead>\n  <tbody>\n    <tr>\n      <th>7390</th>\n      <td>0.000000</td>\n      <td>0.000000</td>\n      <td>0.000000</td>\n      <td>0.000000</td>\n      <td>0.000000</td>\n      <td>0.000000</td>\n      <td>0.000000</td>\n    </tr>\n    <tr>\n      <th>15096</th>\n      <td>0.255622</td>\n      <td>0.085932</td>\n      <td>0.052346</td>\n      <td>0.001145</td>\n      <td>0.300664</td>\n      <td>0.039396</td>\n      <td>1.080757</td>\n    </tr>\n    <tr>\n      <th>10566</th>\n      <td>0.033048</td>\n      <td>0.018086</td>\n      <td>0.602654</td>\n      <td>0.001963</td>\n      <td>0.123476</td>\n      <td>0.078728</td>\n      <td>1.472171</td>\n    </tr>\n    <tr>\n      <th>12030</th>\n      <td>0.128133</td>\n      <td>0.072249</td>\n      <td>0.487652</td>\n      <td>0.166932</td>\n      <td>0.318019</td>\n      <td>0.100048</td>\n      <td>3.241230</td>\n    </tr>\n    <tr>\n      <th>16462</th>\n      <td>0.157489</td>\n      <td>0.002030</td>\n      <td>0.169346</td>\n      <td>0.070367</td>\n      <td>0.928441</td>\n      <td>0.064068</td>\n      <td>3.873884</td>\n    </tr>\n  </tbody>\n</table>\n</div>",
      "text/plain": "          prize    rating   hs_perc  kills_per_round  deaths_per_round  \\\n7390   0.000000  0.000000  0.000000         0.000000          0.000000   \n15096  0.255622  0.085932  0.052346         0.001145          0.300664   \n10566  0.033048  0.018086  0.602654         0.001963          0.123476   \n12030  0.128133  0.072249  0.487652         0.166932          0.318019   \n16462  0.157489  0.002030  0.169346         0.070367          0.928441   \n\n            ADR      dist  \n7390   0.000000  0.000000  \n15096  0.039396  1.080757  \n10566  0.078728  1.472171  \n12030  0.100048  3.241230  \n16462  0.064068  3.873884  "
     },
     "execution_count": 134,
     "metadata": {},
     "output_type": "execute_result"
    }
   ],
   "source": [
    "player_id = 7390\n",
    "\n",
    "df = pd.DataFrame.from_dict(player_aux,orient='index')\n",
    "\n",
    "df.prize = (df.prize - df.prize.mean()) / df.prize.std()\n",
    "df.rating = (df.rating - df.rating.mean()) / df.rating.std()\n",
    "df.head()\n",
    "\n",
    "for column in df:\n",
    "    df[column] = (df[column] - df[column].mean()) / df[column].std()\n",
    "    \n",
    "df_dist = df\n",
    "df_dist['dist'] = df['rating']*0.0\n",
    "for column in df:\n",
    "    df_dist[column] = (df[column]-df.loc[player_id][column])**2\n",
    "    df_dist['dist'] = df_dist['dist'] + df_dist[column]\n",
    "\n",
    "\n",
    "\n",
    "df_dist = df_dist.sort_values('dist',ascending=True)\n",
    "for player_id in df_dist.index[:50]:\n",
    "    print( dict_player[player_id].player_name.unique() )\n",
    "\n",
    "df_dist.head()"
   ]
  },
  {
   "cell_type": "code",
   "execution_count": 74,
   "metadata": {},
   "outputs": [
    {
     "name": "stdout",
     "output_type": "stream",
     "text": "['motm']\n[[2.10001847 1.870934  ]]\n[[1.69366126 2.23136091]]\n"
    },
    {
     "data": {
      "text/plain": "array([[0.98128497]])"
     },
     "execution_count": 74,
     "metadata": {},
     "output_type": "execute_result"
    }
   ],
   "source": [
    "\n",
    "\n",
    "X = df.loc[7592].values.reshape(1,-1) # Device\n",
    "\n",
    "#Y = df.loc[7998].values.reshape(1,-1) # S1mple\n",
    "\n",
    "#Y = df.loc[13230].values.reshape(1,-1) #\n",
    "\n",
    "#Y = [[0, 0.1]]\n",
    "\n",
    "print(dict_player[13230].player_name.unique())\n",
    "\n",
    "print(X)\n",
    "print(Y)\n",
    "A = cosine_similarity( X, Y)\n",
    "\n",
    "A\n",
    "\n"
   ]
  },
  {
   "cell_type": "code",
   "execution_count": 62,
   "metadata": {},
   "outputs": [
    {
     "name": "stdout",
     "output_type": "stream",
     "text": "0.9998424739121115\n"
    }
   ],
   "source": [
    "nx = np.sqrt(0.60153336**2 + 0.26100981**2)\n",
    "ny = np.sqrt(0.32155997**2 + 0.14636292**2)\n",
    "\n",
    "dxy = 0.60153336*0.32155997 + 0.26100981 *0.14636292\n",
    "\n",
    "print( dxy/nx/ny)"
   ]
  },
  {
   "cell_type": "code",
   "execution_count": null,
   "metadata": {},
   "outputs": [],
   "source": []
  }
 ]
}