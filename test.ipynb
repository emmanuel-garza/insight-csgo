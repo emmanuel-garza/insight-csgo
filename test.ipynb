{
 "nbformat": 4,
 "nbformat_minor": 2,
 "metadata": {
  "language_info": {
   "name": "python",
   "codemirror_mode": {
    "name": "ipython",
    "version": 3
   },
   "version": "3.7.4-final"
  },
  "orig_nbformat": 2,
  "file_extension": ".py",
  "mimetype": "text/x-python",
  "name": "python",
  "npconvert_exporter": "python",
  "pygments_lexer": "ipython3",
  "version": 3,
  "kernelspec": {
   "name": "python37464bitbasecondaeb9f0636332d422a9bbe6ab294d7e162",
   "display_name": "Python 3.7.4 64-bit ('base': conda)"
  }
 },
 "cells": [
  {
   "cell_type": "code",
   "execution_count": 64,
   "metadata": {},
   "outputs": [],
   "source": [
    "# Modues to be used\n",
    "import pandas as pd\n",
    "import matplotlib.pyplot as plt\n",
    "import time\n",
    "import numpy as np\n",
    "import json\n",
    "# import csgostats\n",
    "\n",
    "# Global variables\n",
    "# MASTER_CSV_PATH = '~/Dropbox/csgo-csv/'\n",
    "MASTER_CSV_PATH = '~/Desktop/csgo-csv/'"
   ]
  },
  {
   "cell_type": "code",
   "execution_count": 51,
   "metadata": {},
   "outputs": [],
   "source": [
    "## READ DATE FROM MASTER ##\n",
    "\n",
    "# Read the data from all years\n",
    "#year_vec = ['2012','2013','2014','2015','2016','2017','2018','2019']\n",
    "\n",
    "year_vec = ['2019']\n",
    "\n",
    "# Empty data frames\n",
    "df_player = pd.DataFrame( { } )\n",
    "df_team   = pd.DataFrame( { } )\n",
    "\n",
    "# Append the data from each year\n",
    "for year in year_vec:\n",
    "        \n",
    "    file_name = MASTER_CSV_PATH + year + '-player-lvl.csv'\n",
    "    df_player = df_player.append( pd.read_csv( file_name ), ignore_index=True, sort=False )\n",
    "    \n",
    "    file_name = MASTER_CSV_PATH + year + '-team-lvl.csv'\n",
    "    df_team   = df_team.append( pd.read_csv( file_name ), ignore_index=True, sort=False )"
   ]
  },
  {
   "cell_type": "code",
   "execution_count": 21,
   "metadata": {},
   "outputs": [],
   "source": [
    "#df_new = pd.DataFrame( data=df_team['team_name'].unique(), columns=['Team Name'], index=None )\n",
    "\n",
    "#df_new.to_csv('team_names.csv')\n"
   ]
  },
  {
   "cell_type": "code",
   "execution_count": 22,
   "metadata": {},
   "outputs": [],
   "source": [
    "#df_new = pd.DataFrame( data=df_player['player_name'].unique(), columns=['Player Name'], index=None )\n",
    "\n",
    "#df_new.to_csv('player_names.csv')\n"
   ]
  },
  {
   "cell_type": "code",
   "execution_count": 87,
   "metadata": {},
   "outputs": [],
   "source": [
    "team_id_vec = [6665,4494,5973,4991,10399,9565,8474,4608,6667,5995]\n",
    "team_name_vec = []\n",
    "\n",
    "dic_team = {}\n",
    "dic_team_players = {}\n",
    "\n",
    "df_player = df_player.sort_values(by='date',ascending=False)\n",
    "\n",
    "dic_players={}\n",
    "\n",
    "for ind in range(0,len(team_id_vec)):\n",
    "    dic_team[team_id_vec[ind]] = {}\n",
    "    dic_team[team_id_vec[ind]]['team_name'] = df_team[df_team['team_id']==team_id_vec[ind]].team_name.unique()[0]\n",
    "    \n",
    "    dic_team_players[team_id_vec[ind]] = {}\n",
    "    #dic_team_players[team_id_vec[ind]]['player_id'] = {}\n",
    "    #dic_team_players[team_id_vec[ind]]['player_name'] = {}\n",
    "    for ind2 in range(0,5):        \n",
    "        player_id = str(df_player[df_player['team_id']==team_id_vec[ind]].player_id.unique()[ind2])\n",
    "        dic_team_players[team_id_vec[ind]][player_id] = {}\n",
    "        dic_team_players[team_id_vec[ind]][player_id]['name'] = {}\n",
    "        dic_team_players[team_id_vec[ind]][player_id]['name'] = str(df_player[df_player['team_id']==team_id_vec[ind]].player_name.unique()[ind2])\n",
    "\n",
    "        dic_players[player_id] = {}\n",
    "        dic_players[player_id]['name'] = str(df_player[df_player['team_id']==team_id_vec[ind]].player_name.unique()[ind2])\n",
    "        \n",
    "        # dic_team_players[team_id_vec[ind]]['player_id'][ind2]   = str(df_player[df_player['team_id']==team_id_vec[ind]].player_id.unique()[ind2])\n",
    "        # dic_team_players[team_id_vec[ind]]['player_name'][ind2] = str(df_player[df_player['team_id']==team_id_vec[ind]].player_name.unique()[ind2])\n",
    "\n",
    "team_name_vec\n",
    "#df = pd.Dataframe(  )\n",
    "dic_team\n",
    "\n",
    "\n",
    "df_player.head()\n",
    "\n",
    "#df_player[df_player['team_id']==team_id_vec[0]].player_id.unique()\n",
    "#df_player[df_player['team_id']==team_id_vec[0]]\n",
    "#len(df_player)\n",
    "dic_team_players\n",
    "\n",
    "json_tmp = json.dumps(dic_team)\n",
    "f = open(\"dict_team.json\",\"w\")\n",
    "f.write(json_tmp)\n",
    "f.close()\n",
    "\n",
    "json_tmp = json.dumps(dic_team_players)\n",
    "f = open(\"dict_team_players.json\",\"w\")\n",
    "f.write(json_tmp)\n",
    "f.close()\n",
    "\n",
    "json_tmp = json.dumps(dic_players)\n",
    "f = open(\"dict_players.json\",\"w\")\n",
    "f.write(json_tmp)\n",
    "f.close()"
   ]
  },
  {
   "cell_type": "code",
   "execution_count": 86,
   "metadata": {},
   "outputs": [
    {
     "data": {
      "text/plain": "{6665: {'9032': {'name': 'Magisk'},\n  '7592': {'name': 'device'},\n  '4954': {'name': 'Xyp9x'},\n  '7412': {'name': 'gla1ve'},\n  '7398': {'name': 'dupreeh'}},\n 4494: {'429': {'name': 'karrigan'},\n  '8574': {'name': 'woxic'},\n  '2730': {'name': 'chrisJ'},\n  '11816': {'name': 'ropz'},\n  '9960': {'name': 'frozen'}},\n 5973: {'7687': {'name': 'nitr0'},\n  '8797': {'name': 'Stewie2K'},\n  '8520': {'name': 'NAF'},\n  '10394': {'name': 'Twistzz'},\n  '8738': {'name': 'EliGE'}},\n 4991: {'3055': {'name': 'flusha'},\n  '7528': {'name': 'KRIMZ'},\n  '11110': {'name': 'Golden'},\n  '3849': {'name': 'JW'},\n  '13666': {'name': 'Brollan'}},\n 10399: {'8507': {'name': 'stanislaw'},\n  '10671': {'name': 'Ethan'},\n  '9136': {'name': 'Brehze'},\n  '11219': {'name': 'CeRq'},\n  '8523': {'name': 'tarik'}},\n 9565: {'8184': {'name': 'ALEX'},\n  '11893': {'name': 'ZywOo'},\n  '7322': {'name': 'apEX'},\n  '1225': {'name': 'shox'},\n  '7169': {'name': 'RpK'}},\n 8474: {'10588': {'name': 'Liazz'},\n  '8248': {'name': 'jkaem'},\n  '8082': {'name': 'AZR'},\n  '4679': {'name': 'jks'},\n  '9686': {'name': 'Gratisfaction'}},\n 4608: {'8918': {'name': 'electronic'},\n  '2757': {'name': 'GuardiaN'},\n  '7594': {'name': 'flamie'},\n  '7998': {'name': 's1mple'},\n  '11840': {'name': 'Boombl4'}},\n 6667: {'9216': {'name': 'coldzera'},\n  '18053': {'name': 'broky'},\n  '3741': {'name': 'NiKo'},\n  '8183': {'name': 'rain'},\n  '885': {'name': 'olofmeister'}},\n 5995: {'3972': {'name': 'huNter-'},\n  '9618': {'name': 'nexa'},\n  '284': {'name': 'JaCkz'},\n  '9616': {'name': 'AmaNEk'},\n  '7167': {'name': 'kennyS'}}}"
     },
     "execution_count": 86,
     "metadata": {},
     "output_type": "execute_result"
    }
   ],
   "source": [
    "dic_team\n",
    "dic_team_players\n"
   ]
  },
  {
   "cell_type": "code",
   "execution_count": 19,
   "metadata": {},
   "outputs": [
    {
     "data": {
      "text/html": "<div>\n<style scoped>\n    .dataframe tbody tr th:only-of-type {\n        vertical-align: middle;\n    }\n\n    .dataframe tbody tr th {\n        vertical-align: top;\n    }\n\n    .dataframe thead th {\n        text-align: right;\n    }\n</style>\n<table border=\"1\" class=\"dataframe\">\n  <thead>\n    <tr style=\"text-align: right;\">\n      <th></th>\n      <th>map_id</th>\n      <th>map</th>\n      <th>date</th>\n      <th>team_id</th>\n      <th>team_name</th>\n      <th>player_id</th>\n      <th>player_name</th>\n      <th>kills</th>\n      <th>hs_kills</th>\n      <th>assists</th>\n      <th>flash_assists</th>\n      <th>deaths</th>\n      <th>KAST</th>\n      <th>kill_death_diff</th>\n      <th>ADR</th>\n      <th>first_kills_diff</th>\n      <th>rating</th>\n      <th>kills_per_round</th>\n      <th>deaths_per_round</th>\n      <th>impact</th>\n    </tr>\n  </thead>\n  <tbody>\n    <tr>\n      <th>0</th>\n      <td>12838</td>\n      <td>NaN</td>\n      <td>1347562800000</td>\n      <td>4411</td>\n      <td>NiP</td>\n      <td>39</td>\n      <td>GeT_RiGhT</td>\n      <td>27</td>\n      <td>0</td>\n      <td>0</td>\n      <td>0</td>\n      <td>10</td>\n      <td>NaN</td>\n      <td>17</td>\n      <td>NaN</td>\n      <td>2</td>\n      <td>2.12</td>\n      <td>NaN</td>\n      <td>NaN</td>\n      <td>NaN</td>\n    </tr>\n    <tr>\n      <th>1</th>\n      <td>12839</td>\n      <td>NaN</td>\n      <td>1347562800000</td>\n      <td>4411</td>\n      <td>NiP</td>\n      <td>39</td>\n      <td>GeT_RiGhT</td>\n      <td>18</td>\n      <td>0</td>\n      <td>0</td>\n      <td>0</td>\n      <td>4</td>\n      <td>NaN</td>\n      <td>14</td>\n      <td>NaN</td>\n      <td>1</td>\n      <td>1.92</td>\n      <td>NaN</td>\n      <td>NaN</td>\n      <td>NaN</td>\n    </tr>\n    <tr>\n      <th>2</th>\n      <td>12840</td>\n      <td>NaN</td>\n      <td>1347562800000</td>\n      <td>4444</td>\n      <td>Blight</td>\n      <td>7158</td>\n      <td>Helsing</td>\n      <td>18</td>\n      <td>0</td>\n      <td>0</td>\n      <td>0</td>\n      <td>4</td>\n      <td>NaN</td>\n      <td>14</td>\n      <td>NaN</td>\n      <td>-1</td>\n      <td>1.91</td>\n      <td>NaN</td>\n      <td>NaN</td>\n      <td>NaN</td>\n    </tr>\n    <tr>\n      <th>3</th>\n      <td>12841</td>\n      <td>NaN</td>\n      <td>1347562800000</td>\n      <td>4444</td>\n      <td>Blight</td>\n      <td>7158</td>\n      <td>Helsing</td>\n      <td>25</td>\n      <td>0</td>\n      <td>0</td>\n      <td>0</td>\n      <td>11</td>\n      <td>NaN</td>\n      <td>14</td>\n      <td>NaN</td>\n      <td>3</td>\n      <td>1.64</td>\n      <td>NaN</td>\n      <td>NaN</td>\n      <td>NaN</td>\n    </tr>\n    <tr>\n      <th>4</th>\n      <td>12848</td>\n      <td>NaN</td>\n      <td>1348401600000</td>\n      <td>4411</td>\n      <td>NiP</td>\n      <td>884</td>\n      <td>Xizt</td>\n      <td>30</td>\n      <td>16</td>\n      <td>0</td>\n      <td>0</td>\n      <td>21</td>\n      <td>NaN</td>\n      <td>9</td>\n      <td>NaN</td>\n      <td>3</td>\n      <td>1.32</td>\n      <td>NaN</td>\n      <td>NaN</td>\n      <td>NaN</td>\n    </tr>\n  </tbody>\n</table>\n</div>",
      "text/plain": "   map_id  map           date  team_id team_name  player_id player_name  \\\n0   12838  NaN  1347562800000     4411       NiP         39   GeT_RiGhT   \n1   12839  NaN  1347562800000     4411       NiP         39   GeT_RiGhT   \n2   12840  NaN  1347562800000     4444    Blight       7158     Helsing   \n3   12841  NaN  1347562800000     4444    Blight       7158     Helsing   \n4   12848  NaN  1348401600000     4411       NiP        884        Xizt   \n\n   kills  hs_kills  assists  flash_assists  deaths  KAST  kill_death_diff  \\\n0     27         0        0              0      10   NaN               17   \n1     18         0        0              0       4   NaN               14   \n2     18         0        0              0       4   NaN               14   \n3     25         0        0              0      11   NaN               14   \n4     30        16        0              0      21   NaN                9   \n\n   ADR  first_kills_diff  rating  kills_per_round  deaths_per_round  impact  \n0  NaN                 2    2.12              NaN               NaN     NaN  \n1  NaN                 1    1.92              NaN               NaN     NaN  \n2  NaN                -1    1.91              NaN               NaN     NaN  \n3  NaN                 3    1.64              NaN               NaN     NaN  \n4  NaN                 3    1.32              NaN               NaN     NaN  "
     },
     "execution_count": 19,
     "metadata": {},
     "output_type": "execute_result"
    }
   ],
   "source": [
    "df_player.head()"
   ]
  },
  {
   "cell_type": "code",
   "execution_count": 18,
   "metadata": {},
   "outputs": [
    {
     "name": "stdout",
     "output_type": "stream",
     "text": "Number of unique players     =  13512\nNumber of unique teams       =  4713\nNumber of unique maps played =  73848\nNumber of unique events      =  3553\n"
    }
   ],
   "source": [
    "print( 'Number of unique players     = ', len(df_player.player_id.unique()) )\n",
    "print( 'Number of unique teams       = ', len(df_player.team_id.unique()) )\n",
    "print( 'Number of unique maps played = ', len(df_team.map_id.unique()) )\n",
    "print( 'Number of unique events      = ', len(df_team.event_id.unique()) )"
   ]
  },
  {
   "cell_type": "code",
   "execution_count": 113,
   "metadata": {},
   "outputs": [
    {
     "data": {
      "text/html": "<div>\n<style scoped>\n    .dataframe tbody tr th:only-of-type {\n        vertical-align: middle;\n    }\n\n    .dataframe tbody tr th {\n        vertical-align: top;\n    }\n\n    .dataframe thead th {\n        text-align: right;\n    }\n</style>\n<table border=\"1\" class=\"dataframe\">\n  <thead>\n    <tr style=\"text-align: right;\">\n      <th></th>\n      <th>map_id</th>\n      <th>map</th>\n      <th>date</th>\n      <th>team_id</th>\n      <th>team_name</th>\n      <th>player_id</th>\n      <th>player_name</th>\n      <th>kills</th>\n      <th>hs_kills</th>\n      <th>assists</th>\n      <th>flash_assists</th>\n      <th>deaths</th>\n      <th>KAST</th>\n      <th>kill_death_diff</th>\n      <th>ADR</th>\n      <th>first_kills_diff</th>\n      <th>rating</th>\n      <th>kills_per_round</th>\n      <th>deaths_per_round</th>\n      <th>impact</th>\n    </tr>\n  </thead>\n  <tbody>\n    <tr>\n      <th>723015</th>\n      <td>97592</td>\n      <td>nuke</td>\n      <td>1578618000000</td>\n      <td>10330</td>\n      <td>Supremacy</td>\n      <td>14557</td>\n      <td>Guepard</td>\n      <td>10</td>\n      <td>7</td>\n      <td>6</td>\n      <td>2</td>\n      <td>14</td>\n      <td>75.0</td>\n      <td>-4</td>\n      <td>64.3</td>\n      <td>-2</td>\n      <td>0.93</td>\n      <td>0.42</td>\n      <td>0.58</td>\n      <td>0.59</td>\n    </tr>\n    <tr>\n      <th>645787</th>\n      <td>97594</td>\n      <td>inf</td>\n      <td>1578618000000</td>\n      <td>10578</td>\n      <td>Infamous</td>\n      <td>19889</td>\n      <td>Knight</td>\n      <td>20</td>\n      <td>14</td>\n      <td>5</td>\n      <td>2</td>\n      <td>19</td>\n      <td>78.6</td>\n      <td>1</td>\n      <td>89.6</td>\n      <td>0</td>\n      <td>1.16</td>\n      <td>0.71</td>\n      <td>0.68</td>\n      <td>0.86</td>\n    </tr>\n    <tr>\n      <th>614893</th>\n      <td>97592</td>\n      <td>nuke</td>\n      <td>1578618000000</td>\n      <td>10578</td>\n      <td>Infamous</td>\n      <td>9197</td>\n      <td>gianco</td>\n      <td>16</td>\n      <td>4</td>\n      <td>3</td>\n      <td>0</td>\n      <td>18</td>\n      <td>66.7</td>\n      <td>-2</td>\n      <td>75.0</td>\n      <td>-4</td>\n      <td>0.86</td>\n      <td>0.67</td>\n      <td>0.75</td>\n      <td>0.63</td>\n    </tr>\n    <tr>\n      <th>707571</th>\n      <td>97594</td>\n      <td>inf</td>\n      <td>1578618000000</td>\n      <td>10578</td>\n      <td>Infamous</td>\n      <td>19137</td>\n      <td>LKN</td>\n      <td>15</td>\n      <td>10</td>\n      <td>4</td>\n      <td>0</td>\n      <td>20</td>\n      <td>57.1</td>\n      <td>-5</td>\n      <td>67.6</td>\n      <td>-4</td>\n      <td>0.80</td>\n      <td>0.54</td>\n      <td>0.71</td>\n      <td>0.82</td>\n    </tr>\n    <tr>\n      <th>707569</th>\n      <td>97592</td>\n      <td>nuke</td>\n      <td>1578618000000</td>\n      <td>10578</td>\n      <td>Infamous</td>\n      <td>12336</td>\n      <td>kevz</td>\n      <td>10</td>\n      <td>2</td>\n      <td>6</td>\n      <td>1</td>\n      <td>19</td>\n      <td>50.0</td>\n      <td>-9</td>\n      <td>54.8</td>\n      <td>2</td>\n      <td>0.65</td>\n      <td>0.42</td>\n      <td>0.79</td>\n      <td>0.88</td>\n    </tr>\n  </tbody>\n</table>\n</div>",
      "text/plain": "        map_id   map           date  team_id  team_name  player_id  \\\n723015   97592  nuke  1578618000000    10330  Supremacy      14557   \n645787   97594   inf  1578618000000    10578   Infamous      19889   \n614893   97592  nuke  1578618000000    10578   Infamous       9197   \n707571   97594   inf  1578618000000    10578   Infamous      19137   \n707569   97592  nuke  1578618000000    10578   Infamous      12336   \n\n       player_name  kills  hs_kills  assists  flash_assists  deaths  KAST  \\\n723015     Guepard     10         7        6              2      14  75.0   \n645787      Knight     20        14        5              2      19  78.6   \n614893      gianco     16         4        3              0      18  66.7   \n707571         LKN     15        10        4              0      20  57.1   \n707569        kevz     10         2        6              1      19  50.0   \n\n        kill_death_diff   ADR  first_kills_diff  rating  kills_per_round  \\\n723015               -4  64.3                -2    0.93             0.42   \n645787                1  89.6                 0    1.16             0.71   \n614893               -2  75.0                -4    0.86             0.67   \n707571               -5  67.6                -4    0.80             0.54   \n707569               -9  54.8                 2    0.65             0.42   \n\n        deaths_per_round  impact  \n723015              0.58    0.59  \n645787              0.68    0.86  \n614893              0.75    0.63  \n707571              0.71    0.82  \n707569              0.79    0.88  "
     },
     "execution_count": 113,
     "metadata": {},
     "output_type": "execute_result"
    }
   ],
   "source": [
    "df_player.sort_values(by='date',ascending=False).head()"
   ]
  },
  {
   "cell_type": "code",
   "execution_count": 114,
   "metadata": {},
   "outputs": [
    {
     "data": {
      "text/html": "<div>\n<style scoped>\n    .dataframe tbody tr th:only-of-type {\n        vertical-align: middle;\n    }\n\n    .dataframe tbody tr th {\n        vertical-align: top;\n    }\n\n    .dataframe thead th {\n        text-align: right;\n    }\n</style>\n<table border=\"1\" class=\"dataframe\">\n  <thead>\n    <tr style=\"text-align: right;\">\n      <th></th>\n      <th>map_id</th>\n      <th>map</th>\n      <th>date_unix</th>\n      <th>date_human_utc</th>\n      <th>event_id</th>\n      <th>event_name</th>\n      <th>team_id</th>\n      <th>team_name</th>\n      <th>team_score</th>\n      <th>team_kills</th>\n      <th>team_deaths</th>\n      <th>team_assists</th>\n    </tr>\n  </thead>\n  <tbody>\n    <tr>\n      <th>147694</th>\n      <td>97594</td>\n      <td>inf</td>\n      <td>1578618000000</td>\n      <td>2020-01-10 01:00:00</td>\n      <td>5164</td>\n      <td>Aorus League 2019 #4 Northern Cone</td>\n      <td>10578</td>\n      <td>Infamous</td>\n      <td>12</td>\n      <td>93.0</td>\n      <td>100.0</td>\n      <td>17.0</td>\n    </tr>\n    <tr>\n      <th>132248</th>\n      <td>97594</td>\n      <td>inf</td>\n      <td>1578618000000</td>\n      <td>2020-01-10 01:00:00</td>\n      <td>5164</td>\n      <td>Aorus League 2019 #4 Northern Cone</td>\n      <td>10330</td>\n      <td>Supremacy</td>\n      <td>16</td>\n      <td>99.0</td>\n      <td>93.0</td>\n      <td>16.0</td>\n    </tr>\n    <tr>\n      <th>147692</th>\n      <td>97592</td>\n      <td>nuke</td>\n      <td>1578618000000</td>\n      <td>2020-01-10 01:00:00</td>\n      <td>5164</td>\n      <td>Aorus League 2019 #4 Northern Cone</td>\n      <td>10578</td>\n      <td>Infamous</td>\n      <td>8</td>\n      <td>69.0</td>\n      <td>98.0</td>\n      <td>13.0</td>\n    </tr>\n    <tr>\n      <th>132246</th>\n      <td>97592</td>\n      <td>nuke</td>\n      <td>1578618000000</td>\n      <td>2020-01-10 01:00:00</td>\n      <td>5164</td>\n      <td>Aorus League 2019 #4 Northern Cone</td>\n      <td>10330</td>\n      <td>Supremacy</td>\n      <td>16</td>\n      <td>98.0</td>\n      <td>69.0</td>\n      <td>17.0</td>\n    </tr>\n    <tr>\n      <th>147695</th>\n      <td>97595</td>\n      <td>inf</td>\n      <td>1578616500000</td>\n      <td>2020-01-10 00:35:00</td>\n      <td>5104</td>\n      <td>IEM Katowice 2020 North America Closed Qualifier</td>\n      <td>9215</td>\n      <td>MIBR</td>\n      <td>12</td>\n      <td>90.0</td>\n      <td>100.0</td>\n      <td>16.0</td>\n    </tr>\n  </tbody>\n</table>\n</div>",
      "text/plain": "        map_id   map      date_unix       date_human_utc  event_id  \\\n147694   97594   inf  1578618000000  2020-01-10 01:00:00      5164   \n132248   97594   inf  1578618000000  2020-01-10 01:00:00      5164   \n147692   97592  nuke  1578618000000  2020-01-10 01:00:00      5164   \n132246   97592  nuke  1578618000000  2020-01-10 01:00:00      5164   \n147695   97595   inf  1578616500000  2020-01-10 00:35:00      5104   \n\n                                              event_name  team_id  team_name  \\\n147694                Aorus League 2019 #4 Northern Cone    10578   Infamous   \n132248                Aorus League 2019 #4 Northern Cone    10330  Supremacy   \n147692                Aorus League 2019 #4 Northern Cone    10578   Infamous   \n132246                Aorus League 2019 #4 Northern Cone    10330  Supremacy   \n147695  IEM Katowice 2020 North America Closed Qualifier     9215       MIBR   \n\n        team_score  team_kills  team_deaths  team_assists  \n147694          12        93.0        100.0          17.0  \n132248          16        99.0         93.0          16.0  \n147692           8        69.0         98.0          13.0  \n132246          16        98.0         69.0          17.0  \n147695          12        90.0        100.0          16.0  "
     },
     "execution_count": 114,
     "metadata": {},
     "output_type": "execute_result"
    }
   ],
   "source": [
    "df_team.sort_values(by='date_unix',ascending=False).head()"
   ]
  },
  {
   "cell_type": "code",
   "execution_count": 70,
   "metadata": {},
   "outputs": [
    {
     "name": "stdout",
     "output_type": "stream",
     "text": "[1400526900000]\n['GeT_RiGhT' 'Xizt' 'friberg' 'f0rest' 'Fifflaren']\n[1400526900000]\n['Xizt' 'karrigan' 'Fifflaren' 'friberg' 'GeT_RiGhT']\n[1402954200000]\n['Fifflaren' 'GeT_RiGhT' 'Xizt' 'friberg' 'f0rest']\n[1403442000000]\n['f0rest' 'Fifflaren' 'GeT_RiGhT' 'Xizt' 'pita']\n[1406736000000]\n['GeT_RiGhT' 'f0rest' 'Xizt' 'friberg' 'Fifflaren']\n[1406745300000]\n['tonyblack' 'Edward' 'f0rest' 'Xizt' 'Fifflaren']\n[1406745300000]\n['starix' 'GeT_RiGhT' 'f0rest' 'Xizt' 'friberg']\n[1409589900000]\n['f0rest' 'friberg' 'GeT_RiGhT' 'Xizt' 'Fifflaren']\n[1409780400000]\n['GeT_RiGhT' 'Xizt' 'f0rest' 'Fifflaren' 'pyth']\n[1412280600000]\n['GeT_RiGhT' 'Fifflaren' 'Xizt' 'f0rest' 'friberg']\n[1412622000000]\n['wantz' 'friberg' 'Xizt' 'f0rest' 'GeT_RiGhT']\n[1414769400000]\n['f0rest' 'GeT_RiGhT' 'Xizt' 'Fifflaren' 'friberg']\n[1423332000000]\n['GeT_RiGhT' 'Xizt' 'f0rest' 'friberg' 'Maikelele']\n[1424199000000]\n['friberg' 'Delpan' 'Xizt' 'GeT_RiGhT' 'f0rest']\n[1432227600000]\n['f0rest' 'allu' 'Xizt' 'GeT_RiGhT' 'friberg']\n[1432407600000]\n['Next' 'f0rest' 'GeT_RiGhT' 'Xizt' 'friberg']\n[1447264800000]\n['GeT_RiGhT' 'f0rest' 'allu' 'Xizt' 'friberg']\n[1447441800000]\n['Delpan' 'friberg' 'allu' 'GeT_RiGhT' 'Xizt']\n[1447448400000]\n['f0rest' 'friberg' 'Xizt' 'allu' 'GeT_RiGhT']\n[1447610400000]\n['Delpan' 'GeT_RiGhT' 'f0rest' 'friberg' 'allu']\n[1449423510000]\n['GeT_RiGhT' 'f0rest' 'friberg' 'Xizt' 'allu']\n[1458765000000]\n['GeT_RiGhT' 'friberg' 'f0rest' 'Xizt' 'pyth']\n[1459512000000]\n['f0rest' 'Xizt' 'GeT_RiGhT' 'friberg' 'THREAT']\n[1469232000000]\n['GeT_RiGhT' 'pyth' 'Xizt' 'f0rest' 'friberg']\n[1472150700000]\n['GeT_RiGhT' 'Xizt' 'f0rest' 'friberg' 'disco doplan']\n[1478373900000]\n['Xizt' 'f0rest' 'friberg' 'Maikelele' 'GeT_RiGhT']\n[1480078800000]\n['GeT_RiGhT' 'f0rest' 'pyth' 'Xizt' 'friberg']\n[1480089600000]\n['f0rest' 'GeT_RiGhT' 'Xizt' 'freddieb' 'pyth']\n[1489091400000]\n['GeT_RiGhT' 'f0rest' 'Xizt' 'pyth' 'friberg']\n[1495980000000]\n['draken' 'Xizt' 'GeT_RiGhT' 'friberg' 'f0rest']\n[1496858400000]\n['s1mple' 'GeT_RiGhT' 'draken' 'Xizt' 'flamie']\n[1518221700000]\n['GeT_RiGhT' 'REZ' 'f0rest' 'draken' 'Xizt']\n[1527948000000]\n['f0rest' 'REZ' 'dennis' 'GeT_RiGhT' 'draken']\n[1551461700000]\n['REZ' 'f0rest' 'Lekr0' 'dennis' 'GeT_RiGhT']\n[1554456900000]\n['draken' 'REZ' 'f0rest' 'Lekr0' 'GeT_RiGhT']\n[1558455600000]\n['Lekr0' 'dennis' 'GeT_RiGhT' 'f0rest' 'REZ']\n[1559154000000]\n['f0rest' 'REZ' 'pita' 'GeT_RiGhT' 'Lekr0']\n[1559890800000]\n['GeT_RiGhT' 'dennis' 'f0rest' 'REZ' 'Lekr0']\n[1566127800000]\n['Plopski' 'f0rest' 'GeT_RiGhT' 'REZ' 'Lekr0']\n[1567179000000]\n['Lekr0' 'REZ' 'GeT_RiGhT' 'Golden' 'f0rest']\n[1569061200000]\n['f0rest' 'Lekr0' 'Plopski' 'GeT_RiGhT' 'REZ']\n--- 2.6731276512145996 seconds ---\n"
    },
    {
     "data": {
      "text/html": "<div>\n<style scoped>\n    .dataframe tbody tr th:only-of-type {\n        vertical-align: middle;\n    }\n\n    .dataframe tbody tr th {\n        vertical-align: top;\n    }\n\n    .dataframe thead th {\n        text-align: right;\n    }\n</style>\n<table border=\"1\" class=\"dataframe\">\n  <thead>\n    <tr style=\"text-align: right;\">\n      <th></th>\n      <th>map_id</th>\n      <th>map</th>\n      <th>date_unix</th>\n      <th>date_human_utc</th>\n      <th>event_id</th>\n      <th>event_name</th>\n      <th>team_id</th>\n      <th>team_name</th>\n      <th>team_score</th>\n      <th>team_kills</th>\n      <th>team_deaths</th>\n      <th>team_assists</th>\n    </tr>\n  </thead>\n  <tbody>\n    <tr>\n      <th>0</th>\n      <td>12838</td>\n      <td>NaN</td>\n      <td>1347562800000</td>\n      <td>2012-09-13 19:00:00</td>\n      <td>965</td>\n      <td>Go4CS:GO Cup #6</td>\n      <td>4411</td>\n      <td>NiP</td>\n      <td>16</td>\n      <td>91.0</td>\n      <td>46.0</td>\n      <td>0.0</td>\n    </tr>\n    <tr>\n      <th>1</th>\n      <td>12839</td>\n      <td>NaN</td>\n      <td>1347562800000</td>\n      <td>2012-09-13 19:00:00</td>\n      <td>965</td>\n      <td>Go4CS:GO Cup #6</td>\n      <td>4411</td>\n      <td>NiP</td>\n      <td>16</td>\n      <td>83.0</td>\n      <td>34.0</td>\n      <td>0.0</td>\n    </tr>\n    <tr>\n      <th>21</th>\n      <td>12868</td>\n      <td>NaN</td>\n      <td>1348254000000</td>\n      <td>2012-09-21 19:00:00</td>\n      <td>973</td>\n      <td>DreamHack Valencia 2012</td>\n      <td>4411</td>\n      <td>NiP</td>\n      <td>16</td>\n      <td>83.0</td>\n      <td>29.0</td>\n      <td>0.0</td>\n    </tr>\n    <tr>\n      <th>13</th>\n      <td>12860</td>\n      <td>NaN</td>\n      <td>1348335900000</td>\n      <td>2012-09-22 17:45:00</td>\n      <td>973</td>\n      <td>DreamHack Valencia 2012</td>\n      <td>4411</td>\n      <td>NiP</td>\n      <td>16</td>\n      <td>83.0</td>\n      <td>25.0</td>\n      <td>0.0</td>\n    </tr>\n    <tr>\n      <th>14</th>\n      <td>12861</td>\n      <td>NaN</td>\n      <td>1348341300000</td>\n      <td>2012-09-22 19:15:00</td>\n      <td>973</td>\n      <td>DreamHack Valencia 2012</td>\n      <td>4411</td>\n      <td>NiP</td>\n      <td>16</td>\n      <td>100.0</td>\n      <td>71.0</td>\n      <td>0.0</td>\n    </tr>\n  </tbody>\n</table>\n</div>",
      "text/plain": "    map_id  map      date_unix       date_human_utc  event_id  \\\n0    12838  NaN  1347562800000  2012-09-13 19:00:00       965   \n1    12839  NaN  1347562800000  2012-09-13 19:00:00       965   \n21   12868  NaN  1348254000000  2012-09-21 19:00:00       973   \n13   12860  NaN  1348335900000  2012-09-22 17:45:00       973   \n14   12861  NaN  1348341300000  2012-09-22 19:15:00       973   \n\n                 event_name  team_id team_name  team_score  team_kills  \\\n0           Go4CS:GO Cup #6     4411       NiP          16        91.0   \n1           Go4CS:GO Cup #6     4411       NiP          16        83.0   \n21  DreamHack Valencia 2012     4411       NiP          16        83.0   \n13  DreamHack Valencia 2012     4411       NiP          16        83.0   \n14  DreamHack Valencia 2012     4411       NiP          16       100.0   \n\n    team_deaths  team_assists  \n0          46.0           0.0  \n1          34.0           0.0  \n21         29.0           0.0  \n13         25.0           0.0  \n14         71.0           0.0  "
     },
     "execution_count": 70,
     "metadata": {},
     "output_type": "execute_result"
    }
   ],
   "source": [
    "team_id_nip = 4411\n",
    "df_nip = df_team[ df_team['team_id']==team_id_nip ]\n",
    "\n",
    "df_nip = df_nip.sort_values(by='date_unix',ascending=True)\n",
    "\n",
    "init_flag = False\n",
    "\n",
    "start_time = time.time()\n",
    "\n",
    "df_player_nip = df_player[ (df_player['team_id']==team_id_nip) ]\n",
    "\n",
    "date_vec =  []\n",
    "date_vec.append( df_nip['date_unix'][0] )\n",
    "\n",
    "for map_id in df_nip['map_id']:\n",
    "    \n",
    "    if init_flag:\n",
    "        df_prev = df_tmp\n",
    "\n",
    "    # df_tmp = df_player[ (df_player['map_id']==map_id) & (df_player['team_id']==team_id_nip) ]\n",
    "\n",
    "    df_tmp = df_player_nip[ df_player_nip['map_id']==map_id ]\n",
    "\n",
    "    if init_flag and (set(df_tmp.player_id) != set(df_prev.player_id)):\n",
    "        print( df_prev.date.unique() )\n",
    "        print( df_prev.player_name.unique())\n",
    "\n",
    "        # Store the date where the changes where made\n",
    "        date_vec.append( df_prev.date.unique()[0] )\n",
    "        \n",
    "    init_flag = True\n",
    "    \n",
    "print(\"--- %s seconds ---\" % (time.time() - start_time))\n",
    "\n",
    "df_nip.head()"
   ]
  },
  {
   "cell_type": "code",
   "execution_count": 106,
   "metadata": {},
   "outputs": [
    {
     "data": {
      "text/html": "<div>\n<style scoped>\n    .dataframe tbody tr th:only-of-type {\n        vertical-align: middle;\n    }\n\n    .dataframe tbody tr th {\n        vertical-align: top;\n    }\n\n    .dataframe thead th {\n        text-align: right;\n    }\n</style>\n<table border=\"1\" class=\"dataframe\">\n  <thead>\n    <tr style=\"text-align: right;\">\n      <th></th>\n      <th>map_id</th>\n      <th>map</th>\n      <th>date_unix</th>\n      <th>date_human_utc</th>\n      <th>event_id</th>\n      <th>event_name</th>\n      <th>team_id</th>\n      <th>team_name</th>\n      <th>team_score</th>\n      <th>team_kills</th>\n      <th>team_deaths</th>\n      <th>team_assists</th>\n    </tr>\n  </thead>\n  <tbody>\n    <tr>\n      <th>126291</th>\n      <td>90808</td>\n      <td>trn</td>\n      <td>1567179000000</td>\n      <td>2019-08-30 15:30:00</td>\n      <td>4443</td>\n      <td>StarLadder Major 2019</td>\n      <td>4411</td>\n      <td>NiP</td>\n      <td>8</td>\n      <td>63.0</td>\n      <td>88.0</td>\n      <td>5.0</td>\n    </tr>\n    <tr>\n      <th>126294</th>\n      <td>90816</td>\n      <td>d2</td>\n      <td>1567179000000</td>\n      <td>2019-08-30 15:30:00</td>\n      <td>4443</td>\n      <td>StarLadder Major 2019</td>\n      <td>4411</td>\n      <td>NiP</td>\n      <td>4</td>\n      <td>39.0</td>\n      <td>90.0</td>\n      <td>2.0</td>\n    </tr>\n    <tr>\n      <th>126849</th>\n      <td>91446</td>\n      <td>ovp</td>\n      <td>1568389500000</td>\n      <td>2019-09-13 15:45:00</td>\n      <td>4686</td>\n      <td>BLAST Pro Series Moscow 2019</td>\n      <td>4411</td>\n      <td>NiP</td>\n      <td>16</td>\n      <td>99.0</td>\n      <td>96.0</td>\n      <td>15.0</td>\n    </tr>\n    <tr>\n      <th>126853</th>\n      <td>91450</td>\n      <td>trn</td>\n      <td>1568395200000</td>\n      <td>2019-09-13 17:20:00</td>\n      <td>4686</td>\n      <td>BLAST Pro Series Moscow 2019</td>\n      <td>4411</td>\n      <td>NiP</td>\n      <td>15</td>\n      <td>90.0</td>\n      <td>97.0</td>\n      <td>15.0</td>\n    </tr>\n    <tr>\n      <th>126913</th>\n      <td>91517</td>\n      <td>d2</td>\n      <td>1568455500000</td>\n      <td>2019-09-14 10:05:00</td>\n      <td>4686</td>\n      <td>BLAST Pro Series Moscow 2019</td>\n      <td>4411</td>\n      <td>NiP</td>\n      <td>8</td>\n      <td>63.0</td>\n      <td>87.0</td>\n      <td>10.0</td>\n    </tr>\n  </tbody>\n</table>\n</div>",
      "text/plain": "        map_id  map      date_unix       date_human_utc  event_id  \\\n126291   90808  trn  1567179000000  2019-08-30 15:30:00      4443   \n126294   90816   d2  1567179000000  2019-08-30 15:30:00      4443   \n126849   91446  ovp  1568389500000  2019-09-13 15:45:00      4686   \n126853   91450  trn  1568395200000  2019-09-13 17:20:00      4686   \n126913   91517   d2  1568455500000  2019-09-14 10:05:00      4686   \n\n                          event_name  team_id team_name  team_score  \\\n126291         StarLadder Major 2019     4411       NiP           8   \n126294         StarLadder Major 2019     4411       NiP           4   \n126849  BLAST Pro Series Moscow 2019     4411       NiP          16   \n126853  BLAST Pro Series Moscow 2019     4411       NiP          15   \n126913  BLAST Pro Series Moscow 2019     4411       NiP           8   \n\n        team_kills  team_deaths  team_assists  \n126291        63.0         88.0           5.0  \n126294        39.0         90.0           2.0  \n126849        99.0         96.0          15.0  \n126853        90.0         97.0          15.0  \n126913        63.0         87.0          10.0  "
     },
     "execution_count": 106,
     "metadata": {},
     "output_type": "execute_result"
    }
   ],
   "source": [
    "# Get the win/loss rate between the dates\n",
    "size_date = len(date_vec)\n",
    "\n",
    "win_count  = []\n",
    "tie_count  = []\n",
    "loss_count = []\n",
    "\n",
    "for ind in range(0,size_date-1):\n",
    "    df_tmp = df_team[ (df_team['team_id']==team_id_nip) & (df_team['date_unix'] >= date_vec[ind]) & (df_team['date_unix'] < date_vec[ind+1] ) ]\n",
    "\n",
    "    win_count.append( 0 )\n",
    "    tie_count.append( 0 )\n",
    "    loss_count.append( 0 )\n",
    "\n",
    "    for map_id in df_tmp['map_id']:\n",
    "        score_op  = df_team[ (df_team['team_id']!=team_id_nip) & (df_team['map_id']==map_id) ]['team_score'].values[0]\n",
    "        score_nip = df_tmp[ (df_tmp['map_id']==map_id) ]['team_score'].values[0]\n",
    "        \n",
    "        if score_nip > score_op:\n",
    "            win_count[ind] = win_count[ind]+1\n",
    "        elif score_nip < score_op:\n",
    "            loss_count[ind] = loss_count[ind]+1\n",
    "        else:\n",
    "            tie_count[ind] = tie_count[ind]+1\n",
    "\n",
    "\n",
    "       # print([score_op,score_nip]) \n",
    "\n",
    "total_count = win_count + tie_count + loss_count\n",
    "\n",
    "df_tmp.head()"
   ]
  },
  {
   "cell_type": "code",
   "execution_count": 107,
   "metadata": {},
   "outputs": [
    {
     "name": "stdout",
     "output_type": "stream",
     "text": "[310, 0, 12, 2, 9, 2, 0, 17, 2, 16, 1, 5, 28, 2, 59, 0, 79, 0, 1, 1, 9, 18, 4, 47, 6, 31, 16, 0, 9, 25, 1, 74, 45, 73, 14, 16, 1, 0, 9, 2, 4]\n[69, 0, 5, 0, 7, 1, 0, 12, 3, 16, 0, 10, 15, 3, 40, 1, 50, 1, 0, 0, 5, 10, 2, 30, 5, 15, 7, 3, 20, 27, 1, 54, 35, 71, 14, 14, 4, 3, 12, 3, 5]\n[2, 0, 0, 0, 0, 0, 0, 0, 0, 1, 0, 0, 1, 0, 0, 0, 0, 0, 0, 0, 0, 0, 0, 0, 0, 0, 0, 0, 0, 0, 0, 1, 0, 3, 0, 0, 0, 0, 0, 0, 2]\n[310, 0, 12, 2, 9, 2, 0, 17, 2, 16, 1, 5, 28, 2, 59, 0, 79, 0, 1, 1, 9, 18, 4, 47, 6, 31, 16, 0, 9, 25, 1, 74, 45, 73, 14, 16, 1, 0, 9, 2, 4, 2, 0, 0, 0, 0, 0, 0, 0, 0]\n"
    }
   ],
   "source": [
    "print( win_count[:50] )\n",
    "print( loss_count[:50] )\n",
    "print( tie_count[:50] )\n",
    "print( total_count[:50] )\n",
    "\n",
    "\n"
   ]
  },
  {
   "cell_type": "code",
   "execution_count": 79,
   "metadata": {},
   "outputs": [
    {
     "data": {
      "text/html": "<div>\n<style scoped>\n    .dataframe tbody tr th:only-of-type {\n        vertical-align: middle;\n    }\n\n    .dataframe tbody tr th {\n        vertical-align: top;\n    }\n\n    .dataframe thead th {\n        text-align: right;\n    }\n</style>\n<table border=\"1\" class=\"dataframe\">\n  <thead>\n    <tr style=\"text-align: right;\">\n      <th></th>\n      <th>map_id</th>\n      <th>map</th>\n      <th>date_unix</th>\n      <th>date_human_utc</th>\n      <th>event_id</th>\n      <th>event_name</th>\n      <th>team_id</th>\n      <th>team_name</th>\n      <th>team_score</th>\n      <th>team_kills</th>\n      <th>team_deaths</th>\n      <th>team_assists</th>\n    </tr>\n  </thead>\n  <tbody>\n    <tr>\n      <th>0</th>\n      <td>12838</td>\n      <td>NaN</td>\n      <td>1347562800000</td>\n      <td>2012-09-13 19:00:00</td>\n      <td>965</td>\n      <td>Go4CS:GO Cup #6</td>\n      <td>4411</td>\n      <td>NiP</td>\n      <td>16</td>\n      <td>91.0</td>\n      <td>46.0</td>\n      <td>0.0</td>\n    </tr>\n    <tr>\n      <th>1</th>\n      <td>12839</td>\n      <td>NaN</td>\n      <td>1347562800000</td>\n      <td>2012-09-13 19:00:00</td>\n      <td>965</td>\n      <td>Go4CS:GO Cup #6</td>\n      <td>4411</td>\n      <td>NiP</td>\n      <td>16</td>\n      <td>83.0</td>\n      <td>34.0</td>\n      <td>0.0</td>\n    </tr>\n    <tr>\n      <th>2</th>\n      <td>12840</td>\n      <td>NaN</td>\n      <td>1347562800000</td>\n      <td>2012-09-13 19:00:00</td>\n      <td>966</td>\n      <td>CyberGamer Qualifier Cup #1 by Tt eSPORTS</td>\n      <td>4444</td>\n      <td>Blight</td>\n      <td>16</td>\n      <td>81.0</td>\n      <td>37.0</td>\n      <td>0.0</td>\n    </tr>\n    <tr>\n      <th>3</th>\n      <td>12841</td>\n      <td>NaN</td>\n      <td>1347562800000</td>\n      <td>2012-09-13 19:00:00</td>\n      <td>966</td>\n      <td>CyberGamer Qualifier Cup #1 by Tt eSPORTS</td>\n      <td>4444</td>\n      <td>Blight</td>\n      <td>16</td>\n      <td>97.0</td>\n      <td>58.0</td>\n      <td>0.0</td>\n    </tr>\n    <tr>\n      <th>4</th>\n      <td>12848</td>\n      <td>NaN</td>\n      <td>1348401600000</td>\n      <td>2012-09-23 12:00:00</td>\n      <td>973</td>\n      <td>DreamHack Valencia 2012</td>\n      <td>4411</td>\n      <td>NiP</td>\n      <td>16</td>\n      <td>102.0</td>\n      <td>86.0</td>\n      <td>0.0</td>\n    </tr>\n  </tbody>\n</table>\n</div>",
      "text/plain": "   map_id  map      date_unix       date_human_utc  event_id  \\\n0   12838  NaN  1347562800000  2012-09-13 19:00:00       965   \n1   12839  NaN  1347562800000  2012-09-13 19:00:00       965   \n2   12840  NaN  1347562800000  2012-09-13 19:00:00       966   \n3   12841  NaN  1347562800000  2012-09-13 19:00:00       966   \n4   12848  NaN  1348401600000  2012-09-23 12:00:00       973   \n\n                                  event_name  team_id team_name  team_score  \\\n0                            Go4CS:GO Cup #6     4411       NiP          16   \n1                            Go4CS:GO Cup #6     4411       NiP          16   \n2  CyberGamer Qualifier Cup #1 by Tt eSPORTS     4444    Blight          16   \n3  CyberGamer Qualifier Cup #1 by Tt eSPORTS     4444    Blight          16   \n4                    DreamHack Valencia 2012     4411       NiP          16   \n\n   team_kills  team_deaths  team_assists  \n0        91.0         46.0           0.0  \n1        83.0         34.0           0.0  \n2        81.0         37.0           0.0  \n3        97.0         58.0           0.0  \n4       102.0         86.0           0.0  "
     },
     "execution_count": 79,
     "metadata": {},
     "output_type": "execute_result"
    }
   ],
   "source": [
    "df_team.head()"
   ]
  },
  {
   "cell_type": "code",
   "execution_count": 85,
   "metadata": {},
   "outputs": [
    {
     "data": {
      "text/plain": "4411"
     },
     "execution_count": 85,
     "metadata": {},
     "output_type": "execute_result"
    }
   ],
   "source": [
    "df_nip.head()\n",
    "df_nip['team_id'].values[0]"
   ]
  },
  {
   "cell_type": "code",
   "execution_count": 104,
   "metadata": {},
   "outputs": [
    {
     "data": {
      "text/plain": "42"
     },
     "execution_count": 104,
     "metadata": {},
     "output_type": "execute_result"
    }
   ],
   "source": [
    "len(date_vec)"
   ]
  },
  {
   "cell_type": "code",
   "execution_count": 105,
   "metadata": {},
   "outputs": [
    {
     "data": {
      "text/plain": "1597"
     },
     "execution_count": 105,
     "metadata": {},
     "output_type": "execute_result"
    }
   ],
   "source": [
    "len(df_nip)"
   ]
  },
  {
   "cell_type": "code",
   "execution_count": null,
   "metadata": {},
   "outputs": [],
   "source": []
  }
 ]
}