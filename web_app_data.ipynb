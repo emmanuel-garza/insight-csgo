{
 "nbformat": 4,
 "nbformat_minor": 2,
 "metadata": {
  "language_info": {
   "name": "python",
   "codemirror_mode": {
    "name": "ipython",
    "version": 3
   }
  },
  "orig_nbformat": 2,
  "file_extension": ".py",
  "mimetype": "text/x-python",
  "name": "python",
  "npconvert_exporter": "python",
  "pygments_lexer": "ipython3",
  "version": 3,
  "kernelspec": {
   "name": "python37464bitminiconda3virtualenv7f2e9c966dbc4598b4ce375409bf61d2",
   "display_name": "Python 3.7.4 64-bit ('miniconda3': virtualenv)"
  }
 },
 "cells": [
  {
   "cell_type": "code",
   "execution_count": 1,
   "metadata": {},
   "outputs": [],
   "source": [
    "# Modues to be used\n",
    "import pickle\n",
    "import numpy as np\n",
    "import pandas as pd\n",
    "from datetime import datetime"
   ]
  },
  {
   "cell_type": "code",
   "execution_count": 2,
   "metadata": {},
   "outputs": [],
   "source": [
    "# Load data from pickle files\n",
    "\n",
    "# -> Player dictionary with the dataFrames\n",
    "f = open('data/dict_player.pickle', 'rb')\n",
    "dict_player = pickle.load(f)\n",
    "\n",
    "# -> Map dataFrames\n",
    "f = open('data/df_map.pickle','rb')\n",
    "df_map = pickle.load(f)\n",
    "\n",
    "# -> Map dictionary\n",
    "f = open('data/dict_map.pickle','rb')\n",
    "dict_map = pickle.load(f)"
   ]
  },
  {
   "cell_type": "markdown",
   "execution_count": null,
   "metadata": {},
   "outputs": [],
   "source": [
    "# Save a list of the teams and their ranks"
   ]
  },
  {
   "cell_type": "code",
   "execution_count": 8,
   "metadata": {},
   "outputs": [
    {
     "data": {
      "text/plain": "Index(['map_id', 'map', 'date', 'event_id', 'event_name', 'team_id_1',\n       'team_name_1', 'team_score_1', 'team_kills_1', 'team_deaths_1',\n       'team_assists_1', 'team_rank_1', 'team_id_2', 'team_name_2',\n       'team_score_2', 'team_kills_2', 'team_deaths_2', 'team_assists_2',\n       'team_rank_2', 'winner'],\n      dtype='object')"
     },
     "execution_count": 8,
     "metadata": {},
     "output_type": "execute_result"
    }
   ],
   "source": [
    "df_map.head()\n",
    "df_map.keys()"
   ]
  },
  {
   "cell_type": "code",
   "execution_count": 90,
   "metadata": {},
   "outputs": [],
   "source": [
    "df_aux = df_map[ df_map['date']>datetime(2019,1,1) ]\n",
    "\n",
    "df_1 = df_aux.drop(columns=['map', 'event_id', 'event_name',\n",
    "       'team_score_1', 'team_kills_1', 'team_deaths_1',\n",
    "       'team_assists_1','team_id_2', 'team_name_2',\n",
    "       'team_score_2', 'team_kills_2', 'team_deaths_2', 'team_assists_2',\n",
    "       'team_rank_2', 'winner']).reset_index()\n",
    "\n",
    "df_1 = df_1.rename(columns={'team_id_1':'team_id', 'team_name_1':'team_name','team_rank_1':'team_rank'})\n",
    "\n",
    "\n",
    "df_2 = df_aux.drop(columns=[ 'map', 'event_id', 'event_name',\n",
    "       'team_score_1', 'team_kills_1', 'team_deaths_1',\n",
    "       'team_assists_1','team_id_1', 'team_name_1',\n",
    "       'team_score_2', 'team_kills_2', 'team_deaths_2', 'team_assists_2',\n",
    "       'team_rank_1', 'winner']).reset_index()\n",
    "\n",
    "df_2 = df_2.rename(columns={'team_id_2':'team_id', 'team_name_2':'team_name','team_rank_2':'team_rank'})\n",
    "\n",
    "df = df_1.append(df_2,sort=True,ignore_index=True)\n",
    "\n",
    "df = df.sort_values('date',ascending=False)\n",
    "\n",
    "team_id_vec = df.team_id.unique()\n",
    "\n",
    "dict_team = {}\n",
    "for team_id in team_id_vec:\n",
    "    \n",
    "    df_tmp = df[ df['team_id'] == team_id].head(n=1)\n",
    "\n",
    "    dict_team[team_id] = {}\n",
    "    dict_team[team_id]['team_name'] = df_tmp.team_name.values[0]\n",
    "    dict_team[team_id]['team_rank'] = df_tmp.team_rank.values[0]\n",
    "    dict_team[team_id]['team_prize'] = 0.0\n",
    "\n",
    "    \n",
    "\n",
    "    map_id = df_tmp.map_id.values[0]\n",
    "\n",
    "    count = 0\n",
    "    for player_id in dict_map[map_id][team_id]['players_id']:\n",
    "\n",
    "        count = count + 1\n",
    "        dict_team[team_id]['player_'+str(count)] = dict_player[player_id]['player_name'].values[0]\n",
    "\n",
    "        dict_team[team_id]['team_prize'] = dict_team[team_id]['team_prize'] + dict_player[player_id][ dict_player[player_id]['date']>datetime(2019,1,1) ]['prize'].sum() / 6.0\n",
    "\n",
    "    if dict_team[team_id]['team_prize'] > 0.0:\n",
    "        dict_team[team_id]['team_prize_rating'] = np.log( dict_team[team_id]['team_prize'] ) / 12.0\n",
    "    else:\n",
    "        dict_team[team_id]['team_prize_rating'] = 0.0\n",
    "\n"
   ]
  },
  {
   "cell_type": "code",
   "execution_count": 91,
   "metadata": {},
   "outputs": [
    {
     "data": {
      "text/plain": "{'team_name': 'Astralis',\n 'team_rank': 1,\n 'team_prize': 299791.6666666667,\n 'player_1': 'Xyp9x',\n 'player_2': 'device',\n 'player_3': 'gla1ve',\n 'player_4': 'dupreeh',\n 'player_5': 'Magisk',\n 'team_prize_rating': 1.050903588996305}"
     },
     "execution_count": 91,
     "metadata": {},
     "output_type": "execute_result"
    }
   ],
   "source": [
    "dict_team[6665]"
   ]
  },
  {
   "cell_type": "code",
   "execution_count": 92,
   "metadata": {},
   "outputs": [
    {
     "data": {
      "text/html": "<div>\n<style scoped>\n    .dataframe tbody tr th:only-of-type {\n        vertical-align: middle;\n    }\n\n    .dataframe tbody tr th {\n        vertical-align: top;\n    }\n\n    .dataframe thead th {\n        text-align: right;\n    }\n</style>\n<table border=\"1\" class=\"dataframe\">\n  <thead>\n    <tr style=\"text-align: right;\">\n      <th></th>\n      <th>map_id</th>\n      <th>map</th>\n      <th>date</th>\n      <th>event_id</th>\n      <th>event_name</th>\n      <th>team_id_1</th>\n      <th>team_name_1</th>\n      <th>team_score_1</th>\n      <th>team_kills_1</th>\n      <th>team_deaths_1</th>\n      <th>team_assists_1</th>\n      <th>team_rank_1</th>\n      <th>team_id_2</th>\n      <th>team_name_2</th>\n      <th>team_score_2</th>\n      <th>team_kills_2</th>\n      <th>team_deaths_2</th>\n      <th>team_assists_2</th>\n      <th>team_rank_2</th>\n      <th>winner</th>\n    </tr>\n  </thead>\n  <tbody>\n    <tr>\n      <th>12838</th>\n      <td>12838</td>\n      <td>NaN</td>\n      <td>2012-09-13 19:00:00</td>\n      <td>965</td>\n      <td>Go4CS:GO Cup #6</td>\n      <td>4411</td>\n      <td>NiP</td>\n      <td>16</td>\n      <td>91.0</td>\n      <td>46.0</td>\n      <td>0.0</td>\n      <td>0</td>\n      <td>4443</td>\n      <td>PRiME</td>\n      <td>3</td>\n      <td>45.0</td>\n      <td>91.0</td>\n      <td>0.0</td>\n      <td>0</td>\n      <td>1</td>\n    </tr>\n    <tr>\n      <th>12839</th>\n      <td>12839</td>\n      <td>NaN</td>\n      <td>2012-09-13 19:00:00</td>\n      <td>965</td>\n      <td>Go4CS:GO Cup #6</td>\n      <td>4411</td>\n      <td>NiP</td>\n      <td>16</td>\n      <td>83.0</td>\n      <td>34.0</td>\n      <td>0.0</td>\n      <td>0</td>\n      <td>4443</td>\n      <td>PRiME</td>\n      <td>1</td>\n      <td>34.0</td>\n      <td>83.0</td>\n      <td>0.0</td>\n      <td>0</td>\n      <td>1</td>\n    </tr>\n    <tr>\n      <th>12840</th>\n      <td>12840</td>\n      <td>NaN</td>\n      <td>2012-09-13 19:00:00</td>\n      <td>966</td>\n      <td>CyberGamer Qualifier Cup #1 by Tt eSPORTS</td>\n      <td>4444</td>\n      <td>Blight</td>\n      <td>16</td>\n      <td>81.0</td>\n      <td>37.0</td>\n      <td>0.0</td>\n      <td>0</td>\n      <td>4445</td>\n      <td>FMESPORTS</td>\n      <td>2</td>\n      <td>37.0</td>\n      <td>81.0</td>\n      <td>0.0</td>\n      <td>0</td>\n      <td>1</td>\n    </tr>\n    <tr>\n      <th>12841</th>\n      <td>12841</td>\n      <td>NaN</td>\n      <td>2012-09-13 19:00:00</td>\n      <td>966</td>\n      <td>CyberGamer Qualifier Cup #1 by Tt eSPORTS</td>\n      <td>4444</td>\n      <td>Blight</td>\n      <td>16</td>\n      <td>97.0</td>\n      <td>58.0</td>\n      <td>0.0</td>\n      <td>0</td>\n      <td>4445</td>\n      <td>FMESPORTS</td>\n      <td>7</td>\n      <td>57.0</td>\n      <td>97.0</td>\n      <td>0.0</td>\n      <td>0</td>\n      <td>1</td>\n    </tr>\n    <tr>\n      <th>12848</th>\n      <td>12848</td>\n      <td>NaN</td>\n      <td>2012-09-23 12:00:00</td>\n      <td>973</td>\n      <td>DreamHack Valencia 2012</td>\n      <td>4411</td>\n      <td>NiP</td>\n      <td>16</td>\n      <td>102.0</td>\n      <td>86.0</td>\n      <td>0.0</td>\n      <td>0</td>\n      <td>4467</td>\n      <td>VeryGames</td>\n      <td>10</td>\n      <td>86.0</td>\n      <td>102.0</td>\n      <td>0.0</td>\n      <td>0</td>\n      <td>1</td>\n    </tr>\n    <tr>\n      <th>...</th>\n      <td>...</td>\n      <td>...</td>\n      <td>...</td>\n      <td>...</td>\n      <td>...</td>\n      <td>...</td>\n      <td>...</td>\n      <td>...</td>\n      <td>...</td>\n      <td>...</td>\n      <td>...</td>\n      <td>...</td>\n      <td>...</td>\n      <td>...</td>\n      <td>...</td>\n      <td>...</td>\n      <td>...</td>\n      <td>...</td>\n      <td>...</td>\n      <td>...</td>\n    </tr>\n    <tr>\n      <th>97591</th>\n      <td>97591</td>\n      <td>trn</td>\n      <td>2020-01-10 00:35:00</td>\n      <td>5104</td>\n      <td>IEM Katowice 2020 North America Closed Qualifier</td>\n      <td>5752</td>\n      <td>Cloud9</td>\n      <td>13</td>\n      <td>90.0</td>\n      <td>105.0</td>\n      <td>12.0</td>\n      <td>18</td>\n      <td>9215</td>\n      <td>MIBR</td>\n      <td>16</td>\n      <td>105.0</td>\n      <td>90.0</td>\n      <td>20.0</td>\n      <td>14</td>\n      <td>2</td>\n    </tr>\n    <tr>\n      <th>97592</th>\n      <td>97592</td>\n      <td>nuke</td>\n      <td>2020-01-10 01:00:00</td>\n      <td>5164</td>\n      <td>Aorus League 2019 #4 Northern Cone</td>\n      <td>10330</td>\n      <td>Supremacy</td>\n      <td>16</td>\n      <td>98.0</td>\n      <td>69.0</td>\n      <td>17.0</td>\n      <td>0</td>\n      <td>10578</td>\n      <td>Infamous</td>\n      <td>8</td>\n      <td>69.0</td>\n      <td>98.0</td>\n      <td>13.0</td>\n      <td>0</td>\n      <td>1</td>\n    </tr>\n    <tr>\n      <th>97593</th>\n      <td>97593</td>\n      <td>ovp</td>\n      <td>2020-01-10 00:35:00</td>\n      <td>5104</td>\n      <td>IEM Katowice 2020 North America Closed Qualifier</td>\n      <td>5752</td>\n      <td>Cloud9</td>\n      <td>16</td>\n      <td>77.0</td>\n      <td>46.0</td>\n      <td>11.0</td>\n      <td>18</td>\n      <td>9215</td>\n      <td>MIBR</td>\n      <td>4</td>\n      <td>46.0</td>\n      <td>77.0</td>\n      <td>10.0</td>\n      <td>14</td>\n      <td>1</td>\n    </tr>\n    <tr>\n      <th>97594</th>\n      <td>97594</td>\n      <td>inf</td>\n      <td>2020-01-10 01:00:00</td>\n      <td>5164</td>\n      <td>Aorus League 2019 #4 Northern Cone</td>\n      <td>10330</td>\n      <td>Supremacy</td>\n      <td>16</td>\n      <td>99.0</td>\n      <td>93.0</td>\n      <td>16.0</td>\n      <td>0</td>\n      <td>10578</td>\n      <td>Infamous</td>\n      <td>12</td>\n      <td>93.0</td>\n      <td>100.0</td>\n      <td>17.0</td>\n      <td>0</td>\n      <td>1</td>\n    </tr>\n    <tr>\n      <th>97595</th>\n      <td>97595</td>\n      <td>inf</td>\n      <td>2020-01-10 00:35:00</td>\n      <td>5104</td>\n      <td>IEM Katowice 2020 North America Closed Qualifier</td>\n      <td>5752</td>\n      <td>Cloud9</td>\n      <td>16</td>\n      <td>100.0</td>\n      <td>91.0</td>\n      <td>14.0</td>\n      <td>18</td>\n      <td>9215</td>\n      <td>MIBR</td>\n      <td>12</td>\n      <td>90.0</td>\n      <td>100.0</td>\n      <td>16.0</td>\n      <td>14</td>\n      <td>1</td>\n    </tr>\n  </tbody>\n</table>\n<p>73848 rows × 20 columns</p>\n</div>",
      "text/plain": "       map_id   map                date  event_id  \\\n12838   12838   NaN 2012-09-13 19:00:00       965   \n12839   12839   NaN 2012-09-13 19:00:00       965   \n12840   12840   NaN 2012-09-13 19:00:00       966   \n12841   12841   NaN 2012-09-13 19:00:00       966   \n12848   12848   NaN 2012-09-23 12:00:00       973   \n...       ...   ...                 ...       ...   \n97591   97591   trn 2020-01-10 00:35:00      5104   \n97592   97592  nuke 2020-01-10 01:00:00      5164   \n97593   97593   ovp 2020-01-10 00:35:00      5104   \n97594   97594   inf 2020-01-10 01:00:00      5164   \n97595   97595   inf 2020-01-10 00:35:00      5104   \n\n                                             event_name  team_id_1  \\\n12838                                   Go4CS:GO Cup #6       4411   \n12839                                   Go4CS:GO Cup #6       4411   \n12840         CyberGamer Qualifier Cup #1 by Tt eSPORTS       4444   \n12841         CyberGamer Qualifier Cup #1 by Tt eSPORTS       4444   \n12848                           DreamHack Valencia 2012       4411   \n...                                                 ...        ...   \n97591  IEM Katowice 2020 North America Closed Qualifier       5752   \n97592                Aorus League 2019 #4 Northern Cone      10330   \n97593  IEM Katowice 2020 North America Closed Qualifier       5752   \n97594                Aorus League 2019 #4 Northern Cone      10330   \n97595  IEM Katowice 2020 North America Closed Qualifier       5752   \n\n      team_name_1  team_score_1  team_kills_1  team_deaths_1  team_assists_1  \\\n12838         NiP            16          91.0           46.0             0.0   \n12839         NiP            16          83.0           34.0             0.0   \n12840      Blight            16          81.0           37.0             0.0   \n12841      Blight            16          97.0           58.0             0.0   \n12848         NiP            16         102.0           86.0             0.0   \n...           ...           ...           ...            ...             ...   \n97591      Cloud9            13          90.0          105.0            12.0   \n97592   Supremacy            16          98.0           69.0            17.0   \n97593      Cloud9            16          77.0           46.0            11.0   \n97594   Supremacy            16          99.0           93.0            16.0   \n97595      Cloud9            16         100.0           91.0            14.0   \n\n       team_rank_1  team_id_2 team_name_2  team_score_2  team_kills_2  \\\n12838            0       4443       PRiME             3          45.0   \n12839            0       4443       PRiME             1          34.0   \n12840            0       4445   FMESPORTS             2          37.0   \n12841            0       4445   FMESPORTS             7          57.0   \n12848            0       4467   VeryGames            10          86.0   \n...            ...        ...         ...           ...           ...   \n97591           18       9215        MIBR            16         105.0   \n97592            0      10578    Infamous             8          69.0   \n97593           18       9215        MIBR             4          46.0   \n97594            0      10578    Infamous            12          93.0   \n97595           18       9215        MIBR            12          90.0   \n\n       team_deaths_2  team_assists_2  team_rank_2  winner  \n12838           91.0             0.0            0       1  \n12839           83.0             0.0            0       1  \n12840           81.0             0.0            0       1  \n12841           97.0             0.0            0       1  \n12848          102.0             0.0            0       1  \n...              ...             ...          ...     ...  \n97591           90.0            20.0           14       2  \n97592           98.0            13.0            0       1  \n97593           77.0            10.0           14       1  \n97594          100.0            17.0            0       1  \n97595          100.0            16.0           14       1  \n\n[73848 rows x 20 columns]"
     },
     "execution_count": 92,
     "metadata": {},
     "output_type": "execute_result"
    }
   ],
   "source": [
    "df_map"
   ]
  },
  {
   "cell_type": "code",
   "execution_count": 87,
   "metadata": {},
   "outputs": [
    {
     "ename": "KeyError",
     "evalue": "5973",
     "output_type": "error",
     "traceback": [
      "\u001b[0;31m---------------------------------------------------------------------------\u001b[0m",
      "\u001b[0;31mKeyError\u001b[0m                                  Traceback (most recent call last)",
      "\u001b[0;32m<ipython-input-87-baf7f27e67bd>\u001b[0m in \u001b[0;36m<module>\u001b[0;34m\u001b[0m\n\u001b[0;32m----> 1\u001b[0;31m \u001b[0mdict_player\u001b[0m\u001b[0;34m[\u001b[0m\u001b[0;36m5973\u001b[0m\u001b[0;34m]\u001b[0m\u001b[0;34m.\u001b[0m\u001b[0mhead\u001b[0m\u001b[0;34m(\u001b[0m\u001b[0;34m)\u001b[0m\u001b[0;34m\u001b[0m\u001b[0;34m\u001b[0m\u001b[0m\n\u001b[0m",
      "\u001b[0;31mKeyError\u001b[0m: 5973"
     ]
    }
   ],
   "source": [
    "dict_player[5973].head()"
   ]
  },
  {
   "cell_type": "code",
   "execution_count": null,
   "metadata": {},
   "outputs": [],
   "source": []
  }
 ]
}