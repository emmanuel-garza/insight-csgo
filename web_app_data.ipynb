{
 "nbformat": 4,
 "nbformat_minor": 2,
 "metadata": {
  "language_info": {
   "name": "python",
   "codemirror_mode": {
    "name": "ipython",
    "version": 3
   }
  },
  "orig_nbformat": 2,
  "file_extension": ".py",
  "mimetype": "text/x-python",
  "name": "python",
  "npconvert_exporter": "python",
  "pygments_lexer": "ipython3",
  "version": 3,
  "kernelspec": {
   "name": "python37464bitminiconda3virtualenv7f2e9c966dbc4598b4ce375409bf61d2",
   "display_name": "Python 3.7.4 64-bit ('miniconda3': virtualenv)"
  }
 },
 "cells": [
  {
   "cell_type": "code",
   "execution_count": 12,
   "metadata": {},
   "outputs": [],
   "source": [
    "# Modues to be used\n",
    "import pickle\n",
    "import numpy as np\n",
    "import pandas as pd\n",
    "from datetime import datetime\n",
    "import time\n",
    "import urllib.request"
   ]
  },
  {
   "cell_type": "code",
   "execution_count": 2,
   "metadata": {},
   "outputs": [],
   "source": [
    "# Load data from pickle files\n",
    "\n",
    "# -> Player dictionary with the dataFrames\n",
    "f = open('data/dict_player.pickle', 'rb')\n",
    "dict_player = pickle.load(f)\n",
    "\n",
    "# -> Map dataFrames\n",
    "f = open('data/df_map.pickle','rb')\n",
    "df_map = pickle.load(f)\n",
    "\n",
    "# -> Map dictionary\n",
    "f = open('data/dict_map.pickle','rb')\n",
    "dict_map = pickle.load(f)"
   ]
  },
  {
   "cell_type": "markdown",
   "execution_count": null,
   "metadata": {},
   "outputs": [],
   "source": [
    "# Save a list of the teams and their ranks"
   ]
  },
  {
   "cell_type": "code",
   "execution_count": 143,
   "metadata": {},
   "outputs": [
    {
     "data": {
      "text/plain": "14107: {4411: {'score': 16,\n   'players_id': array([  39,   29,  884, 7148, 7147]),\n   'win': 1},\n  4555: {'score': 10,\n   'players_id': array([334, 339, 737, 735, 302]),\n   'win': 0}},\n 14108: {4759: {'score': 6,\n   'players_id': array([ 373, 7181,  353,  349, 4382]),\n   'win': 0},\n  4472: {'score': 16,\n   'players_id': array([7387, 7188, 7186, 7184,  414]),\n   'win': 1}},\n 14109: {4759: {'score': 8,\n   'players_id': array([ 373,  353, 7181, 4382,  349]),\n   'win': 0},\n  4472: {'score': 16,\n   'players_id': array([7387, 7188, 7186,  414, 7184]),\n   'win': 1}},\n 14114: {4501: {'score': 15,\n   'players_id': array([7323, 7216, 7218, 7219, 7217]),\n   'win': 0},\n  4615: {'score': 15,\n   'players_id': array([1225,  146, 7581, 7391,  150]),\n   'win': 0}},\n 14115: {4494: {'score': 16,\n   'players_id': array([429, 128, 102,  92,  77]),\n   'win': 1},\n  4685: {'score': 9,\n   'players_id': array([3159, 7491, 7404, 7489, 2154]),\n   'win': 0}},\n 14116: {4494: {'score': 16,\n   'players_id': array([128,  77, 429,  92, 102]),\n   'win': 1},\n  4615: {'score': 12,\n   'players_id': array([1225,  245, 7581, 7391,  146]),\n   'win': 0}},\n 14117: {4609: {'score': 16,\n   'players_id': array([ 472, 1386, 7551, 7550, 7447]),\n   'win': 1},\n  4685: {'score': 13,\n   'players_id': array([2154, 3159, 7489, 7491, 7404]),\n   'win': 0}},\n 14118: {4684: {'score': 16,\n   'players_id': array([7579,  607, 2131,  608, 1866]),\n   'win': 1},\n  4685: {'score': 11,\n   'players_id': array([7489, 7404, 2154, 7491, 3159]),\n   'win': 0}},\n 14119: {4490: {'score': 16,\n   'players_id': array([7208, 7205, 2304, 7206, 7207]),\n   'win': 1},\n  4744: {'score': 10,\n   'players_id': array([7457, 3195, 7204, 6240, 7300]),\n   'win': 0}},\n 14120: {4805: {'score': 12,\n   'players_id': array([5392,   18, 7602, 7603, 4019]),\n   'win': 0},\n  4806: {'score': 16,\n   'players_id': array([  41, 5375, 3073, 7604, 4675]),\n   'win': 1}},\n 14121: {4805: {'score': 13,\n   'players_id': array([7603, 5392, 7602,   18, 4019]),\n   'win': 0},\n  4806: {'score': 16,\n   'players_id': array([  41, 3073, 7604, 4675, 5375]),\n   'win': 1}},\n 14122: {4804: {'score': 8,\n   'players_id': array([7241,  997,  775,   20, 3851]),\n   'win': 0},\n  4761: {'score': 16,\n   'players_id': array([1044, 5455, 3871, 5373, 4233]),\n   'win': 1}},\n 14123: {4804: {'score': 10,\n   'players_id': array([ 775, 7241, 3851,  997,   20]),\n   'win': 0},\n  4761: {'score': 16,\n   'players_id': array([3871, 1044, 4233, 5373, 5455]),\n   'win': 1}},\n 14124: {4761: {'score': 16,\n   'players_id': array([5455, 4233, 5373, 1044, 3871]),\n   'win': 1},\n  4806: {'score': 12,\n   'players_id': array([7604,   41, 4675, 5375, 3073]),\n   'win': 0}},\n 14125: {4761: {'score': 16,\n   'players_id': array([3871, 4233, 5373, 5455, 1044]),\n   'win': 1},\n  4806: {'score': 8,\n   'players_id': array([  41, 4675, 7604, 3073, 5375]),\n   'win': 0}},\n 14126: {4799: {'score': 8,\n   'players_id': array([3124, 7608, 7605, 7607, 7606]),\n   'win': 0},\n  4800: {'score': 16,\n   'players_id': array([1159, 7446, 6056, 7609, 6055]),\n   'win': 1}},\n 14127: {4799: {'score': 5,\n   'players_id': array([7607, 3124, 7605, 7606, 7608]),\n   'win': 0},\n  4800: {'score': 16,\n   'players_id': array([6055, 7446, 6056, 1159, 7609]),\n   'win': 1}},\n 14128: {4802: {'score': 12,\n   'players_id': array([2299, 1197,  641,  638, 5233]),\n   'win': 0},\n  4799: {'score': 16,\n   'players_id': array([7607, 7608, 7606, 3124, 7605]),\n   'win': 1}},\n 14129: {4802: {'score': 16,\n   'players_id': array([2299, 5233, 1197,  638,  641]),\n   'win': 1},\n  4799: {'score': 3,\n   'players_id': array([7607, 7606, 3124, 7605, 7608]),\n   'win': 0}},\n 14130: {4802: {'score': 17,\n   'players_id': array([5233, 2299,  641,  638, 1197]),\n   'win': 0},\n  4799: {'score': 19,\n   'players_id': array([7607, 7606, 7608, 7605, 3124]),\n   'win': 1}},\n 14132: {4800: {'score': 16,\n   'players_id': array([6055, 7446, 1159, 7609, 6056]),\n   'win': 1},\n  4469: {'score': 10,\n   'players_id': array([ 630, 7492,  629, 7183, 5873]),\n   'win': 0}},\n 14133: {4800: {'score': 13,\n   'players_id': array([7609, 6055, 7446, 6056, 1159]),\n   'win': 0},\n  4469: {'score': 16,\n   'players_id': array([7183, 5873, 7492,  630,  629]),\n   'win': 1}},\n 14134: {4800: {'score': 16,\n   'players_id': array([7609, 7446, 6055, 1159, 6056]),\n   'win': 1},\n  4469: {'score': 12,\n   'players_id': array([ 629, 7492, 5873, 7183,  630]),\n   'win': 0}},\n 14135: {4695: {'score': 12,\n   'players_id': array([5479,  691, 5480, 7529, 5562]),\n   'win': 0},\n  4803: {'score': 16,\n   'players_id': array([1007, 3741, 2482, 3291, 2476]),\n   'win': 1}},\n 14136: {4803: {'score': 11,\n   'players_id': array([3741, 3291, 2482, 2476, 1007]),\n   'win': 0},\n  4763: {'score': 16,\n   'players_id': array([5045, 1045, 7527, 2398, 2922]),\n   'win': 1}},\n 14137: {4803: {'score': 5,\n   'players_id': array([3741, 1007, 2482, 2476, 3291]),\n   'win': 0},\n  4763: {'score': 16,\n   'players_id': array([2398, 7527, 2922, 1045, 5045]),\n   'win': 1}},\n 14139: {4490: {'score': 16,\n   'players_id': array([7208, 7205, 2304, 7206, 7207]),\n   'win': 1},\n  4501: {'score': 14,\n   'players_id': array([7216, 7218, 7219, 7323, 7217]),\n   'win': 0}},\n 14140: {4501: {'score': 16,\n   'players_id': array([7219, 7216, 7218, 7323, 7217]),\n   'win': 1},\n  4694: {'score': 3,\n   'players_id': array([7224, 7225, 7302, 7228, 7227]),\n   'win': 0}},\n 14141: {4623: {'score': 16,\n   'players_id': array([   7,   58, 4954,  545, 5772]),\n   'win': 1},\n  4683: {'score': 8,\n   'players_id': array([ 798, 7476, 7450, 2757, 3142]),\n   'win': 0}},\n 14142: {4687: {'score': 16,\n   'players_id': array([7497, 4870, 7495, 7498, 7496]),\n   'win': 1},\n  4501: {'score': 14,\n   'players_id': array([7217, 7218, 7219, 7216, 7323]),\n   'win': 0}},\n 14143: {4689: {'score': 16,\n   'players_id': array([7511, 7571, 7512, 7508, 7509]),\n   'win': 1},\n  4743: {'score': 11,\n   'players_id': array([7546, 7549, 7572, 7548, 7547]),\n   'win': 0}},\n 14177: {4496: {'score': 16,\n   'players_id': array([ 822, 5796, 1104, 3252, 1064]),\n   'win': 1},\n  4743: {'score': 7,\n   'players_id': array([7549, 7546, 7548, 7593, 7547]),\n   'win': 0}},\n 14178: {4687: {'score': 16,\n   'players_id': array([7497, 4870, 7495, 7498, 7496]),\n   'win': 1},\n  4744: {'score': 10,\n   'players_id': array([7300, 7457, 3195, 7204, 6240]),\n   'win': 0}},\n 14179: {4494: {'score': 16,\n   'players_id': array([ 77, 429, 128,  92, 102]),\n   'win': 1},\n  4743: {'score': 2,\n   'players_id': array([7547, 7593, 7548, 7549, 7546]),\n   'win': 0}},\n 14180: {4694: {'score': 16,\n   'players_id': array([7227, 7302, 7228, 7224, 7225]),\n   'win': 1},\n  4496: {'score': 3,\n   'players_id': array([1064, 3252,  822, 5796, 1104]),\n   'win': 0}},\n 14181: {4689: {'score': 16,\n   'players_id': array([7509, 7511, 7508, 7571, 7512]),\n   'win': 1},\n  4492: {'score': 8,\n   'players_id': array([4922, 7524, 3197, 7525, 5292]),\n   'win': 0}},\n 14182: {4501: {'score': 16,\n   'players_id': array([7217, 7216, 7323, 7219, 7218]),\n   'win': 1},\n  4496: {'score': 10,\n   'players_id': array([5796, 1064,  822, 3252, 1104]),\n   'win': 0}},\n 14183: {4490: {'score': 16,\n   'players_id': array([2304, 7208, 7205, 7206, 7207]),\n   'win': 1},\n  4687: {'score': 1,\n   'players_id': array([4870, 7495, 7498, 7497, 7496]),\n   'win': 0}},\n 14184: {4411: {'score': 16,\n   'players_id': array([  29,   39,  884, 7148, 7147]),\n   'win': 1},\n  4552: {'score': 3,\n   'players_id': array([7463, 5287, 7239, 7152, 7411]),\n   'win': 0}},\n 14185: {4411: {'score': 16,\n   'players_id': array([  29, 7148,   39,  884, 7147]),\n   'win': 1},\n  4552: {'score': 12,\n   'players_id': array([7463, 7411, 5287, 7152, 7239]),\n   'win': 0}},\n 14186: {4532: {'score': 16,\n   'players_id': array([317, 161, 165, 163, 162]),\n   'win': 1},\n  4490: {'score': 5,\n   'players_id': array([2304, 7205, 7208, 7206, 7207]),\n   'win': 0}},\n 14187: {4532: {'score': 16,\n   'players_id': array([161, 317, 163, 162, 165]),\n   'win': 1},\n  4490: {'score': 5,\n   'players_id': array([7205, 7207, 2304, 7208, 7206]),\n   'win': 0}},\n 14188: {4775: {'score': 16,\n   'players_id': array([7412, 7413, 7156, 7154, 6796]),\n   'win': 1},\n  4826: {'score': 7,\n   'players_id': array([7613, 5042, 1672, 1429, 3964]),\n   'win': 0}},\n 14189: {4775: {'score': 16,\n   'players_id': array([7413, 7154, 6796, 7156, 7412]),\n   'win': 1},\n  4826: {'score': 9,\n   'players_id': array([5042, 1672, 7613, 1429, 3964]),\n   'win': 0}},\n 14190: {4624: {'score': 19,\n   'players_id': array([7436, 7438, 7440, 7596, 7595]),\n   'win': 1},\n  4822: {'score': 15,\n   'players_id': array([7162, 7612, 7293, 7163, 7296]),\n   'win': 0}},\n 14192: {4624: {'score': 16,\n   'players_id': array([7440, 7595, 7438, 7596, 7436]),\n   'win': 1},\n  4822: {'score': 4,\n   'players_id': array([7293, 7296, 7162, 7163, 7612]),\n   'win': 0}},\n 14193: {4679: {'score': 16,\n   'players_id': array([2123, 7277, 1040, 7165, 7279]),\n   'win': 1},\n  4579: {'score': 8,\n   'players_id': array([7381, 7552, 2730, 2712, 1140]),\n   'win': 0}},\n 14194: {4679: {'score': 16,\n   'players_id': array([7279, 7277, 1040, 2123, 7165]),\n   'win': 1},\n  4579: {'score': 9,\n   'players_id': array([2730, 7552, 1140, 2712, 7381]),\n   'win': 0}},\n 14195: {4647: {'score': 16,\n   'players_id': array([1915, 7347, 7348, 2644, 7437]),\n   'win': 1},\n  4445: {'score': 7,\n   'players_id': array([7161, 7401, 7611, 7160, 7414]),\n   'win': 0}},\n 14196: {4647: {'score': 16,\n   'players_id': array([2644, 1915, 7437, 7348, 7347]),\n   'win': 1},\n  4445: {'score': 7,\n   'players_id': array([7611, 7161, 7401, 7160, 7414]),\n   'win': 0}},\n 14197: {4835: {'score': 16,\n   'players_id': array([7464, 7487, 1889,  922,  921]),\n   'win': 1},\n  4742: {'score': 13,\n   'players_id': array([ 478,  499, 2621, 7594,  736]),\n   'win': 0}},\n 14198: {4835: {'score': 16,\n   'players_id': array([1889, 7464,  922, 7487,  921]),\n   'win': 1},\n  4742: {'score': 9,\n   'players_id': array([ 499, 2621, 7594,  478,  736]),\n   'win': 0}},\n 14199: {4555: {'score': 16,\n   'players_id': array([334, 339, 302, 735, 737]),\n   'win': 1},\n  4761: {'score': 11,\n   'players_id': array([5373, 4233, 1044, 3871, 5455]),\n   'win': 0}},\n 14200: {4555: {'score': 16,\n   'players_id': array([302, 339, 735, 737, 334]),\n   'win': 1},\n  4761: {'score': 6,\n   'players_id': array([5455, 1044, 5373, 3871, 4233]),\n   'win': 0}},\n 14201: {4631: {'score': 16,\n   'players_id': array([ 713,  971,  695, 3894,  970]),\n   'win': 1},\n  4716: {'score': 14,\n   'players_id': array([7151, 7408, 7150, 7149, 7153]),\n   'win': 0}},\n 14202: {4631: {'score': 16,\n   'players_id': array([ 695,  971,  713, 3894,  970]),\n   'win': 1},\n  4716: {'score': 6,\n   'players_id': array([7408, 7149, 7150, 7151, 7153]),\n   'win': 0}},\n 14203: {4467: {'score': 16,\n   'players_id': array([7170, 7166, 7167, 7168, 7390]),\n   'win': 1},\n  4413: {'score': 4,\n   'players_id': array([7445, 7443, 7441, 7422, 7444]),\n   'win': 0}},\n 14204: {4467: {'score': 11,\n   'players_id': array([7390, 7170, 7168, 7166, 7167]),\n   'win': 0},\n  4413: {'score': 16,\n   'players_id': array([7444, 7445, 7443, 7441, 7422]),\n   'win': 1}},\n 14205: {4467: {'score': 16,\n   'players_id': array([7170, 7167, 7390, 7168, 7166]),\n   'win': 1},\n  4413: {'score': 10,\n   'players_id': array([7445, 7444, 7441, 7443, 7422]),\n   'win': 0}},\n 14206: {4611: {'score': 8,\n   'players_id': array([3631, 7288,  972, 7396, 7289]),\n   'win': 0},\n  4501: {'score': 16,\n   'players_id': array([7216, 7219, 7218, 7217, 7323]),\n   'win': 1}},\n 14207: {4611: {'score': 16,\n   'players_id': array([7288, 3631,  972, 7396, 7289]),\n   'win': 1},\n  4501: {'score': 4,\n   'players_id': array([7218, 7217, 7219, 7216, 7323]),\n   'win': 0}},\n 14208: {4611: {'score': 16,\n   'players_id': array([ 972, 7288, 7396, 3631, 7289]),\n   'win': 1},\n  4501: {'score': 11,\n   'players_id': array([7219, 7218, 7216, 7217, 7323]),\n   'win': 0}},\n 14209: {4548: {'score': 16,\n   'players_id': array([2469, 7584, 7398, 7582, 7583]),\n   'win': 1},\n  4831: {'score': 4,\n   'players_id': array([7157, 5926, 5913, 7415, 6124]),\n   'win': 0}},\n 14210: {4548: {'score': 16,\n   'players_id': array([7584, 7583, 2469, 7582, 7398]),\n   'win': 1},\n  4831: {'score': 9,\n   'players_id': array([6124, 5926, 7157, 7415, 5913]),\n   'win': 0}},\n 14211: {4608: {'score': 16,\n   'players_id': array([338, 484, 483, 301, 303]),\n   'win': 1},\n  4606: {'score': 6,\n   'players_id': array([1480, 7397, 7259,   15,  645]),\n   'win': 0}},\n 14212: {4608: {'score': 16,\n   'players_id': array([303, 483, 301, 484, 338]),\n   'win': 1},\n  4606: {'score': 8,\n   'players_id': array([ 645, 7259, 1480, 7397,   15]),\n   'win': 0}},\n 14213: {4494: {'score': 14,\n   'players_id': array([128, 429,  77, 102,  92]),\n   'win': 0},\n  4828: {'score': 16,\n   'players_id': array([ 515, 2468, 1832, 2155, 2367]),\n   'win': 1}},\n 14214: {4494: {'score': 16,\n   'players_id': array([ 77, 128, 429,  92, 102]),\n   'win': 1},\n  4828: {'score': 9,\n   'players_id': array([1832, 2155,  515, 2468, 2367]),\n   'win': 0}},\n 14215: {4494: {'score': 16,\n   'players_id': array([429,  77, 102,  92, 128]),\n   'win': 1},\n  4828: {'score': 13,\n   'players_id': array([2155,  515, 1832, 2367, 2468]),\n   'win': 0}},\n 14216: {4683: {'score': 16,\n   'players_id': array([2757, 7476, 3142,  798, 7450]),\n   'win': 1},\n  4844: {'score': 13,\n   'players_id': array([3843, 1910, 7623, 5046, 7622]),\n   'win': 0}},\n 14217: {4683: {'score': 16,\n   'players_id': array([2757,  798, 7476, 3142, 7450]),\n   'win': 1},\n  4844: {'score': 14,\n   'players_id': array([3843, 7623, 5046, 1910, 7622]),\n   'win': 0}},\n 14218: {4623: {'score': 16,\n   'players_id': array([   7, 5772,  545,   58, 4954]),\n   'win': 1},\n  4688: {'score': 14,\n   'players_id': array([3055, 3849, 3847, 7442, 7378]),\n   'win': 0}},\n 14219: {4623: {'score': 12,\n   'players_id': array([ 545,   58, 5772,    7, 4954]),\n   'win': 0},\n  4688: {'score': 16,\n   'players_id': array([3849, 3055, 7378, 3847, 7442]),\n   'win': 1}},\n 14220: {4623: {'score': 16,\n   'players_id': array([ 545, 4954,    7,   58, 5772]),\n   'win': 1},\n  4688: {'score': 13,\n   'players_id': array([3849, 3055, 3847, 7378, 7442]),\n   'win': 0}},\n 14221: {4411: {'score': 16,\n   'players_id': array([  39, 7148, 7147,  884,   29]),\n   'win': 1},\n  4716: {'score': 1,\n   'players_id': array([7150, 7151, 7408, 7149, 7153]),\n   'win': 0}},\n 14222: {4411: {'score': 16,\n   'players_id': array([  29, 7147,   39,  884, 7148]),\n   'win': 1},\n  4716: {'score': 5,\n   'players_id': array([7149, 7150, 7151, 7408, 7153]),\n   'win': 0}},\n 14223: {4467: {'score': 16,\n   'players_id': array([7167, 7166, 7390, 7168, 7170]),\n   'win': 1},\n  4844: {'score': 1,\n   'players_id': array([7622, 7623, 1910, 3843, 5046]),\n   'win': 0}},\n 14224: {4467: {'score': 16,\n   'players_id': array([7167, 7170, 7168, 7390, 7166]),\n   'win': 1},\n  4844: {'score': 1,\n   'players_id': array([7622, 3843, 7623, 5046, 1910]),\n   'win': 0}},\n 14225: {4828: {'score': 16,\n   'players_id': array([ 515, 2468, 2155, 1832, 2367]),\n   'win': 1},\n  4490: {'score': 1,\n   'players_id': array([7208, 2304, 7207, 7206, 7205]),\n   'win': 0}},\n 14226: {4828: {'score': 16,\n   'players_id': array([2155, 1832, 2367, 2468,  515]),\n   'win': 1},\n  4490: {'score': 9,\n   'players_id': array([2304, 7208, 7206, 7205, 7207]),\n   'win': 0}},\n 14227: {4624: {'score': 16,\n   'players_id': array([7438, 7440, 7595, 7596, 7436]),\n   'win': 1},\n  4579: {'score': 9,\n   'players_id': array([2730, 1140, 7552, 2712, 7381]),\n   'win': 0}},\n 14228: {4624: {'score': 16,\n   'players_id': array([7440, 7596, 7438, 7595, 7436]),\n   'win': 1},\n  4579: {'score': 14,\n   'players_id': array([7552, 1140, 2712, 2730, 7381]),\n   'win': 0}},\n 14229: {4775: {'score': 16,\n   'players_id': array([7412, 7156, 7413, 7154, 6796]),\n   'win': 1},\n  4831: {'score': 8,\n   'players_id': array([5926, 7157, 7415, 5913, 6124]),\n   'win': 0}},\n 14231: {4413: {'score': 16,\n   'players_id': array([7441, 7422, 7443, 7444, 7445]),\n   'win': 1},\n  4683: {'score': 5,\n   'players_id': array([2757,  798, 7450, 7476, 3142]),\n   'win': 0}},\n 14232: {4413: {'score': 16,\n   'players_id': array([7443, 7445, 7444, 7422, 7441]),\n   'win': 1},\n  4683: {'score': 12,\n   'players_id': array([2757,  798, 3142, 7450, 7476]),\n   'win': 0}},\n 14233: {4775: {'score': 16,\n   'players_id': array([7412, 7156, 7413, 6796, 7154]),\n   'win': 1},\n  4831: {'score': 13,\n   'players_id': array([5926, 6124, 5913, 7157, 7415]),\n   'win': 0}},\n 14234: {4555: {'score': 16,\n   'players_id': array([339, 737, 735, 302, 334]),\n   'win': 1},\n  4835: {'score': 2,\n   'players_id': array([ 922, 7464,  921, 7487, 1889]),\n   'win': 0}},\n 14235: {4555: {'score': 16,\n   'players_id': array([735, 334, 302, 339, 737]),\n   'win': 1},\n  4835: {'score': 11,\n   'players_id': array([7464, 7487, 1889,  922,  921]),\n   'win': 0}},\n 14236: {4494: {'score': 16,\n   'players_id': array([ 77, 429, 128,  92, 102]),\n   'win': 1},\n  4532: {'score': 3,\n   'players_id': array([317, 165, 161, 162, 163]),\n   'win': 0}},\n 14237: {4494: {'score': 16,\n   'players_id': array([128, 429,  92,  77, 102]),\n   'win': 1},\n  4532: {'score': 11,\n   'players_id': array([165, 317, 162, 161, 163]),\n   'win': 0}},\n 14238: {4631: {'score': 19,\n   'players_id': array([ 695, 3894,  971,  970,  713]),\n   'win': 1},\n  4552: {'score': 16,\n   'players_id': array([7411, 7152, 7239, 7463, 5287]),\n   'win': 0}},\n 14240: {4631: {'score': 16,\n   'players_id': array([ 971,  713, 3894,  695,  970]),\n   'win': 1},\n  4552: {'score': 8,\n   'players_id': array([7463, 5287, 7239, 7152, 7411]),\n   'win': 0}},\n 14241: {4679: {'score': 16,\n   'players_id': array([7279, 2123, 1040, 7165, 7277]),\n   'win': 1},\n  4822: {'score': 6,\n   'players_id': array([7162, 7296, 7163, 7612, 7293]),\n   'win': 0}},\n 14242: {4679: {'score': 16,\n   'players_id': array([7277, 1040, 7165, 2123, 7279]),\n   'win': 1},\n  4822: {'score': 14,\n   'players_id': array([7612, 7293, 7162, 7163, 7296]),\n   'win': 0}},\n 14243: {4623: {'score': 16,\n   'players_id': array([4954,  545, 5772,    7,   58]),\n   'win': 1},\n  4606: {'score': 0,\n   'players_id': array([  15, 1480,  645, 7259, 7397]),\n   'win': 0}},\n 14244: {4623: {'score': 16,\n   'players_id': array([ 545, 4954,    7, 5772,   58]),\n   'win': 1},\n  4606: {'score': 9,\n   'players_id': array([  15, 7259,  645, 7397, 1480]),\n   'win': 0}},\n 14245: {4548: {'score': 16,\n   'players_id': array([7398, 7582, 2469, 7583, 7584]),\n   'win': 1},\n  4826: {'score': 13,\n   'players_id': array([3964, 1429, 1672, 7613, 5042]),\n   'win': 0}},\n 14246: {4548: {'score': 16,\n   'players_id': array([7584, 2469, 7582, 7583, 7398]),\n   'win': 1},\n  4826: {'score': 12,\n   'players_id': array([3964, 5042, 7613, 1672, 1429]),\n   'win': 0}},\n 14247: {4761: {'score': 16,\n   'players_id': array([5455, 4233, 5373, 1044, 3871]),\n   'win': 1},\n  4742: {'score': 6,\n   'players_id': array([7594, 2621,  499,  736,  478]),\n   'win': 0}},\n 14248: {4647: {'score': 19,\n   'players_id': array([7347, 2644, 1915, 7348, 7437]),\n   'win': 1},\n  4501: {'score': 17,\n   'players_id': array([7218, 7216, 7219, 7217, 7323]),\n   'win': 0}},\n 14250: {4647: {'score': 14,\n   'players_id': array([1915, 2644, 7437, 7347, 7348]),\n   'win': 0},\n  4501: {'score': 16,\n   'players_id': array([7216, 7323, 7218, 7219, 7217]),\n   'win': 1}},\n 14251: {4647: {'score': 16,\n   'players_id': array([2644, 7437, 1915, 7347, 7348]),\n   'win': 1},\n  4501: {'score': 7,\n   'players_id': array([7217, 7218, 7323, 7216, 7219]),\n   'win': 0}},\n 14252: {4608: {'score': 13,\n   'players_id': array([483, 303, 338, 301, 484]),\n   'win': 0},\n  4688: {'score': 16,\n   'players_id': array([3849, 3055, 7378, 3847, 7442]),\n   'win': 1}},\n 14253: {4608: {'score': 16,\n   'players_id': array([338, 484, 483, 301, 303]),\n   'win': 1},\n  4688: {'score': 12,\n   'players_id': array([3849, 3055, 3847, 7378, 7442]),\n   'win': 0}},\n 14254: {4608: {'score': 13,\n   'players_id': array([303, 484, 338, 483, 301]),\n   'win': 0},\n  4688: {'score': 16,\n   'players_id': array([3849, 7378, 3055, 3847, 7442]),\n   'win': 1}},\n ...}"
     },
     "execution_count": 143,
     "metadata": {},
     "output_type": "execute_result"
    }
   ],
   "source": [
    "dict_map"
   ]
  },
  {
   "cell_type": "code",
   "execution_count": 3,
   "metadata": {},
   "outputs": [],
   "source": [
    "df_aux = df_map[ df_map['date']>datetime(2019,1,1) ]\n",
    "\n",
    "df_1 = df_aux.drop(columns=['map', 'event_id', 'event_name',\n",
    "       'team_score_1', 'team_kills_1', 'team_deaths_1',\n",
    "       'team_assists_1','team_id_2', 'team_name_2',\n",
    "       'team_score_2', 'team_kills_2', 'team_deaths_2', 'team_assists_2',\n",
    "       'team_rank_2', 'winner']).reset_index()\n",
    "\n",
    "df_1 = df_1.rename(columns={'team_id_1':'team_id', 'team_name_1':'team_name','team_rank_1':'team_rank'})\n",
    "\n",
    "\n",
    "df_2 = df_aux.drop(columns=[ 'map', 'event_id', 'event_name',\n",
    "       'team_score_1', 'team_kills_1', 'team_deaths_1',\n",
    "       'team_assists_1','team_id_1', 'team_name_1',\n",
    "       'team_score_2', 'team_kills_2', 'team_deaths_2', 'team_assists_2',\n",
    "       'team_rank_1', 'winner']).reset_index()\n",
    "\n",
    "df_2 = df_2.rename(columns={'team_id_2':'team_id', 'team_name_2':'team_name','team_rank_2':'team_rank'})\n",
    "\n",
    "df = df_1.append(df_2,sort=True,ignore_index=True)\n",
    "\n",
    "df = df.sort_values('date',ascending=False)\n",
    "\n",
    "team_id_vec = df.team_id.unique()\n",
    "\n",
    "dict_team = {}\n",
    "dict_player_new = {}\n",
    "for team_id in team_id_vec:\n",
    "    \n",
    "    df_tmp = df[ df['team_id'] == team_id].head(n=1)\n",
    "\n",
    "    dict_team[team_id] = {}\n",
    "    dict_team[team_id]['team_name'] = df_tmp.team_name.values[0]\n",
    "    dict_team[team_id]['team_rank'] = df_tmp.team_rank.values[0]\n",
    "    dict_team[team_id]['team_prize'] = 0.0\n",
    "\n",
    "    map_id = df_tmp.map_id.values[0]\n",
    "\n",
    "    count = 0\n",
    "    for player_id in dict_map[map_id][team_id]['players_id']:\n",
    "\n",
    "        prize_money   = dict_player[player_id][ dict_player[player_id]['date']>datetime(2019,1,1) ]['prize'].sum()\n",
    "        player_rating = dict_player[player_id][ dict_player[player_id]['date']>datetime(2019,1,1) ]['rating'].mean()\n",
    "\n",
    "        dict_player_new[player_id] = {}\n",
    "        dict_player_new[player_id]['name']         = dict_player[player_id]['player_name'].values[0]\n",
    "        dict_player_new[player_id]['prize_money']  = prize_money        \n",
    "        dict_player_new[player_id]['rating']       = player_rating\n",
    "\n",
    "        if prize_money > 0:\n",
    "            dict_player_new[player_id]['prize_rating'] = np.log( prize_money ) / 12.0\n",
    "        else:\n",
    "            dict_player_new[player_id]['prize_rating'] = 0.0\n",
    "\n",
    "\n",
    "        count = count + 1\n",
    "        dict_team[team_id]['player_name_'+str(count)] = dict_player[player_id]['player_name'].values[0]\n",
    "        dict_team[team_id]['player_id_'+str(count)] = dict_player[player_id]['player_id'].values[0]\n",
    "\n",
    "        dict_team[team_id]['team_prize'] = dict_team[team_id]['team_prize'] + prize_money / 5.0\n",
    "\n",
    "    if dict_team[team_id]['team_prize'] > 0.0:\n",
    "        dict_team[team_id]['team_prize_rating'] = np.log( dict_team[team_id]['team_prize'] ) / 12.0\n",
    "    else:\n",
    "        dict_team[team_id]['team_prize_rating'] = 0.0\n",
    "\n"
   ]
  },
  {
   "cell_type": "code",
   "execution_count": 4,
   "metadata": {},
   "outputs": [
    {
     "name": "stderr",
     "output_type": "stream",
     "text": "/home/emmanuel/miniconda3/lib/python3.7/site-packages/numpy/core/fromnumeric.py:3257: RuntimeWarning: Mean of empty slice.\n  out=out, **kwargs)\n/home/emmanuel/miniconda3/lib/python3.7/site-packages/numpy/core/_methods.py:161: RuntimeWarning: invalid value encountered in double_scalars\n  ret = ret.dtype.type(ret / rcount)\n"
    }
   ],
   "source": [
    "# Get the rating and prize rating of the average opponent for each team\n",
    "df = pd.DataFrame.from_dict(dict_team,orient='index')\n",
    "for team_id in df.index[:]:\n",
    "    df_aux = df_map[ (df_map['date']>datetime(2019,1,1)) &  ( (df_map['team_id_1']==team_id) | (df_map['team_id_2']==team_id) ) ]\n",
    "\n",
    "    prize_vec  = []\n",
    "    rating_vec = []\n",
    "\n",
    "    for map_id in df_aux.index:\n",
    "\n",
    "        prize_rating = []\n",
    "        rating       = []\n",
    "\n",
    "        for new_team_id in dict_map[map_id]:\n",
    "            if( new_team_id != team_id ):\n",
    "                \n",
    "                for player_id in dict_map[map_id][new_team_id]['players_id']:\n",
    "\n",
    "                    try:\n",
    "                        rating.append( dict_player_new[player_id]['rating'] )\n",
    "                        prize_rating.append( dict_player_new[player_id]['prize_rating'] )\n",
    "                    except:\n",
    "                        continue\n",
    "        \n",
    "        if len(prize_rating) > 0:\n",
    "            rating_vec.append( np.mean(rating) )\n",
    "            prize_vec.append(  np.mean(prize_rating) )\n",
    "            \n",
    "\n",
    "\n",
    "    dict_team[team_id]['avg_op_rating']       = np.mean( rating_vec )\n",
    "    dict_team[team_id]['avg_op_prize_rating'] = np.mean( prize_vec )"
   ]
  },
  {
   "cell_type": "code",
   "execution_count": 5,
   "metadata": {},
   "outputs": [
    {
     "data": {
      "text/html": "<div>\n<style scoped>\n    .dataframe tbody tr th:only-of-type {\n        vertical-align: middle;\n    }\n\n    .dataframe tbody tr th {\n        vertical-align: top;\n    }\n\n    .dataframe thead th {\n        text-align: right;\n    }\n</style>\n<table border=\"1\" class=\"dataframe\">\n  <thead>\n    <tr style=\"text-align: right;\">\n      <th></th>\n      <th>team_name</th>\n      <th>team_rank</th>\n      <th>team_prize</th>\n      <th>player_name_1</th>\n      <th>player_id_1</th>\n      <th>player_name_2</th>\n      <th>player_id_2</th>\n      <th>player_name_3</th>\n      <th>player_id_3</th>\n      <th>player_name_4</th>\n      <th>player_id_4</th>\n      <th>player_name_5</th>\n      <th>player_id_5</th>\n      <th>team_prize_rating</th>\n      <th>avg_op_rating</th>\n      <th>avg_op_prize_rating</th>\n    </tr>\n  </thead>\n  <tbody>\n    <tr>\n      <th>6665</th>\n      <td>Astralis</td>\n      <td>1</td>\n      <td>359750.000000</td>\n      <td>Xyp9x</td>\n      <td>4954</td>\n      <td>device</td>\n      <td>7592</td>\n      <td>gla1ve</td>\n      <td>7412</td>\n      <td>dupreeh</td>\n      <td>7398</td>\n      <td>Magisk</td>\n      <td>9032</td>\n      <td>1.066097</td>\n      <td>1.100374</td>\n      <td>0.914172</td>\n    </tr>\n    <tr>\n      <th>5973</th>\n      <td>Liquid</td>\n      <td>4</td>\n      <td>231225.000000</td>\n      <td>EliGE</td>\n      <td>8738</td>\n      <td>Stewie2K</td>\n      <td>8797</td>\n      <td>nitr0</td>\n      <td>7687</td>\n      <td>NAF</td>\n      <td>8520</td>\n      <td>Twistzz</td>\n      <td>10394</td>\n      <td>1.029262</td>\n      <td>1.103210</td>\n      <td>0.898377</td>\n    </tr>\n    <tr>\n      <th>4494</th>\n      <td>mousesports</td>\n      <td>4</td>\n      <td>145025.500000</td>\n      <td>ropz</td>\n      <td>11816</td>\n      <td>frozen</td>\n      <td>9960</td>\n      <td>chrisJ</td>\n      <td>2730</td>\n      <td>woxic</td>\n      <td>8574</td>\n      <td>karrigan</td>\n      <td>429</td>\n      <td>0.990389</td>\n      <td>1.101964</td>\n      <td>0.880509</td>\n    </tr>\n    <tr>\n      <th>9565</th>\n      <td>Vitality</td>\n      <td>8</td>\n      <td>139987.833333</td>\n      <td>ZywOo</td>\n      <td>11893</td>\n      <td>ALEX</td>\n      <td>8184</td>\n      <td>apEX</td>\n      <td>7322</td>\n      <td>shox</td>\n      <td>1225</td>\n      <td>RpK</td>\n      <td>7169</td>\n      <td>0.987443</td>\n      <td>1.088512</td>\n      <td>0.862232</td>\n    </tr>\n    <tr>\n      <th>10399</th>\n      <td>Evil Geniuses</td>\n      <td>5</td>\n      <td>137633.333333</td>\n      <td>Brehze</td>\n      <td>9136</td>\n      <td>Ethan</td>\n      <td>10671</td>\n      <td>stanislaw</td>\n      <td>8507</td>\n      <td>CeRq</td>\n      <td>11219</td>\n      <td>tarik</td>\n      <td>8523</td>\n      <td>0.986029</td>\n      <td>1.112033</td>\n      <td>0.911009</td>\n    </tr>\n    <tr>\n      <th>6673</th>\n      <td>NRG</td>\n      <td>3</td>\n      <td>137633.333333</td>\n      <td>Brehze</td>\n      <td>9136</td>\n      <td>Ethan</td>\n      <td>10671</td>\n      <td>tarik</td>\n      <td>8523</td>\n      <td>stanislaw</td>\n      <td>8507</td>\n      <td>CeRq</td>\n      <td>11219</td>\n      <td>0.986029</td>\n      <td>1.093910</td>\n      <td>0.859815</td>\n    </tr>\n    <tr>\n      <th>4869</th>\n      <td>ENCE</td>\n      <td>12</td>\n      <td>99305.466667</td>\n      <td>sergej</td>\n      <td>11916</td>\n      <td>Aerial</td>\n      <td>4076</td>\n      <td>allu</td>\n      <td>695</td>\n      <td>suNny</td>\n      <td>5479</td>\n      <td>xseveN</td>\n      <td>7248</td>\n      <td>0.958830</td>\n      <td>1.098296</td>\n      <td>0.893444</td>\n    </tr>\n    <tr>\n      <th>5378</th>\n      <td>Virtus.pro</td>\n      <td>15</td>\n      <td>87330.333333</td>\n      <td>buster</td>\n      <td>11942</td>\n      <td>qikert</td>\n      <td>13239</td>\n      <td>AdreN</td>\n      <td>334</td>\n      <td>Jame</td>\n      <td>13776</td>\n      <td>SANJI</td>\n      <td>11716</td>\n      <td>0.948121</td>\n      <td>1.075882</td>\n      <td>0.803834</td>\n    </tr>\n    <tr>\n      <th>8120</th>\n      <td>AVANGAR</td>\n      <td>11</td>\n      <td>87330.333333</td>\n      <td>buster</td>\n      <td>11942</td>\n      <td>SANJI</td>\n      <td>11716</td>\n      <td>qikert</td>\n      <td>13239</td>\n      <td>Jame</td>\n      <td>13776</td>\n      <td>AdreN</td>\n      <td>334</td>\n      <td>0.948121</td>\n      <td>1.075634</td>\n      <td>0.811389</td>\n    </tr>\n    <tr>\n      <th>6667</th>\n      <td>FaZe</td>\n      <td>8</td>\n      <td>81292.666667</td>\n      <td>NiKo</td>\n      <td>3741</td>\n      <td>coldzera</td>\n      <td>9216</td>\n      <td>olofmeister</td>\n      <td>885</td>\n      <td>rain</td>\n      <td>8183</td>\n      <td>broky</td>\n      <td>18053</td>\n      <td>0.942151</td>\n      <td>1.094393</td>\n      <td>0.898625</td>\n    </tr>\n    <tr>\n      <th>4991</th>\n      <td>fnatic</td>\n      <td>4</td>\n      <td>79616.666667</td>\n      <td>Brollan</td>\n      <td>13666</td>\n      <td>Golden</td>\n      <td>11110</td>\n      <td>flusha</td>\n      <td>3055</td>\n      <td>KRIMZ</td>\n      <td>7528</td>\n      <td>JW</td>\n      <td>3849</td>\n      <td>0.940415</td>\n      <td>1.105846</td>\n      <td>0.898315</td>\n    </tr>\n    <tr>\n      <th>5995</th>\n      <td>G2</td>\n      <td>11</td>\n      <td>76339.233333</td>\n      <td>kennyS</td>\n      <td>7167</td>\n      <td>AmaNEk</td>\n      <td>9616</td>\n      <td>JaCkz</td>\n      <td>284</td>\n      <td>huNter</td>\n      <td>3972</td>\n      <td>nexa</td>\n      <td>9618</td>\n      <td>0.936912</td>\n      <td>1.097461</td>\n      <td>0.882766</td>\n    </tr>\n    <tr>\n      <th>4608</th>\n      <td>Natus Vincere</td>\n      <td>10</td>\n      <td>75816.666667</td>\n      <td>electronic</td>\n      <td>8918</td>\n      <td>Boombl4</td>\n      <td>11840</td>\n      <td>s1mple</td>\n      <td>7998</td>\n      <td>GuardiaN</td>\n      <td>2757</td>\n      <td>flamie</td>\n      <td>7594</td>\n      <td>0.936339</td>\n      <td>1.100929</td>\n      <td>0.916435</td>\n    </tr>\n    <tr>\n      <th>8297</th>\n      <td>FURIA</td>\n      <td>15</td>\n      <td>70875.400000</td>\n      <td>KSCERATO</td>\n      <td>15631</td>\n      <td>LUCAS1</td>\n      <td>8566</td>\n      <td>arT</td>\n      <td>12521</td>\n      <td>yuurih</td>\n      <td>12553</td>\n      <td>VINI</td>\n      <td>12822</td>\n      <td>0.930723</td>\n      <td>1.085021</td>\n      <td>0.766592</td>\n    </tr>\n    <tr>\n      <th>4411</th>\n      <td>NiP</td>\n      <td>10</td>\n      <td>58877.500000</td>\n      <td>REZ</td>\n      <td>9278</td>\n      <td>Lekr0</td>\n      <td>9261</td>\n      <td>Plopski</td>\n      <td>14218</td>\n      <td>f0rest</td>\n      <td>29</td>\n      <td>twist</td>\n      <td>7443</td>\n      <td>0.915268</td>\n      <td>1.102140</td>\n      <td>0.893433</td>\n    </tr>\n    <tr>\n      <th>9215</th>\n      <td>MIBR</td>\n      <td>14</td>\n      <td>51216.666667</td>\n      <td>TACO</td>\n      <td>9217</td>\n      <td>FalleN</td>\n      <td>2023</td>\n      <td>fer</td>\n      <td>8564</td>\n      <td>meyern</td>\n      <td>14737</td>\n      <td>kNgV-</td>\n      <td>5736</td>\n      <td>0.903652</td>\n      <td>1.095132</td>\n      <td>0.852221</td>\n    </tr>\n    <tr>\n      <th>4602</th>\n      <td>Tricked</td>\n      <td>22</td>\n      <td>49486.633333</td>\n      <td>roeJ</td>\n      <td>14419</td>\n      <td>Bubzkji</td>\n      <td>9612</td>\n      <td>acoR</td>\n      <td>10330</td>\n      <td>HUNDEN</td>\n      <td>7415</td>\n      <td>sjuush</td>\n      <td>14148</td>\n      <td>0.900788</td>\n      <td>1.060142</td>\n      <td>0.755126</td>\n    </tr>\n    <tr>\n      <th>8362</th>\n      <td>MAD Lions</td>\n      <td>21</td>\n      <td>49486.633333</td>\n      <td>Bubzkji</td>\n      <td>9612</td>\n      <td>acoR</td>\n      <td>10330</td>\n      <td>sjuush</td>\n      <td>14148</td>\n      <td>HUNDEN</td>\n      <td>7415</td>\n      <td>roeJ</td>\n      <td>14419</td>\n      <td>0.900788</td>\n      <td>1.064616</td>\n      <td>0.718467</td>\n    </tr>\n    <tr>\n      <th>10503</th>\n      <td>OG</td>\n      <td>26</td>\n      <td>49121.700000</td>\n      <td>valde</td>\n      <td>9031</td>\n      <td>Aleksib</td>\n      <td>9816</td>\n      <td>NBK-</td>\n      <td>7168</td>\n      <td>mantuu</td>\n      <td>10981</td>\n      <td>ISSAA</td>\n      <td>10449</td>\n      <td>0.900171</td>\n      <td>1.100982</td>\n      <td>0.903258</td>\n    </tr>\n    <tr>\n      <th>8474</th>\n      <td>100 Thieves</td>\n      <td>5</td>\n      <td>48466.666667</td>\n      <td>AZR</td>\n      <td>8082</td>\n      <td>jkaem</td>\n      <td>8248</td>\n      <td>Liazz</td>\n      <td>10588</td>\n      <td>Gratisfaction</td>\n      <td>9686</td>\n      <td>jks</td>\n      <td>4679</td>\n      <td>0.899053</td>\n      <td>1.116624</td>\n      <td>0.931343</td>\n    </tr>\n  </tbody>\n</table>\n</div>",
      "text/plain": "           team_name  team_rank     team_prize player_name_1  player_id_1  \\\n6665        Astralis          1  359750.000000         Xyp9x         4954   \n5973          Liquid          4  231225.000000         EliGE         8738   \n4494     mousesports          4  145025.500000          ropz        11816   \n9565        Vitality          8  139987.833333         ZywOo        11893   \n10399  Evil Geniuses          5  137633.333333        Brehze         9136   \n6673             NRG          3  137633.333333        Brehze         9136   \n4869            ENCE         12   99305.466667        sergej        11916   \n5378      Virtus.pro         15   87330.333333        buster        11942   \n8120         AVANGAR         11   87330.333333        buster        11942   \n6667            FaZe          8   81292.666667          NiKo         3741   \n4991          fnatic          4   79616.666667       Brollan        13666   \n5995              G2         11   76339.233333        kennyS         7167   \n4608   Natus Vincere         10   75816.666667    electronic         8918   \n8297           FURIA         15   70875.400000      KSCERATO        15631   \n4411             NiP         10   58877.500000           REZ         9278   \n9215            MIBR         14   51216.666667          TACO         9217   \n4602         Tricked         22   49486.633333          roeJ        14419   \n8362       MAD Lions         21   49486.633333       Bubzkji         9612   \n10503             OG         26   49121.700000         valde         9031   \n8474     100 Thieves          5   48466.666667           AZR         8082   \n\n      player_name_2  player_id_2 player_name_3  player_id_3  player_name_4  \\\n6665         device         7592        gla1ve         7412        dupreeh   \n5973       Stewie2K         8797         nitr0         7687            NAF   \n4494         frozen         9960        chrisJ         2730          woxic   \n9565           ALEX         8184          apEX         7322           shox   \n10399         Ethan        10671     stanislaw         8507           CeRq   \n6673          Ethan        10671         tarik         8523      stanislaw   \n4869         Aerial         4076          allu          695          suNny   \n5378         qikert        13239         AdreN          334           Jame   \n8120          SANJI        11716        qikert        13239           Jame   \n6667       coldzera         9216   olofmeister          885           rain   \n4991         Golden        11110        flusha         3055          KRIMZ   \n5995         AmaNEk         9616         JaCkz          284         huNter   \n4608        Boombl4        11840        s1mple         7998       GuardiaN   \n8297         LUCAS1         8566           arT        12521         yuurih   \n4411          Lekr0         9261       Plopski        14218         f0rest   \n9215         FalleN         2023           fer         8564         meyern   \n4602        Bubzkji         9612          acoR        10330         HUNDEN   \n8362           acoR        10330        sjuush        14148         HUNDEN   \n10503       Aleksib         9816          NBK-         7168         mantuu   \n8474          jkaem         8248         Liazz        10588  Gratisfaction   \n\n       player_id_4 player_name_5  player_id_5  team_prize_rating  \\\n6665          7398        Magisk         9032           1.066097   \n5973          8520       Twistzz        10394           1.029262   \n4494          8574      karrigan          429           0.990389   \n9565          1225           RpK         7169           0.987443   \n10399        11219         tarik         8523           0.986029   \n6673          8507          CeRq        11219           0.986029   \n4869          5479        xseveN         7248           0.958830   \n5378         13776         SANJI        11716           0.948121   \n8120         13776         AdreN          334           0.948121   \n6667          8183         broky        18053           0.942151   \n4991          7528            JW         3849           0.940415   \n5995          3972          nexa         9618           0.936912   \n4608          2757        flamie         7594           0.936339   \n8297         12553          VINI        12822           0.930723   \n4411            29         twist         7443           0.915268   \n9215         14737         kNgV-         5736           0.903652   \n4602          7415        sjuush        14148           0.900788   \n8362          7415          roeJ        14419           0.900788   \n10503        10981         ISSAA        10449           0.900171   \n8474          9686           jks         4679           0.899053   \n\n       avg_op_rating  avg_op_prize_rating  \n6665        1.100374             0.914172  \n5973        1.103210             0.898377  \n4494        1.101964             0.880509  \n9565        1.088512             0.862232  \n10399       1.112033             0.911009  \n6673        1.093910             0.859815  \n4869        1.098296             0.893444  \n5378        1.075882             0.803834  \n8120        1.075634             0.811389  \n6667        1.094393             0.898625  \n4991        1.105846             0.898315  \n5995        1.097461             0.882766  \n4608        1.100929             0.916435  \n8297        1.085021             0.766592  \n4411        1.102140             0.893433  \n9215        1.095132             0.852221  \n4602        1.060142             0.755126  \n8362        1.064616             0.718467  \n10503       1.100982             0.903258  \n8474        1.116624             0.931343  "
     },
     "execution_count": 5,
     "metadata": {},
     "output_type": "execute_result"
    }
   ],
   "source": [
    "\n",
    "df = pd.DataFrame.from_dict(dict_team,orient='index')\n",
    "df = df[ df['team_rank']>0 ]\n",
    "df = df.sort_values(['team_prize_rating'],ascending=False)\n",
    "\n",
    "df.head(n=20)\n",
    "# filename = 'webapp_dict_team.sav'\n",
    "# pickle.dump( df, open(filename,'wb') )"
   ]
  },
  {
   "cell_type": "code",
   "execution_count": 20,
   "metadata": {},
   "outputs": [
    {
     "name": "stdout",
     "output_type": "stream",
     "text": "6665\nhttps://static.hltv.org/images/team/logo/6665\n5973\nhttps://static.hltv.org/images/team/logo/5973\n4494\nhttps://static.hltv.org/images/team/logo/4494\n9565\nhttps://static.hltv.org/images/team/logo/9565\n10399\nhttps://static.hltv.org/images/team/logo/10399\n6673\nhttps://static.hltv.org/images/team/logo/6673\n4869\nhttps://static.hltv.org/images/team/logo/4869\n5378\nhttps://static.hltv.org/images/team/logo/5378\n8120\nhttps://static.hltv.org/images/team/logo/8120\n6667\nhttps://static.hltv.org/images/team/logo/6667\n"
    }
   ],
   "source": [
    "# Scrape for logos\n",
    "for team_id in df.index.values[:10]:\n",
    "    print(team_id)\n",
    "    user_agent = 'Mozilla/5.0 (Windows; U; Windows NT 5.1; en-US; rv:1.9.0.7) Gecko/2009021910 Firefox/3.0.7'\n",
    "\n",
    "    url = \"https://static.hltv.org/images/team/logo/\"+str(team_id)\n",
    "    headers={'User-Agent':user_agent,} \n",
    "\n",
    "    request=urllib.request.Request(url,None,headers) #The assembled request\n",
    "    response = urllib.request.urlopen(request)\n",
    "    data = response.read()\n",
    "    print(\"https://static.hltv.org/images/team/logo/\"+str(team_id))\n",
    "    #urllib.request.urlretrieve(\"https://static.hltv.org/images/team/logo/\"+str(team_id), \"logo_scrape/\"+str(team_id)+\".svg\")\n",
    "    #urllib.request.urlretrieve(request, \"logo_scrape/\"+str(team_id)+\".svg\")\n",
    "    #https://static.hltv.org/images/team/logo/6665\n",
    "    with open(\"logo_scrape/\"+str(team_id)+\".svg\", 'wb') as f:\n",
    "        f.write(data)\n",
    "    time.sleep(3)"
   ]
  },
  {
   "cell_type": "code",
   "execution_count": 19,
   "metadata": {},
   "outputs": [
    {
     "data": {
      "text/plain": "b'<?xml version=\"1.0\" encoding=\"utf-8\"?>\\n<!-- Generator: Adobe Illustrator 23.0.4, SVG Export Plug-In . SVG Version: 6.00 Build 0)  -->\\n<svg version=\"1.1\" id=\"Layer_1\" xmlns=\"http://www.w3.org/2000/svg\" xmlns:xlink=\"http://www.w3.org/1999/xlink\" x=\"0px\" y=\"0px\"\\n\\t viewBox=\"0 0 186.3 186.3\" width=\"800px\" height=\"800px\" style=\"enable-background:new 0 0 186.3 186.3;\" xml:space=\"preserve\">\\n<style type=\"text/css\">\\n\\t.st0{fill:#12233E;}\\n\\t.st1{fill:#FFFFFF;}\\n</style>\\n<g>\\n\\t<path id=\"base_4_\" class=\"st0\" d=\"M93.5,185.1c0,0-33.2-12.4-51.7-25.1c-27.9-19.3-29-46-29-99.4V28.9L93.5,1.1l80.7,27.8v31.7\\n\\t\\tc0,53.4-1.1,80.1-29.1,99.4C126.7,172.8,93.5,185.1,93.5,185.1z\"/>\\n</g>\\n<g id=\"new_1_\">\\n\\t<g>\\n\\t\\t<path class=\"st1\" d=\"M43.6,111.4c-5.1,2.5-11.8,5.4-19.2,8.1c1.3,5.7,3.1,10.7,5.6,15.3c5.6-3.5,10.5-7.1,14.3-10.1\\n\\t\\t\\tC43.7,120,43.5,115.6,43.6,111.4z\"/>\\n\\t\\t<path class=\"st1\" d=\"M56.1,69.8L56.1,69.8c-9.4-3.8-23.5-10.5-35.3-19.4v13c0,2.4,0,4.8,0,7.1c11,4.2,22.3,6.8,30.2,8.1\\n\\t\\t\\tC52.6,75.5,54.3,72.6,56.1,69.8z\"/>\\n\\t\\t<path class=\"st1\" d=\"M69.4,54.9c-6.5-6.7-15.6-17.3-22.6-29l-18,6.2c10,12.6,24.1,23.6,33.4,29.8C64.5,59.3,66.9,57,69.4,54.9z\"/>\\n\\t\\t<path class=\"st1\" d=\"M77.6,48.7L77.6,48.7c3.3-2.1,6.5-3.8,9.4-5.1c-2.7-7.3-5.9-17.8-7.9-29l-16,5.5\\n\\t\\t\\tC67.5,31.4,73.2,41.7,77.6,48.7z\"/>\\n\\t\\t<path class=\"st1\" d=\"M47.2,88.5L47.2,88.5c-6.9,0.3-16.3,0.2-26.1-1c0.2,5.8,0.4,11.1,0.9,16c8.7-1,16.7-2.6,22.7-4.2l0,0\\n\\t\\t\\tC45.3,95.6,46.1,91.9,47.2,88.5z\"/>\\n\\t\\t<path class=\"st1\" d=\"M46.9,139.4c-2,2.4-4.4,5.1-7.1,8c2.1,2,4.5,3.9,7.2,5.8c1.6,1.1,3.4,2.2,5.2,3.4\\n\\t\\t\\tC50,150.6,48.2,144.9,46.9,139.4z\"/>\\n\\t\\t<path class=\"st1\" d=\"M123.7,73.3c1.6,1.3,5.8,0.1,5.8,0.1l-3-3.6l-6.5-4.3C120,65.5,122.1,72,123.7,73.3z\"/>\\n\\t\\t<polygon class=\"st1\" points=\"144.9,109.4 141,106.3 143.2,111.7 149.5,111.2 \\t\\t\"/>\\n\\t\\t<path class=\"st1\" d=\"M98.1,11.3c-2.7,8.6-3.5,19.1-0.5,29.5l-0.1,0c0,0,0.1,0,0.1,0c1.1-1.1,9.4-9.8,16.8-17.9\\n\\t\\t\\tc0,0,9.8,11.2-3.9,22.8c0,0,24.4,17.1,26,17.8c0,0-1.3,5.3-0.1,9.8l19.2,37.2l-9.7,11.4l-14.2-8l6.9,11c0,0-7.8,1-10.1-0.2\\n\\t\\t\\tc-1.3-7-7.5-18.2-7.5-18.2l-14.5-5.9c0,0-6.3-7.8-5.9-19.1c0,0-7.2,29.6,12.2,37l27.2,34.6c25.2-17.4,26.2-41.6,26.2-89.8V34.8\\n\\t\\t\\tL98.1,11.3z\"/>\\n\\t</g>\\n</g>\\n</svg>\\n'"
     },
     "execution_count": 19,
     "metadata": {},
     "output_type": "execute_result"
    }
   ],
   "source": [
    "response.wr"
   ]
  },
  {
   "cell_type": "code",
   "execution_count": 202,
   "metadata": {},
   "outputs": [
    {
     "data": {
      "text/html": "<div>\n<style scoped>\n    .dataframe tbody tr th:only-of-type {\n        vertical-align: middle;\n    }\n\n    .dataframe tbody tr th {\n        vertical-align: top;\n    }\n\n    .dataframe thead th {\n        text-align: right;\n    }\n</style>\n<table border=\"1\" class=\"dataframe\">\n  <thead>\n    <tr style=\"text-align: right;\">\n      <th></th>\n      <th>name</th>\n      <th>prize_money</th>\n      <th>rating</th>\n      <th>prize_rating</th>\n    </tr>\n  </thead>\n  <tbody>\n    <tr>\n      <th>4954</th>\n      <td>Xyp9x</td>\n      <td>359750.000000</td>\n      <td>1.153648</td>\n      <td>1.066097</td>\n    </tr>\n    <tr>\n      <th>7592</th>\n      <td>device</td>\n      <td>359750.000000</td>\n      <td>1.266101</td>\n      <td>1.066097</td>\n    </tr>\n    <tr>\n      <th>9032</th>\n      <td>Magisk</td>\n      <td>359750.000000</td>\n      <td>1.199623</td>\n      <td>1.066097</td>\n    </tr>\n    <tr>\n      <th>7398</th>\n      <td>dupreeh</td>\n      <td>359750.000000</td>\n      <td>1.155220</td>\n      <td>1.066097</td>\n    </tr>\n    <tr>\n      <th>7412</th>\n      <td>gla1ve</td>\n      <td>359750.000000</td>\n      <td>1.101195</td>\n      <td>1.066097</td>\n    </tr>\n    <tr>\n      <th>8797</th>\n      <td>Stewie2K</td>\n      <td>232041.666667</td>\n      <td>1.106953</td>\n      <td>1.029556</td>\n    </tr>\n    <tr>\n      <th>10394</th>\n      <td>Twistzz</td>\n      <td>231541.666667</td>\n      <td>1.172511</td>\n      <td>1.029376</td>\n    </tr>\n    <tr>\n      <th>8520</th>\n      <td>NAF</td>\n      <td>231541.666667</td>\n      <td>1.213964</td>\n      <td>1.029376</td>\n    </tr>\n    <tr>\n      <th>8738</th>\n      <td>EliGE</td>\n      <td>231541.666667</td>\n      <td>1.242018</td>\n      <td>1.029376</td>\n    </tr>\n    <tr>\n      <th>7687</th>\n      <td>nitr0</td>\n      <td>229458.333333</td>\n      <td>1.076968</td>\n      <td>1.028623</td>\n    </tr>\n    <tr>\n      <th>9960</th>\n      <td>frozen</td>\n      <td>148585.833333</td>\n      <td>1.191884</td>\n      <td>0.992410</td>\n    </tr>\n    <tr>\n      <th>7169</th>\n      <td>RpK</td>\n      <td>148514.166667</td>\n      <td>1.026494</td>\n      <td>0.992370</td>\n    </tr>\n    <tr>\n      <th>11893</th>\n      <td>ZywOo</td>\n      <td>148514.166667</td>\n      <td>1.347934</td>\n      <td>0.992370</td>\n    </tr>\n    <tr>\n      <th>8184</th>\n      <td>ALEX</td>\n      <td>148514.166667</td>\n      <td>1.034354</td>\n      <td>0.992370</td>\n    </tr>\n    <tr>\n      <th>7322</th>\n      <td>apEX</td>\n      <td>148514.166667</td>\n      <td>1.065646</td>\n      <td>0.992370</td>\n    </tr>\n    <tr>\n      <th>429</th>\n      <td>karrigan</td>\n      <td>146333.333333</td>\n      <td>0.983211</td>\n      <td>0.991137</td>\n    </tr>\n    <tr>\n      <th>2730</th>\n      <td>chrisJ</td>\n      <td>145500.000000</td>\n      <td>1.059851</td>\n      <td>0.990661</td>\n    </tr>\n    <tr>\n      <th>11816</th>\n      <td>ropz</td>\n      <td>145500.000000</td>\n      <td>1.215700</td>\n      <td>0.990661</td>\n    </tr>\n    <tr>\n      <th>11219</th>\n      <td>CeRq</td>\n      <td>145000.000000</td>\n      <td>1.157293</td>\n      <td>0.990374</td>\n    </tr>\n    <tr>\n      <th>9136</th>\n      <td>Brehze</td>\n      <td>145000.000000</td>\n      <td>1.208578</td>\n      <td>0.990374</td>\n    </tr>\n    <tr>\n      <th>10671</th>\n      <td>Ethan</td>\n      <td>145000.000000</td>\n      <td>1.165913</td>\n      <td>0.990374</td>\n    </tr>\n    <tr>\n      <th>8574</th>\n      <td>woxic</td>\n      <td>139208.333333</td>\n      <td>1.190050</td>\n      <td>0.986977</td>\n    </tr>\n    <tr>\n      <th>8523</th>\n      <td>tarik</td>\n      <td>138541.666667</td>\n      <td>1.060968</td>\n      <td>0.986577</td>\n    </tr>\n    <tr>\n      <th>695</th>\n      <td>allu</td>\n      <td>117590.166667</td>\n      <td>1.133103</td>\n      <td>0.972913</td>\n    </tr>\n    <tr>\n      <th>7248</th>\n      <td>xseveN</td>\n      <td>117590.166667</td>\n      <td>1.008391</td>\n      <td>0.972913</td>\n    </tr>\n    <tr>\n      <th>4076</th>\n      <td>Aerial</td>\n      <td>117590.166667</td>\n      <td>1.070632</td>\n      <td>0.972913</td>\n    </tr>\n    <tr>\n      <th>11916</th>\n      <td>sergej</td>\n      <td>117590.166667</td>\n      <td>1.142743</td>\n      <td>0.972913</td>\n    </tr>\n    <tr>\n      <th>8507</th>\n      <td>stanislaw</td>\n      <td>114625.000000</td>\n      <td>1.019175</td>\n      <td>0.970785</td>\n    </tr>\n    <tr>\n      <th>11343</th>\n      <td>SHiPZ</td>\n      <td>113344.500000</td>\n      <td>1.129137</td>\n      <td>0.969849</td>\n    </tr>\n    <tr>\n      <th>1225</th>\n      <td>shox</td>\n      <td>105882.500000</td>\n      <td>1.099452</td>\n      <td>0.964174</td>\n    </tr>\n    <tr>\n      <th>334</th>\n      <td>AdreN</td>\n      <td>104180.333333</td>\n      <td>0.970691</td>\n      <td>0.962823</td>\n    </tr>\n    <tr>\n      <th>7834</th>\n      <td>v1c7oR</td>\n      <td>100333.333333</td>\n      <td>1.000000</td>\n      <td>0.959688</td>\n    </tr>\n    <tr>\n      <th>2799</th>\n      <td>bubble</td>\n      <td>99583.333333</td>\n      <td>0.986494</td>\n      <td>0.959063</td>\n    </tr>\n    <tr>\n      <th>8183</th>\n      <td>rain</td>\n      <td>98333.333333</td>\n      <td>1.087600</td>\n      <td>0.958010</td>\n    </tr>\n    <tr>\n      <th>885</th>\n      <td>olofmeister</td>\n      <td>98333.333333</td>\n      <td>1.043543</td>\n      <td>0.958010</td>\n    </tr>\n    <tr>\n      <th>12126</th>\n      <td>poizon</td>\n      <td>97833.333333</td>\n      <td>1.191195</td>\n      <td>0.957585</td>\n    </tr>\n    <tr>\n      <th>3741</th>\n      <td>NiKo</td>\n      <td>97500.000000</td>\n      <td>1.172294</td>\n      <td>0.957301</td>\n    </tr>\n    <tr>\n      <th>10697</th>\n      <td>blocker</td>\n      <td>97355.833333</td>\n      <td>1.054906</td>\n      <td>0.957177</td>\n    </tr>\n    <tr>\n      <th>7168</th>\n      <td>NBK-</td>\n      <td>96347.500000</td>\n      <td>1.092687</td>\n      <td>0.956310</td>\n    </tr>\n    <tr>\n      <th>9816</th>\n      <td>Aleksib</td>\n      <td>95006.833333</td>\n      <td>1.023286</td>\n      <td>0.955142</td>\n    </tr>\n    <tr>\n      <th>284</th>\n      <td>JaCkz</td>\n      <td>91799.166667</td>\n      <td>1.087729</td>\n      <td>0.952280</td>\n    </tr>\n    <tr>\n      <th>7167</th>\n      <td>kennyS</td>\n      <td>91799.166667</td>\n      <td>1.174960</td>\n      <td>0.952280</td>\n    </tr>\n    <tr>\n      <th>3849</th>\n      <td>JW</td>\n      <td>90791.666667</td>\n      <td>1.083073</td>\n      <td>0.951360</td>\n    </tr>\n    <tr>\n      <th>7528</th>\n      <td>KRIMZ</td>\n      <td>90791.666667</td>\n      <td>1.117398</td>\n      <td>0.951360</td>\n    </tr>\n    <tr>\n      <th>13666</th>\n      <td>Brollan</td>\n      <td>90791.666667</td>\n      <td>1.136019</td>\n      <td>0.951360</td>\n    </tr>\n    <tr>\n      <th>8918</th>\n      <td>electronic</td>\n      <td>89000.000000</td>\n      <td>1.231583</td>\n      <td>0.949699</td>\n    </tr>\n    <tr>\n      <th>7998</th>\n      <td>s1mple</td>\n      <td>89000.000000</td>\n      <td>1.316383</td>\n      <td>0.949699</td>\n    </tr>\n    <tr>\n      <th>7594</th>\n      <td>flamie</td>\n      <td>89000.000000</td>\n      <td>1.075180</td>\n      <td>0.949699</td>\n    </tr>\n    <tr>\n      <th>13239</th>\n      <td>qikert</td>\n      <td>84805.333333</td>\n      <td>1.145738</td>\n      <td>0.945676</td>\n    </tr>\n    <tr>\n      <th>13776</th>\n      <td>Jame</td>\n      <td>84805.333333</td>\n      <td>1.284477</td>\n      <td>0.945676</td>\n    </tr>\n  </tbody>\n</table>\n</div>",
      "text/plain": "              name    prize_money    rating  prize_rating\n4954         Xyp9x  359750.000000  1.153648      1.066097\n7592        device  359750.000000  1.266101      1.066097\n9032        Magisk  359750.000000  1.199623      1.066097\n7398       dupreeh  359750.000000  1.155220      1.066097\n7412        gla1ve  359750.000000  1.101195      1.066097\n8797      Stewie2K  232041.666667  1.106953      1.029556\n10394      Twistzz  231541.666667  1.172511      1.029376\n8520           NAF  231541.666667  1.213964      1.029376\n8738         EliGE  231541.666667  1.242018      1.029376\n7687         nitr0  229458.333333  1.076968      1.028623\n9960        frozen  148585.833333  1.191884      0.992410\n7169           RpK  148514.166667  1.026494      0.992370\n11893        ZywOo  148514.166667  1.347934      0.992370\n8184          ALEX  148514.166667  1.034354      0.992370\n7322          apEX  148514.166667  1.065646      0.992370\n429       karrigan  146333.333333  0.983211      0.991137\n2730        chrisJ  145500.000000  1.059851      0.990661\n11816         ropz  145500.000000  1.215700      0.990661\n11219         CeRq  145000.000000  1.157293      0.990374\n9136        Brehze  145000.000000  1.208578      0.990374\n10671        Ethan  145000.000000  1.165913      0.990374\n8574         woxic  139208.333333  1.190050      0.986977\n8523         tarik  138541.666667  1.060968      0.986577\n695           allu  117590.166667  1.133103      0.972913\n7248        xseveN  117590.166667  1.008391      0.972913\n4076        Aerial  117590.166667  1.070632      0.972913\n11916       sergej  117590.166667  1.142743      0.972913\n8507     stanislaw  114625.000000  1.019175      0.970785\n11343        SHiPZ  113344.500000  1.129137      0.969849\n1225          shox  105882.500000  1.099452      0.964174\n334          AdreN  104180.333333  0.970691      0.962823\n7834        v1c7oR  100333.333333  1.000000      0.959688\n2799        bubble   99583.333333  0.986494      0.959063\n8183          rain   98333.333333  1.087600      0.958010\n885    olofmeister   98333.333333  1.043543      0.958010\n12126       poizon   97833.333333  1.191195      0.957585\n3741          NiKo   97500.000000  1.172294      0.957301\n10697      blocker   97355.833333  1.054906      0.957177\n7168          NBK-   96347.500000  1.092687      0.956310\n9816       Aleksib   95006.833333  1.023286      0.955142\n284          JaCkz   91799.166667  1.087729      0.952280\n7167        kennyS   91799.166667  1.174960      0.952280\n3849            JW   90791.666667  1.083073      0.951360\n7528         KRIMZ   90791.666667  1.117398      0.951360\n13666      Brollan   90791.666667  1.136019      0.951360\n8918    electronic   89000.000000  1.231583      0.949699\n7998        s1mple   89000.000000  1.316383      0.949699\n7594        flamie   89000.000000  1.075180      0.949699\n13239       qikert   84805.333333  1.145738      0.945676\n13776         Jame   84805.333333  1.284477      0.945676"
     },
     "execution_count": 202,
     "metadata": {},
     "output_type": "execute_result"
    }
   ],
   "source": [
    "df = pd.DataFrame.from_dict(dict_player_new,orient='index')\n",
    "\n",
    "df = df.sort_values(['prize_money'],ascending=False)\n",
    "\n",
    "df_player_aux = df\n",
    "\n",
    "filename = 'webapp_dict_player.sav'\n",
    "pickle.dump( df, open(filename,'wb') )\n",
    "\n",
    "df.head(n=50)"
   ]
  },
  {
   "cell_type": "markdown",
   "execution_count": null,
   "metadata": {},
   "outputs": [],
   "source": [
    "# Now we take care of the player data"
   ]
  },
  {
   "cell_type": "code",
   "execution_count": 184,
   "metadata": {},
   "outputs": [],
   "source": [
    "# First we take all the players in ranked teams from 2019\n",
    "player_aux = {}\n",
    "\n",
    "for player_id in df_player_aux.index:\n",
    "    df_aux = dict_player[player_id][ dict_player[player_id]['date']>datetime(2019,1,1) ]\n",
    "\n",
    "    if any( df_aux['team_rank']>0 ):\n",
    "        player_aux[player_id] = {}\n",
    "\n",
    "        prize = sum( df_aux['prize'] )\n",
    "        if prize > 0.0:\n",
    "            player_aux[player_id]['prize'] = np.log( prize ) / 12.0\n",
    "        else:\n",
    "            player_aux[player_id]['prize'] = 0.0\n",
    "\n",
    "        player_aux[player_id]['name']             = df_aux['player_name'].values[0]\n",
    "        player_aux[player_id]['rating']           = df_aux['rating'].mean()\n",
    "        player_aux[player_id]['hs_perc']          = (df_aux['hs_kills']/df_aux['kills']).mean()\n",
    "        player_aux[player_id]['kills_per_round']  = df_aux['kills_per_round'].mean()\n",
    "        player_aux[player_id]['deaths_per_round'] = df_aux['deaths_per_round'].mean()\n",
    "        player_aux[player_id]['ADR']              = df_aux['ADR'].mean()\n",
    "\n",
    "        # print( df_aux['player_name'].unique() )"
   ]
  },
  {
   "cell_type": "code",
   "execution_count": 200,
   "metadata": {},
   "outputs": [
    {
     "data": {
      "text/html": "<div>\n<style scoped>\n    .dataframe tbody tr th:only-of-type {\n        vertical-align: middle;\n    }\n\n    .dataframe tbody tr th {\n        vertical-align: top;\n    }\n\n    .dataframe thead th {\n        text-align: right;\n    }\n</style>\n<table border=\"1\" class=\"dataframe\">\n  <thead>\n    <tr style=\"text-align: right;\">\n      <th></th>\n      <th>prize</th>\n      <th>name</th>\n      <th>rating</th>\n      <th>hs_perc</th>\n      <th>kills_per_round</th>\n      <th>deaths_per_round</th>\n      <th>ADR</th>\n      <th>dist</th>\n    </tr>\n  </thead>\n  <tbody>\n    <tr>\n      <th>4954</th>\n      <td>0.180993</td>\n      <td>Xyp9x</td>\n      <td>1.692562</td>\n      <td>0.310975</td>\n      <td>4.560648</td>\n      <td>0.135682</td>\n      <td>1.673338</td>\n      <td>8.554198</td>\n    </tr>\n    <tr>\n      <th>7592</th>\n      <td>0.180993</td>\n      <td>device</td>\n      <td>0.161589</td>\n      <td>1.862233</td>\n      <td>0.627102</td>\n      <td>0.000339</td>\n      <td>0.171326</td>\n      <td>3.003582</td>\n    </tr>\n    <tr>\n      <th>9032</th>\n      <td>0.180993</td>\n      <td>Magisk</td>\n      <td>0.871309</td>\n      <td>0.008239</td>\n      <td>2.238562</td>\n      <td>0.029518</td>\n      <td>0.342355</td>\n      <td>3.670977</td>\n    </tr>\n    <tr>\n      <th>7398</th>\n      <td>0.180993</td>\n      <td>dupreeh</td>\n      <td>1.660014</td>\n      <td>0.449086</td>\n      <td>2.717279</td>\n      <td>0.077001</td>\n      <td>2.076747</td>\n      <td>7.161119</td>\n    </tr>\n    <tr>\n      <th>7412</th>\n      <td>0.180993</td>\n      <td>gla1ve</td>\n      <td>2.959497</td>\n      <td>0.014347</td>\n      <td>5.348304</td>\n      <td>0.593945</td>\n      <td>2.198031</td>\n      <td>11.295116</td>\n    </tr>\n  </tbody>\n</table>\n</div>",
      "text/plain": "         prize     name    rating   hs_perc  kills_per_round  \\\n4954  0.180993    Xyp9x  1.692562  0.310975         4.560648   \n7592  0.180993   device  0.161589  1.862233         0.627102   \n9032  0.180993   Magisk  0.871309  0.008239         2.238562   \n7398  0.180993  dupreeh  1.660014  0.449086         2.717279   \n7412  0.180993   gla1ve  2.959497  0.014347         5.348304   \n\n      deaths_per_round       ADR       dist  \n4954          0.135682  1.673338   8.554198  \n7592          0.000339  0.171326   3.003582  \n9032          0.029518  0.342355   3.670977  \n7398          0.077001  2.076747   7.161119  \n7412          0.593945  2.198031  11.295116  "
     },
     "execution_count": 200,
     "metadata": {},
     "output_type": "execute_result"
    }
   ],
   "source": [
    "df.head()"
   ]
  },
  {
   "cell_type": "code",
   "execution_count": 201,
   "metadata": {},
   "outputs": [
    {
     "data": {
      "text/html": "<div>\n<style scoped>\n    .dataframe tbody tr th:only-of-type {\n        vertical-align: middle;\n    }\n\n    .dataframe tbody tr th {\n        vertical-align: top;\n    }\n\n    .dataframe thead th {\n        text-align: right;\n    }\n</style>\n<table border=\"1\" class=\"dataframe\">\n  <thead>\n    <tr style=\"text-align: right;\">\n      <th></th>\n      <th>prize</th>\n      <th>name</th>\n      <th>rating</th>\n      <th>hs_perc</th>\n      <th>kills_per_round</th>\n      <th>deaths_per_round</th>\n      <th>ADR</th>\n      <th>dist</th>\n    </tr>\n  </thead>\n  <tbody>\n    <tr>\n      <th>7998</th>\n      <td>0.000000</td>\n      <td>s1mple</td>\n      <td>0.000000</td>\n      <td>0.000000</td>\n      <td>0.000000</td>\n      <td>0.000000</td>\n      <td>0.000000</td>\n      <td>0.000000</td>\n    </tr>\n    <tr>\n      <th>11893</th>\n      <td>0.024323</td>\n      <td>ZywOo</td>\n      <td>0.063620</td>\n      <td>0.258265</td>\n      <td>0.007433</td>\n      <td>0.001052</td>\n      <td>0.038583</td>\n      <td>0.393276</td>\n    </tr>\n    <tr>\n      <th>14401</th>\n      <td>0.163495</td>\n      <td>Emy</td>\n      <td>0.231104</td>\n      <td>0.197952</td>\n      <td>0.631801</td>\n      <td>0.583759</td>\n      <td>0.003915</td>\n      <td>1.812025</td>\n    </tr>\n    <tr>\n      <th>11140</th>\n      <td>0.448670</td>\n      <td>INS</td>\n      <td>0.324695</td>\n      <td>0.038367</td>\n      <td>0.894672</td>\n      <td>0.220050</td>\n      <td>0.000219</td>\n      <td>1.926673</td>\n    </tr>\n    <tr>\n      <th>9115</th>\n      <td>0.207457</td>\n      <td>dexter</td>\n      <td>0.211265</td>\n      <td>0.779015</td>\n      <td>0.401553</td>\n      <td>0.479953</td>\n      <td>0.001648</td>\n      <td>2.080891</td>\n    </tr>\n    <tr>\n      <th>7131</th>\n      <td>0.108173</td>\n      <td>BnTeT</td>\n      <td>0.464817</td>\n      <td>0.033568</td>\n      <td>1.580457</td>\n      <td>0.024613</td>\n      <td>0.073174</td>\n      <td>2.284803</td>\n    </tr>\n    <tr>\n      <th>11188</th>\n      <td>0.311317</td>\n      <td>xeta</td>\n      <td>0.160556</td>\n      <td>0.395839</td>\n      <td>1.347949</td>\n      <td>0.082227</td>\n      <td>0.085682</td>\n      <td>2.383570</td>\n    </tr>\n    <tr>\n      <th>8918</th>\n      <td>0.000000</td>\n      <td>electronic</td>\n      <td>0.459596</td>\n      <td>0.184336</td>\n      <td>1.298777</td>\n      <td>0.454710</td>\n      <td>0.005570</td>\n      <td>2.402990</td>\n    </tr>\n    <tr>\n      <th>8944</th>\n      <td>0.684594</td>\n      <td>Benkai</td>\n      <td>0.403801</td>\n      <td>0.612632</td>\n      <td>0.664064</td>\n      <td>0.106128</td>\n      <td>0.028816</td>\n      <td>2.500036</td>\n    </tr>\n    <tr>\n      <th>16816</th>\n      <td>0.532967</td>\n      <td>vsm</td>\n      <td>0.201363</td>\n      <td>0.022802</td>\n      <td>0.231854</td>\n      <td>1.491507</td>\n      <td>0.095870</td>\n      <td>2.576364</td>\n    </tr>\n    <tr>\n      <th>8943</th>\n      <td>0.684594</td>\n      <td>splashske</td>\n      <td>0.142756</td>\n      <td>0.331128</td>\n      <td>0.245204</td>\n      <td>1.047180</td>\n      <td>0.143838</td>\n      <td>2.594701</td>\n    </tr>\n    <tr>\n      <th>15639</th>\n      <td>0.970474</td>\n      <td>dezon</td>\n      <td>0.372885</td>\n      <td>0.002020</td>\n      <td>1.263304</td>\n      <td>0.032366</td>\n      <td>0.029605</td>\n      <td>2.670654</td>\n    </tr>\n    <tr>\n      <th>12713</th>\n      <td>0.344450</td>\n      <td>floppy</td>\n      <td>0.564084</td>\n      <td>0.277295</td>\n      <td>0.814180</td>\n      <td>0.590187</td>\n      <td>0.085542</td>\n      <td>2.675738</td>\n    </tr>\n    <tr>\n      <th>12553</th>\n      <td>0.001493</td>\n      <td>yuurih</td>\n      <td>0.826980</td>\n      <td>0.038202</td>\n      <td>1.149342</td>\n      <td>0.773160</td>\n      <td>0.013335</td>\n      <td>2.802513</td>\n    </tr>\n    <tr>\n      <th>8738</th>\n      <td>0.084808</td>\n      <td>EliGE</td>\n      <td>0.353443</td>\n      <td>0.732290</td>\n      <td>0.559153</td>\n      <td>1.057225</td>\n      <td>0.028753</td>\n      <td>2.815673</td>\n    </tr>\n    <tr>\n      <th>11816</th>\n      <td>0.022414</td>\n      <td>ropz</td>\n      <td>0.647879</td>\n      <td>0.548212</td>\n      <td>1.183643</td>\n      <td>0.006052</td>\n      <td>0.422789</td>\n      <td>2.830989</td>\n    </tr>\n    <tr>\n      <th>8950</th>\n      <td>0.202143</td>\n      <td>Kaze</td>\n      <td>0.063568</td>\n      <td>2.169948</td>\n      <td>0.283350</td>\n      <td>0.071840</td>\n      <td>0.145327</td>\n      <td>2.936176</td>\n    </tr>\n    <tr>\n      <th>11141</th>\n      <td>0.305434</td>\n      <td>erkaSt</td>\n      <td>0.691621</td>\n      <td>0.589274</td>\n      <td>0.534285</td>\n      <td>0.767643</td>\n      <td>0.093706</td>\n      <td>2.981963</td>\n    </tr>\n    <tr>\n      <th>7592</th>\n      <td>0.180993</td>\n      <td>device</td>\n      <td>0.161589</td>\n      <td>1.862233</td>\n      <td>0.627102</td>\n      <td>0.000339</td>\n      <td>0.171326</td>\n      <td>3.003582</td>\n    </tr>\n    <tr>\n      <th>8520</th>\n      <td>0.084808</td>\n      <td>NAF</td>\n      <td>0.670414</td>\n      <td>0.071090</td>\n      <td>2.039488</td>\n      <td>0.072399</td>\n      <td>0.105026</td>\n      <td>3.043225</td>\n    </tr>\n  </tbody>\n</table>\n</div>",
      "text/plain": "          prize        name    rating   hs_perc  kills_per_round  \\\n7998   0.000000      s1mple  0.000000  0.000000         0.000000   \n11893  0.024323       ZywOo  0.063620  0.258265         0.007433   \n14401  0.163495         Emy  0.231104  0.197952         0.631801   \n11140  0.448670         INS  0.324695  0.038367         0.894672   \n9115   0.207457      dexter  0.211265  0.779015         0.401553   \n7131   0.108173       BnTeT  0.464817  0.033568         1.580457   \n11188  0.311317        xeta  0.160556  0.395839         1.347949   \n8918   0.000000  electronic  0.459596  0.184336         1.298777   \n8944   0.684594      Benkai  0.403801  0.612632         0.664064   \n16816  0.532967         vsm  0.201363  0.022802         0.231854   \n8943   0.684594   splashske  0.142756  0.331128         0.245204   \n15639  0.970474       dezon  0.372885  0.002020         1.263304   \n12713  0.344450      floppy  0.564084  0.277295         0.814180   \n12553  0.001493      yuurih  0.826980  0.038202         1.149342   \n8738   0.084808       EliGE  0.353443  0.732290         0.559153   \n11816  0.022414        ropz  0.647879  0.548212         1.183643   \n8950   0.202143        Kaze  0.063568  2.169948         0.283350   \n11141  0.305434      erkaSt  0.691621  0.589274         0.534285   \n7592   0.180993      device  0.161589  1.862233         0.627102   \n8520   0.084808         NAF  0.670414  0.071090         2.039488   \n\n       deaths_per_round       ADR      dist  \n7998           0.000000  0.000000  0.000000  \n11893          0.001052  0.038583  0.393276  \n14401          0.583759  0.003915  1.812025  \n11140          0.220050  0.000219  1.926673  \n9115           0.479953  0.001648  2.080891  \n7131           0.024613  0.073174  2.284803  \n11188          0.082227  0.085682  2.383570  \n8918           0.454710  0.005570  2.402990  \n8944           0.106128  0.028816  2.500036  \n16816          1.491507  0.095870  2.576364  \n8943           1.047180  0.143838  2.594701  \n15639          0.032366  0.029605  2.670654  \n12713          0.590187  0.085542  2.675738  \n12553          0.773160  0.013335  2.802513  \n8738           1.057225  0.028753  2.815673  \n11816          0.006052  0.422789  2.830989  \n8950           0.071840  0.145327  2.936176  \n11141          0.767643  0.093706  2.981963  \n7592           0.000339  0.171326  3.003582  \n8520           0.072399  0.105026  3.043225  "
     },
     "execution_count": 201,
     "metadata": {},
     "output_type": "execute_result"
    }
   ],
   "source": [
    "# Using Euclidean distance\n",
    "player_id = 7998\n",
    "\n",
    "df = pd.DataFrame.from_dict(player_aux,orient='index')\n",
    "\n",
    "df.head()\n",
    "# df.prize = (df.prize - df.prize.mean()) / df.prize.std()\n",
    "# df.rating = (df.rating - df.rating.mean()) / df.rating.std()\n",
    "\n",
    "column_vec = ['prize', 'rating', 'hs_perc', 'kills_per_round',\n",
    "       'deaths_per_round', 'ADR']\n",
    "\n",
    "for column in column_vec:\n",
    "    df[column] = (df[column] - df[column].mean()) / df[column].std()\n",
    "\n",
    "\n",
    "filename = 'webapp_dict_similarity.sav'\n",
    "pickle.dump( df, open(filename,'wb') )\n",
    "\n",
    "df.head(n=50) \n",
    "    \n",
    "df_dist = df\n",
    "df_dist['dist'] = df['rating']*0.0\n",
    "for column in column_vec:\n",
    "    df_dist[column] = (df[column]-df.loc[player_id][column])**2\n",
    "    df_dist['dist'] = df_dist['dist'] + df_dist[column]\n",
    "\n",
    "\n",
    "df_dist = df_dist.sort_values('dist',ascending=True)\n",
    "# for player_id in df_dist.index[:50]:\n",
    "#     print( dict_player[player_id].player_name.unique() )\n",
    "\n",
    "df_dist.head(n=20)"
   ]
  },
  {
   "cell_type": "code",
   "execution_count": 179,
   "metadata": {},
   "outputs": [
    {
     "data": {
      "text/html": "<div>\n<style scoped>\n    .dataframe tbody tr th:only-of-type {\n        vertical-align: middle;\n    }\n\n    .dataframe tbody tr th {\n        vertical-align: top;\n    }\n\n    .dataframe thead th {\n        text-align: right;\n    }\n</style>\n<table border=\"1\" class=\"dataframe\">\n  <thead>\n    <tr style=\"text-align: right;\">\n      <th></th>\n      <th>prize</th>\n      <th>rating</th>\n      <th>hs_perc</th>\n      <th>kills_per_round</th>\n      <th>deaths_per_round</th>\n      <th>ADR</th>\n      <th>dist</th>\n    </tr>\n  </thead>\n  <tbody>\n    <tr>\n      <th>4954</th>\n      <td>0.180993</td>\n      <td>1.692562</td>\n      <td>0.310975</td>\n      <td>4.560648</td>\n      <td>0.135682</td>\n      <td>1.673338</td>\n      <td>146.348592</td>\n    </tr>\n    <tr>\n      <th>7592</th>\n      <td>0.180993</td>\n      <td>0.161589</td>\n      <td>1.862233</td>\n      <td>0.627102</td>\n      <td>0.000339</td>\n      <td>0.171326</td>\n      <td>18.043008</td>\n    </tr>\n    <tr>\n      <th>9032</th>\n      <td>0.180993</td>\n      <td>0.871309</td>\n      <td>0.008239</td>\n      <td>2.238562</td>\n      <td>0.029518</td>\n      <td>0.342355</td>\n      <td>26.952138</td>\n    </tr>\n    <tr>\n      <th>7398</th>\n      <td>0.180993</td>\n      <td>1.660014</td>\n      <td>0.449086</td>\n      <td>2.717279</td>\n      <td>0.077001</td>\n      <td>2.076747</td>\n      <td>102.563246</td>\n    </tr>\n    <tr>\n      <th>7412</th>\n      <td>0.180993</td>\n      <td>2.959497</td>\n      <td>0.014347</td>\n      <td>5.348304</td>\n      <td>0.593945</td>\n      <td>2.198031</td>\n      <td>255.159301</td>\n    </tr>\n  </tbody>\n</table>\n</div>",
      "text/plain": "         prize    rating   hs_perc  kills_per_round  deaths_per_round  \\\n4954  0.180993  1.692562  0.310975         4.560648          0.135682   \n7592  0.180993  0.161589  1.862233         0.627102          0.000339   \n9032  0.180993  0.871309  0.008239         2.238562          0.029518   \n7398  0.180993  1.660014  0.449086         2.717279          0.077001   \n7412  0.180993  2.959497  0.014347         5.348304          0.593945   \n\n           ADR        dist  \n4954  1.673338  146.348592  \n7592  0.171326   18.043008  \n9032  0.342355   26.952138  \n7398  2.076747  102.563246  \n7412  2.198031  255.159301  "
     },
     "execution_count": 179,
     "metadata": {},
     "output_type": "execute_result"
    }
   ],
   "source": [
    "df.head()"
   ]
  },
  {
   "cell_type": "code",
   "execution_count": null,
   "metadata": {},
   "outputs": [],
   "source": []
  }
 ]
}